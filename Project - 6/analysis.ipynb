{
 "cells": [
  {
   "cell_type": "code",
   "id": "initial_id",
   "metadata": {
    "collapsed": true,
    "ExecuteTime": {
     "end_time": "2024-07-11T03:06:05.763193Z",
     "start_time": "2024-07-11T03:06:05.588387Z"
    }
   },
   "source": [
    "import pandas as pd\n",
    "import numpy as np"
   ],
   "outputs": [],
   "execution_count": 1
  },
  {
   "metadata": {
    "ExecuteTime": {
     "end_time": "2024-07-11T03:06:22.740738Z",
     "start_time": "2024-07-11T03:06:22.714404Z"
    }
   },
   "cell_type": "code",
   "source": [
    "df=pd.read_csv('spotify_tracks.csv')\n",
    "df"
   ],
   "id": "685cfe6cfc25be92",
   "outputs": [
    {
     "data": {
      "text/plain": [
       "                          id                                           name  \\\n",
       "0     7kr3xZk4yb3YSZ4VFtg2Qt                                       Acoustic   \n",
       "1     1kJygfS4eoVziBBI93MSYp                                       Acoustic   \n",
       "2     6lynns69p4zTCRxmmiSY1x                  Here Comes the Sun - Acoustic   \n",
       "3     1RC9slv335IfLce5vt9KTW                                    Acoustic #3   \n",
       "4     5o9L8xBuILoVjLECSBi7Vo  My Love Mine All Mine - Acoustic Instrumental   \n",
       "...                      ...                                            ...   \n",
       "6295  4uveHSzaz8YEbTF9j6QlCI                             Voyage to Atlantis   \n",
       "6296  4u15cjyziW2Ewn5Ek3082l                                       L'Oiseau   \n",
       "6297  56pHPaTeX2O9aVmTFYS8hV                                   The Daintree   \n",
       "6298  6Ldyc5TsR4kaUsuHKcB2AD                         The Sorcerers Symphony   \n",
       "6299  3ry0f8ybk8upUBIk8unvmF                                Fiore d'inverno   \n",
       "\n",
       "            genre                                     artists  \\\n",
       "0        acoustic                               Billy Raffoul   \n",
       "1        acoustic                               Billy Raffoul   \n",
       "2        acoustic               Molly Hocking, Bailey Rushlow   \n",
       "3        acoustic                           The Goo Goo Dolls   \n",
       "4        acoustic               Guus Dielissen, Casper Esmann   \n",
       "...           ...                                         ...   \n",
       "6295  world-music                          Future World Music   \n",
       "6296  world-music  Putumayo, Marianne Perrudin, Thomas Artaud   \n",
       "6297  world-music                             Joseph Tawadros   \n",
       "6298  world-music                          Future World Music   \n",
       "6299  world-music                  Putumayo, Giacomo Lariccia   \n",
       "\n",
       "                                              album  popularity  duration_ms  \\\n",
       "0                                              1975          58       172199   \n",
       "1                           A Few More Hours at YYZ          57       172202   \n",
       "2                     Here Comes the Sun (Acoustic)          42       144786   \n",
       "3                                 Dizzy up the Girl          46       116573   \n",
       "4     My Love Mine All Mine (Acoustic Instrumental)          33       133922   \n",
       "...                                             ...         ...          ...   \n",
       "6295                             Reign of Vengeance          25       180001   \n",
       "6296                  Global Relaxation by Putumayo          25       276776   \n",
       "6297                                    World Music          12        69533   \n",
       "6298                                         Behold          26        90001   \n",
       "6299                      World Party 5 by Putumayo          25       141800   \n",
       "\n",
       "      explicit  \n",
       "0        False  \n",
       "1        False  \n",
       "2        False  \n",
       "3        False  \n",
       "4        False  \n",
       "...        ...  \n",
       "6295     False  \n",
       "6296     False  \n",
       "6297     False  \n",
       "6298     False  \n",
       "6299     False  \n",
       "\n",
       "[6300 rows x 8 columns]"
      ],
      "text/html": [
       "<div>\n",
       "<style scoped>\n",
       "    .dataframe tbody tr th:only-of-type {\n",
       "        vertical-align: middle;\n",
       "    }\n",
       "\n",
       "    .dataframe tbody tr th {\n",
       "        vertical-align: top;\n",
       "    }\n",
       "\n",
       "    .dataframe thead th {\n",
       "        text-align: right;\n",
       "    }\n",
       "</style>\n",
       "<table border=\"1\" class=\"dataframe\">\n",
       "  <thead>\n",
       "    <tr style=\"text-align: right;\">\n",
       "      <th></th>\n",
       "      <th>id</th>\n",
       "      <th>name</th>\n",
       "      <th>genre</th>\n",
       "      <th>artists</th>\n",
       "      <th>album</th>\n",
       "      <th>popularity</th>\n",
       "      <th>duration_ms</th>\n",
       "      <th>explicit</th>\n",
       "    </tr>\n",
       "  </thead>\n",
       "  <tbody>\n",
       "    <tr>\n",
       "      <th>0</th>\n",
       "      <td>7kr3xZk4yb3YSZ4VFtg2Qt</td>\n",
       "      <td>Acoustic</td>\n",
       "      <td>acoustic</td>\n",
       "      <td>Billy Raffoul</td>\n",
       "      <td>1975</td>\n",
       "      <td>58</td>\n",
       "      <td>172199</td>\n",
       "      <td>False</td>\n",
       "    </tr>\n",
       "    <tr>\n",
       "      <th>1</th>\n",
       "      <td>1kJygfS4eoVziBBI93MSYp</td>\n",
       "      <td>Acoustic</td>\n",
       "      <td>acoustic</td>\n",
       "      <td>Billy Raffoul</td>\n",
       "      <td>A Few More Hours at YYZ</td>\n",
       "      <td>57</td>\n",
       "      <td>172202</td>\n",
       "      <td>False</td>\n",
       "    </tr>\n",
       "    <tr>\n",
       "      <th>2</th>\n",
       "      <td>6lynns69p4zTCRxmmiSY1x</td>\n",
       "      <td>Here Comes the Sun - Acoustic</td>\n",
       "      <td>acoustic</td>\n",
       "      <td>Molly Hocking, Bailey Rushlow</td>\n",
       "      <td>Here Comes the Sun (Acoustic)</td>\n",
       "      <td>42</td>\n",
       "      <td>144786</td>\n",
       "      <td>False</td>\n",
       "    </tr>\n",
       "    <tr>\n",
       "      <th>3</th>\n",
       "      <td>1RC9slv335IfLce5vt9KTW</td>\n",
       "      <td>Acoustic #3</td>\n",
       "      <td>acoustic</td>\n",
       "      <td>The Goo Goo Dolls</td>\n",
       "      <td>Dizzy up the Girl</td>\n",
       "      <td>46</td>\n",
       "      <td>116573</td>\n",
       "      <td>False</td>\n",
       "    </tr>\n",
       "    <tr>\n",
       "      <th>4</th>\n",
       "      <td>5o9L8xBuILoVjLECSBi7Vo</td>\n",
       "      <td>My Love Mine All Mine - Acoustic Instrumental</td>\n",
       "      <td>acoustic</td>\n",
       "      <td>Guus Dielissen, Casper Esmann</td>\n",
       "      <td>My Love Mine All Mine (Acoustic Instrumental)</td>\n",
       "      <td>33</td>\n",
       "      <td>133922</td>\n",
       "      <td>False</td>\n",
       "    </tr>\n",
       "    <tr>\n",
       "      <th>...</th>\n",
       "      <td>...</td>\n",
       "      <td>...</td>\n",
       "      <td>...</td>\n",
       "      <td>...</td>\n",
       "      <td>...</td>\n",
       "      <td>...</td>\n",
       "      <td>...</td>\n",
       "      <td>...</td>\n",
       "    </tr>\n",
       "    <tr>\n",
       "      <th>6295</th>\n",
       "      <td>4uveHSzaz8YEbTF9j6QlCI</td>\n",
       "      <td>Voyage to Atlantis</td>\n",
       "      <td>world-music</td>\n",
       "      <td>Future World Music</td>\n",
       "      <td>Reign of Vengeance</td>\n",
       "      <td>25</td>\n",
       "      <td>180001</td>\n",
       "      <td>False</td>\n",
       "    </tr>\n",
       "    <tr>\n",
       "      <th>6296</th>\n",
       "      <td>4u15cjyziW2Ewn5Ek3082l</td>\n",
       "      <td>L'Oiseau</td>\n",
       "      <td>world-music</td>\n",
       "      <td>Putumayo, Marianne Perrudin, Thomas Artaud</td>\n",
       "      <td>Global Relaxation by Putumayo</td>\n",
       "      <td>25</td>\n",
       "      <td>276776</td>\n",
       "      <td>False</td>\n",
       "    </tr>\n",
       "    <tr>\n",
       "      <th>6297</th>\n",
       "      <td>56pHPaTeX2O9aVmTFYS8hV</td>\n",
       "      <td>The Daintree</td>\n",
       "      <td>world-music</td>\n",
       "      <td>Joseph Tawadros</td>\n",
       "      <td>World Music</td>\n",
       "      <td>12</td>\n",
       "      <td>69533</td>\n",
       "      <td>False</td>\n",
       "    </tr>\n",
       "    <tr>\n",
       "      <th>6298</th>\n",
       "      <td>6Ldyc5TsR4kaUsuHKcB2AD</td>\n",
       "      <td>The Sorcerers Symphony</td>\n",
       "      <td>world-music</td>\n",
       "      <td>Future World Music</td>\n",
       "      <td>Behold</td>\n",
       "      <td>26</td>\n",
       "      <td>90001</td>\n",
       "      <td>False</td>\n",
       "    </tr>\n",
       "    <tr>\n",
       "      <th>6299</th>\n",
       "      <td>3ry0f8ybk8upUBIk8unvmF</td>\n",
       "      <td>Fiore d'inverno</td>\n",
       "      <td>world-music</td>\n",
       "      <td>Putumayo, Giacomo Lariccia</td>\n",
       "      <td>World Party 5 by Putumayo</td>\n",
       "      <td>25</td>\n",
       "      <td>141800</td>\n",
       "      <td>False</td>\n",
       "    </tr>\n",
       "  </tbody>\n",
       "</table>\n",
       "<p>6300 rows × 8 columns</p>\n",
       "</div>"
      ]
     },
     "execution_count": 2,
     "metadata": {},
     "output_type": "execute_result"
    }
   ],
   "execution_count": 2
  },
  {
   "metadata": {
    "ExecuteTime": {
     "end_time": "2024-07-11T03:06:54.981142Z",
     "start_time": "2024-07-11T03:06:54.973407Z"
    }
   },
   "cell_type": "code",
   "source": "df.info()",
   "id": "52e22b38fed35b6e",
   "outputs": [
    {
     "name": "stdout",
     "output_type": "stream",
     "text": [
      "<class 'pandas.core.frame.DataFrame'>\n",
      "RangeIndex: 6300 entries, 0 to 6299\n",
      "Data columns (total 8 columns):\n",
      " #   Column       Non-Null Count  Dtype \n",
      "---  ------       --------------  ----- \n",
      " 0   id           6300 non-null   object\n",
      " 1   name         6300 non-null   object\n",
      " 2   genre        6300 non-null   object\n",
      " 3   artists      6300 non-null   object\n",
      " 4   album        6300 non-null   object\n",
      " 5   popularity   6300 non-null   int64 \n",
      " 6   duration_ms  6300 non-null   int64 \n",
      " 7   explicit     6300 non-null   bool  \n",
      "dtypes: bool(1), int64(2), object(5)\n",
      "memory usage: 350.8+ KB\n"
     ]
    }
   ],
   "execution_count": 3
  },
  {
   "metadata": {
    "ExecuteTime": {
     "end_time": "2024-07-11T03:07:38.119904Z",
     "start_time": "2024-07-11T03:07:38.114842Z"
    }
   },
   "cell_type": "code",
   "source": "df['explicit'].value_counts()",
   "id": "785e6f0082e25598",
   "outputs": [
    {
     "data": {
      "text/plain": [
       "explicit\n",
       "False    5106\n",
       "True     1194\n",
       "Name: count, dtype: int64"
      ]
     },
     "execution_count": 5,
     "metadata": {},
     "output_type": "execute_result"
    }
   ],
   "execution_count": 5
  },
  {
   "metadata": {
    "ExecuteTime": {
     "end_time": "2024-07-11T03:08:24.390806Z",
     "start_time": "2024-07-11T03:08:24.385780Z"
    }
   },
   "cell_type": "code",
   "source": "df['genre'].value_counts()",
   "id": "2bc79bf808101a7d",
   "outputs": [
    {
     "data": {
      "text/plain": [
       "genre\n",
       "acoustic             50\n",
       "new-age              50\n",
       "punk                 50\n",
       "psych-rock           50\n",
       "progressive-house    50\n",
       "                     ..\n",
       "french               50\n",
       "forro                50\n",
       "folk                 50\n",
       "emo                  50\n",
       "world-music          50\n",
       "Name: count, Length: 126, dtype: int64"
      ]
     },
     "execution_count": 6,
     "metadata": {},
     "output_type": "execute_result"
    }
   ],
   "execution_count": 6
  },
  {
   "metadata": {},
   "cell_type": "code",
   "outputs": [],
   "execution_count": null,
   "source": "",
   "id": "fea02751f4afaacf"
  }
 ],
 "metadata": {
  "kernelspec": {
   "display_name": "Python 3",
   "language": "python",
   "name": "python3"
  },
  "language_info": {
   "codemirror_mode": {
    "name": "ipython",
    "version": 2
   },
   "file_extension": ".py",
   "mimetype": "text/x-python",
   "name": "python",
   "nbconvert_exporter": "python",
   "pygments_lexer": "ipython2",
   "version": "2.7.6"
  }
 },
 "nbformat": 4,
 "nbformat_minor": 5
}
