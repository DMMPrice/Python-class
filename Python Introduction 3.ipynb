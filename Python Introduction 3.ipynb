{
 "cells": [
  {
   "metadata": {},
   "cell_type": "markdown",
   "source": [
    "Python packages are a way of structuring Python’s module namespace by using “dotted module names”. A package can contain one or more modules or subpackages. They allow for a hierarchical structuring of the module namespace using dot notation. In simpler terms, packages are just directories, but with a twist.  \n",
    "\n",
    "- **Package Creation:** To create a package in Python, you simply need to create a directory and then put a special file named __init__.py in it. This file can be empty, and it indicates that the directory it contains is a Python package, so it can be imported the same way a module can be imported.  \n",
    "- **Module vs Package:** A module is a single file (or files) that are imported under one import and used. e.g., import my_module. A package is a collection of modules in directories that give a package hierarchy.  \n",
    "- **__init__.py:** This file is executed when the package is imported, and it can be used to initialize the package, for example, setting up paths or initialising package-wide variables. However, starting with Python 3.3, __init__.py is no longer required to define a directory as a package, but it is still used to specify package-level behavior.  \n",
    "- **Subpackages:** Packages can contain subpackages to organize modules even further. It's just a matter of creating another directory with an __init__.py file, inside the parent package directory.  \n",
    "- **Importing from Packages:** When you import a package, Python searches through the directories on sys.path until it finds the package. This search includes directories inside other packages, allowing for nested packages. You can import modules from packages using dot notation (e.g., import mypackage.mymodule) or other forms like from mypackage import mymodule or from mypackage.mymodule import myfunction.  \n",
    "- **Advantages of Packages:**  \n",
    "    - Namespace Organization: Avoids module name collisions.\n",
    "    - Reusability: Easier to share and use code across multiple projects.\n",
    "    - Structuring: Helps in organizing logically related modules together.\n",
    "    - Distributing Packages: Python packages can be distributed via the Python Package Index (PyPI) and installed using pip (pip install package_name). This requires creating a setup.py file that includes information about your package.  \n",
    "- **Popular Python Packages:**  \n",
    "    - NumPy: Used for scientific computing and working with arrays.\n",
    "    - Pandas: Offers data structures and operations for manipulating numerical tables and time series.\n",
    "    - Requests: Simplifies making HTTP requests.\n",
    "    - TensorFlow/PyTorch: Used for machine learning and neural networks.\n",
    "- **Virtual Environments:** While not a package, it's important to mention virtual environments in this context. They allow you to manage separate package installations for different projects, avoiding conflicts between package versions.  \n",
    "- **Finding Packages:** You can find packages for almost any need or task by searching the Python Package Index (PyPI) or reading through Python community forums and websites.  \n",
    "\n",
    "Understanding and utilizing packages is crucial for effective Python programming, especially as projects grow in complexity"
   ],
   "id": "b5beb02888404efe"
  },
  {
   "metadata": {},
   "cell_type": "markdown",
   "source": [
    "# Math Module\n",
    "The Python `math` module provides access to mathematical functions defined by the C standard. These functions cannot be used with complex numbers; if you need support for complex numbers, use the `cmath` module. Here are some common usages of the `math` module:\n",
    "  \n",
    "- **Basic Mathematical Functions**  \n",
    "    - math.sqrt(x): Returns the square root of x.\n",
    "    - math.pow(x, y): Returns x raised to the power y.\n",
    "    - math.exp(x): Returns e^x.\n",
    "    - math.log(x[, base]): Returns the logarithm of x to the given base. If the base is not specified, returns the natural logarithm.\n",
    "- **Trigonometric Functions**  \n",
    "    - math.sin(x): Returns the sine of x radians.\n",
    "    - math.cos(x): Returns the cosine of x radians.\n",
    "    - math.tan(x): Returns the tangent of x radians.\n",
    "    - math.asin(x): Returns the arc sine of x, in radians.\n",
    "    - math.acos(x): Returns the arc cosine of x, in radians.\n",
    "    - math.atan(x): Returns the arc tangent of x, in radians.\n",
    "- **Hyperbolic Functions**  \n",
    "    - math.sinh(x): Returns the hyperbolic sine of x.\n",
    "    - math.cosh(x): Returns the hyperbolic cosine of x.\n",
    "    - math.tanh(x): Returns the hyperbolic tangent of x.\n",
    "- **Rounding and Representation**  \n",
    "    - math.ceil(x): Returns the smallest integer greater than or equal to x.\n",
    "    - math.floor(x): Returns the largest integer less than or equal to x.\n",
    "    - math.trunc(x): Returns the truncated integer value of x.\n",
    "    - math.fabs(x): Returns the absolute value of x.\n",
    "- **Constants**  \n",
    "    - math.pi: Mathematical constant, the ratio of circumference of a circle to its diameter (approximately 3.14159).\n",
    "    - math.e: Mathematical constant e (approximately 2.71828)."
   ],
   "id": "fddae3778edac3bf"
  },
  {
   "metadata": {
    "ExecuteTime": {
     "end_time": "2024-07-04T01:53:40.550083Z",
     "start_time": "2024-07-04T01:53:40.547879Z"
    }
   },
   "cell_type": "code",
   "source": [
    "import math\n",
    "\n",
    "# Calculate square root\n",
    "print(math.sqrt(16))\n",
    "\n",
    "# Calculate the cosine of 1 radian\n",
    "print(math.cos(1))\n",
    "\n",
    "# Round up 2.3 to the nearest whole number\n",
    "print(math.ceil(2.3))\n",
    "\n",
    "# Constants\n",
    "print(math.pi)\n",
    "print(math.e)"
   ],
   "id": "15f02c469dfc05a",
   "outputs": [
    {
     "name": "stdout",
     "output_type": "stream",
     "text": [
      "4.0\n",
      "0.5403023058681398\n",
      "3\n",
      "3.141592653589793\n",
      "2.718281828459045\n"
     ]
    }
   ],
   "execution_count": 1
  },
  {
   "metadata": {},
   "cell_type": "markdown",
   "source": [
    "Write a Python program to convert degrees to radians.\n",
    "\n",
    "Note : The radian is the standard unit of angular measure, used in many areas of mathematics. An angle's measurement in radians is numerically equal to the length of a corresponding arc of a unit circle; one radian is just under 57.3 degrees (when the arc length is equal to the radius).\n",
    "\n",
    "Test Data:\n",
    "\n",
    "Degree : 15\n",
    "\n",
    "Expected Result in radians: 0.2619047619047619"
   ],
   "id": "ba4720f0cba7305a"
  },
  {
   "metadata": {
    "ExecuteTime": {
     "end_time": "2024-07-04T01:59:19.198935Z",
     "start_time": "2024-07-04T01:59:19.195473Z"
    }
   },
   "cell_type": "code",
   "source": [
    "import math\n",
    "\n",
    "def degrees_to_radians(degrees):\n",
    "    return degrees * (math.pi / 180)\n",
    "\n",
    "# Test data\n",
    "degrees = 15\n",
    "radians = degrees_to_radians(degrees)\n",
    "print(f\"{degrees} degrees is {radians} radians.\")"
   ],
   "id": "710402d96c1fbac1",
   "outputs": [
    {
     "name": "stdout",
     "output_type": "stream",
     "text": [
      "15 degrees is 0.2617993877991494 radians.\n"
     ]
    }
   ],
   "execution_count": 2
  },
  {
   "metadata": {},
   "cell_type": "markdown",
   "source": [
    "Write a Python program to calculate the area of a trapezoid.\n",
    "\n",
    "Note : A trapezoid is a quadrilateral with two sides parallel. The trapezoid is equivalent to the British definition of the trapezium. An isosceles trapezoid is a trapezoid in which the base angles are equal so.\n",
    "\n",
    "Test Data:\n",
    "\n",
    "Height : 5\n",
    "Base, first value : 5\n",
    "\n",
    "Base, second value : 6\n",
    "Expected Output: Area is : 27.5"
   ],
   "id": "7e7e981a5617d796"
  },
  {
   "metadata": {
    "ExecuteTime": {
     "end_time": "2024-07-04T02:02:01.068481Z",
     "start_time": "2024-07-04T02:02:01.064648Z"
    }
   },
   "cell_type": "code",
   "source": [
    "def calculate_trapezoid_area(height, base1, base2):\n",
    "    return ((base1 + base2) / 2) * height\n",
    "\n",
    "# Test data\n",
    "height = 5\n",
    "base1 = 5\n",
    "base2 = 6\n",
    "\n",
    "# Calculate the area\n",
    "area = calculate_trapezoid_area(height, base1, base2)\n",
    "print(f\"Area is : {area}\")"
   ],
   "id": "a33e2fdb8fd1789a",
   "outputs": [
    {
     "name": "stdout",
     "output_type": "stream",
     "text": [
      "Area is : 27.5\n"
     ]
    }
   ],
   "execution_count": 3
  },
  {
   "metadata": {},
   "cell_type": "markdown",
   "source": [
    "# OS Module\n",
    "The `os` module in Python provides a way of using operating system dependent functionality. It allows you to interface with the underlying operating system that Python is running on – be it Windows, Mac OS, or Linux. Here are some common usages of the os module:\n",
    "  \n",
    "- **Navigating and Managing File System:**  \n",
    "    - os.getcwd(): Returns the current working directory.\n",
    "    - os.chdir(path): Changes the current working directory to the specified path.\n",
    "    - os.listdir(path): Returns a list containing the names of the entries in the directory given by path.\n",
    "    - os.mkdir(path): Creates a directory named path with numeric mode mode.\n",
    "    - os.makedirs(path): Recursive directory creation function. Like mkdir(), but makes all intermediate-level directories needed to contain the leaf directory.\n",
    "    - os.remove(path): Removes (deletes) the file path.\n",
    "    - os.rmdir(path): Removes (deletes) the directory path. Only works when the directory is empty, otherwise, OSError is raised.\n",
    "    - os.rename(src, dst): Renames the file or directory src to dst.\n",
    "- **Accessing Environment Variables:**  \n",
    "    - os.environ: A mapping object representing the string environment. For example, os.environ.get('HOME') returns the home directory.\n",
    "    - os.getenv(key, default=None): Returns the value of the environment variable key if it exists, or default if it doesn’t.\n",
    "- **Executing Shell Commands:**  \n",
    "    - os.system(command): Executes the command (a string) in a subshell.\n",
    "- **Working with File Paths:**  \n",
    "    - os.path.join(path, *paths): Joins one or more path components intelligently.\n",
    "    - os.path.split(path): Splits the path into a pair, (head, tail) where tail is the last pathname component and head is everything leading up to that.\n",
    "    - os.path.exists(path): Returns True if path refers to an existing path or an open file descriptor.\n",
    "    - os.path.isfile(path): Returns True if path is an existing regular file.\n",
    "    - os.path.isdir(path): Returns True if path is an existing directory.\n",
    "- **Working with Process Parameters:**  \n",
    "    - os.getpid(): Returns the current process ID.\n",
    "    - os.getppid(): Returns the parent's process ID."
   ],
   "id": "8dcd541bac6536dd"
  },
  {
   "metadata": {
    "ExecuteTime": {
     "end_time": "2024-07-04T02:06:38.920125Z",
     "start_time": "2024-07-04T02:06:38.915439Z"
    }
   },
   "cell_type": "code",
   "source": [
    "import os\n",
    "# Print the current working directory\n",
    "print(\"Current Working Directory:\", os.getcwd())\n",
    "# List all files and directories in the current directory\n",
    "print(\"Files and directories:\", os.listdir('.'))\n",
    "# Create a new directory\n",
    "if not os.path.exists('new_directory'):\n",
    "    os.mkdir('new_directory')\n",
    "    print(\"Directory 'new_directory' created\")\n",
    "# Change the current working directory\n",
    "os.chdir('new_directory')\n",
    "print(\"New Working Directory:\", os.getcwd())\n",
    "# Go back to the previous directory\n",
    "os.chdir('..')\n",
    "# Remove the created directory\n",
    "os.rmdir('new_directory')\n",
    "print(\"Directory 'new_directory' removed\")"
   ],
   "id": "bb09284445aed029",
   "outputs": [
    {
     "name": "stdout",
     "output_type": "stream",
     "text": [
      "Current Working Directory: /Users/barunghosh/Desktop/Python Class\n",
      "Files and directories: ['pandas_homelessness.ipynb', 'Python Introduction.ipynb', 'numpy.ipynb', 'Python Introduction 2.ipynb', 'Python Introduction 3.ipynb', '.idea', 'homelessness.csv']\n",
      "Directory 'new_directory' created\n",
      "New Working Directory: /Users/barunghosh/Desktop/Python Class/new_directory\n",
      "Directory 'new_directory' removed\n"
     ]
    }
   ],
   "execution_count": 4
  },
  {
   "metadata": {},
   "cell_type": "markdown",
   "source": "Write a Python program to get the name of the operating system (Platform independent), information of the current operating system, current working directory, print files and directories in the current directory, and raise errors if the path or file name is invalid.",
   "id": "3d295333a7326c2a"
  },
  {
   "metadata": {
    "ExecuteTime": {
     "end_time": "2024-07-04T07:37:22.949168Z",
     "start_time": "2024-07-04T07:37:22.933144Z"
    }
   },
   "cell_type": "code",
   "source": [
    "import os\n",
    "print(\"Operating System:\",os.name)\n",
    "print(\"\\nInformation of current operating system: \",os.uname())\n",
    "print(\"\\nCurrent Working Directory: \",os.getcwd())\n",
    "print(\"\\nList of files and directories in the current directory:\")\n",
    "print(os.listdir('.'))\n",
    "print(\"\\nTest if a specified file exis or not:\")\n",
    "filename = '/Users/barunghosh/Desktop/Python Class/abc.txt'\n",
    "f = open(filename, 'w')\n",
    "text = f.read()\n",
    "print(text)\n",
    "f.close()"
   ],
   "id": "48d7ec972ec2a2a9",
   "outputs": [
    {
     "name": "stdout",
     "output_type": "stream",
     "text": [
      "Operating System: posix\n",
      "\n",
      "Information of current operating system:  posix.uname_result(sysname='Darwin', nodename='Baruns-MacBook-Pro.local', release='23.5.0', version='Darwin Kernel Version 23.5.0: Wed May  1 20:13:18 PDT 2024; root:xnu-10063.121.3~5/RELEASE_ARM64_T6030', machine='arm64')\n",
      "\n",
      "Current Working Directory:  /Users/barunghosh/Desktop/Python Class\n",
      "\n",
      "List of files and directories in the current directory:\n",
      "['abc.txt', 'pandas_homelessness.ipynb', 'Python Introduction.ipynb', 'numpy.ipynb', 'Python Introduction 2.ipynb', 'Python Introduction 3.ipynb', '.idea', 'homelessness.csv']\n",
      "\n",
      "Test if a specified file exis or not:\n"
     ]
    },
    {
     "ename": "UnsupportedOperation",
     "evalue": "not readable",
     "output_type": "error",
     "traceback": [
      "\u001B[0;31m---------------------------------------------------------------------------\u001B[0m",
      "\u001B[0;31mUnsupportedOperation\u001B[0m                      Traceback (most recent call last)",
      "Cell \u001B[0;32mIn[35], line 10\u001B[0m\n\u001B[1;32m      8\u001B[0m filename \u001B[38;5;241m=\u001B[39m \u001B[38;5;124m'\u001B[39m\u001B[38;5;124m/Users/barunghosh/Desktop/Python Class/abc.txt\u001B[39m\u001B[38;5;124m'\u001B[39m\n\u001B[1;32m      9\u001B[0m f \u001B[38;5;241m=\u001B[39m \u001B[38;5;28mopen\u001B[39m(filename, \u001B[38;5;124m'\u001B[39m\u001B[38;5;124mw\u001B[39m\u001B[38;5;124m'\u001B[39m)\n\u001B[0;32m---> 10\u001B[0m text \u001B[38;5;241m=\u001B[39m \u001B[43mf\u001B[49m\u001B[38;5;241;43m.\u001B[39;49m\u001B[43mread\u001B[49m\u001B[43m(\u001B[49m\u001B[43m)\u001B[49m\n\u001B[1;32m     11\u001B[0m \u001B[38;5;28mprint\u001B[39m(text)\n\u001B[1;32m     12\u001B[0m f\u001B[38;5;241m.\u001B[39mclose()\n",
      "\u001B[0;31mUnsupportedOperation\u001B[0m: not readable"
     ]
    }
   ],
   "execution_count": 35
  },
  {
   "metadata": {},
   "cell_type": "markdown",
   "source": "Write a Python program to list only directories, files and all directories, files in a specified path.",
   "id": "7d9afb65b693bfe5"
  },
  {
   "metadata": {},
   "cell_type": "code",
   "source": [
    "import os\n",
    "path = ''\n",
    "print(\"Only directories:\")\n",
    "print([ name for name in os.listdir(path) if os.path.isdir(os.path.join(path, name)) ])\n",
    "print(\"\\nOnly files:\")\n",
    "print([ name for name in os.listdir(path) if not os.path.isdir(os.path.join(path, name)) ])\n",
    "print(\"\\nAll directories and files :\")\n",
    "print([ name for name in os.listdir(path)])\n"
   ],
   "id": "1d01d7af3b62856",
   "outputs": [],
   "execution_count": null
  },
  {
   "metadata": {},
   "cell_type": "markdown",
   "source": [
    "The Python `random` module is used to generate pseudo-random numbers for various distributions including integer, floating-point, and sequences. Here's an overview of some common usages of the `random` module:\n",
    "  \n",
    "- **Generating Basic Random Numbers:**  \n",
    "    - random.random(): Returns a random floating-point number in the range [0.0, 1.0).\n",
    "    - random.uniform(a, b): Returns a random floating-point number between a and b (inclusive of a and b).\n",
    "- **Generating Integers:**  \n",
    "    - random.randint(a, b): Returns a random integer N such that a <= N <= b.\n",
    "    - random.randrange(start, stop[, step]): Returns a randomly selected element from range(start, stop, step).\n",
    "- **Picking Elements from a Sequence:**  \n",
    "    - random.choice(seq): Returns a random element from a non-empty sequence seq.\n",
    "    - random.choices(population, weights=None, *, cum_weights=None, k=1): Returns a list of k elements from the population with replacement. If weights or cum_weights are specified, selections are made according to the relative weights.\n",
    "- **Shuffling Elements:**  \n",
    "    - random.shuffle(x[, random]): Shuffles the sequence x in place.\n",
    "- **Generating Samples:**  \n",
    "    - random.sample(population, k): Returns a k length list of unique elements chosen from the population sequence or set. Used for random sampling without replacement."
   ],
   "id": "41c2949e5f70c3dc"
  },
  {
   "metadata": {
    "ExecuteTime": {
     "end_time": "2024-07-04T02:16:38.363022Z",
     "start_time": "2024-07-04T02:16:38.359999Z"
    }
   },
   "cell_type": "code",
   "source": [
    "import random\n",
    "\n",
    "# Generate a random float\n",
    "print(\"Random float between 0.0 and 1.0:\", random.random())\n",
    "\n",
    "# Generate a random integer within a range\n",
    "print(\"Random integer between 1 and 10:\", random.randint(1, 10))\n",
    "\n",
    "# Pick a random element from a list\n",
    "choices = ['apple', 'banana', 'cherry']\n",
    "print(\"Random choice from a list:\", random.choice(choices))\n",
    "\n",
    "# Shuffle a list\n",
    "random.shuffle(choices)\n",
    "print(\"Shuffled list:\", choices)\n",
    "\n",
    "# Generate a random sample of elements\n",
    "print(\"Random sample of 2 elements:\", random.sample(choices, 2))"
   ],
   "id": "cec58df4b885fd4a",
   "outputs": [
    {
     "name": "stdout",
     "output_type": "stream",
     "text": [
      "Random float between 0.0 and 1.0: 0.0028656205021064807\n",
      "Random integer between 1 and 10: 7\n",
      "Random choice from a list: banana\n",
      "Shuffled list: ['apple', 'cherry', 'banana']\n",
      "Random sample of 2 elements: ['apple', 'cherry']\n"
     ]
    }
   ],
   "execution_count": 7
  },
  {
   "metadata": {},
   "cell_type": "markdown",
   "source": "Generate 6 digit random secure OTP",
   "id": "e41af6368c82bd0b"
  },
  {
   "metadata": {
    "ExecuteTime": {
     "end_time": "2024-07-04T02:18:50.213242Z",
     "start_time": "2024-07-04T02:18:50.209066Z"
    }
   },
   "cell_type": "code",
   "source": [
    "import random\n",
    "\n",
    "def generate_otp():\n",
    "    # Generate a random number between 100000 and 999999\n",
    "    otp = random.randint(100000, 999999)\n",
    "    return otp\n",
    "\n",
    "# Generate and print a 6-digit OTP\n",
    "print(generate_otp())"
   ],
   "id": "9cd6341bd512cc0",
   "outputs": [
    {
     "name": "stdout",
     "output_type": "stream",
     "text": [
      "920568\n"
     ]
    }
   ],
   "execution_count": 26
  },
  {
   "metadata": {},
   "cell_type": "markdown",
   "source": [
    "Generate a random Password which meets the following conditions\n",
    "- Password length must be 10 characters long.\n",
    "- It must contain at least 2 upper case letters, 1 digit, and 1 special symbol."
   ],
   "id": "422f4301a929e6f4"
  },
  {
   "metadata": {
    "ExecuteTime": {
     "end_time": "2024-07-04T02:19:40.953682Z",
     "start_time": "2024-07-04T02:19:40.950092Z"
    }
   },
   "cell_type": "code",
   "source": [
    "import random\n",
    "import string\n",
    "\n",
    "def randomPassword():\n",
    "    randomSource = string.ascii_letters + string.digits + string.punctuation\n",
    "    password = random.sample(randomSource, 6)\n",
    "    password += random.sample(string.ascii_uppercase, 2)\n",
    "    password += random.choice(string.digits)\n",
    "    password += random.choice(string.punctuation)\n",
    "\n",
    "    passwordList = list(password)\n",
    "    random.SystemRandom().shuffle(passwordList)\n",
    "    password = ''.join(passwordList)\n",
    "    return password\n",
    "\n",
    "print (\"Password is \", randomPassword())"
   ],
   "id": "2a4ee725eb983973",
   "outputs": [
    {
     "name": "stdout",
     "output_type": "stream",
     "text": [
      "Password is  22)'KA=bUE\n"
     ]
    }
   ],
   "execution_count": 27
  },
  {
   "metadata": {},
   "cell_type": "markdown",
   "source": "Roll dice in such a way that every time you get the same number",
   "id": "a5017430fcc03848"
  },
  {
   "metadata": {
    "ExecuteTime": {
     "end_time": "2024-07-04T02:23:08.955346Z",
     "start_time": "2024-07-04T02:23:08.952566Z"
    }
   },
   "cell_type": "code",
   "source": [
    "def roll_dice_fixed():\n",
    "    return 4\n",
    "\n",
    "# Example of rolling the dice\n",
    "print(roll_dice_fixed())"
   ],
   "id": "a24425f9949f47a4",
   "outputs": [
    {
     "name": "stdout",
     "output_type": "stream",
     "text": [
      "4\n"
     ]
    }
   ],
   "execution_count": 28
  },
  {
   "metadata": {},
   "cell_type": "markdown",
   "source": [
    "# Creating Custom Modules\n",
    "To create a custom module in Python, follow these steps:\n",
    "  \n",
    "- Create a Python file: This file will contain the functions, classes, or variables that you want to include in your module. Let's name this file mymodule.py.  \n",
    "- Write your module code: Define functions, classes, and variables that you want to be accessible when your module is imported.  \n",
    "- Import your module: You can import your module into other Python scripts using the import statement.  \n",
    "\n",
    "Here's an example of how to create a simple custom module named mymodule.py"
   ],
   "id": "cc29e989e3911486"
  },
  {
   "metadata": {
    "ExecuteTime": {
     "end_time": "2024-07-04T02:30:55.066066Z",
     "start_time": "2024-07-04T02:30:55.063366Z"
    }
   },
   "cell_type": "code",
   "source": [
    "# mymodule.py\n",
    "\n",
    "def greet(name):\n",
    "    print(f\"Hello, {name}!\")\n",
    "\n",
    "class MathOperations:\n",
    "    @staticmethod\n",
    "    def add(x, y):\n",
    "        return x + y\n",
    "\n",
    "    @staticmethod\n",
    "    def subtract(x, y):\n",
    "        return x - y"
   ],
   "id": "d0fd9b120505ed02",
   "outputs": [],
   "execution_count": 29
  },
  {
   "metadata": {},
   "cell_type": "markdown",
   "source": "To use this module in another Python script, ensure that `mymodule.py` is in the same directory as your script or in one of the directories listed in `sys.path`. Then, you can import and use it like this:",
   "id": "7d25d1f31add98ee"
  },
  {
   "metadata": {},
   "cell_type": "code",
   "outputs": [],
   "execution_count": null,
   "source": [
    "# import the entire module\n",
    "import mymodule\n",
    "\n",
    "mymodule.greet(\"Alice\")\n",
    "\n",
    "# import specific items from the module\n",
    "from mymodule import MathOperations\n",
    "\n",
    "result = MathOperations.add(5, 3)\n",
    "print(result)"
   ],
   "id": "df274bffebeb6057"
  },
  {
   "metadata": {},
   "cell_type": "code",
   "outputs": [],
   "execution_count": null,
   "source": [
    "# validate.py\n",
    "def validate_num(num):\n",
    "    if len(num) == 11:\n",
    "        return True\n",
    "\n",
    "def validate_pass(password):\n",
    "    if len(password) < 7:\n",
    "        return False"
   ],
   "id": "57bf931dc245c797"
  },
  {
   "metadata": {},
   "cell_type": "code",
   "outputs": [],
   "execution_count": null,
   "source": [
    "import validate\n",
    "print(\"Let's check for validity :\\n\")\n",
    "\n",
    "number = '03001234567'\n",
    "\n",
    "#access the function insdie the imported module\n",
    "if validate.validate_num(number):\n",
    "    print('num is valid')\n",
    "else:\n",
    "    print('num is invalid')\n",
    "\n",
    "password = 'key123'\n",
    "\n",
    "#access the function insdie the imported module\n",
    "if validate.validate_pass(password):\n",
    "    print('password is valid')\n",
    "else:\n",
    "    print('password is invalid')"
   ],
   "id": "888a57e34b4411c5"
  }
 ],
 "metadata": {
  "kernelspec": {
   "display_name": "Python 3",
   "language": "python",
   "name": "python3"
  },
  "language_info": {
   "codemirror_mode": {
    "name": "ipython",
    "version": 2
   },
   "file_extension": ".py",
   "mimetype": "text/x-python",
   "name": "python",
   "nbconvert_exporter": "python",
   "pygments_lexer": "ipython2",
   "version": "2.7.6"
  }
 },
 "nbformat": 4,
 "nbformat_minor": 5
}
