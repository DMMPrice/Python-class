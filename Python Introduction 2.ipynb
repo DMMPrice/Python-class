{
 "cells": [
  {
   "metadata": {},
   "cell_type": "markdown",
   "source": "# Python Fundamental - 2",
   "id": "618642a373bf97ac"
  },
  {
   "metadata": {},
   "cell_type": "markdown",
   "source": [
    "1. Introduction to Tuples: Start with a markdown cell explaining what tuples are and how they differ from lists.\n",
    "2. Creating a Tuple: Show how to create a tuple.\n",
    "3. Accessing Tuple Elements: Demonstrate how to access elements in a tuple.\n",
    "4. Immutability of Tuples: Explain and show that tuples are immutable.\n",
    "5. Tuple Methods: Briefly cover any useful tuple methods, like count() and index()."
   ],
   "id": "3b93975d0ab6222a"
  },
  {
   "metadata": {},
   "cell_type": "markdown",
   "source": "## Step 1: Introduction to Tuples",
   "id": "53cf614c7302715d"
  },
  {
   "metadata": {},
   "cell_type": "markdown",
   "source": [
    "### Tuples in Python\n",
    "\n",
    "Tuples are similar to lists, but they are immutable, meaning once they are created, their elements cannot be changed. Tuples are defined using parentheses `()`."
   ],
   "id": "b0d1692dc815ad78"
  },
  {
   "metadata": {},
   "cell_type": "markdown",
   "source": "## Step 2: Creating a Tuple",
   "id": "446e83c1ddf0c620"
  },
  {
   "metadata": {
    "ExecuteTime": {
     "end_time": "2024-07-02T17:54:53.867286Z",
     "start_time": "2024-07-02T17:54:53.864286Z"
    }
   },
   "cell_type": "code",
   "source": [
    "# Creating a tuple\n",
    "my_tuple = (1, 2, 3, \"Python\", \"Hello\")\n",
    "print(\"Created tuple:\", my_tuple)"
   ],
   "id": "e57cde21d228499b",
   "outputs": [
    {
     "name": "stdout",
     "output_type": "stream",
     "text": [
      "Created tuple: (1, 2, 3, 'Python', 'Hello')\n"
     ]
    }
   ],
   "execution_count": 2
  },
  {
   "metadata": {},
   "cell_type": "markdown",
   "source": "### Step 3: Accessing Tuple Elements",
   "id": "744a0331626c2230"
  },
  {
   "metadata": {
    "ExecuteTime": {
     "end_time": "2024-07-02T17:55:50.392445Z",
     "start_time": "2024-07-02T17:55:50.390325Z"
    }
   },
   "cell_type": "code",
   "source": [
    "# Accessing elements in a tuple\n",
    "print(\"First element:\", my_tuple[0])\n",
    "print(\"Last element:\", my_tuple[-1])"
   ],
   "id": "831eddb7b6cf72ac",
   "outputs": [
    {
     "name": "stdout",
     "output_type": "stream",
     "text": [
      "First element: 1\n",
      "Last element: Hello\n"
     ]
    }
   ],
   "execution_count": 3
  },
  {
   "metadata": {},
   "cell_type": "markdown",
   "source": [
    "### Step 4: Immutability of Tuples\n",
    "**Immutability of Tuples** \n",
    "\n",
    "Tuples are immutable, which means you cannot change, add, or remove items once the tuple is created. Attempting to do so will result in a TypeError."
   ],
   "id": "378f7f3a037203e8"
  },
  {
   "metadata": {},
   "cell_type": "markdown",
   "source": "### Step 5: Tuple Methods",
   "id": "987dfa8bed05a798"
  },
  {
   "metadata": {
    "ExecuteTime": {
     "end_time": "2024-07-03T06:58:16.284676Z",
     "start_time": "2024-07-03T06:58:16.281798Z"
    }
   },
   "cell_type": "code",
   "source": [
    "# Tuple methods\n",
    "print(\"Count of 'Python' in tuple:\", my_tuple.count(\"Python\"))\n",
    "print(\"Index of 'Hello':\", my_tuple.index(\"Hello\"))"
   ],
   "id": "ac922552ef0f009e",
   "outputs": [
    {
     "name": "stdout",
     "output_type": "stream",
     "text": [
      "Count of 'Python' in tuple: 1\n",
      "Index of 'Hello': 4\n"
     ]
    }
   ],
   "execution_count": 16
  },
  {
   "metadata": {},
   "cell_type": "markdown",
   "source": "# Tuple unpacking\n",
   "id": "da5ebf4dd6496ffa"
  },
  {
   "metadata": {
    "ExecuteTime": {
     "end_time": "2024-07-02T18:02:45.371016Z",
     "start_time": "2024-07-02T18:02:45.367537Z"
    }
   },
   "cell_type": "code",
   "source": [
    "#Tuple unpacking\n",
    "a, b, c, d, e = my_tuple\n",
    "print(a)\n",
    "print(b)\n",
    "print(c)\n",
    "print(d)\n",
    "print(e)"
   ],
   "id": "30167ea61d965f15",
   "outputs": [
    {
     "name": "stdout",
     "output_type": "stream",
     "text": [
      "1\n",
      "2\n",
      "3\n",
      "Python\n",
      "Hello\n"
     ]
    }
   ],
   "execution_count": 5
  },
  {
   "metadata": {},
   "cell_type": "markdown",
   "source": [
    "Practice Problem 1\n",
    "Given a list of numbers of list, write a Python program to create a list of tuples having first element as the number and second element as the cube of the number.\n",
    "\n",
    "Example:\n",
    "Input: list = [1, 2, 3]\n",
    "Output: [(1, 1), (2, 8), (3, 27)]\n",
    "\n",
    "Input: list = [9, 5, 6]\n",
    "Output: [(9, 729), (5, 125), (6, 216)]"
   ],
   "id": "3c428a62e382c462"
  },
  {
   "metadata": {
    "ExecuteTime": {
     "end_time": "2024-07-02T18:06:45.077774Z",
     "start_time": "2024-07-02T18:06:45.074499Z"
    }
   },
   "cell_type": "code",
   "source": [
    "# creating a list\n",
    "list1 = [1, 2, 5, 6]\n",
    "\n",
    "# using list comprehension to iterate each\n",
    "# values in list and create a tuple as specified\n",
    "res = [(val, pow(val, 3)) for val in list1]\n",
    "\n",
    "# print the result\n",
    "print(res)"
   ],
   "id": "74550cde675786e9",
   "outputs": [
    {
     "name": "stdout",
     "output_type": "stream",
     "text": [
      "[(1, 1), (2, 8), (5, 125), (6, 216)]\n"
     ]
    }
   ],
   "execution_count": 6
  },
  {
   "metadata": {},
   "cell_type": "markdown",
   "source": "Sum of tuple elements",
   "id": "60b34ae233e1022c"
  },
  {
   "metadata": {
    "ExecuteTime": {
     "end_time": "2024-07-02T18:10:20.652129Z",
     "start_time": "2024-07-02T18:10:20.649805Z"
    }
   },
   "cell_type": "code",
   "source": [
    "# creating a list\n",
    "list1 = [1, 2, 5, 6]\n",
    "\n",
    "# using list comprehension to iterate each\n",
    "# values in list and create a tuple as specified\n",
    "res = [(val, pow(val, 3)) for val in list1]\n",
    "\n",
    "# print the result\n",
    "print(res)"
   ],
   "id": "1661ccf47eaac372",
   "outputs": [
    {
     "name": "stdout",
     "output_type": "stream",
     "text": [
      "[(1, 1), (2, 8), (5, 125), (6, 216)]\n"
     ]
    }
   ],
   "execution_count": 7
  },
  {
   "metadata": {},
   "cell_type": "code",
   "outputs": [],
   "execution_count": null,
   "source": [
    "# Join Tuples if similar initial element\n",
    "\n",
    "# creating a list\n",
    "list1 = [(1, 2), (3, 4), (5, 6), (7, 8), (1, 4), (5, 7)]\n",
    "\n",
    "# using list comprehension to iterate each\n",
    "# values in list and create a tuple as specified\n",
    "res = {}\n",
    "for a, b in list1:\n",
    "    res.setdefault(a, []).append(b)\n",
    "\n",
    "# print the result\n",
    "print(res)"
   ],
   "id": "7a1bb4806c54e87"
  },
  {
   "metadata": {},
   "cell_type": "markdown",
   "source": [
    "1. **Introduction to Dictionaries**: Start with a markdown cell explaining what dictionaries are and how they differ from lists and tuples.\n",
    "2. **Creating a Dictionary**: Show how to create a dictionary.\n",
    "3. **Accessing Dictionary Elements**: Demonstrate how to access elements in a dictionary.\n",
    "4. **Modifying Dictionaries**: Explain and show how to add, change, and remove elements in a dictionary.\n",
    "5. **Dictionary Methods**: Briefly cover useful dictionary methods, like `keys()`, `values()`, and `items()`."
   ],
   "id": "19d450b01bc4cbd9"
  },
  {
   "metadata": {},
   "cell_type": "markdown",
   "source": [
    "## Step 1: Introduction to Dictionaries\n",
    "### Dictionaries in Python\n",
    "Dictionaries are collections of key-value pairs. Unlike lists and tuples, dictionaries are unordered. Each key-value pair maps the key to its associated value. Dictionaries are defined using curly braces `{}`.\n",
    "```"
   ],
   "id": "61243433767bc56e"
  },
  {
   "metadata": {},
   "cell_type": "markdown",
   "source": [
    "### Step 2: Creating a Dictionary\n",
    "```python"
   ],
   "id": "1b0e3f6c7be1f366"
  },
  {
   "metadata": {
    "ExecuteTime": {
     "end_time": "2024-07-03T07:32:37.053712Z",
     "start_time": "2024-07-03T07:32:37.050587Z"
    }
   },
   "cell_type": "code",
   "source": [
    "# Creating a dictionary\n",
    "my_dict = {\"name\": \"John\", \"age\": 30, \"city\": \"New York\"}\n",
    "print(\"Created dictionary:\", my_dict)"
   ],
   "id": "8d2c88b6f6bbbf66",
   "outputs": [
    {
     "name": "stdout",
     "output_type": "stream",
     "text": [
      "Created dictionary: {'name': 'John', 'age': 30, 'city': 'New York'}\n"
     ]
    }
   ],
   "execution_count": 18
  },
  {
   "metadata": {},
   "cell_type": "markdown",
   "source": [
    "### Step 3: Accessing Dictionary Elements\n",
    "```python"
   ],
   "id": "95ceeb0dfdbfa3a0"
  },
  {
   "metadata": {
    "ExecuteTime": {
     "end_time": "2024-07-03T07:32:41.184962Z",
     "start_time": "2024-07-03T07:32:41.181594Z"
    }
   },
   "cell_type": "code",
   "source": [
    "# Accessing elements in a dictionary\n",
    "print(\"Name:\", my_dict[\"name\"])\n",
    "print(\"Age:\", my_dict.get(\"age\"))"
   ],
   "id": "89d8782d9d427391",
   "outputs": [
    {
     "name": "stdout",
     "output_type": "stream",
     "text": [
      "Name: John\n",
      "Age: 30\n"
     ]
    }
   ],
   "execution_count": 19
  },
  {
   "metadata": {},
   "cell_type": "markdown",
   "source": [
    "### Step 4: Modifying Dictionaries\n",
    "## Modifying Dictionaries\n",
    "You can add new key-value pairs, change the value of an existing key, or remove key-value pairs from a dictionary."
   ],
   "id": "16753a17cde83f9a"
  },
  {
   "metadata": {
    "ExecuteTime": {
     "end_time": "2024-07-03T07:32:42.264450Z",
     "start_time": "2024-07-03T07:32:42.257829Z"
    }
   },
   "cell_type": "code",
   "source": [
    "# Adding a new key-value pair\n",
    "my_dict[\"email\"] = \"john@example.com\"\n",
    "print(\"Added email:\", my_dict)\n",
    "\n",
    "# Changing the value of an existing key\n",
    "my_dict[\"age\"] = 31\n",
    "print(\"Updated age:\", my_dict)\n",
    "\n",
    "# Removing a key-value pair\n",
    "del my_dict[\"city\"]\n",
    "print(\"Removed city:\", my_dict)\n",
    "my_dict"
   ],
   "id": "ddbd621a50f5b708",
   "outputs": [
    {
     "name": "stdout",
     "output_type": "stream",
     "text": [
      "Added email: {'name': 'John', 'age': 30, 'city': 'New York', 'email': 'john@example.com'}\n",
      "Updated age: {'name': 'John', 'age': 31, 'city': 'New York', 'email': 'john@example.com'}\n",
      "Removed city: {'name': 'John', 'age': 31, 'email': 'john@example.com'}\n"
     ]
    },
    {
     "data": {
      "text/plain": [
       "{'name': 'John', 'age': 31, 'email': 'john@example.com'}"
      ]
     },
     "execution_count": 20,
     "metadata": {},
     "output_type": "execute_result"
    }
   ],
   "execution_count": 20
  },
  {
   "metadata": {},
   "cell_type": "markdown",
   "source": [
    "### Step 5: Dictionary Methods\n",
    "# Dictionary methods"
   ],
   "id": "6103516982b787c3"
  },
  {
   "metadata": {
    "ExecuteTime": {
     "end_time": "2024-07-03T05:12:31.436064Z",
     "start_time": "2024-07-03T05:12:31.433001Z"
    }
   },
   "cell_type": "code",
   "source": [
    "print(\"Keys:\", my_dict.keys())\n",
    "print(\"Values:\", my_dict.values())\n",
    "print(\"Items:\", my_dict.items())"
   ],
   "id": "11ca37c2380a2506",
   "outputs": [
    {
     "name": "stdout",
     "output_type": "stream",
     "text": [
      "Keys: dict_keys(['name', 'age', 'email'])\n",
      "Values: dict_values(['John', 31, 'john@example.com'])\n",
      "Items: dict_items([('name', 'John'), ('age', 31), ('email', 'john@example.com')])\n"
     ]
    }
   ],
   "execution_count": 13
  },
  {
   "metadata": {},
   "cell_type": "markdown",
   "source": "# Iterate Through a Dictionary",
   "id": "59f772e41f357467"
  },
  {
   "metadata": {
    "ExecuteTime": {
     "end_time": "2024-07-03T05:21:02.279396Z",
     "start_time": "2024-07-03T05:21:02.276516Z"
    }
   },
   "cell_type": "code",
   "source": [
    "country_capitals = {\n",
    "    \"United States\": \"Washington D.C.\",\n",
    "    \"Italy\": \"Rome\"\n",
    "}\n",
    "\n",
    "# print dictionary keys one by one\n",
    "for country in country_capitals:\n",
    "    print(country)\n",
    "\n",
    "print()\n",
    "\n",
    "# print dictionary values one by one\n",
    "for country in country_capitals:\n",
    "    capital = country_capitals[country]\n",
    "    print(capital)"
   ],
   "id": "61615a07ec907027",
   "outputs": [
    {
     "name": "stdout",
     "output_type": "stream",
     "text": [
      "United States\n",
      "Italy\n",
      "\n",
      "Washington D.C.\n",
      "Rome\n"
     ]
    }
   ],
   "execution_count": 14
  },
  {
   "metadata": {},
   "cell_type": "markdown",
   "source": "# Find Dictionary Length",
   "id": "73d6eb58fe162f31"
  },
  {
   "metadata": {
    "ExecuteTime": {
     "end_time": "2024-07-03T05:22:17.392285Z",
     "start_time": "2024-07-03T05:22:17.389331Z"
    }
   },
   "cell_type": "code",
   "source": [
    "country_capitals = {\"England\": \"London\", \"Italy\": \"Rome\"}\n",
    "\n",
    "# get dictionary's length\n",
    "print(len(country_capitals))   # Output: 2\n",
    "\n",
    "numbers = {10: \"ten\", 20: \"twenty\", 30: \"thirty\"}\n",
    "\n",
    "# get dictionary's length\n",
    "print(len(numbers))            # Output: 3\n",
    "\n",
    "countries = {}\n",
    "\n",
    "# get dictionary's length\n",
    "print(len(countries))          # Output: 0"
   ],
   "id": "385b03b446d6c463",
   "outputs": [
    {
     "name": "stdout",
     "output_type": "stream",
     "text": [
      "2\n",
      "3\n",
      "0\n"
     ]
    }
   ],
   "execution_count": 15
  }
 ],
 "metadata": {
  "kernelspec": {
   "display_name": "Python 3",
   "language": "python",
   "name": "python3"
  },
  "language_info": {
   "codemirror_mode": {
    "name": "ipython",
    "version": 2
   },
   "file_extension": ".py",
   "mimetype": "text/x-python",
   "name": "python",
   "nbconvert_exporter": "python",
   "pygments_lexer": "ipython2",
   "version": "2.7.6"
  }
 },
 "nbformat": 4,
 "nbformat_minor": 5
}
