{
 "nbformat": 4,
 "nbformat_minor": 0,
 "metadata": {
  "colab": {
   "provenance": []
  },
  "kernelspec": {
   "name": "python3",
   "language": "python",
   "display_name": "Python 3 (ipykernel)"
  },
  "language_info": {
   "name": "python"
  }
 },
 "cells": [
  {
   "cell_type": "markdown",
   "source": [
    "# Numpy\n",
    "1. **Introduction to NumPy:** Start with an introduction to NumPy, explaining what it is and why it's used for numerical computations in Python.  \n",
    "2. **Installation:** Guide on how to install NumPy using `pip`.  \n",
    "3. **Creating Arrays:** Show how to create NumPy arrays from lists and with built-in functions like `np.zeros`, `np.ones`, and `np.arange`.  \n",
    "4. **Array Operations:** Demonstrate basic array operations, including arithmetic operations, indexing, and slicing.  \n",
    "5. **Reshaping and Transposing:** Explain how to reshape arrays using `np.reshape` and how to transpose arrays with `np.transpose`.  \n",
    "6. **Statistical Functions:** Introduce statistical functions like `np.mean`, `np.median`, `np.var`, and how to use them on arrays.  \n",
    "7. **Linear Algebra in NumPy:** Cover basic linear algebra operations, such as matrix multiplication using `np.matmul` and finding eigenvalues with `np.linalg.eig`.  \n",
    "8. **Random Numbers:** Show how to generate random numbers and random arrays using NumPy's random module.  \n",
    "9. **Filtering Arrays:** Teach how to filter arrays using boolean indexing.  \n",
    "10. **Saving and Loading Arrays:** Conclude with how to save arrays to files using `np.save` and how to load them with `np.load`."
   ],
   "metadata": {
    "id": "dyelfTwhPO74"
   }
  },
  {
   "cell_type": "code",
   "metadata": {
    "id": "HWgSRd4CHMg0",
    "colab": {
     "base_uri": "https://localhost:8080/"
    },
    "outputId": "7e6f1c47-c9e1-4435-9af0-c62af3e392eb",
    "ExecuteTime": {
     "end_time": "2024-07-08T07:33:09.082370Z",
     "start_time": "2024-07-08T07:33:09.079075Z"
    }
   },
   "source": [
    "import numpy as np\n",
    "arr = np.array([[0,1,2], [3,4,5]], dtype= np.float16)\n",
    "#arr = np.array([1, 2, 3])\n",
    "arr"
   ],
   "outputs": [
    {
     "data": {
      "text/plain": [
       "array([[0., 1., 2.],\n",
       "       [3., 4., 5.]], dtype=float16)"
      ]
     },
     "execution_count": 3,
     "metadata": {},
     "output_type": "execute_result"
    }
   ],
   "execution_count": 3
  },
  {
   "cell_type": "code",
   "source": [
    "a = np.array([0,1])\n",
    "b = np.array([9,8])\n",
    "c = a\n",
    "d = b.copy()\n",
    "d[0] = 8\n",
    "print(b)\n",
    "print(d)"
   ],
   "metadata": {
    "colab": {
     "base_uri": "https://localhost:8080/"
    },
    "id": "uwnKupwTP3a-",
    "outputId": "0b758fb7-471f-42d1-9a61-ec8df2180abb",
    "ExecuteTime": {
     "end_time": "2024-03-04T16:08:57.378098Z",
     "start_time": "2024-03-04T16:08:57.374129Z"
    }
   },
   "execution_count": 2,
   "outputs": [
    {
     "name": "stdout",
     "output_type": "stream",
     "text": [
      "[9 8]\n",
      "[8 8]\n"
     ]
    }
   ]
  },
  {
   "cell_type": "markdown",
   "source": [
    "ranged data"
   ],
   "metadata": {
    "id": "65wtiBp9YFoQ"
   }
  },
  {
   "cell_type": "code",
   "source": [
    "arr = np.arange(3,12)\n",
    "print(repr(arr))\n",
    "print(arr)"
   ],
   "metadata": {
    "id": "22FUP5J4SJAu",
    "colab": {
     "base_uri": "https://localhost:8080/"
    },
    "outputId": "3c860783-07af-4adc-d989-00d85b6c8343",
    "ExecuteTime": {
     "end_time": "2024-03-04T16:08:57.383575Z",
     "start_time": "2024-03-04T16:08:57.379116Z"
    }
   },
   "execution_count": 3,
   "outputs": [
    {
     "name": "stdout",
     "output_type": "stream",
     "text": [
      "array([ 3,  4,  5,  6,  7,  8,  9, 10, 11])\n",
      "[ 3  4  5  6  7  8  9 10 11]\n"
     ]
    }
   ]
  },
  {
   "cell_type": "code",
   "source": [
    "arr = np.linspace(5,11, num=4)\n",
    "print(arr)"
   ],
   "metadata": {
    "colab": {
     "base_uri": "https://localhost:8080/"
    },
    "id": "15XpVNTVYmX_",
    "outputId": "fa025850-aaf9-43c5-ec8b-8ceb8e1f42e2",
    "ExecuteTime": {
     "end_time": "2024-07-08T08:01:13.540781Z",
     "start_time": "2024-07-08T08:01:13.537786Z"
    }
   },
   "outputs": [
    {
     "name": "stdout",
     "output_type": "stream",
     "text": [
      "[ 5.  7.  9. 11.]\n"
     ]
    }
   ],
   "execution_count": 11
  },
  {
   "cell_type": "markdown",
   "source": [
    "Reshaping data"
   ],
   "metadata": {
    "id": "aC360SeBaJDf"
   }
  },
  {
   "cell_type": "code",
   "source": [
    "arr = np.arange(8)\n",
    "reshaped_arr = np.reshape(arr[3:6], (1, 3))\n",
    "print(reshaped_arr)"
   ],
   "metadata": {
    "colab": {
     "base_uri": "https://localhost:8080/"
    },
    "id": "uAdrJOE_aLWe",
    "outputId": "2a89d876-dd30-4f88-8b6e-6db588911609",
    "ExecuteTime": {
     "end_time": "2024-07-08T08:05:06.349712Z",
     "start_time": "2024-07-08T08:05:06.347300Z"
    }
   },
   "outputs": [
    {
     "name": "stdout",
     "output_type": "stream",
     "text": [
      "[[3 4 5]]\n"
     ]
    }
   ],
   "execution_count": 19
  },
  {
   "cell_type": "markdown",
   "source": [
    "Transposing"
   ],
   "metadata": {
    "id": "wPRefR-ab02-"
   }
  },
  {
   "cell_type": "code",
   "source": [
    "arr = np.arange(8)\n",
    "arr = np.reshape(arr, (4,2))\n",
    "transposed = np.transpose(arr)\n",
    "print(repr(arr))\n",
    "print(repr(transposed))"
   ],
   "metadata": {
    "colab": {
     "base_uri": "https://localhost:8080/"
    },
    "id": "2Wwg9d_ob4H9",
    "outputId": "ba51ea75-4adc-4eb2-a14b-f0667ca5078d",
    "ExecuteTime": {
     "end_time": "2024-07-08T08:08:37.116252Z",
     "start_time": "2024-07-08T08:08:37.113426Z"
    }
   },
   "outputs": [
    {
     "name": "stdout",
     "output_type": "stream",
     "text": [
      "array([[0, 1],\n",
      "       [2, 3],\n",
      "       [4, 5],\n",
      "       [6, 7]])\n",
      "array([[0, 2, 4, 6],\n",
      "       [1, 3, 5, 7]])\n"
     ]
    }
   ],
   "execution_count": 21
  },
  {
   "cell_type": "markdown",
   "source": [
    "Arithmetic"
   ],
   "metadata": {
    "id": "1cuivsdDhL2I"
   }
  },
  {
   "cell_type": "code",
   "source": [
    "arr = np.array([[1, 2], [3, 4]])\n",
    "# Add 1 to element values\n",
    "print(repr(arr + 1))\n",
    "# Subtract element values by 1.2\n",
    "print(repr(arr - 1.2))\n",
    "# Double element values\n",
    "print(repr(arr * 2))\n",
    "# Halve element values\n",
    "print(repr(arr / 2))\n",
    "# Integer division (half)\n",
    "print(repr(arr // 2))\n",
    "# Square element values\n",
    "print(repr(arr**2))\n",
    "# Square root element values\n",
    "print(repr(arr**0.5))"
   ],
   "metadata": {
    "colab": {
     "base_uri": "https://localhost:8080/",
     "height": 245
    },
    "id": "XUaKkypBhQSY",
    "outputId": "8a1eb5aa-3ce4-4526-b866-41fdcb456598",
    "ExecuteTime": {
     "end_time": "2024-03-04T16:08:57.407529Z",
     "start_time": "2024-03-04T16:08:57.401744Z"
    }
   },
   "execution_count": 7,
   "outputs": [
    {
     "name": "stdout",
     "output_type": "stream",
     "text": [
      "array([[2, 3],\n",
      "       [4, 5]])\n",
      "array([[-0.2,  0.8],\n",
      "       [ 1.8,  2.8]])\n",
      "array([[2, 4],\n",
      "       [6, 8]])\n",
      "array([[0.5, 1. ],\n",
      "       [1.5, 2. ]])\n",
      "array([[0, 1],\n",
      "       [1, 2]], dtype=int32)\n",
      "array([[ 1,  4],\n",
      "       [ 9, 16]])\n",
      "array([[1.        , 1.41421356],\n",
      "       [1.73205081, 2.        ]])\n"
     ]
    }
   ]
  },
  {
   "cell_type": "markdown",
   "source": [
    " Non-linear functions"
   ],
   "metadata": {
    "id": "E9rpAO1wta1y"
   }
  },
  {
   "cell_type": "code",
   "source": [
    "arr = np.array([[1, 2], [3, 4]])\n",
    "# Raised to power of e\n",
    "print(repr(np.exp(arr)))\n",
    "# Raised to power of 2\n",
    "print(repr(np.exp2(arr)))\n",
    "\n",
    "arr2 = np.array([[1, 10], [np.e, np.pi]])\n",
    "# Natural logarithm\n",
    "print(repr(np.log(arr2)))\n",
    "# Base 10 logarithm\n",
    "print(repr(np.log10(arr2)))"
   ],
   "metadata": {
    "id": "JAkym0iZtdjL",
    "ExecuteTime": {
     "end_time": "2024-03-04T16:08:57.412106Z",
     "start_time": "2024-03-04T16:08:57.407529Z"
    }
   },
   "execution_count": 8,
   "outputs": [
    {
     "name": "stdout",
     "output_type": "stream",
     "text": [
      "array([[ 2.71828183,  7.3890561 ],\n",
      "       [20.08553692, 54.59815003]])\n",
      "array([[ 2.,  4.],\n",
      "       [ 8., 16.]])\n",
      "array([[0.        , 2.30258509],\n",
      "       [1.        , 1.14472989]])\n",
      "array([[0.        , 1.        ],\n",
      "       [0.43429448, 0.49714987]])\n"
     ]
    }
   ]
  },
  {
   "cell_type": "markdown",
   "source": [
    " Matrix multiplication"
   ],
   "metadata": {
    "id": "l7GmeaQeTsjN"
   }
  },
  {
   "cell_type": "code",
   "source": [
    "arr1 = np.array([1, 2, 3])\n",
    "arr2 = np.array([-3, 0, 10])\n",
    "print(np.matmul(arr1, arr2))\n",
    "\n",
    "arr3 = np.array([[1, 2], [3, 4], [5, 6]])\n",
    "arr4 = np.array([[-1, 0, 1], [3, 2, -4]])\n",
    "print(repr(np.matmul(arr3, arr4)))\n",
    "print(repr(np.matmul(arr4, arr3)))\n",
    "# This will result in a ValueError: If we uncomment line 10 and run again.\n",
    "#print(repr(np.matmul(arr3, arr3)))"
   ],
   "metadata": {
    "id": "OfxVsnrzTsV-",
    "ExecuteTime": {
     "end_time": "2024-03-04T16:08:57.417820Z",
     "start_time": "2024-03-04T16:08:57.413150Z"
    }
   },
   "execution_count": 9,
   "outputs": [
    {
     "name": "stdout",
     "output_type": "stream",
     "text": [
      "27\n",
      "array([[  5,   4,  -7],\n",
      "       [  9,   8, -13],\n",
      "       [ 13,  12, -19]])\n",
      "array([[  4,   4],\n",
      "       [-11, -10]])\n"
     ]
    }
   ]
  },
  {
   "cell_type": "markdown",
   "source": [
    "Filtering in NumPy"
   ],
   "metadata": {
    "id": "vOSOi8ZWomN1"
   }
  },
  {
   "cell_type": "code",
   "source": [
    "print(repr(np.where([True, False, True])))\n",
    "\n",
    "arr = np.array([0, 3, 5, 3, 1])\n",
    "print(repr(np.where(arr == 3)))\n",
    "\n",
    "arr = np.array([[0, 2, 3],\n",
    "                [1, 0, 0],\n",
    "                [-3, 0, 0]])\n",
    "x_ind, y_ind = np.where(arr != 0)\n",
    "print(repr(x_ind)) # x indices of non-zero elements\n",
    "print(repr(y_ind)) # y indices of non-zero elements\n",
    "print(repr(arr[x_ind, y_ind]))"
   ],
   "metadata": {
    "colab": {
     "base_uri": "https://localhost:8080/"
    },
    "id": "FHqz-J5_mx0c",
    "outputId": "7e8e1515-97ec-4ccc-b5c6-0bbce4413ac5",
    "ExecuteTime": {
     "end_time": "2024-03-04T16:08:57.424379Z",
     "start_time": "2024-03-04T16:08:57.418833Z"
    }
   },
   "execution_count": 10,
   "outputs": [
    {
     "name": "stdout",
     "output_type": "stream",
     "text": [
      "(array([0, 2], dtype=int64),)\n",
      "(array([1, 3], dtype=int64),)\n",
      "array([0, 0, 1, 2], dtype=int64)\n",
      "array([1, 2, 0, 0], dtype=int64)\n",
      "array([ 2,  3,  1, -3])\n"
     ]
    }
   ]
  },
  {
   "cell_type": "markdown",
   "source": [
    "**Statistics**"
   ],
   "metadata": {
    "id": "Nhl7b4REtJEp"
   }
  },
  {
   "cell_type": "markdown",
   "source": [
    "A. Analysis"
   ],
   "metadata": {
    "id": "d6eJ6X-EtOUA"
   }
  },
  {
   "cell_type": "code",
   "source": [
    "arr = np.array([[0, 72, 3],\n",
    "                [1, 3, -60],\n",
    "                [-3, -2, 4]])\n",
    "print(arr.min())\n",
    "print(arr.max())\n",
    "\n",
    "print(repr(arr.min(axis=0)))\n",
    "\n",
    "print(repr(arr.max(axis=-1)))"
   ],
   "metadata": {
    "colab": {
     "base_uri": "https://localhost:8080/"
    },
    "id": "qVvjUZyLqmpT",
    "outputId": "b0837104-ad85-431e-9b2e-917e00f09ab8",
    "ExecuteTime": {
     "end_time": "2024-03-04T16:08:57.428948Z",
     "start_time": "2024-03-04T16:08:57.425415Z"
    }
   },
   "execution_count": 11,
   "outputs": [
    {
     "name": "stdout",
     "output_type": "stream",
     "text": [
      "-60\n",
      "72\n",
      "array([ -3,  -2, -60])\n",
      "array([72,  3,  4])\n"
     ]
    }
   ]
  },
  {
   "cell_type": "markdown",
   "source": [
    "B. Statistical metrics"
   ],
   "metadata": {
    "id": "M1OEQ8Z8tsFB"
   }
  },
  {
   "cell_type": "code",
   "source": [
    "arr = np.array([[0, 72, 3],\n",
    "                [1, 3, -60],\n",
    "                [-3, -2, 4]])\n",
    "print(np.mean(arr))\n",
    "print(np.var(arr))\n",
    "print(np.median(arr))\n",
    "print(repr(np.median(arr, axis=-1)))"
   ],
   "metadata": {
    "colab": {
     "base_uri": "https://localhost:8080/"
    },
    "id": "Po2UFwmqtvDi",
    "outputId": "d6803783-9fd7-4003-8862-24d250a7c1e5",
    "ExecuteTime": {
     "end_time": "2024-03-04T16:08:57.436058Z",
     "start_time": "2024-03-04T16:08:57.428948Z"
    }
   },
   "execution_count": 12,
   "outputs": [
    {
     "name": "stdout",
     "output_type": "stream",
     "text": [
      "2.0\n",
      "977.3333333333334\n",
      "1.0\n",
      "array([ 3.,  1., -2.])\n"
     ]
    }
   ]
  },
  {
   "cell_type": "markdown",
   "source": [
    "pandas"
   ],
   "metadata": {
    "id": "XX665zJeuJmx"
   }
  },
  {
   "cell_type": "markdown",
   "source": [
    "A. 1-D data#"
   ],
   "metadata": {
    "id": "yDgUemNTrOAp"
   }
  },
  {
   "cell_type": "code",
   "source": [
    "import pandas as pd\n",
    "import numpy as np\n",
    "# Creating an empty series, will result in DeprecationWarning\n",
    "#series = pd.Series()\n",
    "\n",
    "# Passing dtype as a parameter to Series for an empty series to avoid DeprecationWarning\n",
    "# Creating an empty series\n",
    "series = pd.Series(dtype='float64')\n",
    "# Newline to separate series print statements\n",
    "print('{}\\n'.format(series))\n",
    "\n",
    "series = pd.Series(5)\n",
    "print('{}\\n'.format(series))\n",
    "\n",
    "series = pd.Series([1, 2, 3])\n",
    "print('{}\\n'.format(series))\n",
    "\n",
    "series = pd.Series([1, 2.2]) # upcasting\n",
    "print('{}\\n'.format(series))\n",
    "\n",
    "arr = np.array([1, 2])\n",
    "series = pd.Series(arr, dtype=np.float32)\n",
    "print('{}\\n'.format(series))\n",
    "\n",
    "series = pd.Series([[1, 2], [3, 4]])\n",
    "print('{}\\n'.format(series))"
   ],
   "metadata": {
    "colab": {
     "base_uri": "https://localhost:8080/"
    },
    "id": "ZwQxr_d4rMlR",
    "outputId": "4e7a2813-2384-4938-957c-93b48151b860",
    "ExecuteTime": {
     "end_time": "2024-03-04T16:08:58.610561Z",
     "start_time": "2024-03-04T16:08:57.436058Z"
    }
   },
   "execution_count": 13,
   "outputs": [
    {
     "name": "stdout",
     "output_type": "stream",
     "text": [
      "Series([], dtype: float64)\n",
      "\n",
      "0    5\n",
      "dtype: int64\n",
      "\n",
      "0    1\n",
      "1    2\n",
      "2    3\n",
      "dtype: int64\n",
      "\n",
      "0    1.0\n",
      "1    2.2\n",
      "dtype: float64\n",
      "\n",
      "0    1.0\n",
      "1    2.0\n",
      "dtype: float32\n",
      "\n",
      "0    [1, 2]\n",
      "1    [3, 4]\n",
      "dtype: object\n"
     ]
    }
   ]
  },
  {
   "cell_type": "markdown",
   "source": [
    " Index#"
   ],
   "metadata": {
    "id": "RzU98SDOsG8B"
   }
  },
  {
   "cell_type": "code",
   "source": [
    "series = pd.Series([\"raj\",\"halder\", \"rohit\"], index = [1,2,3])\n",
    "print(series)"
   ],
   "metadata": {
    "colab": {
     "base_uri": "https://localhost:8080/"
    },
    "id": "Pp5KZvF7sJkp",
    "outputId": "56fa355e-ac59-4152-94de-b2a1b960dc51",
    "ExecuteTime": {
     "end_time": "2024-03-04T16:08:58.615107Z",
     "start_time": "2024-03-04T16:08:58.611648Z"
    }
   },
   "execution_count": 14,
   "outputs": [
    {
     "name": "stdout",
     "output_type": "stream",
     "text": [
      "1       raj\n",
      "2    halder\n",
      "3     rohit\n",
      "dtype: object\n"
     ]
    }
   ]
  },
  {
   "cell_type": "markdown",
   "source": [
    "# **Random**"
   ],
   "metadata": {
    "id": "Mr1s2WXw7VTI"
   }
  },
  {
   "cell_type": "markdown",
   "source": [
    "A. Random integers"
   ],
   "metadata": {
    "id": "PTF9Z3v37YdO"
   }
  },
  {
   "cell_type": "code",
   "source": [
    "import random"
   ],
   "metadata": {
    "id": "y0WDca_07pEg",
    "ExecuteTime": {
     "end_time": "2024-03-04T16:08:58.621163Z",
     "start_time": "2024-03-04T16:08:58.616174Z"
    }
   },
   "execution_count": 15,
   "outputs": []
  },
  {
   "cell_type": "code",
   "source": [
    "print(np.random.randint(5))\n",
    "print(np.random.randint(5))\n",
    "print(np.random.randint(5, high=6))\n",
    "\n",
    "random_arr = np.random.randint(-3, high=14,\n",
    "                               size=(2, 2))\n",
    "print(repr(random_arr))"
   ],
   "metadata": {
    "colab": {
     "base_uri": "https://localhost:8080/"
    },
    "id": "oTeWO5Pn7cIX",
    "outputId": "6f024dc3-9323-42fb-8215-3e62c88980aa",
    "ExecuteTime": {
     "end_time": "2024-03-04T16:08:58.628178Z",
     "start_time": "2024-03-04T16:08:58.622179Z"
    }
   },
   "execution_count": 16,
   "outputs": [
    {
     "name": "stdout",
     "output_type": "stream",
     "text": [
      "4\n",
      "4\n",
      "5\n",
      "array([[-1,  1],\n",
      "       [-3,  5]])\n"
     ]
    }
   ]
  },
  {
   "cell_type": "markdown",
   "source": [
    "# **Indexing**"
   ],
   "metadata": {
    "id": "xCVeHCDw7eZH"
   }
  },
  {
   "cell_type": "markdown",
   "source": [
    "A. Array accessing#"
   ],
   "metadata": {
    "id": "S0MJtEr67_7v"
   }
  },
  {
   "cell_type": "code",
   "source": [
    "arr = np.array([1, 2, 3, 4, 5])\n",
    "print(arr[0])\n",
    "print(arr[4])\n",
    "\n",
    "arr = np.array([[6, 3], [0, 2]])\n",
    "# Subarray\n",
    "print(repr(arr[0]))"
   ],
   "metadata": {
    "colab": {
     "base_uri": "https://localhost:8080/"
    },
    "id": "IWoes6n_7wpg",
    "outputId": "0162c8c4-fc1d-44d0-f15c-59717f35ca5f",
    "ExecuteTime": {
     "end_time": "2024-03-04T16:08:58.633444Z",
     "start_time": "2024-03-04T16:08:58.629327Z"
    }
   },
   "execution_count": 17,
   "outputs": [
    {
     "name": "stdout",
     "output_type": "stream",
     "text": [
      "1\n",
      "5\n",
      "array([6, 3])\n"
     ]
    }
   ]
  },
  {
   "cell_type": "markdown",
   "source": [
    "B. **Slicing**"
   ],
   "metadata": {
    "id": "tpZp3jn-8DNR"
   }
  },
  {
   "cell_type": "code",
   "source": [
    "arr = np.array([1, 2, 3, 4, 5])\n",
    "print(repr(arr[:]))\n",
    "print(repr(arr[1:]))\n",
    "print(repr(arr[2:4]))\n",
    "print(repr(arr[:-1]))\n",
    "print(repr(arr[-2:]))"
   ],
   "metadata": {
    "colab": {
     "base_uri": "https://localhost:8080/"
    },
    "id": "T-qfpcy18EgI",
    "outputId": "afad7c36-2566-4c3b-d521-267960d16c81",
    "ExecuteTime": {
     "end_time": "2024-03-04T16:08:58.639643Z",
     "start_time": "2024-03-04T16:08:58.634502Z"
    }
   },
   "execution_count": 18,
   "outputs": [
    {
     "name": "stdout",
     "output_type": "stream",
     "text": [
      "array([1, 2, 3, 4, 5])\n",
      "array([2, 3, 4, 5])\n",
      "array([3, 4])\n",
      "array([1, 2, 3, 4])\n",
      "array([4, 5])\n"
     ]
    }
   ]
  },
  {
   "cell_type": "markdown",
   "source": [
    "C. Argmin and argmax"
   ],
   "metadata": {
    "id": "X34IW4Lu8Hpp"
   }
  },
  {
   "cell_type": "code",
   "source": [
    "arr = np.array([[-2, -1, -3],\n",
    "                [4, 5, -6],\n",
    "                [-3, 9, 1]])\n",
    "print(np.argmin(arr[0]))\n",
    "print(np.argmax(arr[2]))\n",
    "print(np.argmin(arr))"
   ],
   "metadata": {
    "colab": {
     "base_uri": "https://localhost:8080/"
    },
    "id": "LlzZGY8T8IOQ",
    "outputId": "a9cc8ffa-35d7-4b92-dd03-d0c1e84d5c52",
    "ExecuteTime": {
     "end_time": "2024-03-04T16:08:58.645368Z",
     "start_time": "2024-03-04T16:08:58.640687Z"
    }
   },
   "execution_count": 19,
   "outputs": [
    {
     "name": "stdout",
     "output_type": "stream",
     "text": [
      "2\n",
      "1\n",
      "5\n"
     ]
    }
   ]
  },
  {
   "cell_type": "markdown",
   "source": [
    "Filtering"
   ],
   "metadata": {
    "id": "9N1PAIMt8P6X"
   }
  },
  {
   "cell_type": "markdown",
   "source": [
    "A. Filtering data"
   ],
   "metadata": {
    "id": "S3tr3pKM8SNY"
   }
  },
  {
   "cell_type": "code",
   "source": [
    "arr = np.array([[0, 2, 3],\n",
    "                [1, 3, -6],\n",
    "                [-3, -2, 1]])\n",
    "print(repr(arr == 3))\n",
    "print(repr(arr > 0))\n",
    "print(repr(arr != 1))\n",
    "# Negated from the previous step\n",
    "print(repr(~(arr != 1)))"
   ],
   "metadata": {
    "colab": {
     "base_uri": "https://localhost:8080/"
    },
    "id": "luWfcmB58Qc4",
    "outputId": "d4e111ab-0ba5-4d71-ce03-37eaa478412d",
    "ExecuteTime": {
     "end_time": "2024-03-04T16:08:58.650977Z",
     "start_time": "2024-03-04T16:08:58.645368Z"
    }
   },
   "execution_count": 20,
   "outputs": [
    {
     "name": "stdout",
     "output_type": "stream",
     "text": [
      "array([[False, False,  True],\n",
      "       [False,  True, False],\n",
      "       [False, False, False]])\n",
      "array([[False,  True,  True],\n",
      "       [ True,  True, False],\n",
      "       [False, False,  True]])\n",
      "array([[ True,  True,  True],\n",
      "       [False,  True,  True],\n",
      "       [ True,  True, False]])\n",
      "array([[False, False, False],\n",
      "       [ True, False, False],\n",
      "       [False, False,  True]])\n"
     ]
    }
   ]
  },
  {
   "cell_type": "markdown",
   "source": [
    "# **Statistics**"
   ],
   "metadata": {
    "id": "pU1BbAA58pDf"
   }
  },
  {
   "cell_type": "markdown",
   "source": [
    "A. Analysis"
   ],
   "metadata": {
    "id": "VmfC0X_48rpe"
   }
  },
  {
   "cell_type": "code",
   "source": [
    "arr = np.array([[0, 72, 3],\n",
    "                [1, 3, -60],\n",
    "                [-3, -2, 4]])\n",
    "print(arr.min())\n",
    "print(arr.max())\n",
    "\n",
    "print(repr(arr.min(axis=0)))\n",
    "print(repr(arr.max(axis=-1)))"
   ],
   "metadata": {
    "colab": {
     "base_uri": "https://localhost:8080/"
    },
    "id": "oa42K9u48pno",
    "outputId": "effa3f82-75f3-41a5-d373-74bdca9fd3b3",
    "ExecuteTime": {
     "end_time": "2024-03-04T16:08:58.656859Z",
     "start_time": "2024-03-04T16:08:58.652056Z"
    }
   },
   "execution_count": 21,
   "outputs": [
    {
     "name": "stdout",
     "output_type": "stream",
     "text": [
      "-60\n",
      "72\n",
      "array([ -3,  -2, -60])\n",
      "array([72,  3,  4])\n"
     ]
    }
   ]
  },
  {
   "cell_type": "markdown",
   "source": [
    "B. Statistical metrics"
   ],
   "metadata": {
    "id": "npgv7-Mh8yBX"
   }
  },
  {
   "cell_type": "markdown",
   "source": [
    "NumPy also provides basic statistical functions such as np.mean, np.var, and np.median, to calculate the mean, variance, and median of the data, respectively.\n",
    "\n",
    "The code below shows how to obtain basic statistics with NumPy. Note that np.median applied without axis takes the median of the flattened array."
   ],
   "metadata": {
    "id": "iDzfVKP48zB3"
   }
  },
  {
   "cell_type": "code",
   "source": [
    "arr = np.array([[0, 72, 3],\n",
    "                [1, 3, -60],\n",
    "                [-3, -2, 4]])\n",
    "print(np.mean(arr))\n",
    "\n",
    "print(np.median(arr))\n",
    "print(repr(np.median(arr, axis=-1)))"
   ],
   "metadata": {
    "colab": {
     "base_uri": "https://localhost:8080/"
    },
    "id": "Q6jpqPgP81UH",
    "outputId": "feee259f-3b31-4663-a5d2-d35e68e710c6",
    "ExecuteTime": {
     "end_time": "2024-03-04T16:08:58.663027Z",
     "start_time": "2024-03-04T16:08:58.657949Z"
    }
   },
   "execution_count": 22,
   "outputs": [
    {
     "name": "stdout",
     "output_type": "stream",
     "text": [
      "2.0\n",
      "1.0\n",
      "array([ 3.,  1., -2.])\n"
     ]
    }
   ]
  },
  {
   "cell_type": "markdown",
   "source": [
    "B. Concatenation"
   ],
   "metadata": {
    "id": "SHb3OZNa8_Rh"
   }
  },
  {
   "cell_type": "code",
   "source": [
    "arr1 = np.array([[0, 72, 3],\n",
    "                 [1, 3, -60],\n",
    "                 [-3, -2, 4]])\n",
    "arr2 = np.array([[-15, 6, 1],\n",
    "                 [8, 9, -4],\n",
    "                 [5, -21, 18]])\n",
    "print(repr(np.concatenate([arr1, arr2])))\n",
    "print(repr(np.concatenate([arr1, arr2], axis=1)))\n",
    "print(repr(np.concatenate([arr2, arr1], axis=1)))"
   ],
   "metadata": {
    "colab": {
     "base_uri": "https://localhost:8080/"
    },
    "id": "qtM44f9p8_6Y",
    "outputId": "021a9c8a-7b7a-4e35-aa34-35d93c7bc9be",
    "ExecuteTime": {
     "end_time": "2024-03-04T16:08:58.668661Z",
     "start_time": "2024-03-04T16:08:58.664113Z"
    }
   },
   "execution_count": 23,
   "outputs": [
    {
     "name": "stdout",
     "output_type": "stream",
     "text": [
      "array([[  0,  72,   3],\n",
      "       [  1,   3, -60],\n",
      "       [ -3,  -2,   4],\n",
      "       [-15,   6,   1],\n",
      "       [  8,   9,  -4],\n",
      "       [  5, -21,  18]])\n",
      "array([[  0,  72,   3, -15,   6,   1],\n",
      "       [  1,   3, -60,   8,   9,  -4],\n",
      "       [ -3,  -2,   4,   5, -21,  18]])\n",
      "array([[-15,   6,   1,   0,  72,   3],\n",
      "       [  8,   9,  -4,   1,   3, -60],\n",
      "       [  5, -21,  18,  -3,  -2,   4]])\n"
     ]
    }
   ]
  },
  {
   "cell_type": "markdown",
   "source": [
    "Saving Data"
   ],
   "metadata": {
    "id": "XqOLUydO9ETJ"
   }
  },
  {
   "cell_type": "markdown",
   "source": [
    "A. Saving"
   ],
   "metadata": {
    "id": "e0z9IIeL9GQY"
   }
  },
  {
   "cell_type": "code",
   "source": [
    "arr = np.array([1, 2, 3])\n",
    "# Saves to 'arr.npy'\n",
    "np.save('arr.npy', arr)\n",
    "# Also saves to 'arr.npy'\n",
    "np.save('arr', arr)"
   ],
   "metadata": {
    "id": "YLJSCVHs9Ew_",
    "ExecuteTime": {
     "end_time": "2024-03-04T16:08:58.674831Z",
     "start_time": "2024-03-04T16:08:58.668661Z"
    }
   },
   "execution_count": 24,
   "outputs": []
  },
  {
   "cell_type": "markdown",
   "source": [
    "B. Loading"
   ],
   "metadata": {
    "id": "zNLUMRVR9Jy_"
   }
  },
  {
   "cell_type": "code",
   "source": [
    "arr = np.array([1, 2, 3])\n",
    "np.save('arr.npy', arr)\n",
    "load_arr = np.load('arr.npy')\n",
    "print(repr(load_arr))\n",
    "\n",
    "# Will result in a FileNotFoundError: If we uncomment line 7 and run again.\n",
    "#load_arr = np.load('arr')"
   ],
   "metadata": {
    "colab": {
     "base_uri": "https://localhost:8080/"
    },
    "id": "idfskuZ09Kc_",
    "outputId": "97b3fedb-8a4a-4021-ee9c-7399b1fdd3d6",
    "ExecuteTime": {
     "end_time": "2024-03-04T16:08:58.681522Z",
     "start_time": "2024-03-04T16:08:58.675947Z"
    }
   },
   "execution_count": 25,
   "outputs": [
    {
     "name": "stdout",
     "output_type": "stream",
     "text": [
      "array([1, 2, 3])\n"
     ]
    }
   ]
  },
  {
   "metadata": {},
   "cell_type": "code",
   "outputs": [],
   "execution_count": null,
   "source": ""
  }
 ]
}
