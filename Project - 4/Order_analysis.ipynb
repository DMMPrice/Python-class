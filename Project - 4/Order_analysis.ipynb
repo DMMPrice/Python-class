{
 "cells": [
  {
   "cell_type": "code",
   "id": "initial_id",
   "metadata": {
    "collapsed": true,
    "ExecuteTime": {
     "end_time": "2024-07-11T06:47:52.803701Z",
     "start_time": "2024-07-11T06:47:52.800864Z"
    }
   },
   "source": [
    "import numpy as np\n",
    "import pandas as pd\n",
    "import matplotlib.pyplot as plt\n",
    "import seaborn as sns"
   ],
   "outputs": [],
   "execution_count": 4
  },
  {
   "metadata": {
    "ExecuteTime": {
     "end_time": "2024-07-11T02:21:09.108005Z",
     "start_time": "2024-07-11T02:21:09.061165Z"
    }
   },
   "cell_type": "code",
   "source": [
    "# Load the data\n",
    "df = pd.read_csv('orders.csv')\n",
    "df"
   ],
   "id": "a5d443e2b3326e59",
   "outputs": [
    {
     "data": {
      "text/plain": [
       "             date  vendor_id  chain_id  city_id         spec  \\\n",
       "0      2019-07-02      40065      7501       23         Суши   \n",
       "1      2019-08-27      48058     33226       23       Шаурма   \n",
       "2      2019-09-25      35430     26220       25        Пицца   \n",
       "3      2019-09-21      56553     38601       23      Шашлыки   \n",
       "4      2019-09-21      43919     30984       25         Суши   \n",
       "...           ...        ...       ...      ...          ...   \n",
       "96113  2019-08-18      44315     31154       24         Суши   \n",
       "96114  2019-06-15      17528     11182       25        Пицца   \n",
       "96115  2019-08-19      45351     31679       23  Вьетнамская   \n",
       "96116  2019-09-26      64209     42525       25         Суши   \n",
       "96117  2019-09-06      34676     25567       26  Итальянская   \n",
       "\n",
       "       successful_orders  fail_orders  \n",
       "0                   54.0          1.0  \n",
       "1                    0.0          0.0  \n",
       "2                    2.0          0.0  \n",
       "3                    1.0          0.0  \n",
       "4                    6.0          0.0  \n",
       "...                  ...          ...  \n",
       "96113                2.0          0.0  \n",
       "96114               11.0          1.0  \n",
       "96115                1.0          0.0  \n",
       "96116                7.0          0.0  \n",
       "96117                1.0          0.0  \n",
       "\n",
       "[96118 rows x 7 columns]"
      ],
      "text/html": [
       "<div>\n",
       "<style scoped>\n",
       "    .dataframe tbody tr th:only-of-type {\n",
       "        vertical-align: middle;\n",
       "    }\n",
       "\n",
       "    .dataframe tbody tr th {\n",
       "        vertical-align: top;\n",
       "    }\n",
       "\n",
       "    .dataframe thead th {\n",
       "        text-align: right;\n",
       "    }\n",
       "</style>\n",
       "<table border=\"1\" class=\"dataframe\">\n",
       "  <thead>\n",
       "    <tr style=\"text-align: right;\">\n",
       "      <th></th>\n",
       "      <th>date</th>\n",
       "      <th>vendor_id</th>\n",
       "      <th>chain_id</th>\n",
       "      <th>city_id</th>\n",
       "      <th>spec</th>\n",
       "      <th>successful_orders</th>\n",
       "      <th>fail_orders</th>\n",
       "    </tr>\n",
       "  </thead>\n",
       "  <tbody>\n",
       "    <tr>\n",
       "      <th>0</th>\n",
       "      <td>2019-07-02</td>\n",
       "      <td>40065</td>\n",
       "      <td>7501</td>\n",
       "      <td>23</td>\n",
       "      <td>Суши</td>\n",
       "      <td>54.0</td>\n",
       "      <td>1.0</td>\n",
       "    </tr>\n",
       "    <tr>\n",
       "      <th>1</th>\n",
       "      <td>2019-08-27</td>\n",
       "      <td>48058</td>\n",
       "      <td>33226</td>\n",
       "      <td>23</td>\n",
       "      <td>Шаурма</td>\n",
       "      <td>0.0</td>\n",
       "      <td>0.0</td>\n",
       "    </tr>\n",
       "    <tr>\n",
       "      <th>2</th>\n",
       "      <td>2019-09-25</td>\n",
       "      <td>35430</td>\n",
       "      <td>26220</td>\n",
       "      <td>25</td>\n",
       "      <td>Пицца</td>\n",
       "      <td>2.0</td>\n",
       "      <td>0.0</td>\n",
       "    </tr>\n",
       "    <tr>\n",
       "      <th>3</th>\n",
       "      <td>2019-09-21</td>\n",
       "      <td>56553</td>\n",
       "      <td>38601</td>\n",
       "      <td>23</td>\n",
       "      <td>Шашлыки</td>\n",
       "      <td>1.0</td>\n",
       "      <td>0.0</td>\n",
       "    </tr>\n",
       "    <tr>\n",
       "      <th>4</th>\n",
       "      <td>2019-09-21</td>\n",
       "      <td>43919</td>\n",
       "      <td>30984</td>\n",
       "      <td>25</td>\n",
       "      <td>Суши</td>\n",
       "      <td>6.0</td>\n",
       "      <td>0.0</td>\n",
       "    </tr>\n",
       "    <tr>\n",
       "      <th>...</th>\n",
       "      <td>...</td>\n",
       "      <td>...</td>\n",
       "      <td>...</td>\n",
       "      <td>...</td>\n",
       "      <td>...</td>\n",
       "      <td>...</td>\n",
       "      <td>...</td>\n",
       "    </tr>\n",
       "    <tr>\n",
       "      <th>96113</th>\n",
       "      <td>2019-08-18</td>\n",
       "      <td>44315</td>\n",
       "      <td>31154</td>\n",
       "      <td>24</td>\n",
       "      <td>Суши</td>\n",
       "      <td>2.0</td>\n",
       "      <td>0.0</td>\n",
       "    </tr>\n",
       "    <tr>\n",
       "      <th>96114</th>\n",
       "      <td>2019-06-15</td>\n",
       "      <td>17528</td>\n",
       "      <td>11182</td>\n",
       "      <td>25</td>\n",
       "      <td>Пицца</td>\n",
       "      <td>11.0</td>\n",
       "      <td>1.0</td>\n",
       "    </tr>\n",
       "    <tr>\n",
       "      <th>96115</th>\n",
       "      <td>2019-08-19</td>\n",
       "      <td>45351</td>\n",
       "      <td>31679</td>\n",
       "      <td>23</td>\n",
       "      <td>Вьетнамская</td>\n",
       "      <td>1.0</td>\n",
       "      <td>0.0</td>\n",
       "    </tr>\n",
       "    <tr>\n",
       "      <th>96116</th>\n",
       "      <td>2019-09-26</td>\n",
       "      <td>64209</td>\n",
       "      <td>42525</td>\n",
       "      <td>25</td>\n",
       "      <td>Суши</td>\n",
       "      <td>7.0</td>\n",
       "      <td>0.0</td>\n",
       "    </tr>\n",
       "    <tr>\n",
       "      <th>96117</th>\n",
       "      <td>2019-09-06</td>\n",
       "      <td>34676</td>\n",
       "      <td>25567</td>\n",
       "      <td>26</td>\n",
       "      <td>Итальянская</td>\n",
       "      <td>1.0</td>\n",
       "      <td>0.0</td>\n",
       "    </tr>\n",
       "  </tbody>\n",
       "</table>\n",
       "<p>96118 rows × 7 columns</p>\n",
       "</div>"
      ]
     },
     "execution_count": 2,
     "metadata": {},
     "output_type": "execute_result"
    }
   ],
   "execution_count": 2
  },
  {
   "metadata": {
    "ExecuteTime": {
     "end_time": "2024-07-11T02:21:47.771943Z",
     "start_time": "2024-07-11T02:21:47.767279Z"
    }
   },
   "cell_type": "code",
   "source": "df['city_id'].value_counts()",
   "id": "f854602073e33d09",
   "outputs": [
    {
     "data": {
      "text/plain": [
       "city_id\n",
       "23    32995\n",
       "25    24276\n",
       "26    21533\n",
       "24    17314\n",
       "Name: count, dtype: int64"
      ]
     },
     "execution_count": 3,
     "metadata": {},
     "output_type": "execute_result"
    }
   ],
   "execution_count": 3
  },
  {
   "metadata": {
    "ExecuteTime": {
     "end_time": "2024-07-11T02:22:38.327736Z",
     "start_time": "2024-07-11T02:22:38.316086Z"
    }
   },
   "cell_type": "code",
   "source": "df['date'] = pd.to_datetime(df['date'])",
   "id": "def1d26e474057f1",
   "outputs": [],
   "execution_count": 4
  },
  {
   "metadata": {
    "ExecuteTime": {
     "end_time": "2024-07-11T02:22:46.178812Z",
     "start_time": "2024-07-11T02:22:46.174022Z"
    }
   },
   "cell_type": "code",
   "source": "df.head()",
   "id": "b13c0c0b87c736ee",
   "outputs": [
    {
     "data": {
      "text/plain": [
       "        date  vendor_id  chain_id  city_id     spec  successful_orders  \\\n",
       "0 2019-07-02      40065      7501       23     Суши               54.0   \n",
       "1 2019-08-27      48058     33226       23   Шаурма                0.0   \n",
       "2 2019-09-25      35430     26220       25    Пицца                2.0   \n",
       "3 2019-09-21      56553     38601       23  Шашлыки                1.0   \n",
       "4 2019-09-21      43919     30984       25     Суши                6.0   \n",
       "\n",
       "   fail_orders  \n",
       "0          1.0  \n",
       "1          0.0  \n",
       "2          0.0  \n",
       "3          0.0  \n",
       "4          0.0  "
      ],
      "text/html": [
       "<div>\n",
       "<style scoped>\n",
       "    .dataframe tbody tr th:only-of-type {\n",
       "        vertical-align: middle;\n",
       "    }\n",
       "\n",
       "    .dataframe tbody tr th {\n",
       "        vertical-align: top;\n",
       "    }\n",
       "\n",
       "    .dataframe thead th {\n",
       "        text-align: right;\n",
       "    }\n",
       "</style>\n",
       "<table border=\"1\" class=\"dataframe\">\n",
       "  <thead>\n",
       "    <tr style=\"text-align: right;\">\n",
       "      <th></th>\n",
       "      <th>date</th>\n",
       "      <th>vendor_id</th>\n",
       "      <th>chain_id</th>\n",
       "      <th>city_id</th>\n",
       "      <th>spec</th>\n",
       "      <th>successful_orders</th>\n",
       "      <th>fail_orders</th>\n",
       "    </tr>\n",
       "  </thead>\n",
       "  <tbody>\n",
       "    <tr>\n",
       "      <th>0</th>\n",
       "      <td>2019-07-02</td>\n",
       "      <td>40065</td>\n",
       "      <td>7501</td>\n",
       "      <td>23</td>\n",
       "      <td>Суши</td>\n",
       "      <td>54.0</td>\n",
       "      <td>1.0</td>\n",
       "    </tr>\n",
       "    <tr>\n",
       "      <th>1</th>\n",
       "      <td>2019-08-27</td>\n",
       "      <td>48058</td>\n",
       "      <td>33226</td>\n",
       "      <td>23</td>\n",
       "      <td>Шаурма</td>\n",
       "      <td>0.0</td>\n",
       "      <td>0.0</td>\n",
       "    </tr>\n",
       "    <tr>\n",
       "      <th>2</th>\n",
       "      <td>2019-09-25</td>\n",
       "      <td>35430</td>\n",
       "      <td>26220</td>\n",
       "      <td>25</td>\n",
       "      <td>Пицца</td>\n",
       "      <td>2.0</td>\n",
       "      <td>0.0</td>\n",
       "    </tr>\n",
       "    <tr>\n",
       "      <th>3</th>\n",
       "      <td>2019-09-21</td>\n",
       "      <td>56553</td>\n",
       "      <td>38601</td>\n",
       "      <td>23</td>\n",
       "      <td>Шашлыки</td>\n",
       "      <td>1.0</td>\n",
       "      <td>0.0</td>\n",
       "    </tr>\n",
       "    <tr>\n",
       "      <th>4</th>\n",
       "      <td>2019-09-21</td>\n",
       "      <td>43919</td>\n",
       "      <td>30984</td>\n",
       "      <td>25</td>\n",
       "      <td>Суши</td>\n",
       "      <td>6.0</td>\n",
       "      <td>0.0</td>\n",
       "    </tr>\n",
       "  </tbody>\n",
       "</table>\n",
       "</div>"
      ]
     },
     "execution_count": 5,
     "metadata": {},
     "output_type": "execute_result"
    }
   ],
   "execution_count": 5
  },
  {
   "metadata": {
    "ExecuteTime": {
     "end_time": "2024-07-11T05:46:00.073916Z",
     "start_time": "2024-07-11T05:45:59.624283Z"
    }
   },
   "cell_type": "code",
   "source": [
    "from deep_translator import GoogleTranslator\n",
    "to_translate = 'Суши'\n",
    "translated = GoogleTranslator(source='auto', target='english').translate(to_translate)\n",
    "translated"
   ],
   "id": "f7e3fedabba70e49",
   "outputs": [
    {
     "data": {
      "text/plain": [
       "'Sushi'"
      ]
     },
     "execution_count": 1,
     "metadata": {},
     "output_type": "execute_result"
    }
   ],
   "execution_count": 1
  },
  {
   "metadata": {
    "ExecuteTime": {
     "end_time": "2024-07-11T02:27:55.505306Z",
     "start_time": "2024-07-11T02:27:55.503038Z"
    }
   },
   "cell_type": "code",
   "source": [
    "def translate_category(spec):\n",
    "    return GoogleTranslator(source='auto', target='english').translate(spec)"
   ],
   "id": "845c8253ecef97f6",
   "outputs": [],
   "execution_count": 9
  },
  {
   "metadata": {
    "ExecuteTime": {
     "end_time": "2024-07-11T02:29:46.658328Z",
     "start_time": "2024-07-11T02:29:46.653122Z"
    }
   },
   "cell_type": "code",
   "source": "df['spec'].unique()",
   "id": "3794bf422104a5e0",
   "outputs": [
    {
     "data": {
      "text/plain": [
       "array(['Суши', 'Шаурма', 'Пицца', 'Шашлыки', 'Грузинская', 'Бургеры',\n",
       "       'Русская', 'Мясо', 'Вьетнамская', 'Сэндвичи', 'Обеды',\n",
       "       'Паназиатская', 'Рыба', 'Пироги', 'Кофе и чай', 'Выпечка',\n",
       "       'Десерты', 'Китайская', 'Здоровая еда', 'Итальянская', nan,\n",
       "       'Фастфуд', 'Узбекская', 'Мексиканская', 'Японская', 'Супы',\n",
       "       'Паста и ризотто', 'Завтраки', 'Хот-доги', 'Хумус', 'Индийская',\n",
       "       'Корейская', 'Вегетарианское меню', 'Гирос', 'Халяль', 'Хинкали'],\n",
       "      dtype=object)"
      ]
     },
     "execution_count": 12,
     "metadata": {},
     "output_type": "execute_result"
    }
   ],
   "execution_count": 12
  },
  {
   "metadata": {
    "ExecuteTime": {
     "end_time": "2024-07-11T02:31:15.791641Z",
     "start_time": "2024-07-11T02:31:15.783321Z"
    }
   },
   "cell_type": "code",
   "source": [
    "df_2000=df.head(2000)\n",
    "df_2000"
   ],
   "id": "3d6dfea75582b87b",
   "outputs": [
    {
     "data": {
      "text/plain": [
       "           date  vendor_id  chain_id  city_id     spec  successful_orders  \\\n",
       "0    2019-07-02      40065      7501       23     Суши               54.0   \n",
       "1    2019-08-27      48058     33226       23   Шаурма                0.0   \n",
       "2    2019-09-25      35430     26220       25    Пицца                2.0   \n",
       "3    2019-09-21      56553     38601       23  Шашлыки                1.0   \n",
       "4    2019-09-21      43919     30984       25     Суши                6.0   \n",
       "...         ...        ...       ...      ...      ...                ...   \n",
       "1995 2019-08-24      63852     42352       23    Пицца                1.0   \n",
       "1996 2019-08-02      59228     31712       26  Выпечка                1.0   \n",
       "1997 2019-09-07      11486      6861       25     Суши                8.0   \n",
       "1998 2019-07-10      24152     16039       23    Пицца               21.0   \n",
       "1999 2019-07-16      66076     42616       25  Русская                4.0   \n",
       "\n",
       "      fail_orders  \n",
       "0             1.0  \n",
       "1             0.0  \n",
       "2             0.0  \n",
       "3             0.0  \n",
       "4             0.0  \n",
       "...           ...  \n",
       "1995          0.0  \n",
       "1996          1.0  \n",
       "1997          0.0  \n",
       "1998          0.0  \n",
       "1999          0.0  \n",
       "\n",
       "[2000 rows x 7 columns]"
      ],
      "text/html": [
       "<div>\n",
       "<style scoped>\n",
       "    .dataframe tbody tr th:only-of-type {\n",
       "        vertical-align: middle;\n",
       "    }\n",
       "\n",
       "    .dataframe tbody tr th {\n",
       "        vertical-align: top;\n",
       "    }\n",
       "\n",
       "    .dataframe thead th {\n",
       "        text-align: right;\n",
       "    }\n",
       "</style>\n",
       "<table border=\"1\" class=\"dataframe\">\n",
       "  <thead>\n",
       "    <tr style=\"text-align: right;\">\n",
       "      <th></th>\n",
       "      <th>date</th>\n",
       "      <th>vendor_id</th>\n",
       "      <th>chain_id</th>\n",
       "      <th>city_id</th>\n",
       "      <th>spec</th>\n",
       "      <th>successful_orders</th>\n",
       "      <th>fail_orders</th>\n",
       "    </tr>\n",
       "  </thead>\n",
       "  <tbody>\n",
       "    <tr>\n",
       "      <th>0</th>\n",
       "      <td>2019-07-02</td>\n",
       "      <td>40065</td>\n",
       "      <td>7501</td>\n",
       "      <td>23</td>\n",
       "      <td>Суши</td>\n",
       "      <td>54.0</td>\n",
       "      <td>1.0</td>\n",
       "    </tr>\n",
       "    <tr>\n",
       "      <th>1</th>\n",
       "      <td>2019-08-27</td>\n",
       "      <td>48058</td>\n",
       "      <td>33226</td>\n",
       "      <td>23</td>\n",
       "      <td>Шаурма</td>\n",
       "      <td>0.0</td>\n",
       "      <td>0.0</td>\n",
       "    </tr>\n",
       "    <tr>\n",
       "      <th>2</th>\n",
       "      <td>2019-09-25</td>\n",
       "      <td>35430</td>\n",
       "      <td>26220</td>\n",
       "      <td>25</td>\n",
       "      <td>Пицца</td>\n",
       "      <td>2.0</td>\n",
       "      <td>0.0</td>\n",
       "    </tr>\n",
       "    <tr>\n",
       "      <th>3</th>\n",
       "      <td>2019-09-21</td>\n",
       "      <td>56553</td>\n",
       "      <td>38601</td>\n",
       "      <td>23</td>\n",
       "      <td>Шашлыки</td>\n",
       "      <td>1.0</td>\n",
       "      <td>0.0</td>\n",
       "    </tr>\n",
       "    <tr>\n",
       "      <th>4</th>\n",
       "      <td>2019-09-21</td>\n",
       "      <td>43919</td>\n",
       "      <td>30984</td>\n",
       "      <td>25</td>\n",
       "      <td>Суши</td>\n",
       "      <td>6.0</td>\n",
       "      <td>0.0</td>\n",
       "    </tr>\n",
       "    <tr>\n",
       "      <th>...</th>\n",
       "      <td>...</td>\n",
       "      <td>...</td>\n",
       "      <td>...</td>\n",
       "      <td>...</td>\n",
       "      <td>...</td>\n",
       "      <td>...</td>\n",
       "      <td>...</td>\n",
       "    </tr>\n",
       "    <tr>\n",
       "      <th>1995</th>\n",
       "      <td>2019-08-24</td>\n",
       "      <td>63852</td>\n",
       "      <td>42352</td>\n",
       "      <td>23</td>\n",
       "      <td>Пицца</td>\n",
       "      <td>1.0</td>\n",
       "      <td>0.0</td>\n",
       "    </tr>\n",
       "    <tr>\n",
       "      <th>1996</th>\n",
       "      <td>2019-08-02</td>\n",
       "      <td>59228</td>\n",
       "      <td>31712</td>\n",
       "      <td>26</td>\n",
       "      <td>Выпечка</td>\n",
       "      <td>1.0</td>\n",
       "      <td>1.0</td>\n",
       "    </tr>\n",
       "    <tr>\n",
       "      <th>1997</th>\n",
       "      <td>2019-09-07</td>\n",
       "      <td>11486</td>\n",
       "      <td>6861</td>\n",
       "      <td>25</td>\n",
       "      <td>Суши</td>\n",
       "      <td>8.0</td>\n",
       "      <td>0.0</td>\n",
       "    </tr>\n",
       "    <tr>\n",
       "      <th>1998</th>\n",
       "      <td>2019-07-10</td>\n",
       "      <td>24152</td>\n",
       "      <td>16039</td>\n",
       "      <td>23</td>\n",
       "      <td>Пицца</td>\n",
       "      <td>21.0</td>\n",
       "      <td>0.0</td>\n",
       "    </tr>\n",
       "    <tr>\n",
       "      <th>1999</th>\n",
       "      <td>2019-07-16</td>\n",
       "      <td>66076</td>\n",
       "      <td>42616</td>\n",
       "      <td>25</td>\n",
       "      <td>Русская</td>\n",
       "      <td>4.0</td>\n",
       "      <td>0.0</td>\n",
       "    </tr>\n",
       "  </tbody>\n",
       "</table>\n",
       "<p>2000 rows × 7 columns</p>\n",
       "</div>"
      ]
     },
     "execution_count": 16,
     "metadata": {},
     "output_type": "execute_result"
    }
   ],
   "execution_count": 16
  },
  {
   "metadata": {
    "ExecuteTime": {
     "end_time": "2024-07-11T02:39:14.520880Z",
     "start_time": "2024-07-11T02:39:14.516160Z"
    }
   },
   "cell_type": "code",
   "source": "df_2000.isnull().sum()",
   "id": "192e97febb616063",
   "outputs": [
    {
     "data": {
      "text/plain": [
       "date                  0\n",
       "vendor_id             0\n",
       "chain_id              0\n",
       "city_id               0\n",
       "spec                 11\n",
       "successful_orders     0\n",
       "fail_orders           0\n",
       "dtype: int64"
      ]
     },
     "execution_count": 24,
     "metadata": {},
     "output_type": "execute_result"
    }
   ],
   "execution_count": 24
  },
  {
   "metadata": {
    "ExecuteTime": {
     "end_time": "2024-07-11T02:34:24.892809Z",
     "start_time": "2024-07-11T02:34:24.888145Z"
    }
   },
   "cell_type": "code",
   "source": [
    "spec=df_2000['spec'].dropna().unique().tolist()\n",
    "spec"
   ],
   "id": "c9c14fbfabb7572c",
   "outputs": [
    {
     "data": {
      "text/plain": [
       "['Суши',\n",
       " 'Шаурма',\n",
       " 'Пицца',\n",
       " 'Шашлыки',\n",
       " 'Грузинская',\n",
       " 'Бургеры',\n",
       " 'Русская',\n",
       " 'Мясо',\n",
       " 'Вьетнамская',\n",
       " 'Сэндвичи',\n",
       " 'Обеды',\n",
       " 'Паназиатская',\n",
       " 'Рыба',\n",
       " 'Пироги',\n",
       " 'Кофе и чай',\n",
       " 'Выпечка',\n",
       " 'Десерты',\n",
       " 'Китайская',\n",
       " 'Здоровая еда',\n",
       " 'Итальянская',\n",
       " 'Фастфуд',\n",
       " 'Узбекская',\n",
       " 'Мексиканская',\n",
       " 'Японская',\n",
       " 'Супы',\n",
       " 'Паста и ризотто',\n",
       " 'Завтраки',\n",
       " 'Хот-доги',\n",
       " 'Хумус',\n",
       " 'Индийская',\n",
       " 'Корейская',\n",
       " 'Вегетарианское меню']"
      ]
     },
     "execution_count": 20,
     "metadata": {},
     "output_type": "execute_result"
    }
   ],
   "execution_count": 20
  },
  {
   "metadata": {
    "ExecuteTime": {
     "end_time": "2024-07-11T02:54:14.774290Z",
     "start_time": "2024-07-11T02:54:14.769147Z"
    }
   },
   "cell_type": "code",
   "source": [
    "df_5=df_2000.head(5)\n",
    "df_5"
   ],
   "id": "fb013bc5addb664a",
   "outputs": [
    {
     "data": {
      "text/plain": [
       "        date  vendor_id  chain_id  city_id      spec  successful_orders  \\\n",
       "0 2019-07-02      40065      7501       23     Sushi               54.0   \n",
       "1 2019-08-27      48058     33226       23  Shawarma                0.0   \n",
       "2 2019-09-25      35430     26220       25     Pizza                2.0   \n",
       "3 2019-09-21      56553     38601       23    Kebabs                1.0   \n",
       "4 2019-09-21      43919     30984       25     Sushi                6.0   \n",
       "\n",
       "   fail_orders  \n",
       "0          1.0  \n",
       "1          0.0  \n",
       "2          0.0  \n",
       "3          0.0  \n",
       "4          0.0  "
      ],
      "text/html": [
       "<div>\n",
       "<style scoped>\n",
       "    .dataframe tbody tr th:only-of-type {\n",
       "        vertical-align: middle;\n",
       "    }\n",
       "\n",
       "    .dataframe tbody tr th {\n",
       "        vertical-align: top;\n",
       "    }\n",
       "\n",
       "    .dataframe thead th {\n",
       "        text-align: right;\n",
       "    }\n",
       "</style>\n",
       "<table border=\"1\" class=\"dataframe\">\n",
       "  <thead>\n",
       "    <tr style=\"text-align: right;\">\n",
       "      <th></th>\n",
       "      <th>date</th>\n",
       "      <th>vendor_id</th>\n",
       "      <th>chain_id</th>\n",
       "      <th>city_id</th>\n",
       "      <th>spec</th>\n",
       "      <th>successful_orders</th>\n",
       "      <th>fail_orders</th>\n",
       "    </tr>\n",
       "  </thead>\n",
       "  <tbody>\n",
       "    <tr>\n",
       "      <th>0</th>\n",
       "      <td>2019-07-02</td>\n",
       "      <td>40065</td>\n",
       "      <td>7501</td>\n",
       "      <td>23</td>\n",
       "      <td>Sushi</td>\n",
       "      <td>54.0</td>\n",
       "      <td>1.0</td>\n",
       "    </tr>\n",
       "    <tr>\n",
       "      <th>1</th>\n",
       "      <td>2019-08-27</td>\n",
       "      <td>48058</td>\n",
       "      <td>33226</td>\n",
       "      <td>23</td>\n",
       "      <td>Shawarma</td>\n",
       "      <td>0.0</td>\n",
       "      <td>0.0</td>\n",
       "    </tr>\n",
       "    <tr>\n",
       "      <th>2</th>\n",
       "      <td>2019-09-25</td>\n",
       "      <td>35430</td>\n",
       "      <td>26220</td>\n",
       "      <td>25</td>\n",
       "      <td>Pizza</td>\n",
       "      <td>2.0</td>\n",
       "      <td>0.0</td>\n",
       "    </tr>\n",
       "    <tr>\n",
       "      <th>3</th>\n",
       "      <td>2019-09-21</td>\n",
       "      <td>56553</td>\n",
       "      <td>38601</td>\n",
       "      <td>23</td>\n",
       "      <td>Kebabs</td>\n",
       "      <td>1.0</td>\n",
       "      <td>0.0</td>\n",
       "    </tr>\n",
       "    <tr>\n",
       "      <th>4</th>\n",
       "      <td>2019-09-21</td>\n",
       "      <td>43919</td>\n",
       "      <td>30984</td>\n",
       "      <td>25</td>\n",
       "      <td>Sushi</td>\n",
       "      <td>6.0</td>\n",
       "      <td>0.0</td>\n",
       "    </tr>\n",
       "  </tbody>\n",
       "</table>\n",
       "</div>"
      ]
     },
     "execution_count": 27,
     "metadata": {},
     "output_type": "execute_result"
    }
   ],
   "execution_count": 27
  },
  {
   "metadata": {
    "ExecuteTime": {
     "end_time": "2024-07-11T02:39:36.891245Z",
     "start_time": "2024-07-11T02:39:36.888161Z"
    }
   },
   "cell_type": "code",
   "source": [
    "# Filling the missing values in spec column with 'Random Values'\n",
    "df_2000['spec'].fillna('Random Values', inplace=True)\n",
    "df_2000.isnull().sum()"
   ],
   "id": "4d2beac662e37e9c",
   "outputs": [
    {
     "name": "stderr",
     "output_type": "stream",
     "text": [
      "/var/folders/bd/tsbt311j74dd9vr3q6pjs6x80000gn/T/ipykernel_30118/3323717059.py:2: SettingWithCopyWarning: \n",
      "A value is trying to be set on a copy of a slice from a DataFrame\n",
      "\n",
      "See the caveats in the documentation: https://pandas.pydata.org/pandas-docs/stable/user_guide/indexing.html#returning-a-view-versus-a-copy\n",
      "  df_2000['spec'].fillna('Random Values', inplace=True)\n"
     ]
    },
    {
     "data": {
      "text/plain": [
       "date                 0\n",
       "vendor_id            0\n",
       "chain_id             0\n",
       "city_id              0\n",
       "spec                 0\n",
       "successful_orders    0\n",
       "fail_orders          0\n",
       "dtype: int64"
      ]
     },
     "execution_count": 25,
     "metadata": {},
     "output_type": "execute_result"
    }
   ],
   "execution_count": 25
  },
  {
   "metadata": {
    "ExecuteTime": {
     "end_time": "2024-07-11T02:54:14.767645Z",
     "start_time": "2024-07-11T02:39:56.997412Z"
    }
   },
   "cell_type": "code",
   "source": [
    "df_2000['spec'] = df_2000['spec'].apply(translate_category)\n",
    "#df_2000.loc[:, 'spec'] = df_2000['spec'].apply(translate_category)"
   ],
   "id": "654bfbeb21b8cb84",
   "outputs": [
    {
     "name": "stderr",
     "output_type": "stream",
     "text": [
      "/var/folders/bd/tsbt311j74dd9vr3q6pjs6x80000gn/T/ipykernel_30118/3758493751.py:1: SettingWithCopyWarning: \n",
      "A value is trying to be set on a copy of a slice from a DataFrame.\n",
      "Try using .loc[row_indexer,col_indexer] = value instead\n",
      "\n",
      "See the caveats in the documentation: https://pandas.pydata.org/pandas-docs/stable/user_guide/indexing.html#returning-a-view-versus-a-copy\n",
      "  df_2000['spec'] = df_2000['spec'].apply(translate_category)\n"
     ]
    }
   ],
   "execution_count": 26
  },
  {
   "metadata": {
    "ExecuteTime": {
     "end_time": "2024-07-11T02:54:51.054604Z",
     "start_time": "2024-07-11T02:54:51.048335Z"
    }
   },
   "cell_type": "code",
   "source": "df_2000",
   "id": "54ca21d5351d2f89",
   "outputs": [
    {
     "data": {
      "text/plain": [
       "           date  vendor_id  chain_id  city_id      spec  successful_orders  \\\n",
       "0    2019-07-02      40065      7501       23     Sushi               54.0   \n",
       "1    2019-08-27      48058     33226       23  Shawarma                0.0   \n",
       "2    2019-09-25      35430     26220       25     Pizza                2.0   \n",
       "3    2019-09-21      56553     38601       23    Kebabs                1.0   \n",
       "4    2019-09-21      43919     30984       25     Sushi                6.0   \n",
       "...         ...        ...       ...      ...       ...                ...   \n",
       "1995 2019-08-24      63852     42352       23     Pizza                1.0   \n",
       "1996 2019-08-02      59228     31712       26    Baking                1.0   \n",
       "1997 2019-09-07      11486      6861       25     Sushi                8.0   \n",
       "1998 2019-07-10      24152     16039       23     Pizza               21.0   \n",
       "1999 2019-07-16      66076     42616       25   Russian                4.0   \n",
       "\n",
       "      fail_orders  \n",
       "0             1.0  \n",
       "1             0.0  \n",
       "2             0.0  \n",
       "3             0.0  \n",
       "4             0.0  \n",
       "...           ...  \n",
       "1995          0.0  \n",
       "1996          1.0  \n",
       "1997          0.0  \n",
       "1998          0.0  \n",
       "1999          0.0  \n",
       "\n",
       "[2000 rows x 7 columns]"
      ],
      "text/html": [
       "<div>\n",
       "<style scoped>\n",
       "    .dataframe tbody tr th:only-of-type {\n",
       "        vertical-align: middle;\n",
       "    }\n",
       "\n",
       "    .dataframe tbody tr th {\n",
       "        vertical-align: top;\n",
       "    }\n",
       "\n",
       "    .dataframe thead th {\n",
       "        text-align: right;\n",
       "    }\n",
       "</style>\n",
       "<table border=\"1\" class=\"dataframe\">\n",
       "  <thead>\n",
       "    <tr style=\"text-align: right;\">\n",
       "      <th></th>\n",
       "      <th>date</th>\n",
       "      <th>vendor_id</th>\n",
       "      <th>chain_id</th>\n",
       "      <th>city_id</th>\n",
       "      <th>spec</th>\n",
       "      <th>successful_orders</th>\n",
       "      <th>fail_orders</th>\n",
       "    </tr>\n",
       "  </thead>\n",
       "  <tbody>\n",
       "    <tr>\n",
       "      <th>0</th>\n",
       "      <td>2019-07-02</td>\n",
       "      <td>40065</td>\n",
       "      <td>7501</td>\n",
       "      <td>23</td>\n",
       "      <td>Sushi</td>\n",
       "      <td>54.0</td>\n",
       "      <td>1.0</td>\n",
       "    </tr>\n",
       "    <tr>\n",
       "      <th>1</th>\n",
       "      <td>2019-08-27</td>\n",
       "      <td>48058</td>\n",
       "      <td>33226</td>\n",
       "      <td>23</td>\n",
       "      <td>Shawarma</td>\n",
       "      <td>0.0</td>\n",
       "      <td>0.0</td>\n",
       "    </tr>\n",
       "    <tr>\n",
       "      <th>2</th>\n",
       "      <td>2019-09-25</td>\n",
       "      <td>35430</td>\n",
       "      <td>26220</td>\n",
       "      <td>25</td>\n",
       "      <td>Pizza</td>\n",
       "      <td>2.0</td>\n",
       "      <td>0.0</td>\n",
       "    </tr>\n",
       "    <tr>\n",
       "      <th>3</th>\n",
       "      <td>2019-09-21</td>\n",
       "      <td>56553</td>\n",
       "      <td>38601</td>\n",
       "      <td>23</td>\n",
       "      <td>Kebabs</td>\n",
       "      <td>1.0</td>\n",
       "      <td>0.0</td>\n",
       "    </tr>\n",
       "    <tr>\n",
       "      <th>4</th>\n",
       "      <td>2019-09-21</td>\n",
       "      <td>43919</td>\n",
       "      <td>30984</td>\n",
       "      <td>25</td>\n",
       "      <td>Sushi</td>\n",
       "      <td>6.0</td>\n",
       "      <td>0.0</td>\n",
       "    </tr>\n",
       "    <tr>\n",
       "      <th>...</th>\n",
       "      <td>...</td>\n",
       "      <td>...</td>\n",
       "      <td>...</td>\n",
       "      <td>...</td>\n",
       "      <td>...</td>\n",
       "      <td>...</td>\n",
       "      <td>...</td>\n",
       "    </tr>\n",
       "    <tr>\n",
       "      <th>1995</th>\n",
       "      <td>2019-08-24</td>\n",
       "      <td>63852</td>\n",
       "      <td>42352</td>\n",
       "      <td>23</td>\n",
       "      <td>Pizza</td>\n",
       "      <td>1.0</td>\n",
       "      <td>0.0</td>\n",
       "    </tr>\n",
       "    <tr>\n",
       "      <th>1996</th>\n",
       "      <td>2019-08-02</td>\n",
       "      <td>59228</td>\n",
       "      <td>31712</td>\n",
       "      <td>26</td>\n",
       "      <td>Baking</td>\n",
       "      <td>1.0</td>\n",
       "      <td>1.0</td>\n",
       "    </tr>\n",
       "    <tr>\n",
       "      <th>1997</th>\n",
       "      <td>2019-09-07</td>\n",
       "      <td>11486</td>\n",
       "      <td>6861</td>\n",
       "      <td>25</td>\n",
       "      <td>Sushi</td>\n",
       "      <td>8.0</td>\n",
       "      <td>0.0</td>\n",
       "    </tr>\n",
       "    <tr>\n",
       "      <th>1998</th>\n",
       "      <td>2019-07-10</td>\n",
       "      <td>24152</td>\n",
       "      <td>16039</td>\n",
       "      <td>23</td>\n",
       "      <td>Pizza</td>\n",
       "      <td>21.0</td>\n",
       "      <td>0.0</td>\n",
       "    </tr>\n",
       "    <tr>\n",
       "      <th>1999</th>\n",
       "      <td>2019-07-16</td>\n",
       "      <td>66076</td>\n",
       "      <td>42616</td>\n",
       "      <td>25</td>\n",
       "      <td>Russian</td>\n",
       "      <td>4.0</td>\n",
       "      <td>0.0</td>\n",
       "    </tr>\n",
       "  </tbody>\n",
       "</table>\n",
       "<p>2000 rows × 7 columns</p>\n",
       "</div>"
      ]
     },
     "execution_count": 28,
     "metadata": {},
     "output_type": "execute_result"
    }
   ],
   "execution_count": 28
  },
  {
   "metadata": {
    "ExecuteTime": {
     "end_time": "2024-07-11T02:56:22.536575Z",
     "start_time": "2024-07-11T02:56:22.527007Z"
    }
   },
   "cell_type": "code",
   "source": "df_2000.to_csv('translated_orders.csv', index=False)",
   "id": "9ec54be883ce1b11",
   "outputs": [],
   "execution_count": 30
  },
  {
   "metadata": {
    "ExecuteTime": {
     "end_time": "2024-07-11T06:47:59.195041Z",
     "start_time": "2024-07-11T06:47:59.169605Z"
    }
   },
   "cell_type": "code",
   "source": [
    "translated_df = pd.read_csv('translated_orders.csv')\n",
    "translated_df"
   ],
   "id": "89d4c3f6e9b20d19",
   "outputs": [
    {
     "data": {
      "text/plain": [
       "            date  vendor_id  chain_id  city_id      spec  successful_orders  \\\n",
       "0     2019-07-02      40065      7501       23     Sushi               54.0   \n",
       "1     2019-08-27      48058     33226       23  Shawarma                0.0   \n",
       "2     2019-09-25      35430     26220       25     Pizza                2.0   \n",
       "3     2019-09-21      56553     38601       23    Kebabs                1.0   \n",
       "4     2019-09-21      43919     30984       25     Sushi                6.0   \n",
       "...          ...        ...       ...      ...       ...                ...   \n",
       "1995  2019-08-24      63852     42352       23     Pizza                1.0   \n",
       "1996  2019-08-02      59228     31712       26    Baking                1.0   \n",
       "1997  2019-09-07      11486      6861       25     Sushi                8.0   \n",
       "1998  2019-07-10      24152     16039       23     Pizza               21.0   \n",
       "1999  2019-07-16      66076     42616       25   Russian                4.0   \n",
       "\n",
       "      fail_orders  \n",
       "0             1.0  \n",
       "1             0.0  \n",
       "2             0.0  \n",
       "3             0.0  \n",
       "4             0.0  \n",
       "...           ...  \n",
       "1995          0.0  \n",
       "1996          1.0  \n",
       "1997          0.0  \n",
       "1998          0.0  \n",
       "1999          0.0  \n",
       "\n",
       "[2000 rows x 7 columns]"
      ],
      "text/html": [
       "<div>\n",
       "<style scoped>\n",
       "    .dataframe tbody tr th:only-of-type {\n",
       "        vertical-align: middle;\n",
       "    }\n",
       "\n",
       "    .dataframe tbody tr th {\n",
       "        vertical-align: top;\n",
       "    }\n",
       "\n",
       "    .dataframe thead th {\n",
       "        text-align: right;\n",
       "    }\n",
       "</style>\n",
       "<table border=\"1\" class=\"dataframe\">\n",
       "  <thead>\n",
       "    <tr style=\"text-align: right;\">\n",
       "      <th></th>\n",
       "      <th>date</th>\n",
       "      <th>vendor_id</th>\n",
       "      <th>chain_id</th>\n",
       "      <th>city_id</th>\n",
       "      <th>spec</th>\n",
       "      <th>successful_orders</th>\n",
       "      <th>fail_orders</th>\n",
       "    </tr>\n",
       "  </thead>\n",
       "  <tbody>\n",
       "    <tr>\n",
       "      <th>0</th>\n",
       "      <td>2019-07-02</td>\n",
       "      <td>40065</td>\n",
       "      <td>7501</td>\n",
       "      <td>23</td>\n",
       "      <td>Sushi</td>\n",
       "      <td>54.0</td>\n",
       "      <td>1.0</td>\n",
       "    </tr>\n",
       "    <tr>\n",
       "      <th>1</th>\n",
       "      <td>2019-08-27</td>\n",
       "      <td>48058</td>\n",
       "      <td>33226</td>\n",
       "      <td>23</td>\n",
       "      <td>Shawarma</td>\n",
       "      <td>0.0</td>\n",
       "      <td>0.0</td>\n",
       "    </tr>\n",
       "    <tr>\n",
       "      <th>2</th>\n",
       "      <td>2019-09-25</td>\n",
       "      <td>35430</td>\n",
       "      <td>26220</td>\n",
       "      <td>25</td>\n",
       "      <td>Pizza</td>\n",
       "      <td>2.0</td>\n",
       "      <td>0.0</td>\n",
       "    </tr>\n",
       "    <tr>\n",
       "      <th>3</th>\n",
       "      <td>2019-09-21</td>\n",
       "      <td>56553</td>\n",
       "      <td>38601</td>\n",
       "      <td>23</td>\n",
       "      <td>Kebabs</td>\n",
       "      <td>1.0</td>\n",
       "      <td>0.0</td>\n",
       "    </tr>\n",
       "    <tr>\n",
       "      <th>4</th>\n",
       "      <td>2019-09-21</td>\n",
       "      <td>43919</td>\n",
       "      <td>30984</td>\n",
       "      <td>25</td>\n",
       "      <td>Sushi</td>\n",
       "      <td>6.0</td>\n",
       "      <td>0.0</td>\n",
       "    </tr>\n",
       "    <tr>\n",
       "      <th>...</th>\n",
       "      <td>...</td>\n",
       "      <td>...</td>\n",
       "      <td>...</td>\n",
       "      <td>...</td>\n",
       "      <td>...</td>\n",
       "      <td>...</td>\n",
       "      <td>...</td>\n",
       "    </tr>\n",
       "    <tr>\n",
       "      <th>1995</th>\n",
       "      <td>2019-08-24</td>\n",
       "      <td>63852</td>\n",
       "      <td>42352</td>\n",
       "      <td>23</td>\n",
       "      <td>Pizza</td>\n",
       "      <td>1.0</td>\n",
       "      <td>0.0</td>\n",
       "    </tr>\n",
       "    <tr>\n",
       "      <th>1996</th>\n",
       "      <td>2019-08-02</td>\n",
       "      <td>59228</td>\n",
       "      <td>31712</td>\n",
       "      <td>26</td>\n",
       "      <td>Baking</td>\n",
       "      <td>1.0</td>\n",
       "      <td>1.0</td>\n",
       "    </tr>\n",
       "    <tr>\n",
       "      <th>1997</th>\n",
       "      <td>2019-09-07</td>\n",
       "      <td>11486</td>\n",
       "      <td>6861</td>\n",
       "      <td>25</td>\n",
       "      <td>Sushi</td>\n",
       "      <td>8.0</td>\n",
       "      <td>0.0</td>\n",
       "    </tr>\n",
       "    <tr>\n",
       "      <th>1998</th>\n",
       "      <td>2019-07-10</td>\n",
       "      <td>24152</td>\n",
       "      <td>16039</td>\n",
       "      <td>23</td>\n",
       "      <td>Pizza</td>\n",
       "      <td>21.0</td>\n",
       "      <td>0.0</td>\n",
       "    </tr>\n",
       "    <tr>\n",
       "      <th>1999</th>\n",
       "      <td>2019-07-16</td>\n",
       "      <td>66076</td>\n",
       "      <td>42616</td>\n",
       "      <td>25</td>\n",
       "      <td>Russian</td>\n",
       "      <td>4.0</td>\n",
       "      <td>0.0</td>\n",
       "    </tr>\n",
       "  </tbody>\n",
       "</table>\n",
       "<p>2000 rows × 7 columns</p>\n",
       "</div>"
      ]
     },
     "execution_count": 5,
     "metadata": {},
     "output_type": "execute_result"
    }
   ],
   "execution_count": 5
  },
  {
   "metadata": {
    "ExecuteTime": {
     "end_time": "2024-07-11T06:48:02.832636Z",
     "start_time": "2024-07-11T06:48:02.828266Z"
    }
   },
   "cell_type": "code",
   "source": [
    "# Mapping the spec with id number\n",
    "spec_id = {spec: id for id, spec in enumerate(translated_df['spec'].unique())}\n",
    "spec_id"
   ],
   "id": "143ca08f2745bc82",
   "outputs": [
    {
     "data": {
      "text/plain": [
       "{'Sushi': 0,\n",
       " 'Shawarma': 1,\n",
       " 'Pizza': 2,\n",
       " 'Kebabs': 3,\n",
       " 'Georgian': 4,\n",
       " 'Burgers': 5,\n",
       " 'Russian': 6,\n",
       " 'Meat': 7,\n",
       " 'Vietnamese': 8,\n",
       " 'Sandwiches': 9,\n",
       " 'Lunches': 10,\n",
       " 'Pan-Asian': 11,\n",
       " 'Fish': 12,\n",
       " 'Pies': 13,\n",
       " 'Coffee and tea': 14,\n",
       " 'Baking': 15,\n",
       " 'Dessert': 16,\n",
       " 'Chinese': 17,\n",
       " 'Healthly food': 18,\n",
       " 'Italian': 19,\n",
       " 'Random Values': 20,\n",
       " 'Fast food': 21,\n",
       " 'Shashlik': 22,\n",
       " 'Uzbek': 23,\n",
       " 'Mexican': 24,\n",
       " 'Japanese': 25,\n",
       " 'Soups': 26,\n",
       " 'Pasta and Risotto': 27,\n",
       " 'Breakfast': 28,\n",
       " 'Hot dogs': 29,\n",
       " 'Breakfasts': 30,\n",
       " 'Hummus': 31,\n",
       " 'Indian': 32,\n",
       " 'Korean': 33,\n",
       " 'Vegetarian menu': 34,\n",
       " 'Pasta and risotto': 35}"
      ]
     },
     "execution_count": 6,
     "metadata": {},
     "output_type": "execute_result"
    }
   ],
   "execution_count": 6
  },
  {
   "metadata": {
    "ExecuteTime": {
     "end_time": "2024-07-11T06:48:22.073309Z",
     "start_time": "2024-07-11T06:48:22.067837Z"
    }
   },
   "cell_type": "code",
   "source": [
    "translated_df['spec_id'] = translated_df['spec'].map(spec_id)\n",
    "translated_df"
   ],
   "id": "7b24734c3881f6c2",
   "outputs": [
    {
     "data": {
      "text/plain": [
       "            date  vendor_id  chain_id  city_id      spec  successful_orders  \\\n",
       "0     2019-07-02      40065      7501       23     Sushi               54.0   \n",
       "1     2019-08-27      48058     33226       23  Shawarma                0.0   \n",
       "2     2019-09-25      35430     26220       25     Pizza                2.0   \n",
       "3     2019-09-21      56553     38601       23    Kebabs                1.0   \n",
       "4     2019-09-21      43919     30984       25     Sushi                6.0   \n",
       "...          ...        ...       ...      ...       ...                ...   \n",
       "1995  2019-08-24      63852     42352       23     Pizza                1.0   \n",
       "1996  2019-08-02      59228     31712       26    Baking                1.0   \n",
       "1997  2019-09-07      11486      6861       25     Sushi                8.0   \n",
       "1998  2019-07-10      24152     16039       23     Pizza               21.0   \n",
       "1999  2019-07-16      66076     42616       25   Russian                4.0   \n",
       "\n",
       "      fail_orders  spec_id  \n",
       "0             1.0        0  \n",
       "1             0.0        1  \n",
       "2             0.0        2  \n",
       "3             0.0        3  \n",
       "4             0.0        0  \n",
       "...           ...      ...  \n",
       "1995          0.0        2  \n",
       "1996          1.0       15  \n",
       "1997          0.0        0  \n",
       "1998          0.0        2  \n",
       "1999          0.0        6  \n",
       "\n",
       "[2000 rows x 8 columns]"
      ],
      "text/html": [
       "<div>\n",
       "<style scoped>\n",
       "    .dataframe tbody tr th:only-of-type {\n",
       "        vertical-align: middle;\n",
       "    }\n",
       "\n",
       "    .dataframe tbody tr th {\n",
       "        vertical-align: top;\n",
       "    }\n",
       "\n",
       "    .dataframe thead th {\n",
       "        text-align: right;\n",
       "    }\n",
       "</style>\n",
       "<table border=\"1\" class=\"dataframe\">\n",
       "  <thead>\n",
       "    <tr style=\"text-align: right;\">\n",
       "      <th></th>\n",
       "      <th>date</th>\n",
       "      <th>vendor_id</th>\n",
       "      <th>chain_id</th>\n",
       "      <th>city_id</th>\n",
       "      <th>spec</th>\n",
       "      <th>successful_orders</th>\n",
       "      <th>fail_orders</th>\n",
       "      <th>spec_id</th>\n",
       "    </tr>\n",
       "  </thead>\n",
       "  <tbody>\n",
       "    <tr>\n",
       "      <th>0</th>\n",
       "      <td>2019-07-02</td>\n",
       "      <td>40065</td>\n",
       "      <td>7501</td>\n",
       "      <td>23</td>\n",
       "      <td>Sushi</td>\n",
       "      <td>54.0</td>\n",
       "      <td>1.0</td>\n",
       "      <td>0</td>\n",
       "    </tr>\n",
       "    <tr>\n",
       "      <th>1</th>\n",
       "      <td>2019-08-27</td>\n",
       "      <td>48058</td>\n",
       "      <td>33226</td>\n",
       "      <td>23</td>\n",
       "      <td>Shawarma</td>\n",
       "      <td>0.0</td>\n",
       "      <td>0.0</td>\n",
       "      <td>1</td>\n",
       "    </tr>\n",
       "    <tr>\n",
       "      <th>2</th>\n",
       "      <td>2019-09-25</td>\n",
       "      <td>35430</td>\n",
       "      <td>26220</td>\n",
       "      <td>25</td>\n",
       "      <td>Pizza</td>\n",
       "      <td>2.0</td>\n",
       "      <td>0.0</td>\n",
       "      <td>2</td>\n",
       "    </tr>\n",
       "    <tr>\n",
       "      <th>3</th>\n",
       "      <td>2019-09-21</td>\n",
       "      <td>56553</td>\n",
       "      <td>38601</td>\n",
       "      <td>23</td>\n",
       "      <td>Kebabs</td>\n",
       "      <td>1.0</td>\n",
       "      <td>0.0</td>\n",
       "      <td>3</td>\n",
       "    </tr>\n",
       "    <tr>\n",
       "      <th>4</th>\n",
       "      <td>2019-09-21</td>\n",
       "      <td>43919</td>\n",
       "      <td>30984</td>\n",
       "      <td>25</td>\n",
       "      <td>Sushi</td>\n",
       "      <td>6.0</td>\n",
       "      <td>0.0</td>\n",
       "      <td>0</td>\n",
       "    </tr>\n",
       "    <tr>\n",
       "      <th>...</th>\n",
       "      <td>...</td>\n",
       "      <td>...</td>\n",
       "      <td>...</td>\n",
       "      <td>...</td>\n",
       "      <td>...</td>\n",
       "      <td>...</td>\n",
       "      <td>...</td>\n",
       "      <td>...</td>\n",
       "    </tr>\n",
       "    <tr>\n",
       "      <th>1995</th>\n",
       "      <td>2019-08-24</td>\n",
       "      <td>63852</td>\n",
       "      <td>42352</td>\n",
       "      <td>23</td>\n",
       "      <td>Pizza</td>\n",
       "      <td>1.0</td>\n",
       "      <td>0.0</td>\n",
       "      <td>2</td>\n",
       "    </tr>\n",
       "    <tr>\n",
       "      <th>1996</th>\n",
       "      <td>2019-08-02</td>\n",
       "      <td>59228</td>\n",
       "      <td>31712</td>\n",
       "      <td>26</td>\n",
       "      <td>Baking</td>\n",
       "      <td>1.0</td>\n",
       "      <td>1.0</td>\n",
       "      <td>15</td>\n",
       "    </tr>\n",
       "    <tr>\n",
       "      <th>1997</th>\n",
       "      <td>2019-09-07</td>\n",
       "      <td>11486</td>\n",
       "      <td>6861</td>\n",
       "      <td>25</td>\n",
       "      <td>Sushi</td>\n",
       "      <td>8.0</td>\n",
       "      <td>0.0</td>\n",
       "      <td>0</td>\n",
       "    </tr>\n",
       "    <tr>\n",
       "      <th>1998</th>\n",
       "      <td>2019-07-10</td>\n",
       "      <td>24152</td>\n",
       "      <td>16039</td>\n",
       "      <td>23</td>\n",
       "      <td>Pizza</td>\n",
       "      <td>21.0</td>\n",
       "      <td>0.0</td>\n",
       "      <td>2</td>\n",
       "    </tr>\n",
       "    <tr>\n",
       "      <th>1999</th>\n",
       "      <td>2019-07-16</td>\n",
       "      <td>66076</td>\n",
       "      <td>42616</td>\n",
       "      <td>25</td>\n",
       "      <td>Russian</td>\n",
       "      <td>4.0</td>\n",
       "      <td>0.0</td>\n",
       "      <td>6</td>\n",
       "    </tr>\n",
       "  </tbody>\n",
       "</table>\n",
       "<p>2000 rows × 8 columns</p>\n",
       "</div>"
      ]
     },
     "execution_count": 7,
     "metadata": {},
     "output_type": "execute_result"
    }
   ],
   "execution_count": 7
  },
  {
   "metadata": {
    "ExecuteTime": {
     "end_time": "2024-07-11T06:50:17.488351Z",
     "start_time": "2024-07-11T06:50:17.484396Z"
    }
   },
   "cell_type": "code",
   "source": "translated_df['spec_id'].value_counts()",
   "id": "897df006f0be9ddf",
   "outputs": [
    {
     "data": {
      "text/plain": [
       "spec_id\n",
       "0     465\n",
       "2     279\n",
       "5     271\n",
       "3     129\n",
       "6     127\n",
       "1     117\n",
       "7      91\n",
       "21     81\n",
       "9      80\n",
       "4      56\n",
       "19     34\n",
       "25     30\n",
       "15     28\n",
       "12     22\n",
       "10     21\n",
       "23     20\n",
       "16     18\n",
       "17     16\n",
       "8      14\n",
       "22     13\n",
       "26     13\n",
       "20     11\n",
       "18     10\n",
       "13     10\n",
       "14      8\n",
       "32      8\n",
       "28      6\n",
       "11      5\n",
       "35      4\n",
       "33      3\n",
       "24      2\n",
       "29      2\n",
       "30      2\n",
       "31      2\n",
       "27      1\n",
       "34      1\n",
       "Name: count, dtype: int64"
      ]
     },
     "execution_count": 13,
     "metadata": {},
     "output_type": "execute_result"
    }
   ],
   "execution_count": 13
  },
  {
   "metadata": {
    "ExecuteTime": {
     "end_time": "2024-07-11T06:52:24.286998Z",
     "start_time": "2024-07-11T06:52:24.170989Z"
    }
   },
   "cell_type": "code",
   "source": [
    "# Doing a Coorelation Matrix between Available Room with Net Profit\n",
    "sns.heatmap(translated_df[['spec_id','chain_id','fail_orders','successful_orders']].corr(),annot=True)\n",
    "plt.show()"
   ],
   "id": "3d9402280c0596f3",
   "outputs": [
    {
     "data": {
      "text/plain": [
       "<Figure size 640x480 with 2 Axes>"
      ],
      "image/png": "[encoded data removed]"
     },
     "metadata": {},
     "output_type": "display_data"
    }
   ],
   "execution_count": 15
  },
  {
   "metadata": {
    "ExecuteTime": {
     "end_time": "2024-07-11T06:59:50.606130Z",
     "start_time": "2024-07-11T06:59:50.529745Z"
    }
   },
   "cell_type": "code",
   "source": [
    "sns.scatterplot(x='spec_id',y='successful_orders',data=translated_df)\n",
    "plt.figure(figsize=(40,50))\n",
    "plt.show()"
   ],
   "id": "4b061a21b33808c1",
   "outputs": [
    {
     "data": {
      "text/plain": [
       "<Figure size 640x480 with 1 Axes>"
      ],
      "image/png": "[encoded data removed]"
     },
     "metadata": {},
     "output_type": "display_data"
    },
    {
     "data": {
      "text/plain": [
       "<Figure size 4000x5000 with 0 Axes>"
      ]
     },
     "metadata": {},
     "output_type": "display_data"
    }
   ],
   "execution_count": 24
  },
  {
   "metadata": {
    "ExecuteTime": {
     "end_time": "2024-07-11T06:58:56.111333Z",
     "start_time": "2024-07-11T06:58:56.037696Z"
    }
   },
   "cell_type": "code",
   "source": [
    "sns.scatterplot(x='spec_id',y='fail_orders',data=translated_df)\n",
    "plt.show()"
   ],
   "id": "b2898eeb32b1ae73",
   "outputs": [
    {
     "data": {
      "text/plain": [
       "<Figure size 640x480 with 1 Axes>"
      ],
      "image/png": "[encoded data removed]"
     },
     "metadata": {},
     "output_type": "display_data"
    }
   ],
   "execution_count": 20
  },
  {
   "metadata": {
    "ExecuteTime": {
     "end_time": "2024-07-11T07:03:36.017617Z",
     "start_time": "2024-07-11T07:03:35.947455Z"
    }
   },
   "cell_type": "code",
   "source": [
    "sns.countplot(x='spec_id',data=translated_df[translated_df['spec_id']<10])\n",
    "plt.figure(figsize=(100,100))\n",
    "plt.show()"
   ],
   "id": "9ccbb1b3f32a677c",
   "outputs": [
    {
     "data": {
      "text/plain": [
       "<Figure size 640x480 with 1 Axes>"
      ],
      "image/png": "[encoded data removed]"
     },
     "metadata": {},
     "output_type": "display_data"
    },
    {
     "data": {
      "text/plain": [
       "<Figure size 10000x10000 with 0 Axes>"
      ]
     },
     "metadata": {},
     "output_type": "display_data"
    }
   ],
   "execution_count": 30
  },
  {
   "metadata": {},
   "cell_type": "code",
   "outputs": [],
   "execution_count": null,
   "source": "",
   "id": "42b33efc966e0390"
  }
 ],
 "metadata": {
  "kernelspec": {
   "display_name": "Python 3",
   "language": "python",
   "name": "python3"
  },
  "language_info": {
   "codemirror_mode": {
    "name": "ipython",
    "version": 2
   },
   "file_extension": ".py",
   "mimetype": "text/x-python",
   "name": "python",
   "nbconvert_exporter": "python",
   "pygments_lexer": "ipython2",
   "version": "2.7.6"
  }
 },
 "nbformat": 4,
 "nbformat_minor": 5
}
