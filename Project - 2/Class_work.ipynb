{
 "cells": [
  {
   "metadata": {},
   "cell_type": "markdown",
   "source": [
    "# Take the Data Set of Youtube trending videos and perform the following operations:\n",
    "1. Find the top 10 categories based on the number of videos\n",
    "2. Find the top 10 categories based on the number of views\n",
    "3. Find the top 10 categories based on the number of likes\n",
    "4. Remove missing string values\n",
    "5. Convert the data type of numerical columns to integer\n",
    "6. Plot a graph for the top 10 categories based on the number of videos "
   ],
   "id": "cfca48f3863d5e30"
  }
 ],
 "metadata": {
  "kernelspec": {
   "display_name": "Python 3",
   "language": "python",
   "name": "python3"
  },
  "language_info": {
   "codemirror_mode": {
    "name": "ipython",
    "version": 2
   },
   "file_extension": ".py",
   "mimetype": "text/x-python",
   "name": "python",
   "nbconvert_exporter": "python",
   "pygments_lexer": "ipython2",
   "version": "2.7.6"
  }
 },
 "nbformat": 4,
 "nbformat_minor": 5
}
