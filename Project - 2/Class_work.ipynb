{
 "cells": [
  {
   "metadata": {},
   "cell_type": "markdown",
   "source": [
    "# Take the Data Set of Youtube trending videos and perform the following operations:\n",
    "\n",
    "1. Find the top 10 categories based on the number of videos\n",
    "2. Find the top 10 categories based on the number of views\n",
    "3. Find the top 10 categories based on the number of likes\n",
    "4. Remove missing string values\n",
    "5. Convert the data type of numerical columns to integer\n",
    "6. Plot a graph for the top 10 categories based on the number of videos "
   ],
   "id": "cfca48f3863d5e30"
  },
  {
   "metadata": {
    "ExecuteTime": {
     "end_time": "2024-07-10T06:55:14.677350Z",
     "start_time": "2024-07-10T06:55:14.675453Z"
    }
   },
   "cell_type": "code",
   "source": [
    "import pandas as pd\n",
    "import numpy as np\n",
    "import matplotlib.pyplot as plt"
   ],
   "id": "cdec56cfb6acdb80",
   "outputs": [],
   "execution_count": 53
  },
  {
   "metadata": {
    "ExecuteTime": {
     "end_time": "2024-07-10T06:55:14.699999Z",
     "start_time": "2024-07-10T06:55:14.693563Z"
    }
   },
   "cell_type": "code",
   "source": [
    "df = pd.read_csv('social media influencers - youtube.csv')\n",
    "df"
   ],
   "id": "a76b2ced28d2ae6e",
   "outputs": [
    {
     "data": {
      "text/plain": [
       "    youtuber name                channel name       Category Subscribers  \\\n",
       "0         tseries                    T-Series  Music & Dance      212.1M   \n",
       "1       checkgate  Cocomelon - Nursery Rhymes      Education      132.1M   \n",
       "2        setindia                   SET India            NaN      130.4M   \n",
       "3       PewDiePie                   PewDiePie      Animation      111.4M   \n",
       "4     MrBeast6000                     MrBeast    Video games       92.5M   \n",
       "..            ...                         ...            ...         ...   \n",
       "995   FutParódias                 FutParódias  Music & Dance        9.2M   \n",
       "996       EL GATO                     EL GATO           Toys        9.2M   \n",
       "997    CinemaSins                  CinemaSins         Movies        9.2M   \n",
       "998    CricketICC                         ICC         Sports        9.2M   \n",
       "999       BRKsEDU                     BRKsEDU      Animation        9.2M   \n",
       "\n",
       "    Audience Country avg views avg likes avg comments  \n",
       "0              India    323.7K      9.8K          290  \n",
       "1                NaN     13.8M     80.9K          NaN  \n",
       "2              India     23.6K       314           21  \n",
       "3      United States      1.4M     80.8K         4.6K  \n",
       "4      United States     30.6M      1.7M        67.7K  \n",
       "..               ...       ...       ...          ...  \n",
       "995           Brazil      1.4M    110.1K         2.5K  \n",
       "996           Brazil    243.8K     30.7K          636  \n",
       "997    United States      296K     10.2K          874  \n",
       "998            India     15.2K       854           58  \n",
       "999           Brazil    112.3K      9.8K          246  \n",
       "\n",
       "[1000 rows x 8 columns]"
      ],
      "text/html": [
       "<div>\n",
       "<style scoped>\n",
       "    .dataframe tbody tr th:only-of-type {\n",
       "        vertical-align: middle;\n",
       "    }\n",
       "\n",
       "    .dataframe tbody tr th {\n",
       "        vertical-align: top;\n",
       "    }\n",
       "\n",
       "    .dataframe thead th {\n",
       "        text-align: right;\n",
       "    }\n",
       "</style>\n",
       "<table border=\"1\" class=\"dataframe\">\n",
       "  <thead>\n",
       "    <tr style=\"text-align: right;\">\n",
       "      <th></th>\n",
       "      <th>youtuber name</th>\n",
       "      <th>channel name</th>\n",
       "      <th>Category</th>\n",
       "      <th>Subscribers</th>\n",
       "      <th>Audience Country</th>\n",
       "      <th>avg views</th>\n",
       "      <th>avg likes</th>\n",
       "      <th>avg comments</th>\n",
       "    </tr>\n",
       "  </thead>\n",
       "  <tbody>\n",
       "    <tr>\n",
       "      <th>0</th>\n",
       "      <td>tseries</td>\n",
       "      <td>T-Series</td>\n",
       "      <td>Music &amp; Dance</td>\n",
       "      <td>212.1M</td>\n",
       "      <td>India</td>\n",
       "      <td>323.7K</td>\n",
       "      <td>9.8K</td>\n",
       "      <td>290</td>\n",
       "    </tr>\n",
       "    <tr>\n",
       "      <th>1</th>\n",
       "      <td>checkgate</td>\n",
       "      <td>Cocomelon - Nursery Rhymes</td>\n",
       "      <td>Education</td>\n",
       "      <td>132.1M</td>\n",
       "      <td>NaN</td>\n",
       "      <td>13.8M</td>\n",
       "      <td>80.9K</td>\n",
       "      <td>NaN</td>\n",
       "    </tr>\n",
       "    <tr>\n",
       "      <th>2</th>\n",
       "      <td>setindia</td>\n",
       "      <td>SET India</td>\n",
       "      <td>NaN</td>\n",
       "      <td>130.4M</td>\n",
       "      <td>India</td>\n",
       "      <td>23.6K</td>\n",
       "      <td>314</td>\n",
       "      <td>21</td>\n",
       "    </tr>\n",
       "    <tr>\n",
       "      <th>3</th>\n",
       "      <td>PewDiePie</td>\n",
       "      <td>PewDiePie</td>\n",
       "      <td>Animation</td>\n",
       "      <td>111.4M</td>\n",
       "      <td>United States</td>\n",
       "      <td>1.4M</td>\n",
       "      <td>80.8K</td>\n",
       "      <td>4.6K</td>\n",
       "    </tr>\n",
       "    <tr>\n",
       "      <th>4</th>\n",
       "      <td>MrBeast6000</td>\n",
       "      <td>MrBeast</td>\n",
       "      <td>Video games</td>\n",
       "      <td>92.5M</td>\n",
       "      <td>United States</td>\n",
       "      <td>30.6M</td>\n",
       "      <td>1.7M</td>\n",
       "      <td>67.7K</td>\n",
       "    </tr>\n",
       "    <tr>\n",
       "      <th>...</th>\n",
       "      <td>...</td>\n",
       "      <td>...</td>\n",
       "      <td>...</td>\n",
       "      <td>...</td>\n",
       "      <td>...</td>\n",
       "      <td>...</td>\n",
       "      <td>...</td>\n",
       "      <td>...</td>\n",
       "    </tr>\n",
       "    <tr>\n",
       "      <th>995</th>\n",
       "      <td>FutParódias</td>\n",
       "      <td>FutParódias</td>\n",
       "      <td>Music &amp; Dance</td>\n",
       "      <td>9.2M</td>\n",
       "      <td>Brazil</td>\n",
       "      <td>1.4M</td>\n",
       "      <td>110.1K</td>\n",
       "      <td>2.5K</td>\n",
       "    </tr>\n",
       "    <tr>\n",
       "      <th>996</th>\n",
       "      <td>EL GATO</td>\n",
       "      <td>EL GATO</td>\n",
       "      <td>Toys</td>\n",
       "      <td>9.2M</td>\n",
       "      <td>Brazil</td>\n",
       "      <td>243.8K</td>\n",
       "      <td>30.7K</td>\n",
       "      <td>636</td>\n",
       "    </tr>\n",
       "    <tr>\n",
       "      <th>997</th>\n",
       "      <td>CinemaSins</td>\n",
       "      <td>CinemaSins</td>\n",
       "      <td>Movies</td>\n",
       "      <td>9.2M</td>\n",
       "      <td>United States</td>\n",
       "      <td>296K</td>\n",
       "      <td>10.2K</td>\n",
       "      <td>874</td>\n",
       "    </tr>\n",
       "    <tr>\n",
       "      <th>998</th>\n",
       "      <td>CricketICC</td>\n",
       "      <td>ICC</td>\n",
       "      <td>Sports</td>\n",
       "      <td>9.2M</td>\n",
       "      <td>India</td>\n",
       "      <td>15.2K</td>\n",
       "      <td>854</td>\n",
       "      <td>58</td>\n",
       "    </tr>\n",
       "    <tr>\n",
       "      <th>999</th>\n",
       "      <td>BRKsEDU</td>\n",
       "      <td>BRKsEDU</td>\n",
       "      <td>Animation</td>\n",
       "      <td>9.2M</td>\n",
       "      <td>Brazil</td>\n",
       "      <td>112.3K</td>\n",
       "      <td>9.8K</td>\n",
       "      <td>246</td>\n",
       "    </tr>\n",
       "  </tbody>\n",
       "</table>\n",
       "<p>1000 rows × 8 columns</p>\n",
       "</div>"
      ]
     },
     "execution_count": 54,
     "metadata": {},
     "output_type": "execute_result"
    }
   ],
   "execution_count": 54
  },
  {
   "metadata": {
    "ExecuteTime": {
     "end_time": "2024-07-10T06:55:14.713478Z",
     "start_time": "2024-07-10T06:55:14.709861Z"
    }
   },
   "cell_type": "code",
   "source": "df.info()",
   "id": "67bbfe17b47153a",
   "outputs": [
    {
     "name": "stdout",
     "output_type": "stream",
     "text": [
      "<class 'pandas.core.frame.DataFrame'>\n",
      "RangeIndex: 1000 entries, 0 to 999\n",
      "Data columns (total 8 columns):\n",
      " #   Column            Non-Null Count  Dtype \n",
      "---  ------            --------------  ----- \n",
      " 0   youtuber name     1000 non-null   object\n",
      " 1   channel name      1000 non-null   object\n",
      " 2   Category          723 non-null    object\n",
      " 3   Subscribers       1000 non-null   object\n",
      " 4   Audience Country  839 non-null    object\n",
      " 5   avg views         1000 non-null   object\n",
      " 6   avg likes         962 non-null    object\n",
      " 7   avg comments      791 non-null    object\n",
      "dtypes: object(8)\n",
      "memory usage: 62.6+ KB\n"
     ]
    }
   ],
   "execution_count": 55
  },
  {
   "metadata": {
    "ExecuteTime": {
     "end_time": "2024-07-10T06:55:14.716899Z",
     "start_time": "2024-07-10T06:55:14.714565Z"
    }
   },
   "cell_type": "code",
   "source": "df.isnull().sum()",
   "id": "c2b65352c22c00a3",
   "outputs": [
    {
     "data": {
      "text/plain": [
       "youtuber name         0\n",
       "channel name          0\n",
       "Category            277\n",
       "Subscribers           0\n",
       "Audience Country    161\n",
       "avg views             0\n",
       "avg likes            38\n",
       "avg comments        209\n",
       "dtype: int64"
      ]
     },
     "execution_count": 56,
     "metadata": {},
     "output_type": "execute_result"
    }
   ],
   "execution_count": 56
  },
  {
   "metadata": {
    "ExecuteTime": {
     "end_time": "2024-07-10T06:55:14.719278Z",
     "start_time": "2024-07-10T06:55:14.717504Z"
    }
   },
   "cell_type": "code",
   "source": [
    "# Function to convert values\n",
    "def convert_to_number(x):\n",
    "    if x is not np.nan:\n",
    "        if x.endswith('M'):\n",
    "            return float(x[:-1]) * 1_000_000\n",
    "        elif x.endswith('K'):\n",
    "            return float(x[:-1]) * 1_000\n",
    "        else:\n",
    "            return float(x)\n",
    "    else:\n",
    "        pass"
   ],
   "id": "3e63462b79062976",
   "outputs": [],
   "execution_count": 57
  },
  {
   "metadata": {
    "ExecuteTime": {
     "end_time": "2024-07-10T06:55:14.722039Z",
     "start_time": "2024-07-10T06:55:14.720131Z"
    }
   },
   "cell_type": "code",
   "source": "df['avg likes'] = df['avg likes'].apply(convert_to_number)",
   "id": "728c1f9c43a5bdaa",
   "outputs": [],
   "execution_count": 58
  },
  {
   "metadata": {
    "ExecuteTime": {
     "end_time": "2024-07-10T06:55:14.726030Z",
     "start_time": "2024-07-10T06:55:14.724168Z"
    }
   },
   "cell_type": "code",
   "source": "df['avg views'] = df['avg views'].apply(convert_to_number)",
   "id": "5ada637a9fff515d",
   "outputs": [],
   "execution_count": 59
  },
  {
   "metadata": {
    "ExecuteTime": {
     "end_time": "2024-07-10T06:55:14.728358Z",
     "start_time": "2024-07-10T06:55:14.726732Z"
    }
   },
   "cell_type": "code",
   "source": "df['avg comments'] = df['avg comments'].apply(convert_to_number)",
   "id": "661821fe3b441da5",
   "outputs": [],
   "execution_count": 60
  },
  {
   "metadata": {
    "ExecuteTime": {
     "end_time": "2024-07-10T06:55:14.734120Z",
     "start_time": "2024-07-10T06:55:14.732071Z"
    }
   },
   "cell_type": "code",
   "source": "df['Subscribers']=df['Subscribers'].apply(convert_to_number)",
   "id": "452b47c4cf1e35ce",
   "outputs": [],
   "execution_count": 61
  },
  {
   "metadata": {
    "ExecuteTime": {
     "end_time": "2024-07-10T06:55:14.747349Z",
     "start_time": "2024-07-10T06:55:14.742546Z"
    }
   },
   "cell_type": "code",
   "source": "df",
   "id": "c11affa39a5b5a9",
   "outputs": [
    {
     "data": {
      "text/plain": [
       "    youtuber name                channel name       Category  Subscribers  \\\n",
       "0         tseries                    T-Series  Music & Dance  212100000.0   \n",
       "1       checkgate  Cocomelon - Nursery Rhymes      Education  132100000.0   \n",
       "2        setindia                   SET India            NaN  130400000.0   \n",
       "3       PewDiePie                   PewDiePie      Animation  111400000.0   \n",
       "4     MrBeast6000                     MrBeast    Video games   92500000.0   \n",
       "..            ...                         ...            ...          ...   \n",
       "995   FutParódias                 FutParódias  Music & Dance    9200000.0   \n",
       "996       EL GATO                     EL GATO           Toys    9200000.0   \n",
       "997    CinemaSins                  CinemaSins         Movies    9200000.0   \n",
       "998    CricketICC                         ICC         Sports    9200000.0   \n",
       "999       BRKsEDU                     BRKsEDU      Animation    9200000.0   \n",
       "\n",
       "    Audience Country   avg views  avg likes  avg comments  \n",
       "0              India    323700.0     9800.0         290.0  \n",
       "1                NaN  13800000.0    80900.0           NaN  \n",
       "2              India     23600.0      314.0          21.0  \n",
       "3      United States   1400000.0    80800.0        4600.0  \n",
       "4      United States  30600000.0  1700000.0       67700.0  \n",
       "..               ...         ...        ...           ...  \n",
       "995           Brazil   1400000.0   110100.0        2500.0  \n",
       "996           Brazil    243800.0    30700.0         636.0  \n",
       "997    United States    296000.0    10200.0         874.0  \n",
       "998            India     15200.0      854.0          58.0  \n",
       "999           Brazil    112300.0     9800.0         246.0  \n",
       "\n",
       "[1000 rows x 8 columns]"
      ],
      "text/html": [
       "<div>\n",
       "<style scoped>\n",
       "    .dataframe tbody tr th:only-of-type {\n",
       "        vertical-align: middle;\n",
       "    }\n",
       "\n",
       "    .dataframe tbody tr th {\n",
       "        vertical-align: top;\n",
       "    }\n",
       "\n",
       "    .dataframe thead th {\n",
       "        text-align: right;\n",
       "    }\n",
       "</style>\n",
       "<table border=\"1\" class=\"dataframe\">\n",
       "  <thead>\n",
       "    <tr style=\"text-align: right;\">\n",
       "      <th></th>\n",
       "      <th>youtuber name</th>\n",
       "      <th>channel name</th>\n",
       "      <th>Category</th>\n",
       "      <th>Subscribers</th>\n",
       "      <th>Audience Country</th>\n",
       "      <th>avg views</th>\n",
       "      <th>avg likes</th>\n",
       "      <th>avg comments</th>\n",
       "    </tr>\n",
       "  </thead>\n",
       "  <tbody>\n",
       "    <tr>\n",
       "      <th>0</th>\n",
       "      <td>tseries</td>\n",
       "      <td>T-Series</td>\n",
       "      <td>Music &amp; Dance</td>\n",
       "      <td>212100000.0</td>\n",
       "      <td>India</td>\n",
       "      <td>323700.0</td>\n",
       "      <td>9800.0</td>\n",
       "      <td>290.0</td>\n",
       "    </tr>\n",
       "    <tr>\n",
       "      <th>1</th>\n",
       "      <td>checkgate</td>\n",
       "      <td>Cocomelon - Nursery Rhymes</td>\n",
       "      <td>Education</td>\n",
       "      <td>132100000.0</td>\n",
       "      <td>NaN</td>\n",
       "      <td>13800000.0</td>\n",
       "      <td>80900.0</td>\n",
       "      <td>NaN</td>\n",
       "    </tr>\n",
       "    <tr>\n",
       "      <th>2</th>\n",
       "      <td>setindia</td>\n",
       "      <td>SET India</td>\n",
       "      <td>NaN</td>\n",
       "      <td>130400000.0</td>\n",
       "      <td>India</td>\n",
       "      <td>23600.0</td>\n",
       "      <td>314.0</td>\n",
       "      <td>21.0</td>\n",
       "    </tr>\n",
       "    <tr>\n",
       "      <th>3</th>\n",
       "      <td>PewDiePie</td>\n",
       "      <td>PewDiePie</td>\n",
       "      <td>Animation</td>\n",
       "      <td>111400000.0</td>\n",
       "      <td>United States</td>\n",
       "      <td>1400000.0</td>\n",
       "      <td>80800.0</td>\n",
       "      <td>4600.0</td>\n",
       "    </tr>\n",
       "    <tr>\n",
       "      <th>4</th>\n",
       "      <td>MrBeast6000</td>\n",
       "      <td>MrBeast</td>\n",
       "      <td>Video games</td>\n",
       "      <td>92500000.0</td>\n",
       "      <td>United States</td>\n",
       "      <td>30600000.0</td>\n",
       "      <td>1700000.0</td>\n",
       "      <td>67700.0</td>\n",
       "    </tr>\n",
       "    <tr>\n",
       "      <th>...</th>\n",
       "      <td>...</td>\n",
       "      <td>...</td>\n",
       "      <td>...</td>\n",
       "      <td>...</td>\n",
       "      <td>...</td>\n",
       "      <td>...</td>\n",
       "      <td>...</td>\n",
       "      <td>...</td>\n",
       "    </tr>\n",
       "    <tr>\n",
       "      <th>995</th>\n",
       "      <td>FutParódias</td>\n",
       "      <td>FutParódias</td>\n",
       "      <td>Music &amp; Dance</td>\n",
       "      <td>9200000.0</td>\n",
       "      <td>Brazil</td>\n",
       "      <td>1400000.0</td>\n",
       "      <td>110100.0</td>\n",
       "      <td>2500.0</td>\n",
       "    </tr>\n",
       "    <tr>\n",
       "      <th>996</th>\n",
       "      <td>EL GATO</td>\n",
       "      <td>EL GATO</td>\n",
       "      <td>Toys</td>\n",
       "      <td>9200000.0</td>\n",
       "      <td>Brazil</td>\n",
       "      <td>243800.0</td>\n",
       "      <td>30700.0</td>\n",
       "      <td>636.0</td>\n",
       "    </tr>\n",
       "    <tr>\n",
       "      <th>997</th>\n",
       "      <td>CinemaSins</td>\n",
       "      <td>CinemaSins</td>\n",
       "      <td>Movies</td>\n",
       "      <td>9200000.0</td>\n",
       "      <td>United States</td>\n",
       "      <td>296000.0</td>\n",
       "      <td>10200.0</td>\n",
       "      <td>874.0</td>\n",
       "    </tr>\n",
       "    <tr>\n",
       "      <th>998</th>\n",
       "      <td>CricketICC</td>\n",
       "      <td>ICC</td>\n",
       "      <td>Sports</td>\n",
       "      <td>9200000.0</td>\n",
       "      <td>India</td>\n",
       "      <td>15200.0</td>\n",
       "      <td>854.0</td>\n",
       "      <td>58.0</td>\n",
       "    </tr>\n",
       "    <tr>\n",
       "      <th>999</th>\n",
       "      <td>BRKsEDU</td>\n",
       "      <td>BRKsEDU</td>\n",
       "      <td>Animation</td>\n",
       "      <td>9200000.0</td>\n",
       "      <td>Brazil</td>\n",
       "      <td>112300.0</td>\n",
       "      <td>9800.0</td>\n",
       "      <td>246.0</td>\n",
       "    </tr>\n",
       "  </tbody>\n",
       "</table>\n",
       "<p>1000 rows × 8 columns</p>\n",
       "</div>"
      ]
     },
     "execution_count": 62,
     "metadata": {},
     "output_type": "execute_result"
    }
   ],
   "execution_count": 62
  },
  {
   "metadata": {
    "ExecuteTime": {
     "end_time": "2024-07-10T06:55:14.757441Z",
     "start_time": "2024-07-10T06:55:14.754949Z"
    }
   },
   "cell_type": "code",
   "source": "df.isnull().sum()",
   "id": "767d9ae47b234905",
   "outputs": [
    {
     "data": {
      "text/plain": [
       "youtuber name         0\n",
       "channel name          0\n",
       "Category            277\n",
       "Subscribers           0\n",
       "Audience Country    161\n",
       "avg views             0\n",
       "avg likes            38\n",
       "avg comments        209\n",
       "dtype: int64"
      ]
     },
     "execution_count": 63,
     "metadata": {},
     "output_type": "execute_result"
    }
   ],
   "execution_count": 63
  },
  {
   "metadata": {
    "ExecuteTime": {
     "end_time": "2024-07-10T06:55:14.790193Z",
     "start_time": "2024-07-10T06:55:14.782559Z"
    }
   },
   "cell_type": "code",
   "source": "df",
   "id": "4e5731df8ab64695",
   "outputs": [
    {
     "data": {
      "text/plain": [
       "    youtuber name                channel name       Category  Subscribers  \\\n",
       "0         tseries                    T-Series  Music & Dance  212100000.0   \n",
       "1       checkgate  Cocomelon - Nursery Rhymes      Education  132100000.0   \n",
       "2        setindia                   SET India            NaN  130400000.0   \n",
       "3       PewDiePie                   PewDiePie      Animation  111400000.0   \n",
       "4     MrBeast6000                     MrBeast    Video games   92500000.0   \n",
       "..            ...                         ...            ...          ...   \n",
       "995   FutParódias                 FutParódias  Music & Dance    9200000.0   \n",
       "996       EL GATO                     EL GATO           Toys    9200000.0   \n",
       "997    CinemaSins                  CinemaSins         Movies    9200000.0   \n",
       "998    CricketICC                         ICC         Sports    9200000.0   \n",
       "999       BRKsEDU                     BRKsEDU      Animation    9200000.0   \n",
       "\n",
       "    Audience Country   avg views  avg likes  avg comments  \n",
       "0              India    323700.0     9800.0         290.0  \n",
       "1                NaN  13800000.0    80900.0           NaN  \n",
       "2              India     23600.0      314.0          21.0  \n",
       "3      United States   1400000.0    80800.0        4600.0  \n",
       "4      United States  30600000.0  1700000.0       67700.0  \n",
       "..               ...         ...        ...           ...  \n",
       "995           Brazil   1400000.0   110100.0        2500.0  \n",
       "996           Brazil    243800.0    30700.0         636.0  \n",
       "997    United States    296000.0    10200.0         874.0  \n",
       "998            India     15200.0      854.0          58.0  \n",
       "999           Brazil    112300.0     9800.0         246.0  \n",
       "\n",
       "[1000 rows x 8 columns]"
      ],
      "text/html": [
       "<div>\n",
       "<style scoped>\n",
       "    .dataframe tbody tr th:only-of-type {\n",
       "        vertical-align: middle;\n",
       "    }\n",
       "\n",
       "    .dataframe tbody tr th {\n",
       "        vertical-align: top;\n",
       "    }\n",
       "\n",
       "    .dataframe thead th {\n",
       "        text-align: right;\n",
       "    }\n",
       "</style>\n",
       "<table border=\"1\" class=\"dataframe\">\n",
       "  <thead>\n",
       "    <tr style=\"text-align: right;\">\n",
       "      <th></th>\n",
       "      <th>youtuber name</th>\n",
       "      <th>channel name</th>\n",
       "      <th>Category</th>\n",
       "      <th>Subscribers</th>\n",
       "      <th>Audience Country</th>\n",
       "      <th>avg views</th>\n",
       "      <th>avg likes</th>\n",
       "      <th>avg comments</th>\n",
       "    </tr>\n",
       "  </thead>\n",
       "  <tbody>\n",
       "    <tr>\n",
       "      <th>0</th>\n",
       "      <td>tseries</td>\n",
       "      <td>T-Series</td>\n",
       "      <td>Music &amp; Dance</td>\n",
       "      <td>212100000.0</td>\n",
       "      <td>India</td>\n",
       "      <td>323700.0</td>\n",
       "      <td>9800.0</td>\n",
       "      <td>290.0</td>\n",
       "    </tr>\n",
       "    <tr>\n",
       "      <th>1</th>\n",
       "      <td>checkgate</td>\n",
       "      <td>Cocomelon - Nursery Rhymes</td>\n",
       "      <td>Education</td>\n",
       "      <td>132100000.0</td>\n",
       "      <td>NaN</td>\n",
       "      <td>13800000.0</td>\n",
       "      <td>80900.0</td>\n",
       "      <td>NaN</td>\n",
       "    </tr>\n",
       "    <tr>\n",
       "      <th>2</th>\n",
       "      <td>setindia</td>\n",
       "      <td>SET India</td>\n",
       "      <td>NaN</td>\n",
       "      <td>130400000.0</td>\n",
       "      <td>India</td>\n",
       "      <td>23600.0</td>\n",
       "      <td>314.0</td>\n",
       "      <td>21.0</td>\n",
       "    </tr>\n",
       "    <tr>\n",
       "      <th>3</th>\n",
       "      <td>PewDiePie</td>\n",
       "      <td>PewDiePie</td>\n",
       "      <td>Animation</td>\n",
       "      <td>111400000.0</td>\n",
       "      <td>United States</td>\n",
       "      <td>1400000.0</td>\n",
       "      <td>80800.0</td>\n",
       "      <td>4600.0</td>\n",
       "    </tr>\n",
       "    <tr>\n",
       "      <th>4</th>\n",
       "      <td>MrBeast6000</td>\n",
       "      <td>MrBeast</td>\n",
       "      <td>Video games</td>\n",
       "      <td>92500000.0</td>\n",
       "      <td>United States</td>\n",
       "      <td>30600000.0</td>\n",
       "      <td>1700000.0</td>\n",
       "      <td>67700.0</td>\n",
       "    </tr>\n",
       "    <tr>\n",
       "      <th>...</th>\n",
       "      <td>...</td>\n",
       "      <td>...</td>\n",
       "      <td>...</td>\n",
       "      <td>...</td>\n",
       "      <td>...</td>\n",
       "      <td>...</td>\n",
       "      <td>...</td>\n",
       "      <td>...</td>\n",
       "    </tr>\n",
       "    <tr>\n",
       "      <th>995</th>\n",
       "      <td>FutParódias</td>\n",
       "      <td>FutParódias</td>\n",
       "      <td>Music &amp; Dance</td>\n",
       "      <td>9200000.0</td>\n",
       "      <td>Brazil</td>\n",
       "      <td>1400000.0</td>\n",
       "      <td>110100.0</td>\n",
       "      <td>2500.0</td>\n",
       "    </tr>\n",
       "    <tr>\n",
       "      <th>996</th>\n",
       "      <td>EL GATO</td>\n",
       "      <td>EL GATO</td>\n",
       "      <td>Toys</td>\n",
       "      <td>9200000.0</td>\n",
       "      <td>Brazil</td>\n",
       "      <td>243800.0</td>\n",
       "      <td>30700.0</td>\n",
       "      <td>636.0</td>\n",
       "    </tr>\n",
       "    <tr>\n",
       "      <th>997</th>\n",
       "      <td>CinemaSins</td>\n",
       "      <td>CinemaSins</td>\n",
       "      <td>Movies</td>\n",
       "      <td>9200000.0</td>\n",
       "      <td>United States</td>\n",
       "      <td>296000.0</td>\n",
       "      <td>10200.0</td>\n",
       "      <td>874.0</td>\n",
       "    </tr>\n",
       "    <tr>\n",
       "      <th>998</th>\n",
       "      <td>CricketICC</td>\n",
       "      <td>ICC</td>\n",
       "      <td>Sports</td>\n",
       "      <td>9200000.0</td>\n",
       "      <td>India</td>\n",
       "      <td>15200.0</td>\n",
       "      <td>854.0</td>\n",
       "      <td>58.0</td>\n",
       "    </tr>\n",
       "    <tr>\n",
       "      <th>999</th>\n",
       "      <td>BRKsEDU</td>\n",
       "      <td>BRKsEDU</td>\n",
       "      <td>Animation</td>\n",
       "      <td>9200000.0</td>\n",
       "      <td>Brazil</td>\n",
       "      <td>112300.0</td>\n",
       "      <td>9800.0</td>\n",
       "      <td>246.0</td>\n",
       "    </tr>\n",
       "  </tbody>\n",
       "</table>\n",
       "<p>1000 rows × 8 columns</p>\n",
       "</div>"
      ]
     },
     "execution_count": 64,
     "metadata": {},
     "output_type": "execute_result"
    }
   ],
   "execution_count": 64
  },
  {
   "metadata": {
    "ExecuteTime": {
     "end_time": "2024-07-10T06:55:14.801883Z",
     "start_time": "2024-07-10T06:55:14.799946Z"
    }
   },
   "cell_type": "code",
   "source": "df.drop(['avg comments'], axis=1, inplace=True)",
   "id": "cec9f5f4aec0a3f2",
   "outputs": [],
   "execution_count": 65
  },
  {
   "metadata": {
    "ExecuteTime": {
     "end_time": "2024-07-10T06:55:14.832471Z",
     "start_time": "2024-07-10T06:55:14.828216Z"
    }
   },
   "cell_type": "code",
   "source": "df",
   "id": "9fb459785a1e1e9d",
   "outputs": [
    {
     "data": {
      "text/plain": [
       "    youtuber name                channel name       Category  Subscribers  \\\n",
       "0         tseries                    T-Series  Music & Dance  212100000.0   \n",
       "1       checkgate  Cocomelon - Nursery Rhymes      Education  132100000.0   \n",
       "2        setindia                   SET India            NaN  130400000.0   \n",
       "3       PewDiePie                   PewDiePie      Animation  111400000.0   \n",
       "4     MrBeast6000                     MrBeast    Video games   92500000.0   \n",
       "..            ...                         ...            ...          ...   \n",
       "995   FutParódias                 FutParódias  Music & Dance    9200000.0   \n",
       "996       EL GATO                     EL GATO           Toys    9200000.0   \n",
       "997    CinemaSins                  CinemaSins         Movies    9200000.0   \n",
       "998    CricketICC                         ICC         Sports    9200000.0   \n",
       "999       BRKsEDU                     BRKsEDU      Animation    9200000.0   \n",
       "\n",
       "    Audience Country   avg views  avg likes  \n",
       "0              India    323700.0     9800.0  \n",
       "1                NaN  13800000.0    80900.0  \n",
       "2              India     23600.0      314.0  \n",
       "3      United States   1400000.0    80800.0  \n",
       "4      United States  30600000.0  1700000.0  \n",
       "..               ...         ...        ...  \n",
       "995           Brazil   1400000.0   110100.0  \n",
       "996           Brazil    243800.0    30700.0  \n",
       "997    United States    296000.0    10200.0  \n",
       "998            India     15200.0      854.0  \n",
       "999           Brazil    112300.0     9800.0  \n",
       "\n",
       "[1000 rows x 7 columns]"
      ],
      "text/html": [
       "<div>\n",
       "<style scoped>\n",
       "    .dataframe tbody tr th:only-of-type {\n",
       "        vertical-align: middle;\n",
       "    }\n",
       "\n",
       "    .dataframe tbody tr th {\n",
       "        vertical-align: top;\n",
       "    }\n",
       "\n",
       "    .dataframe thead th {\n",
       "        text-align: right;\n",
       "    }\n",
       "</style>\n",
       "<table border=\"1\" class=\"dataframe\">\n",
       "  <thead>\n",
       "    <tr style=\"text-align: right;\">\n",
       "      <th></th>\n",
       "      <th>youtuber name</th>\n",
       "      <th>channel name</th>\n",
       "      <th>Category</th>\n",
       "      <th>Subscribers</th>\n",
       "      <th>Audience Country</th>\n",
       "      <th>avg views</th>\n",
       "      <th>avg likes</th>\n",
       "    </tr>\n",
       "  </thead>\n",
       "  <tbody>\n",
       "    <tr>\n",
       "      <th>0</th>\n",
       "      <td>tseries</td>\n",
       "      <td>T-Series</td>\n",
       "      <td>Music &amp; Dance</td>\n",
       "      <td>212100000.0</td>\n",
       "      <td>India</td>\n",
       "      <td>323700.0</td>\n",
       "      <td>9800.0</td>\n",
       "    </tr>\n",
       "    <tr>\n",
       "      <th>1</th>\n",
       "      <td>checkgate</td>\n",
       "      <td>Cocomelon - Nursery Rhymes</td>\n",
       "      <td>Education</td>\n",
       "      <td>132100000.0</td>\n",
       "      <td>NaN</td>\n",
       "      <td>13800000.0</td>\n",
       "      <td>80900.0</td>\n",
       "    </tr>\n",
       "    <tr>\n",
       "      <th>2</th>\n",
       "      <td>setindia</td>\n",
       "      <td>SET India</td>\n",
       "      <td>NaN</td>\n",
       "      <td>130400000.0</td>\n",
       "      <td>India</td>\n",
       "      <td>23600.0</td>\n",
       "      <td>314.0</td>\n",
       "    </tr>\n",
       "    <tr>\n",
       "      <th>3</th>\n",
       "      <td>PewDiePie</td>\n",
       "      <td>PewDiePie</td>\n",
       "      <td>Animation</td>\n",
       "      <td>111400000.0</td>\n",
       "      <td>United States</td>\n",
       "      <td>1400000.0</td>\n",
       "      <td>80800.0</td>\n",
       "    </tr>\n",
       "    <tr>\n",
       "      <th>4</th>\n",
       "      <td>MrBeast6000</td>\n",
       "      <td>MrBeast</td>\n",
       "      <td>Video games</td>\n",
       "      <td>92500000.0</td>\n",
       "      <td>United States</td>\n",
       "      <td>30600000.0</td>\n",
       "      <td>1700000.0</td>\n",
       "    </tr>\n",
       "    <tr>\n",
       "      <th>...</th>\n",
       "      <td>...</td>\n",
       "      <td>...</td>\n",
       "      <td>...</td>\n",
       "      <td>...</td>\n",
       "      <td>...</td>\n",
       "      <td>...</td>\n",
       "      <td>...</td>\n",
       "    </tr>\n",
       "    <tr>\n",
       "      <th>995</th>\n",
       "      <td>FutParódias</td>\n",
       "      <td>FutParódias</td>\n",
       "      <td>Music &amp; Dance</td>\n",
       "      <td>9200000.0</td>\n",
       "      <td>Brazil</td>\n",
       "      <td>1400000.0</td>\n",
       "      <td>110100.0</td>\n",
       "    </tr>\n",
       "    <tr>\n",
       "      <th>996</th>\n",
       "      <td>EL GATO</td>\n",
       "      <td>EL GATO</td>\n",
       "      <td>Toys</td>\n",
       "      <td>9200000.0</td>\n",
       "      <td>Brazil</td>\n",
       "      <td>243800.0</td>\n",
       "      <td>30700.0</td>\n",
       "    </tr>\n",
       "    <tr>\n",
       "      <th>997</th>\n",
       "      <td>CinemaSins</td>\n",
       "      <td>CinemaSins</td>\n",
       "      <td>Movies</td>\n",
       "      <td>9200000.0</td>\n",
       "      <td>United States</td>\n",
       "      <td>296000.0</td>\n",
       "      <td>10200.0</td>\n",
       "    </tr>\n",
       "    <tr>\n",
       "      <th>998</th>\n",
       "      <td>CricketICC</td>\n",
       "      <td>ICC</td>\n",
       "      <td>Sports</td>\n",
       "      <td>9200000.0</td>\n",
       "      <td>India</td>\n",
       "      <td>15200.0</td>\n",
       "      <td>854.0</td>\n",
       "    </tr>\n",
       "    <tr>\n",
       "      <th>999</th>\n",
       "      <td>BRKsEDU</td>\n",
       "      <td>BRKsEDU</td>\n",
       "      <td>Animation</td>\n",
       "      <td>9200000.0</td>\n",
       "      <td>Brazil</td>\n",
       "      <td>112300.0</td>\n",
       "      <td>9800.0</td>\n",
       "    </tr>\n",
       "  </tbody>\n",
       "</table>\n",
       "<p>1000 rows × 7 columns</p>\n",
       "</div>"
      ]
     },
     "execution_count": 66,
     "metadata": {},
     "output_type": "execute_result"
    }
   ],
   "execution_count": 66
  },
  {
   "metadata": {
    "ExecuteTime": {
     "end_time": "2024-07-10T06:55:14.853295Z",
     "start_time": "2024-07-10T06:55:14.850590Z"
    }
   },
   "cell_type": "code",
   "source": "df.isnull().sum()",
   "id": "5f5cdbf82a2582be",
   "outputs": [
    {
     "data": {
      "text/plain": [
       "youtuber name         0\n",
       "channel name          0\n",
       "Category            277\n",
       "Subscribers           0\n",
       "Audience Country    161\n",
       "avg views             0\n",
       "avg likes            38\n",
       "dtype: int64"
      ]
     },
     "execution_count": 67,
     "metadata": {},
     "output_type": "execute_result"
    }
   ],
   "execution_count": 67
  },
  {
   "metadata": {
    "ExecuteTime": {
     "end_time": "2024-07-10T06:55:14.862417Z",
     "start_time": "2024-07-10T06:55:14.860184Z"
    }
   },
   "cell_type": "code",
   "source": [
    "category=df['Category'].dropna().unique().tolist()\n",
    "category"
   ],
   "id": "17447f1970bd015",
   "outputs": [
    {
     "data": {
      "text/plain": [
       "['Music & Dance',\n",
       " 'Education',\n",
       " 'Animation',\n",
       " 'Video games',\n",
       " 'Toys',\n",
       " 'Movies',\n",
       " 'News & Politics',\n",
       " 'Daily vlogs',\n",
       " 'Humor',\n",
       " 'Beauty',\n",
       " 'Design/art',\n",
       " 'Fitness',\n",
       " 'DIY & Life Hacks',\n",
       " 'Food & Drinks',\n",
       " 'Sports',\n",
       " 'ASMR',\n",
       " 'Science & Technology',\n",
       " 'Fashion',\n",
       " 'Health & Self Help',\n",
       " 'Autos & Vehicles',\n",
       " 'Animals & Pets',\n",
       " 'Mystery',\n",
       " 'Travel']"
      ]
     },
     "execution_count": 68,
     "metadata": {},
     "output_type": "execute_result"
    }
   ],
   "execution_count": 68
  },
  {
   "metadata": {
    "ExecuteTime": {
     "end_time": "2024-07-10T06:55:14.889206Z",
     "start_time": "2024-07-10T06:55:14.887041Z"
    }
   },
   "cell_type": "code",
   "source": [
    "import random\n",
    "# Function to fill empty values with a random category\n",
    "def fill_with_random_category(value):\n",
    "    if pd.isnull(value):\n",
    "        return random.choice(category)\n",
    "    else:\n",
    "        return value\n",
    "df['Category'] = df['Category'].apply(fill_with_random_category)"
   ],
   "id": "53ff38c6a7d47c4e",
   "outputs": [],
   "execution_count": 69
  },
  {
   "metadata": {
    "ExecuteTime": {
     "end_time": "2024-07-10T06:55:14.903302Z",
     "start_time": "2024-07-10T06:55:14.900682Z"
    }
   },
   "cell_type": "code",
   "source": "df.isnull().sum()",
   "id": "18a36c1117612f3c",
   "outputs": [
    {
     "data": {
      "text/plain": [
       "youtuber name         0\n",
       "channel name          0\n",
       "Category              0\n",
       "Subscribers           0\n",
       "Audience Country    161\n",
       "avg views             0\n",
       "avg likes            38\n",
       "dtype: int64"
      ]
     },
     "execution_count": 70,
     "metadata": {},
     "output_type": "execute_result"
    }
   ],
   "execution_count": 70
  },
  {
   "metadata": {
    "ExecuteTime": {
     "end_time": "2024-07-10T06:55:14.912055Z",
     "start_time": "2024-07-10T06:55:14.909801Z"
    }
   },
   "cell_type": "code",
   "source": [
    "country=df['Audience Country'].dropna().unique().tolist()\n",
    "country"
   ],
   "id": "7344fac97fd0b4c0",
   "outputs": [
    {
     "data": {
      "text/plain": [
       "['India',\n",
       " 'United States',\n",
       " 'Brazil',\n",
       " 'Mexico',\n",
       " 'Russia',\n",
       " 'Philippines',\n",
       " 'Argentina',\n",
       " 'Thailand',\n",
       " 'France',\n",
       " 'Colombia',\n",
       " 'Indonesia',\n",
       " 'Pakistan',\n",
       " 'Ecuador',\n",
       " 'Iraq',\n",
       " 'Turkey',\n",
       " 'Saudi Arabia',\n",
       " 'Spain',\n",
       " 'Algeria',\n",
       " 'Egypt',\n",
       " 'Japan',\n",
       " 'Bangladesh',\n",
       " 'United Kingdom',\n",
       " 'Poland',\n",
       " 'Singapore',\n",
       " 'Peru',\n",
       " 'Cyprus',\n",
       " 'Morocco']"
      ]
     },
     "execution_count": 71,
     "metadata": {},
     "output_type": "execute_result"
    }
   ],
   "execution_count": 71
  },
  {
   "metadata": {
    "ExecuteTime": {
     "end_time": "2024-07-10T06:55:14.938093Z",
     "start_time": "2024-07-10T06:55:14.936106Z"
    }
   },
   "cell_type": "code",
   "source": [
    "import random\n",
    "# Function to fill empty values with a random category\n",
    "def fill_with_random_country(value):\n",
    "    if pd.isnull(value):\n",
    "        return random.choice(country)\n",
    "    else:\n",
    "        return value\n",
    "df['Audience Country'] = df['Audience Country'].apply(fill_with_random_country)"
   ],
   "id": "f997c70ab54ada45",
   "outputs": [],
   "execution_count": 72
  },
  {
   "metadata": {
    "ExecuteTime": {
     "end_time": "2024-07-10T06:55:24.386935Z",
     "start_time": "2024-07-10T06:55:24.378043Z"
    }
   },
   "cell_type": "code",
   "source": "df",
   "id": "ef3e176a3639a910",
   "outputs": [
    {
     "data": {
      "text/plain": [
       "    youtuber name                channel name       Category  Subscribers  \\\n",
       "0         tseries                    T-Series  Music & Dance  212100000.0   \n",
       "1       checkgate  Cocomelon - Nursery Rhymes      Education  132100000.0   \n",
       "2        setindia                   SET India         Sports  130400000.0   \n",
       "3       PewDiePie                   PewDiePie      Animation  111400000.0   \n",
       "4     MrBeast6000                     MrBeast    Video games   92500000.0   \n",
       "..            ...                         ...            ...          ...   \n",
       "995   FutParódias                 FutParódias  Music & Dance    9200000.0   \n",
       "996       EL GATO                     EL GATO           Toys    9200000.0   \n",
       "997    CinemaSins                  CinemaSins         Movies    9200000.0   \n",
       "998    CricketICC                         ICC         Sports    9200000.0   \n",
       "999       BRKsEDU                     BRKsEDU      Animation    9200000.0   \n",
       "\n",
       "    Audience Country   avg views  avg likes  \n",
       "0              India    323700.0     9800.0  \n",
       "1             Cyprus  13800000.0    80900.0  \n",
       "2              India     23600.0      314.0  \n",
       "3      United States   1400000.0    80800.0  \n",
       "4      United States  30600000.0  1700000.0  \n",
       "..               ...         ...        ...  \n",
       "995           Brazil   1400000.0   110100.0  \n",
       "996           Brazil    243800.0    30700.0  \n",
       "997    United States    296000.0    10200.0  \n",
       "998            India     15200.0      854.0  \n",
       "999           Brazil    112300.0     9800.0  \n",
       "\n",
       "[1000 rows x 7 columns]"
      ],
      "text/html": [
       "<div>\n",
       "<style scoped>\n",
       "    .dataframe tbody tr th:only-of-type {\n",
       "        vertical-align: middle;\n",
       "    }\n",
       "\n",
       "    .dataframe tbody tr th {\n",
       "        vertical-align: top;\n",
       "    }\n",
       "\n",
       "    .dataframe thead th {\n",
       "        text-align: right;\n",
       "    }\n",
       "</style>\n",
       "<table border=\"1\" class=\"dataframe\">\n",
       "  <thead>\n",
       "    <tr style=\"text-align: right;\">\n",
       "      <th></th>\n",
       "      <th>youtuber name</th>\n",
       "      <th>channel name</th>\n",
       "      <th>Category</th>\n",
       "      <th>Subscribers</th>\n",
       "      <th>Audience Country</th>\n",
       "      <th>avg views</th>\n",
       "      <th>avg likes</th>\n",
       "    </tr>\n",
       "  </thead>\n",
       "  <tbody>\n",
       "    <tr>\n",
       "      <th>0</th>\n",
       "      <td>tseries</td>\n",
       "      <td>T-Series</td>\n",
       "      <td>Music &amp; Dance</td>\n",
       "      <td>212100000.0</td>\n",
       "      <td>India</td>\n",
       "      <td>323700.0</td>\n",
       "      <td>9800.0</td>\n",
       "    </tr>\n",
       "    <tr>\n",
       "      <th>1</th>\n",
       "      <td>checkgate</td>\n",
       "      <td>Cocomelon - Nursery Rhymes</td>\n",
       "      <td>Education</td>\n",
       "      <td>132100000.0</td>\n",
       "      <td>Cyprus</td>\n",
       "      <td>13800000.0</td>\n",
       "      <td>80900.0</td>\n",
       "    </tr>\n",
       "    <tr>\n",
       "      <th>2</th>\n",
       "      <td>setindia</td>\n",
       "      <td>SET India</td>\n",
       "      <td>Sports</td>\n",
       "      <td>130400000.0</td>\n",
       "      <td>India</td>\n",
       "      <td>23600.0</td>\n",
       "      <td>314.0</td>\n",
       "    </tr>\n",
       "    <tr>\n",
       "      <th>3</th>\n",
       "      <td>PewDiePie</td>\n",
       "      <td>PewDiePie</td>\n",
       "      <td>Animation</td>\n",
       "      <td>111400000.0</td>\n",
       "      <td>United States</td>\n",
       "      <td>1400000.0</td>\n",
       "      <td>80800.0</td>\n",
       "    </tr>\n",
       "    <tr>\n",
       "      <th>4</th>\n",
       "      <td>MrBeast6000</td>\n",
       "      <td>MrBeast</td>\n",
       "      <td>Video games</td>\n",
       "      <td>92500000.0</td>\n",
       "      <td>United States</td>\n",
       "      <td>30600000.0</td>\n",
       "      <td>1700000.0</td>\n",
       "    </tr>\n",
       "    <tr>\n",
       "      <th>...</th>\n",
       "      <td>...</td>\n",
       "      <td>...</td>\n",
       "      <td>...</td>\n",
       "      <td>...</td>\n",
       "      <td>...</td>\n",
       "      <td>...</td>\n",
       "      <td>...</td>\n",
       "    </tr>\n",
       "    <tr>\n",
       "      <th>995</th>\n",
       "      <td>FutParódias</td>\n",
       "      <td>FutParódias</td>\n",
       "      <td>Music &amp; Dance</td>\n",
       "      <td>9200000.0</td>\n",
       "      <td>Brazil</td>\n",
       "      <td>1400000.0</td>\n",
       "      <td>110100.0</td>\n",
       "    </tr>\n",
       "    <tr>\n",
       "      <th>996</th>\n",
       "      <td>EL GATO</td>\n",
       "      <td>EL GATO</td>\n",
       "      <td>Toys</td>\n",
       "      <td>9200000.0</td>\n",
       "      <td>Brazil</td>\n",
       "      <td>243800.0</td>\n",
       "      <td>30700.0</td>\n",
       "    </tr>\n",
       "    <tr>\n",
       "      <th>997</th>\n",
       "      <td>CinemaSins</td>\n",
       "      <td>CinemaSins</td>\n",
       "      <td>Movies</td>\n",
       "      <td>9200000.0</td>\n",
       "      <td>United States</td>\n",
       "      <td>296000.0</td>\n",
       "      <td>10200.0</td>\n",
       "    </tr>\n",
       "    <tr>\n",
       "      <th>998</th>\n",
       "      <td>CricketICC</td>\n",
       "      <td>ICC</td>\n",
       "      <td>Sports</td>\n",
       "      <td>9200000.0</td>\n",
       "      <td>India</td>\n",
       "      <td>15200.0</td>\n",
       "      <td>854.0</td>\n",
       "    </tr>\n",
       "    <tr>\n",
       "      <th>999</th>\n",
       "      <td>BRKsEDU</td>\n",
       "      <td>BRKsEDU</td>\n",
       "      <td>Animation</td>\n",
       "      <td>9200000.0</td>\n",
       "      <td>Brazil</td>\n",
       "      <td>112300.0</td>\n",
       "      <td>9800.0</td>\n",
       "    </tr>\n",
       "  </tbody>\n",
       "</table>\n",
       "<p>1000 rows × 7 columns</p>\n",
       "</div>"
      ]
     },
     "execution_count": 73,
     "metadata": {},
     "output_type": "execute_result"
    }
   ],
   "execution_count": 73
  },
  {
   "metadata": {
    "ExecuteTime": {
     "end_time": "2024-07-10T06:55:38.153204Z",
     "start_time": "2024-07-10T06:55:38.150255Z"
    }
   },
   "cell_type": "code",
   "source": "df.isnull().sum()",
   "id": "c03cae012e056cb0",
   "outputs": [
    {
     "data": {
      "text/plain": [
       "youtuber name        0\n",
       "channel name         0\n",
       "Category             0\n",
       "Subscribers          0\n",
       "Audience Country     0\n",
       "avg views            0\n",
       "avg likes           38\n",
       "dtype: int64"
      ]
     },
     "execution_count": 74,
     "metadata": {},
     "output_type": "execute_result"
    }
   ],
   "execution_count": 74
  },
  {
   "metadata": {
    "ExecuteTime": {
     "end_time": "2024-07-10T06:55:59.460496Z",
     "start_time": "2024-07-10T06:55:59.456827Z"
    }
   },
   "cell_type": "code",
   "source": "df.info()",
   "id": "6b5ca6a18f731f28",
   "outputs": [
    {
     "name": "stdout",
     "output_type": "stream",
     "text": [
      "<class 'pandas.core.frame.DataFrame'>\n",
      "RangeIndex: 1000 entries, 0 to 999\n",
      "Data columns (total 7 columns):\n",
      " #   Column            Non-Null Count  Dtype  \n",
      "---  ------            --------------  -----  \n",
      " 0   youtuber name     1000 non-null   object \n",
      " 1   channel name      1000 non-null   object \n",
      " 2   Category          1000 non-null   object \n",
      " 3   Subscribers       1000 non-null   float64\n",
      " 4   Audience Country  1000 non-null   object \n",
      " 5   avg views         1000 non-null   float64\n",
      " 6   avg likes         962 non-null    float64\n",
      "dtypes: float64(3), object(4)\n",
      "memory usage: 54.8+ KB\n"
     ]
    }
   ],
   "execution_count": 75
  },
  {
   "metadata": {
    "ExecuteTime": {
     "end_time": "2024-07-10T06:56:06.226854Z",
     "start_time": "2024-07-10T06:56:05.578433Z"
    }
   },
   "cell_type": "code",
   "source": [
    "from sklearn.impute import SimpleImputer\n",
    "\n",
    "# Instantiate the imputer with your chosen strategy, e.g., 'mean'\n",
    "imputer = SimpleImputer(strategy='mean')\n",
    "\n",
    "# Assuming you want to impute missing values for numerical columns, select them\n",
    "numerical_cols = df.select_dtypes(include=['int64', 'float64']).columns\n",
    "\n",
    "# Fit the imputer and transform the selected columns\n",
    "df[numerical_cols] = imputer.fit_transform(df[numerical_cols])\n",
    "\n",
    "# Check if there are any missing values left\n",
    "print(df.isnull().sum())"
   ],
   "id": "34a30d126159c1e7",
   "outputs": [
    {
     "name": "stdout",
     "output_type": "stream",
     "text": [
      "youtuber name       0\n",
      "channel name        0\n",
      "Category            0\n",
      "Subscribers         0\n",
      "Audience Country    0\n",
      "avg views           0\n",
      "avg likes           0\n",
      "dtype: int64\n"
     ]
    }
   ],
   "execution_count": 76
  },
  {
   "metadata": {
    "ExecuteTime": {
     "end_time": "2024-07-10T07:06:52.961915Z",
     "start_time": "2024-07-10T07:06:52.916448Z"
    }
   },
   "cell_type": "code",
   "source": [
    "import plotly.express as px\n",
    "df_100=df.head(100)\n",
    "# Group by 'Country' and 'Category', then count the occurrences\n",
    "grouped_df = df_100.groupby(['Audience Country', 'Category']).size().reset_index(name='counts')\n",
    "\n",
    "# Pivot the DataFrame to have countries as rows and categories as columns\n",
    "pivot_df = grouped_df.pivot(index='Audience Country', columns='Category', values='counts').fillna(0)\n",
    "\n",
    "# Plot using Plotly Express\n",
    "fig = px.bar(pivot_df, barmode='group', title=\"Number of Categories in Every Country\")\n",
    "\n",
    "# Update layout for better readability\n",
    "fig.update_layout(xaxis_title=\"Country\", yaxis_title=\"Number of Categories\", xaxis={'categoryorder':'total descending'})\n",
    "\n",
    "fig.show()"
   ],
   "id": "d1dc386f824c0309",
   "outputs": [
    {
     "data": {
      "application/vnd.plotly.v1+json": {
       "data": [
        {
         "alignmentgroup": "True",
         "hovertemplate": "Category=ASMR<br>Audience Country=%{x}<br>value=%{y}<extra></extra>",
         "legendgroup": "ASMR",
         "marker": {
          "color": "#636efa",
          "pattern": {
           "shape": ""
          }
         },
         "name": "ASMR",
         "offsetgroup": "ASMR",
         "orientation": "v",
         "showlegend": true,
         "textposition": "auto",
         "x": [
          "Argentina",
          "Bangladesh",
          "Brazil",
          "Colombia",
          "Cyprus",
          "Egypt",
          "France",
          "India",
          "Indonesia",
          "Iraq",
          "Japan",
          "Mexico",
          "Philippines",
          "Russia",
          "Saudi Arabia",
          "Singapore",
          "Spain",
          "Thailand",
          "Turkey",
          "United Kingdom",
          "United States"
         ],
         "xaxis": "x",
         "y": [
          0.0,
          0.0,
          0.0,
          0.0,
          0.0,
          0.0,
          0.0,
          1.0,
          0.0,
          0.0,
          0.0,
          0.0,
          0.0,
          0.0,
          0.0,
          0.0,
          0.0,
          0.0,
          0.0,
          0.0,
          0.0
         ],
         "yaxis": "y",
         "type": "bar"
        },
        {
         "alignmentgroup": "True",
         "hovertemplate": "Category=Animation<br>Audience Country=%{x}<br>value=%{y}<extra></extra>",
         "legendgroup": "Animation",
         "marker": {
          "color": "#EF553B",
          "pattern": {
           "shape": ""
          }
         },
         "name": "Animation",
         "offsetgroup": "Animation",
         "orientation": "v",
         "showlegend": true,
         "textposition": "auto",
         "x": [
          "Argentina",
          "Bangladesh",
          "Brazil",
          "Colombia",
          "Cyprus",
          "Egypt",
          "France",
          "India",
          "Indonesia",
          "Iraq",
          "Japan",
          "Mexico",
          "Philippines",
          "Russia",
          "Saudi Arabia",
          "Singapore",
          "Spain",
          "Thailand",
          "Turkey",
          "United Kingdom",
          "United States"
         ],
         "xaxis": "x",
         "y": [
          0.0,
          0.0,
          1.0,
          1.0,
          0.0,
          0.0,
          0.0,
          0.0,
          0.0,
          0.0,
          1.0,
          3.0,
          0.0,
          1.0,
          0.0,
          1.0,
          1.0,
          1.0,
          1.0,
          0.0,
          3.0
         ],
         "yaxis": "y",
         "type": "bar"
        },
        {
         "alignmentgroup": "True",
         "hovertemplate": "Category=Autos & Vehicles<br>Audience Country=%{x}<br>value=%{y}<extra></extra>",
         "legendgroup": "Autos & Vehicles",
         "marker": {
          "color": "#00cc96",
          "pattern": {
           "shape": ""
          }
         },
         "name": "Autos & Vehicles",
         "offsetgroup": "Autos & Vehicles",
         "orientation": "v",
         "showlegend": true,
         "textposition": "auto",
         "x": [
          "Argentina",
          "Bangladesh",
          "Brazil",
          "Colombia",
          "Cyprus",
          "Egypt",
          "France",
          "India",
          "Indonesia",
          "Iraq",
          "Japan",
          "Mexico",
          "Philippines",
          "Russia",
          "Saudi Arabia",
          "Singapore",
          "Spain",
          "Thailand",
          "Turkey",
          "United Kingdom",
          "United States"
         ],
         "xaxis": "x",
         "y": [
          0.0,
          0.0,
          0.0,
          0.0,
          0.0,
          0.0,
          0.0,
          1.0,
          0.0,
          0.0,
          0.0,
          0.0,
          1.0,
          0.0,
          0.0,
          0.0,
          0.0,
          0.0,
          0.0,
          0.0,
          0.0
         ],
         "yaxis": "y",
         "type": "bar"
        },
        {
         "alignmentgroup": "True",
         "hovertemplate": "Category=Beauty<br>Audience Country=%{x}<br>value=%{y}<extra></extra>",
         "legendgroup": "Beauty",
         "marker": {
          "color": "#ab63fa",
          "pattern": {
           "shape": ""
          }
         },
         "name": "Beauty",
         "offsetgroup": "Beauty",
         "orientation": "v",
         "showlegend": true,
         "textposition": "auto",
         "x": [
          "Argentina",
          "Bangladesh",
          "Brazil",
          "Colombia",
          "Cyprus",
          "Egypt",
          "France",
          "India",
          "Indonesia",
          "Iraq",
          "Japan",
          "Mexico",
          "Philippines",
          "Russia",
          "Saudi Arabia",
          "Singapore",
          "Spain",
          "Thailand",
          "Turkey",
          "United Kingdom",
          "United States"
         ],
         "xaxis": "x",
         "y": [
          0.0,
          1.0,
          1.0,
          0.0,
          0.0,
          0.0,
          0.0,
          1.0,
          0.0,
          0.0,
          0.0,
          0.0,
          0.0,
          0.0,
          0.0,
          0.0,
          0.0,
          0.0,
          0.0,
          0.0,
          0.0
         ],
         "yaxis": "y",
         "type": "bar"
        },
        {
         "alignmentgroup": "True",
         "hovertemplate": "Category=Daily vlogs<br>Audience Country=%{x}<br>value=%{y}<extra></extra>",
         "legendgroup": "Daily vlogs",
         "marker": {
          "color": "#FFA15A",
          "pattern": {
           "shape": ""
          }
         },
         "name": "Daily vlogs",
         "offsetgroup": "Daily vlogs",
         "orientation": "v",
         "showlegend": true,
         "textposition": "auto",
         "x": [
          "Argentina",
          "Bangladesh",
          "Brazil",
          "Colombia",
          "Cyprus",
          "Egypt",
          "France",
          "India",
          "Indonesia",
          "Iraq",
          "Japan",
          "Mexico",
          "Philippines",
          "Russia",
          "Saudi Arabia",
          "Singapore",
          "Spain",
          "Thailand",
          "Turkey",
          "United Kingdom",
          "United States"
         ],
         "xaxis": "x",
         "y": [
          0.0,
          0.0,
          0.0,
          0.0,
          0.0,
          0.0,
          1.0,
          0.0,
          0.0,
          1.0,
          0.0,
          1.0,
          0.0,
          0.0,
          0.0,
          0.0,
          0.0,
          1.0,
          0.0,
          0.0,
          0.0
         ],
         "yaxis": "y",
         "type": "bar"
        },
        {
         "alignmentgroup": "True",
         "hovertemplate": "Category=Design/art<br>Audience Country=%{x}<br>value=%{y}<extra></extra>",
         "legendgroup": "Design/art",
         "marker": {
          "color": "#19d3f3",
          "pattern": {
           "shape": ""
          }
         },
         "name": "Design/art",
         "offsetgroup": "Design/art",
         "orientation": "v",
         "showlegend": true,
         "textposition": "auto",
         "x": [
          "Argentina",
          "Bangladesh",
          "Brazil",
          "Colombia",
          "Cyprus",
          "Egypt",
          "France",
          "India",
          "Indonesia",
          "Iraq",
          "Japan",
          "Mexico",
          "Philippines",
          "Russia",
          "Saudi Arabia",
          "Singapore",
          "Spain",
          "Thailand",
          "Turkey",
          "United Kingdom",
          "United States"
         ],
         "xaxis": "x",
         "y": [
          0.0,
          0.0,
          0.0,
          0.0,
          0.0,
          0.0,
          0.0,
          1.0,
          0.0,
          0.0,
          0.0,
          0.0,
          0.0,
          0.0,
          0.0,
          0.0,
          0.0,
          0.0,
          0.0,
          0.0,
          0.0
         ],
         "yaxis": "y",
         "type": "bar"
        },
        {
         "alignmentgroup": "True",
         "hovertemplate": "Category=Education<br>Audience Country=%{x}<br>value=%{y}<extra></extra>",
         "legendgroup": "Education",
         "marker": {
          "color": "#FF6692",
          "pattern": {
           "shape": ""
          }
         },
         "name": "Education",
         "offsetgroup": "Education",
         "orientation": "v",
         "showlegend": true,
         "textposition": "auto",
         "x": [
          "Argentina",
          "Bangladesh",
          "Brazil",
          "Colombia",
          "Cyprus",
          "Egypt",
          "France",
          "India",
          "Indonesia",
          "Iraq",
          "Japan",
          "Mexico",
          "Philippines",
          "Russia",
          "Saudi Arabia",
          "Singapore",
          "Spain",
          "Thailand",
          "Turkey",
          "United Kingdom",
          "United States"
         ],
         "xaxis": "x",
         "y": [
          0.0,
          1.0,
          0.0,
          1.0,
          1.0,
          0.0,
          0.0,
          2.0,
          0.0,
          0.0,
          0.0,
          0.0,
          0.0,
          0.0,
          0.0,
          0.0,
          0.0,
          0.0,
          0.0,
          1.0,
          1.0
         ],
         "yaxis": "y",
         "type": "bar"
        },
        {
         "alignmentgroup": "True",
         "hovertemplate": "Category=Fashion<br>Audience Country=%{x}<br>value=%{y}<extra></extra>",
         "legendgroup": "Fashion",
         "marker": {
          "color": "#B6E880",
          "pattern": {
           "shape": ""
          }
         },
         "name": "Fashion",
         "offsetgroup": "Fashion",
         "orientation": "v",
         "showlegend": true,
         "textposition": "auto",
         "x": [
          "Argentina",
          "Bangladesh",
          "Brazil",
          "Colombia",
          "Cyprus",
          "Egypt",
          "France",
          "India",
          "Indonesia",
          "Iraq",
          "Japan",
          "Mexico",
          "Philippines",
          "Russia",
          "Saudi Arabia",
          "Singapore",
          "Spain",
          "Thailand",
          "Turkey",
          "United Kingdom",
          "United States"
         ],
         "xaxis": "x",
         "y": [
          0.0,
          0.0,
          0.0,
          0.0,
          0.0,
          0.0,
          0.0,
          0.0,
          0.0,
          0.0,
          0.0,
          0.0,
          0.0,
          0.0,
          0.0,
          0.0,
          0.0,
          1.0,
          0.0,
          0.0,
          0.0
         ],
         "yaxis": "y",
         "type": "bar"
        },
        {
         "alignmentgroup": "True",
         "hovertemplate": "Category=Fitness<br>Audience Country=%{x}<br>value=%{y}<extra></extra>",
         "legendgroup": "Fitness",
         "marker": {
          "color": "#FF97FF",
          "pattern": {
           "shape": ""
          }
         },
         "name": "Fitness",
         "offsetgroup": "Fitness",
         "orientation": "v",
         "showlegend": true,
         "textposition": "auto",
         "x": [
          "Argentina",
          "Bangladesh",
          "Brazil",
          "Colombia",
          "Cyprus",
          "Egypt",
          "France",
          "India",
          "Indonesia",
          "Iraq",
          "Japan",
          "Mexico",
          "Philippines",
          "Russia",
          "Saudi Arabia",
          "Singapore",
          "Spain",
          "Thailand",
          "Turkey",
          "United Kingdom",
          "United States"
         ],
         "xaxis": "x",
         "y": [
          0.0,
          0.0,
          0.0,
          0.0,
          0.0,
          0.0,
          0.0,
          2.0,
          0.0,
          0.0,
          0.0,
          0.0,
          0.0,
          0.0,
          0.0,
          0.0,
          0.0,
          0.0,
          0.0,
          0.0,
          0.0
         ],
         "yaxis": "y",
         "type": "bar"
        },
        {
         "alignmentgroup": "True",
         "hovertemplate": "Category=Food & Drinks<br>Audience Country=%{x}<br>value=%{y}<extra></extra>",
         "legendgroup": "Food & Drinks",
         "marker": {
          "color": "#FECB52",
          "pattern": {
           "shape": ""
          }
         },
         "name": "Food & Drinks",
         "offsetgroup": "Food & Drinks",
         "orientation": "v",
         "showlegend": true,
         "textposition": "auto",
         "x": [
          "Argentina",
          "Bangladesh",
          "Brazil",
          "Colombia",
          "Cyprus",
          "Egypt",
          "France",
          "India",
          "Indonesia",
          "Iraq",
          "Japan",
          "Mexico",
          "Philippines",
          "Russia",
          "Saudi Arabia",
          "Singapore",
          "Spain",
          "Thailand",
          "Turkey",
          "United Kingdom",
          "United States"
         ],
         "xaxis": "x",
         "y": [
          0.0,
          0.0,
          1.0,
          0.0,
          0.0,
          0.0,
          0.0,
          0.0,
          0.0,
          0.0,
          0.0,
          1.0,
          0.0,
          0.0,
          0.0,
          0.0,
          0.0,
          0.0,
          0.0,
          0.0,
          0.0
         ],
         "yaxis": "y",
         "type": "bar"
        },
        {
         "alignmentgroup": "True",
         "hovertemplate": "Category=Health & Self Help<br>Audience Country=%{x}<br>value=%{y}<extra></extra>",
         "legendgroup": "Health & Self Help",
         "marker": {
          "color": "#636efa",
          "pattern": {
           "shape": ""
          }
         },
         "name": "Health & Self Help",
         "offsetgroup": "Health & Self Help",
         "orientation": "v",
         "showlegend": true,
         "textposition": "auto",
         "x": [
          "Argentina",
          "Bangladesh",
          "Brazil",
          "Colombia",
          "Cyprus",
          "Egypt",
          "France",
          "India",
          "Indonesia",
          "Iraq",
          "Japan",
          "Mexico",
          "Philippines",
          "Russia",
          "Saudi Arabia",
          "Singapore",
          "Spain",
          "Thailand",
          "Turkey",
          "United Kingdom",
          "United States"
         ],
         "xaxis": "x",
         "y": [
          0.0,
          0.0,
          0.0,
          0.0,
          0.0,
          0.0,
          0.0,
          0.0,
          0.0,
          0.0,
          0.0,
          1.0,
          0.0,
          0.0,
          0.0,
          0.0,
          0.0,
          0.0,
          0.0,
          0.0,
          0.0
         ],
         "yaxis": "y",
         "type": "bar"
        },
        {
         "alignmentgroup": "True",
         "hovertemplate": "Category=Humor<br>Audience Country=%{x}<br>value=%{y}<extra></extra>",
         "legendgroup": "Humor",
         "marker": {
          "color": "#EF553B",
          "pattern": {
           "shape": ""
          }
         },
         "name": "Humor",
         "offsetgroup": "Humor",
         "orientation": "v",
         "showlegend": true,
         "textposition": "auto",
         "x": [
          "Argentina",
          "Bangladesh",
          "Brazil",
          "Colombia",
          "Cyprus",
          "Egypt",
          "France",
          "India",
          "Indonesia",
          "Iraq",
          "Japan",
          "Mexico",
          "Philippines",
          "Russia",
          "Saudi Arabia",
          "Singapore",
          "Spain",
          "Thailand",
          "Turkey",
          "United Kingdom",
          "United States"
         ],
         "xaxis": "x",
         "y": [
          0.0,
          0.0,
          0.0,
          0.0,
          0.0,
          0.0,
          0.0,
          0.0,
          0.0,
          0.0,
          0.0,
          0.0,
          0.0,
          0.0,
          0.0,
          0.0,
          0.0,
          0.0,
          0.0,
          0.0,
          1.0
         ],
         "yaxis": "y",
         "type": "bar"
        },
        {
         "alignmentgroup": "True",
         "hovertemplate": "Category=Movies<br>Audience Country=%{x}<br>value=%{y}<extra></extra>",
         "legendgroup": "Movies",
         "marker": {
          "color": "#00cc96",
          "pattern": {
           "shape": ""
          }
         },
         "name": "Movies",
         "offsetgroup": "Movies",
         "orientation": "v",
         "showlegend": true,
         "textposition": "auto",
         "x": [
          "Argentina",
          "Bangladesh",
          "Brazil",
          "Colombia",
          "Cyprus",
          "Egypt",
          "France",
          "India",
          "Indonesia",
          "Iraq",
          "Japan",
          "Mexico",
          "Philippines",
          "Russia",
          "Saudi Arabia",
          "Singapore",
          "Spain",
          "Thailand",
          "Turkey",
          "United Kingdom",
          "United States"
         ],
         "xaxis": "x",
         "y": [
          0.0,
          0.0,
          1.0,
          0.0,
          0.0,
          0.0,
          0.0,
          2.0,
          0.0,
          0.0,
          0.0,
          0.0,
          0.0,
          0.0,
          0.0,
          0.0,
          0.0,
          0.0,
          0.0,
          0.0,
          0.0
         ],
         "yaxis": "y",
         "type": "bar"
        },
        {
         "alignmentgroup": "True",
         "hovertemplate": "Category=Music & Dance<br>Audience Country=%{x}<br>value=%{y}<extra></extra>",
         "legendgroup": "Music & Dance",
         "marker": {
          "color": "#ab63fa",
          "pattern": {
           "shape": ""
          }
         },
         "name": "Music & Dance",
         "offsetgroup": "Music & Dance",
         "orientation": "v",
         "showlegend": true,
         "textposition": "auto",
         "x": [
          "Argentina",
          "Bangladesh",
          "Brazil",
          "Colombia",
          "Cyprus",
          "Egypt",
          "France",
          "India",
          "Indonesia",
          "Iraq",
          "Japan",
          "Mexico",
          "Philippines",
          "Russia",
          "Saudi Arabia",
          "Singapore",
          "Spain",
          "Thailand",
          "Turkey",
          "United Kingdom",
          "United States"
         ],
         "xaxis": "x",
         "y": [
          2.0,
          0.0,
          2.0,
          1.0,
          1.0,
          1.0,
          0.0,
          15.0,
          2.0,
          0.0,
          0.0,
          0.0,
          0.0,
          0.0,
          0.0,
          1.0,
          0.0,
          1.0,
          0.0,
          0.0,
          11.0
         ],
         "yaxis": "y",
         "type": "bar"
        },
        {
         "alignmentgroup": "True",
         "hovertemplate": "Category=Mystery<br>Audience Country=%{x}<br>value=%{y}<extra></extra>",
         "legendgroup": "Mystery",
         "marker": {
          "color": "#FFA15A",
          "pattern": {
           "shape": ""
          }
         },
         "name": "Mystery",
         "offsetgroup": "Mystery",
         "orientation": "v",
         "showlegend": true,
         "textposition": "auto",
         "x": [
          "Argentina",
          "Bangladesh",
          "Brazil",
          "Colombia",
          "Cyprus",
          "Egypt",
          "France",
          "India",
          "Indonesia",
          "Iraq",
          "Japan",
          "Mexico",
          "Philippines",
          "Russia",
          "Saudi Arabia",
          "Singapore",
          "Spain",
          "Thailand",
          "Turkey",
          "United Kingdom",
          "United States"
         ],
         "xaxis": "x",
         "y": [
          0.0,
          0.0,
          0.0,
          0.0,
          0.0,
          0.0,
          0.0,
          0.0,
          0.0,
          0.0,
          0.0,
          0.0,
          0.0,
          0.0,
          0.0,
          0.0,
          0.0,
          0.0,
          0.0,
          0.0,
          1.0
         ],
         "yaxis": "y",
         "type": "bar"
        },
        {
         "alignmentgroup": "True",
         "hovertemplate": "Category=News & Politics<br>Audience Country=%{x}<br>value=%{y}<extra></extra>",
         "legendgroup": "News & Politics",
         "marker": {
          "color": "#19d3f3",
          "pattern": {
           "shape": ""
          }
         },
         "name": "News & Politics",
         "offsetgroup": "News & Politics",
         "orientation": "v",
         "showlegend": true,
         "textposition": "auto",
         "x": [
          "Argentina",
          "Bangladesh",
          "Brazil",
          "Colombia",
          "Cyprus",
          "Egypt",
          "France",
          "India",
          "Indonesia",
          "Iraq",
          "Japan",
          "Mexico",
          "Philippines",
          "Russia",
          "Saudi Arabia",
          "Singapore",
          "Spain",
          "Thailand",
          "Turkey",
          "United Kingdom",
          "United States"
         ],
         "xaxis": "x",
         "y": [
          0.0,
          0.0,
          0.0,
          0.0,
          0.0,
          0.0,
          0.0,
          3.0,
          0.0,
          0.0,
          0.0,
          0.0,
          0.0,
          0.0,
          0.0,
          0.0,
          0.0,
          0.0,
          0.0,
          0.0,
          1.0
         ],
         "yaxis": "y",
         "type": "bar"
        },
        {
         "alignmentgroup": "True",
         "hovertemplate": "Category=Science & Technology<br>Audience Country=%{x}<br>value=%{y}<extra></extra>",
         "legendgroup": "Science & Technology",
         "marker": {
          "color": "#FF6692",
          "pattern": {
           "shape": ""
          }
         },
         "name": "Science & Technology",
         "offsetgroup": "Science & Technology",
         "orientation": "v",
         "showlegend": true,
         "textposition": "auto",
         "x": [
          "Argentina",
          "Bangladesh",
          "Brazil",
          "Colombia",
          "Cyprus",
          "Egypt",
          "France",
          "India",
          "Indonesia",
          "Iraq",
          "Japan",
          "Mexico",
          "Philippines",
          "Russia",
          "Saudi Arabia",
          "Singapore",
          "Spain",
          "Thailand",
          "Turkey",
          "United Kingdom",
          "United States"
         ],
         "xaxis": "x",
         "y": [
          0.0,
          0.0,
          0.0,
          0.0,
          0.0,
          0.0,
          0.0,
          0.0,
          0.0,
          0.0,
          0.0,
          0.0,
          0.0,
          0.0,
          0.0,
          0.0,
          0.0,
          0.0,
          0.0,
          0.0,
          1.0
         ],
         "yaxis": "y",
         "type": "bar"
        },
        {
         "alignmentgroup": "True",
         "hovertemplate": "Category=Sports<br>Audience Country=%{x}<br>value=%{y}<extra></extra>",
         "legendgroup": "Sports",
         "marker": {
          "color": "#B6E880",
          "pattern": {
           "shape": ""
          }
         },
         "name": "Sports",
         "offsetgroup": "Sports",
         "orientation": "v",
         "showlegend": true,
         "textposition": "auto",
         "x": [
          "Argentina",
          "Bangladesh",
          "Brazil",
          "Colombia",
          "Cyprus",
          "Egypt",
          "France",
          "India",
          "Indonesia",
          "Iraq",
          "Japan",
          "Mexico",
          "Philippines",
          "Russia",
          "Saudi Arabia",
          "Singapore",
          "Spain",
          "Thailand",
          "Turkey",
          "United Kingdom",
          "United States"
         ],
         "xaxis": "x",
         "y": [
          0.0,
          0.0,
          0.0,
          0.0,
          0.0,
          0.0,
          0.0,
          2.0,
          0.0,
          0.0,
          0.0,
          0.0,
          0.0,
          0.0,
          0.0,
          0.0,
          0.0,
          0.0,
          0.0,
          0.0,
          0.0
         ],
         "yaxis": "y",
         "type": "bar"
        },
        {
         "alignmentgroup": "True",
         "hovertemplate": "Category=Toys<br>Audience Country=%{x}<br>value=%{y}<extra></extra>",
         "legendgroup": "Toys",
         "marker": {
          "color": "#FF97FF",
          "pattern": {
           "shape": ""
          }
         },
         "name": "Toys",
         "offsetgroup": "Toys",
         "orientation": "v",
         "showlegend": true,
         "textposition": "auto",
         "x": [
          "Argentina",
          "Bangladesh",
          "Brazil",
          "Colombia",
          "Cyprus",
          "Egypt",
          "France",
          "India",
          "Indonesia",
          "Iraq",
          "Japan",
          "Mexico",
          "Philippines",
          "Russia",
          "Saudi Arabia",
          "Singapore",
          "Spain",
          "Thailand",
          "Turkey",
          "United Kingdom",
          "United States"
         ],
         "xaxis": "x",
         "y": [
          0.0,
          0.0,
          0.0,
          0.0,
          0.0,
          0.0,
          0.0,
          1.0,
          0.0,
          0.0,
          0.0,
          0.0,
          0.0,
          0.0,
          1.0,
          0.0,
          0.0,
          0.0,
          1.0,
          0.0,
          0.0
         ],
         "yaxis": "y",
         "type": "bar"
        },
        {
         "alignmentgroup": "True",
         "hovertemplate": "Category=Travel<br>Audience Country=%{x}<br>value=%{y}<extra></extra>",
         "legendgroup": "Travel",
         "marker": {
          "color": "#FECB52",
          "pattern": {
           "shape": ""
          }
         },
         "name": "Travel",
         "offsetgroup": "Travel",
         "orientation": "v",
         "showlegend": true,
         "textposition": "auto",
         "x": [
          "Argentina",
          "Bangladesh",
          "Brazil",
          "Colombia",
          "Cyprus",
          "Egypt",
          "France",
          "India",
          "Indonesia",
          "Iraq",
          "Japan",
          "Mexico",
          "Philippines",
          "Russia",
          "Saudi Arabia",
          "Singapore",
          "Spain",
          "Thailand",
          "Turkey",
          "United Kingdom",
          "United States"
         ],
         "xaxis": "x",
         "y": [
          0.0,
          0.0,
          1.0,
          0.0,
          0.0,
          0.0,
          0.0,
          1.0,
          0.0,
          0.0,
          0.0,
          0.0,
          0.0,
          0.0,
          0.0,
          0.0,
          0.0,
          1.0,
          0.0,
          0.0,
          0.0
         ],
         "yaxis": "y",
         "type": "bar"
        },
        {
         "alignmentgroup": "True",
         "hovertemplate": "Category=Video games<br>Audience Country=%{x}<br>value=%{y}<extra></extra>",
         "legendgroup": "Video games",
         "marker": {
          "color": "#636efa",
          "pattern": {
           "shape": ""
          }
         },
         "name": "Video games",
         "offsetgroup": "Video games",
         "orientation": "v",
         "showlegend": true,
         "textposition": "auto",
         "x": [
          "Argentina",
          "Bangladesh",
          "Brazil",
          "Colombia",
          "Cyprus",
          "Egypt",
          "France",
          "India",
          "Indonesia",
          "Iraq",
          "Japan",
          "Mexico",
          "Philippines",
          "Russia",
          "Saudi Arabia",
          "Singapore",
          "Spain",
          "Thailand",
          "Turkey",
          "United Kingdom",
          "United States"
         ],
         "xaxis": "x",
         "y": [
          0.0,
          0.0,
          1.0,
          0.0,
          0.0,
          0.0,
          0.0,
          1.0,
          0.0,
          0.0,
          0.0,
          2.0,
          0.0,
          0.0,
          0.0,
          0.0,
          0.0,
          0.0,
          0.0,
          0.0,
          3.0
         ],
         "yaxis": "y",
         "type": "bar"
        }
       ],
       "layout": {
        "template": {
         "data": {
          "histogram2dcontour": [
           {
            "type": "histogram2dcontour",
            "colorbar": {
             "outlinewidth": 0,
             "ticks": ""
            },
            "colorscale": [
             [
              0.0,
              "#0d0887"
             ],
             [
              0.1111111111111111,
              "#46039f"
             ],
             [
              0.2222222222222222,
              "#7201a8"
             ],
             [
              0.3333333333333333,
              "#9c179e"
             ],
             [
              0.4444444444444444,
              "#bd3786"
             ],
             [
              0.5555555555555556,
              "#d8576b"
             ],
             [
              0.6666666666666666,
              "#ed7953"
             ],
             [
              0.7777777777777778,
              "#fb9f3a"
             ],
             [
              0.8888888888888888,
              "#fdca26"
             ],
             [
              1.0,
              "#f0f921"
             ]
            ]
           }
          ],
          "choropleth": [
           {
            "type": "choropleth",
            "colorbar": {
             "outlinewidth": 0,
             "ticks": ""
            }
           }
          ],
          "histogram2d": [
           {
            "type": "histogram2d",
            "colorbar": {
             "outlinewidth": 0,
             "ticks": ""
            },
            "colorscale": [
             [
              0.0,
              "#0d0887"
             ],
             [
              0.1111111111111111,
              "#46039f"
             ],
             [
              0.2222222222222222,
              "#7201a8"
             ],
             [
              0.3333333333333333,
              "#9c179e"
             ],
             [
              0.4444444444444444,
              "#bd3786"
             ],
             [
              0.5555555555555556,
              "#d8576b"
             ],
             [
              0.6666666666666666,
              "#ed7953"
             ],
             [
              0.7777777777777778,
              "#fb9f3a"
             ],
             [
              0.8888888888888888,
              "#fdca26"
             ],
             [
              1.0,
              "#f0f921"
             ]
            ]
           }
          ],
          "heatmap": [
           {
            "type": "heatmap",
            "colorbar": {
             "outlinewidth": 0,
             "ticks": ""
            },
            "colorscale": [
             [
              0.0,
              "#0d0887"
             ],
             [
              0.1111111111111111,
              "#46039f"
             ],
             [
              0.2222222222222222,
              "#7201a8"
             ],
             [
              0.3333333333333333,
              "#9c179e"
             ],
             [
              0.4444444444444444,
              "#bd3786"
             ],
             [
              0.5555555555555556,
              "#d8576b"
             ],
             [
              0.6666666666666666,
              "#ed7953"
             ],
             [
              0.7777777777777778,
              "#fb9f3a"
             ],
             [
              0.8888888888888888,
              "#fdca26"
             ],
             [
              1.0,
              "#f0f921"
             ]
            ]
           }
          ],
          "heatmapgl": [
           {
            "type": "heatmapgl",
            "colorbar": {
             "outlinewidth": 0,
             "ticks": ""
            },
            "colorscale": [
             [
              0.0,
              "#0d0887"
             ],
             [
              0.1111111111111111,
              "#46039f"
             ],
             [
              0.2222222222222222,
              "#7201a8"
             ],
             [
              0.3333333333333333,
              "#9c179e"
             ],
             [
              0.4444444444444444,
              "#bd3786"
             ],
             [
              0.5555555555555556,
              "#d8576b"
             ],
             [
              0.6666666666666666,
              "#ed7953"
             ],
             [
              0.7777777777777778,
              "#fb9f3a"
             ],
             [
              0.8888888888888888,
              "#fdca26"
             ],
             [
              1.0,
              "#f0f921"
             ]
            ]
           }
          ],
          "contourcarpet": [
           {
            "type": "contourcarpet",
            "colorbar": {
             "outlinewidth": 0,
             "ticks": ""
            }
           }
          ],
          "contour": [
           {
            "type": "contour",
            "colorbar": {
             "outlinewidth": 0,
             "ticks": ""
            },
            "colorscale": [
             [
              0.0,
              "#0d0887"
             ],
             [
              0.1111111111111111,
              "#46039f"
             ],
             [
              0.2222222222222222,
              "#7201a8"
             ],
             [
              0.3333333333333333,
              "#9c179e"
             ],
             [
              0.4444444444444444,
              "#bd3786"
             ],
             [
              0.5555555555555556,
              "#d8576b"
             ],
             [
              0.6666666666666666,
              "#ed7953"
             ],
             [
              0.7777777777777778,
              "#fb9f3a"
             ],
             [
              0.8888888888888888,
              "#fdca26"
             ],
             [
              1.0,
              "#f0f921"
             ]
            ]
           }
          ],
          "surface": [
           {
            "type": "surface",
            "colorbar": {
             "outlinewidth": 0,
             "ticks": ""
            },
            "colorscale": [
             [
              0.0,
              "#0d0887"
             ],
             [
              0.1111111111111111,
              "#46039f"
             ],
             [
              0.2222222222222222,
              "#7201a8"
             ],
             [
              0.3333333333333333,
              "#9c179e"
             ],
             [
              0.4444444444444444,
              "#bd3786"
             ],
             [
              0.5555555555555556,
              "#d8576b"
             ],
             [
              0.6666666666666666,
              "#ed7953"
             ],
             [
              0.7777777777777778,
              "#fb9f3a"
             ],
             [
              0.8888888888888888,
              "#fdca26"
             ],
             [
              1.0,
              "#f0f921"
             ]
            ]
           }
          ],
          "mesh3d": [
           {
            "type": "mesh3d",
            "colorbar": {
             "outlinewidth": 0,
             "ticks": ""
            }
           }
          ],
          "scatter": [
           {
            "marker": {
             "line": {
              "color": "#283442"
             }
            },
            "type": "scatter"
           }
          ],
          "parcoords": [
           {
            "type": "parcoords",
            "line": {
             "colorbar": {
              "outlinewidth": 0,
              "ticks": ""
             }
            }
           }
          ],
          "scatterpolargl": [
           {
            "type": "scatterpolargl",
            "marker": {
             "colorbar": {
              "outlinewidth": 0,
              "ticks": ""
             }
            }
           }
          ],
          "bar": [
           {
            "error_x": {
             "color": "#f2f5fa"
            },
            "error_y": {
             "color": "#f2f5fa"
            },
            "marker": {
             "line": {
              "color": "rgb(17,17,17)",
              "width": 0.5
             },
             "pattern": {
              "fillmode": "overlay",
              "size": 10,
              "solidity": 0.2
             }
            },
            "type": "bar"
           }
          ],
          "scattergeo": [
           {
            "type": "scattergeo",
            "marker": {
             "colorbar": {
              "outlinewidth": 0,
              "ticks": ""
             }
            }
           }
          ],
          "scatterpolar": [
           {
            "type": "scatterpolar",
            "marker": {
             "colorbar": {
              "outlinewidth": 0,
              "ticks": ""
             }
            }
           }
          ],
          "histogram": [
           {
            "marker": {
             "pattern": {
              "fillmode": "overlay",
              "size": 10,
              "solidity": 0.2
             }
            },
            "type": "histogram"
           }
          ],
          "scattergl": [
           {
            "marker": {
             "line": {
              "color": "#283442"
             }
            },
            "type": "scattergl"
           }
          ],
          "scatter3d": [
           {
            "type": "scatter3d",
            "line": {
             "colorbar": {
              "outlinewidth": 0,
              "ticks": ""
             }
            },
            "marker": {
             "colorbar": {
              "outlinewidth": 0,
              "ticks": ""
             }
            }
           }
          ],
          "scattermapbox": [
           {
            "type": "scattermapbox",
            "marker": {
             "colorbar": {
              "outlinewidth": 0,
              "ticks": ""
             }
            }
           }
          ],
          "scatterternary": [
           {
            "type": "scatterternary",
            "marker": {
             "colorbar": {
              "outlinewidth": 0,
              "ticks": ""
             }
            }
           }
          ],
          "scattercarpet": [
           {
            "type": "scattercarpet",
            "marker": {
             "colorbar": {
              "outlinewidth": 0,
              "ticks": ""
             }
            }
           }
          ],
          "carpet": [
           {
            "aaxis": {
             "endlinecolor": "#A2B1C6",
             "gridcolor": "#506784",
             "linecolor": "#506784",
             "minorgridcolor": "#506784",
             "startlinecolor": "#A2B1C6"
            },
            "baxis": {
             "endlinecolor": "#A2B1C6",
             "gridcolor": "#506784",
             "linecolor": "#506784",
             "minorgridcolor": "#506784",
             "startlinecolor": "#A2B1C6"
            },
            "type": "carpet"
           }
          ],
          "table": [
           {
            "cells": {
             "fill": {
              "color": "#506784"
             },
             "line": {
              "color": "rgb(17,17,17)"
             }
            },
            "header": {
             "fill": {
              "color": "#2a3f5f"
             },
             "line": {
              "color": "rgb(17,17,17)"
             }
            },
            "type": "table"
           }
          ],
          "barpolar": [
           {
            "marker": {
             "line": {
              "color": "rgb(17,17,17)",
              "width": 0.5
             },
             "pattern": {
              "fillmode": "overlay",
              "size": 10,
              "solidity": 0.2
             }
            },
            "type": "barpolar"
           }
          ],
          "pie": [
           {
            "automargin": true,
            "type": "pie"
           }
          ]
         },
         "layout": {
          "autotypenumbers": "strict",
          "colorway": [
           "#636efa",
           "#EF553B",
           "#00cc96",
           "#ab63fa",
           "#FFA15A",
           "#19d3f3",
           "#FF6692",
           "#B6E880",
           "#FF97FF",
           "#FECB52"
          ],
          "font": {
           "color": "#f2f5fa"
          },
          "hovermode": "closest",
          "hoverlabel": {
           "align": "left"
          },
          "paper_bgcolor": "rgb(17,17,17)",
          "plot_bgcolor": "rgb(17,17,17)",
          "polar": {
           "bgcolor": "rgb(17,17,17)",
           "angularaxis": {
            "gridcolor": "#506784",
            "linecolor": "#506784",
            "ticks": ""
           },
           "radialaxis": {
            "gridcolor": "#506784",
            "linecolor": "#506784",
            "ticks": ""
           }
          },
          "ternary": {
           "bgcolor": "rgb(17,17,17)",
           "aaxis": {
            "gridcolor": "#506784",
            "linecolor": "#506784",
            "ticks": ""
           },
           "baxis": {
            "gridcolor": "#506784",
            "linecolor": "#506784",
            "ticks": ""
           },
           "caxis": {
            "gridcolor": "#506784",
            "linecolor": "#506784",
            "ticks": ""
           }
          },
          "coloraxis": {
           "colorbar": {
            "outlinewidth": 0,
            "ticks": ""
           }
          },
          "colorscale": {
           "sequential": [
            [
             0.0,
             "#0d0887"
            ],
            [
             0.1111111111111111,
             "#46039f"
            ],
            [
             0.2222222222222222,
             "#7201a8"
            ],
            [
             0.3333333333333333,
             "#9c179e"
            ],
            [
             0.4444444444444444,
             "#bd3786"
            ],
            [
             0.5555555555555556,
             "#d8576b"
            ],
            [
             0.6666666666666666,
             "#ed7953"
            ],
            [
             0.7777777777777778,
             "#fb9f3a"
            ],
            [
             0.8888888888888888,
             "#fdca26"
            ],
            [
             1.0,
             "#f0f921"
            ]
           ],
           "sequentialminus": [
            [
             0.0,
             "#0d0887"
            ],
            [
             0.1111111111111111,
             "#46039f"
            ],
            [
             0.2222222222222222,
             "#7201a8"
            ],
            [
             0.3333333333333333,
             "#9c179e"
            ],
            [
             0.4444444444444444,
             "#bd3786"
            ],
            [
             0.5555555555555556,
             "#d8576b"
            ],
            [
             0.6666666666666666,
             "#ed7953"
            ],
            [
             0.7777777777777778,
             "#fb9f3a"
            ],
            [
             0.8888888888888888,
             "#fdca26"
            ],
            [
             1.0,
             "#f0f921"
            ]
           ],
           "diverging": [
            [
             0,
             "#8e0152"
            ],
            [
             0.1,
             "#c51b7d"
            ],
            [
             0.2,
             "#de77ae"
            ],
            [
             0.3,
             "#f1b6da"
            ],
            [
             0.4,
             "#fde0ef"
            ],
            [
             0.5,
             "#f7f7f7"
            ],
            [
             0.6,
             "#e6f5d0"
            ],
            [
             0.7,
             "#b8e186"
            ],
            [
             0.8,
             "#7fbc41"
            ],
            [
             0.9,
             "#4d9221"
            ],
            [
             1,
             "#276419"
            ]
           ]
          },
          "xaxis": {
           "gridcolor": "#283442",
           "linecolor": "#506784",
           "ticks": "",
           "title": {
            "standoff": 15
           },
           "zerolinecolor": "#283442",
           "automargin": true,
           "zerolinewidth": 2
          },
          "yaxis": {
           "gridcolor": "#283442",
           "linecolor": "#506784",
           "ticks": "",
           "title": {
            "standoff": 15
           },
           "zerolinecolor": "#283442",
           "automargin": true,
           "zerolinewidth": 2
          },
          "scene": {
           "xaxis": {
            "backgroundcolor": "rgb(17,17,17)",
            "gridcolor": "#506784",
            "linecolor": "#506784",
            "showbackground": true,
            "ticks": "",
            "zerolinecolor": "#C8D4E3",
            "gridwidth": 2
           },
           "yaxis": {
            "backgroundcolor": "rgb(17,17,17)",
            "gridcolor": "#506784",
            "linecolor": "#506784",
            "showbackground": true,
            "ticks": "",
            "zerolinecolor": "#C8D4E3",
            "gridwidth": 2
           },
           "zaxis": {
            "backgroundcolor": "rgb(17,17,17)",
            "gridcolor": "#506784",
            "linecolor": "#506784",
            "showbackground": true,
            "ticks": "",
            "zerolinecolor": "#C8D4E3",
            "gridwidth": 2
           }
          },
          "shapedefaults": {
           "line": {
            "color": "#f2f5fa"
           }
          },
          "annotationdefaults": {
           "arrowcolor": "#f2f5fa",
           "arrowhead": 0,
           "arrowwidth": 1
          },
          "geo": {
           "bgcolor": "rgb(17,17,17)",
           "landcolor": "rgb(17,17,17)",
           "subunitcolor": "#506784",
           "showland": true,
           "showlakes": true,
           "lakecolor": "rgb(17,17,17)"
          },
          "title": {
           "x": 0.05
          },
          "updatemenudefaults": {
           "bgcolor": "#506784",
           "borderwidth": 0
          },
          "sliderdefaults": {
           "bgcolor": "#C8D4E3",
           "borderwidth": 1,
           "bordercolor": "rgb(17,17,17)",
           "tickwidth": 0
          },
          "mapbox": {
           "style": "dark"
          }
         }
        },
        "xaxis": {
         "anchor": "y",
         "domain": [
          0.0,
          1.0
         ],
         "title": {
          "text": "Country"
         },
         "categoryorder": "total descending"
        },
        "yaxis": {
         "anchor": "x",
         "domain": [
          0.0,
          1.0
         ],
         "title": {
          "text": "Number of Categories"
         }
        },
        "legend": {
         "title": {
          "text": "Category"
         },
         "tracegroupgap": 0
        },
        "title": {
         "text": "Number of Categories in Every Country"
        },
        "barmode": "group"
       },
       "config": {
        "plotlyServerURL": "https://plot.ly"
       }
      },
      "text/html": [
       "<div>                            <div id=\"57419845-bb22-44c7-93e1-b534c83c0746\" class=\"plotly-graph-div\" style=\"height:525px; width:100%;\"></div>            <script type=\"text/javascript\">                require([\"plotly\"], function(Plotly) {                    window.PLOTLYENV=window.PLOTLYENV || {};                                    if (document.getElementById(\"57419845-bb22-44c7-93e1-b534c83c0746\")) {                    Plotly.newPlot(                        \"57419845-bb22-44c7-93e1-b534c83c0746\",                        [{\"alignmentgroup\":\"True\",\"hovertemplate\":\"Category=ASMR\\u003cbr\\u003eAudience Country=%{x}\\u003cbr\\u003evalue=%{y}\\u003cextra\\u003e\\u003c\\u002fextra\\u003e\",\"legendgroup\":\"ASMR\",\"marker\":{\"color\":\"#636efa\",\"pattern\":{\"shape\":\"\"}},\"name\":\"ASMR\",\"offsetgroup\":\"ASMR\",\"orientation\":\"v\",\"showlegend\":true,\"textposition\":\"auto\",\"x\":[\"Argentina\",\"Bangladesh\",\"Brazil\",\"Colombia\",\"Cyprus\",\"Egypt\",\"France\",\"India\",\"Indonesia\",\"Iraq\",\"Japan\",\"Mexico\",\"Philippines\",\"Russia\",\"Saudi Arabia\",\"Singapore\",\"Spain\",\"Thailand\",\"Turkey\",\"United Kingdom\",\"United States\"],\"xaxis\":\"x\",\"y\":[0.0,0.0,0.0,0.0,0.0,0.0,0.0,1.0,0.0,0.0,0.0,0.0,0.0,0.0,0.0,0.0,0.0,0.0,0.0,0.0,0.0],\"yaxis\":\"y\",\"type\":\"bar\"},{\"alignmentgroup\":\"True\",\"hovertemplate\":\"Category=Animation\\u003cbr\\u003eAudience Country=%{x}\\u003cbr\\u003evalue=%{y}\\u003cextra\\u003e\\u003c\\u002fextra\\u003e\",\"legendgroup\":\"Animation\",\"marker\":{\"color\":\"#EF553B\",\"pattern\":{\"shape\":\"\"}},\"name\":\"Animation\",\"offsetgroup\":\"Animation\",\"orientation\":\"v\",\"showlegend\":true,\"textposition\":\"auto\",\"x\":[\"Argentina\",\"Bangladesh\",\"Brazil\",\"Colombia\",\"Cyprus\",\"Egypt\",\"France\",\"India\",\"Indonesia\",\"Iraq\",\"Japan\",\"Mexico\",\"Philippines\",\"Russia\",\"Saudi Arabia\",\"Singapore\",\"Spain\",\"Thailand\",\"Turkey\",\"United Kingdom\",\"United States\"],\"xaxis\":\"x\",\"y\":[0.0,0.0,1.0,1.0,0.0,0.0,0.0,0.0,0.0,0.0,1.0,3.0,0.0,1.0,0.0,1.0,1.0,1.0,1.0,0.0,3.0],\"yaxis\":\"y\",\"type\":\"bar\"},{\"alignmentgroup\":\"True\",\"hovertemplate\":\"Category=Autos & Vehicles\\u003cbr\\u003eAudience Country=%{x}\\u003cbr\\u003evalue=%{y}\\u003cextra\\u003e\\u003c\\u002fextra\\u003e\",\"legendgroup\":\"Autos & Vehicles\",\"marker\":{\"color\":\"#00cc96\",\"pattern\":{\"shape\":\"\"}},\"name\":\"Autos & Vehicles\",\"offsetgroup\":\"Autos & Vehicles\",\"orientation\":\"v\",\"showlegend\":true,\"textposition\":\"auto\",\"x\":[\"Argentina\",\"Bangladesh\",\"Brazil\",\"Colombia\",\"Cyprus\",\"Egypt\",\"France\",\"India\",\"Indonesia\",\"Iraq\",\"Japan\",\"Mexico\",\"Philippines\",\"Russia\",\"Saudi Arabia\",\"Singapore\",\"Spain\",\"Thailand\",\"Turkey\",\"United Kingdom\",\"United States\"],\"xaxis\":\"x\",\"y\":[0.0,0.0,0.0,0.0,0.0,0.0,0.0,1.0,0.0,0.0,0.0,0.0,1.0,0.0,0.0,0.0,0.0,0.0,0.0,0.0,0.0],\"yaxis\":\"y\",\"type\":\"bar\"},{\"alignmentgroup\":\"True\",\"hovertemplate\":\"Category=Beauty\\u003cbr\\u003eAudience Country=%{x}\\u003cbr\\u003evalue=%{y}\\u003cextra\\u003e\\u003c\\u002fextra\\u003e\",\"legendgroup\":\"Beauty\",\"marker\":{\"color\":\"#ab63fa\",\"pattern\":{\"shape\":\"\"}},\"name\":\"Beauty\",\"offsetgroup\":\"Beauty\",\"orientation\":\"v\",\"showlegend\":true,\"textposition\":\"auto\",\"x\":[\"Argentina\",\"Bangladesh\",\"Brazil\",\"Colombia\",\"Cyprus\",\"Egypt\",\"France\",\"India\",\"Indonesia\",\"Iraq\",\"Japan\",\"Mexico\",\"Philippines\",\"Russia\",\"Saudi Arabia\",\"Singapore\",\"Spain\",\"Thailand\",\"Turkey\",\"United Kingdom\",\"United States\"],\"xaxis\":\"x\",\"y\":[0.0,1.0,1.0,0.0,0.0,0.0,0.0,1.0,0.0,0.0,0.0,0.0,0.0,0.0,0.0,0.0,0.0,0.0,0.0,0.0,0.0],\"yaxis\":\"y\",\"type\":\"bar\"},{\"alignmentgroup\":\"True\",\"hovertemplate\":\"Category=Daily vlogs\\u003cbr\\u003eAudience Country=%{x}\\u003cbr\\u003evalue=%{y}\\u003cextra\\u003e\\u003c\\u002fextra\\u003e\",\"legendgroup\":\"Daily vlogs\",\"marker\":{\"color\":\"#FFA15A\",\"pattern\":{\"shape\":\"\"}},\"name\":\"Daily vlogs\",\"offsetgroup\":\"Daily vlogs\",\"orientation\":\"v\",\"showlegend\":true,\"textposition\":\"auto\",\"x\":[\"Argentina\",\"Bangladesh\",\"Brazil\",\"Colombia\",\"Cyprus\",\"Egypt\",\"France\",\"India\",\"Indonesia\",\"Iraq\",\"Japan\",\"Mexico\",\"Philippines\",\"Russia\",\"Saudi Arabia\",\"Singapore\",\"Spain\",\"Thailand\",\"Turkey\",\"United Kingdom\",\"United States\"],\"xaxis\":\"x\",\"y\":[0.0,0.0,0.0,0.0,0.0,0.0,1.0,0.0,0.0,1.0,0.0,1.0,0.0,0.0,0.0,0.0,0.0,1.0,0.0,0.0,0.0],\"yaxis\":\"y\",\"type\":\"bar\"},{\"alignmentgroup\":\"True\",\"hovertemplate\":\"Category=Design\\u002fart\\u003cbr\\u003eAudience Country=%{x}\\u003cbr\\u003evalue=%{y}\\u003cextra\\u003e\\u003c\\u002fextra\\u003e\",\"legendgroup\":\"Design\\u002fart\",\"marker\":{\"color\":\"#19d3f3\",\"pattern\":{\"shape\":\"\"}},\"name\":\"Design\\u002fart\",\"offsetgroup\":\"Design\\u002fart\",\"orientation\":\"v\",\"showlegend\":true,\"textposition\":\"auto\",\"x\":[\"Argentina\",\"Bangladesh\",\"Brazil\",\"Colombia\",\"Cyprus\",\"Egypt\",\"France\",\"India\",\"Indonesia\",\"Iraq\",\"Japan\",\"Mexico\",\"Philippines\",\"Russia\",\"Saudi Arabia\",\"Singapore\",\"Spain\",\"Thailand\",\"Turkey\",\"United Kingdom\",\"United States\"],\"xaxis\":\"x\",\"y\":[0.0,0.0,0.0,0.0,0.0,0.0,0.0,1.0,0.0,0.0,0.0,0.0,0.0,0.0,0.0,0.0,0.0,0.0,0.0,0.0,0.0],\"yaxis\":\"y\",\"type\":\"bar\"},{\"alignmentgroup\":\"True\",\"hovertemplate\":\"Category=Education\\u003cbr\\u003eAudience Country=%{x}\\u003cbr\\u003evalue=%{y}\\u003cextra\\u003e\\u003c\\u002fextra\\u003e\",\"legendgroup\":\"Education\",\"marker\":{\"color\":\"#FF6692\",\"pattern\":{\"shape\":\"\"}},\"name\":\"Education\",\"offsetgroup\":\"Education\",\"orientation\":\"v\",\"showlegend\":true,\"textposition\":\"auto\",\"x\":[\"Argentina\",\"Bangladesh\",\"Brazil\",\"Colombia\",\"Cyprus\",\"Egypt\",\"France\",\"India\",\"Indonesia\",\"Iraq\",\"Japan\",\"Mexico\",\"Philippines\",\"Russia\",\"Saudi Arabia\",\"Singapore\",\"Spain\",\"Thailand\",\"Turkey\",\"United Kingdom\",\"United States\"],\"xaxis\":\"x\",\"y\":[0.0,1.0,0.0,1.0,1.0,0.0,0.0,2.0,0.0,0.0,0.0,0.0,0.0,0.0,0.0,0.0,0.0,0.0,0.0,1.0,1.0],\"yaxis\":\"y\",\"type\":\"bar\"},{\"alignmentgroup\":\"True\",\"hovertemplate\":\"Category=Fashion\\u003cbr\\u003eAudience Country=%{x}\\u003cbr\\u003evalue=%{y}\\u003cextra\\u003e\\u003c\\u002fextra\\u003e\",\"legendgroup\":\"Fashion\",\"marker\":{\"color\":\"#B6E880\",\"pattern\":{\"shape\":\"\"}},\"name\":\"Fashion\",\"offsetgroup\":\"Fashion\",\"orientation\":\"v\",\"showlegend\":true,\"textposition\":\"auto\",\"x\":[\"Argentina\",\"Bangladesh\",\"Brazil\",\"Colombia\",\"Cyprus\",\"Egypt\",\"France\",\"India\",\"Indonesia\",\"Iraq\",\"Japan\",\"Mexico\",\"Philippines\",\"Russia\",\"Saudi Arabia\",\"Singapore\",\"Spain\",\"Thailand\",\"Turkey\",\"United Kingdom\",\"United States\"],\"xaxis\":\"x\",\"y\":[0.0,0.0,0.0,0.0,0.0,0.0,0.0,0.0,0.0,0.0,0.0,0.0,0.0,0.0,0.0,0.0,0.0,1.0,0.0,0.0,0.0],\"yaxis\":\"y\",\"type\":\"bar\"},{\"alignmentgroup\":\"True\",\"hovertemplate\":\"Category=Fitness\\u003cbr\\u003eAudience Country=%{x}\\u003cbr\\u003evalue=%{y}\\u003cextra\\u003e\\u003c\\u002fextra\\u003e\",\"legendgroup\":\"Fitness\",\"marker\":{\"color\":\"#FF97FF\",\"pattern\":{\"shape\":\"\"}},\"name\":\"Fitness\",\"offsetgroup\":\"Fitness\",\"orientation\":\"v\",\"showlegend\":true,\"textposition\":\"auto\",\"x\":[\"Argentina\",\"Bangladesh\",\"Brazil\",\"Colombia\",\"Cyprus\",\"Egypt\",\"France\",\"India\",\"Indonesia\",\"Iraq\",\"Japan\",\"Mexico\",\"Philippines\",\"Russia\",\"Saudi Arabia\",\"Singapore\",\"Spain\",\"Thailand\",\"Turkey\",\"United Kingdom\",\"United States\"],\"xaxis\":\"x\",\"y\":[0.0,0.0,0.0,0.0,0.0,0.0,0.0,2.0,0.0,0.0,0.0,0.0,0.0,0.0,0.0,0.0,0.0,0.0,0.0,0.0,0.0],\"yaxis\":\"y\",\"type\":\"bar\"},{\"alignmentgroup\":\"True\",\"hovertemplate\":\"Category=Food & Drinks\\u003cbr\\u003eAudience Country=%{x}\\u003cbr\\u003evalue=%{y}\\u003cextra\\u003e\\u003c\\u002fextra\\u003e\",\"legendgroup\":\"Food & Drinks\",\"marker\":{\"color\":\"#FECB52\",\"pattern\":{\"shape\":\"\"}},\"name\":\"Food & Drinks\",\"offsetgroup\":\"Food & Drinks\",\"orientation\":\"v\",\"showlegend\":true,\"textposition\":\"auto\",\"x\":[\"Argentina\",\"Bangladesh\",\"Brazil\",\"Colombia\",\"Cyprus\",\"Egypt\",\"France\",\"India\",\"Indonesia\",\"Iraq\",\"Japan\",\"Mexico\",\"Philippines\",\"Russia\",\"Saudi Arabia\",\"Singapore\",\"Spain\",\"Thailand\",\"Turkey\",\"United Kingdom\",\"United States\"],\"xaxis\":\"x\",\"y\":[0.0,0.0,1.0,0.0,0.0,0.0,0.0,0.0,0.0,0.0,0.0,1.0,0.0,0.0,0.0,0.0,0.0,0.0,0.0,0.0,0.0],\"yaxis\":\"y\",\"type\":\"bar\"},{\"alignmentgroup\":\"True\",\"hovertemplate\":\"Category=Health & Self Help\\u003cbr\\u003eAudience Country=%{x}\\u003cbr\\u003evalue=%{y}\\u003cextra\\u003e\\u003c\\u002fextra\\u003e\",\"legendgroup\":\"Health & Self Help\",\"marker\":{\"color\":\"#636efa\",\"pattern\":{\"shape\":\"\"}},\"name\":\"Health & Self Help\",\"offsetgroup\":\"Health & Self Help\",\"orientation\":\"v\",\"showlegend\":true,\"textposition\":\"auto\",\"x\":[\"Argentina\",\"Bangladesh\",\"Brazil\",\"Colombia\",\"Cyprus\",\"Egypt\",\"France\",\"India\",\"Indonesia\",\"Iraq\",\"Japan\",\"Mexico\",\"Philippines\",\"Russia\",\"Saudi Arabia\",\"Singapore\",\"Spain\",\"Thailand\",\"Turkey\",\"United Kingdom\",\"United States\"],\"xaxis\":\"x\",\"y\":[0.0,0.0,0.0,0.0,0.0,0.0,0.0,0.0,0.0,0.0,0.0,1.0,0.0,0.0,0.0,0.0,0.0,0.0,0.0,0.0,0.0],\"yaxis\":\"y\",\"type\":\"bar\"},{\"alignmentgroup\":\"True\",\"hovertemplate\":\"Category=Humor\\u003cbr\\u003eAudience Country=%{x}\\u003cbr\\u003evalue=%{y}\\u003cextra\\u003e\\u003c\\u002fextra\\u003e\",\"legendgroup\":\"Humor\",\"marker\":{\"color\":\"#EF553B\",\"pattern\":{\"shape\":\"\"}},\"name\":\"Humor\",\"offsetgroup\":\"Humor\",\"orientation\":\"v\",\"showlegend\":true,\"textposition\":\"auto\",\"x\":[\"Argentina\",\"Bangladesh\",\"Brazil\",\"Colombia\",\"Cyprus\",\"Egypt\",\"France\",\"India\",\"Indonesia\",\"Iraq\",\"Japan\",\"Mexico\",\"Philippines\",\"Russia\",\"Saudi Arabia\",\"Singapore\",\"Spain\",\"Thailand\",\"Turkey\",\"United Kingdom\",\"United States\"],\"xaxis\":\"x\",\"y\":[0.0,0.0,0.0,0.0,0.0,0.0,0.0,0.0,0.0,0.0,0.0,0.0,0.0,0.0,0.0,0.0,0.0,0.0,0.0,0.0,1.0],\"yaxis\":\"y\",\"type\":\"bar\"},{\"alignmentgroup\":\"True\",\"hovertemplate\":\"Category=Movies\\u003cbr\\u003eAudience Country=%{x}\\u003cbr\\u003evalue=%{y}\\u003cextra\\u003e\\u003c\\u002fextra\\u003e\",\"legendgroup\":\"Movies\",\"marker\":{\"color\":\"#00cc96\",\"pattern\":{\"shape\":\"\"}},\"name\":\"Movies\",\"offsetgroup\":\"Movies\",\"orientation\":\"v\",\"showlegend\":true,\"textposition\":\"auto\",\"x\":[\"Argentina\",\"Bangladesh\",\"Brazil\",\"Colombia\",\"Cyprus\",\"Egypt\",\"France\",\"India\",\"Indonesia\",\"Iraq\",\"Japan\",\"Mexico\",\"Philippines\",\"Russia\",\"Saudi Arabia\",\"Singapore\",\"Spain\",\"Thailand\",\"Turkey\",\"United Kingdom\",\"United States\"],\"xaxis\":\"x\",\"y\":[0.0,0.0,1.0,0.0,0.0,0.0,0.0,2.0,0.0,0.0,0.0,0.0,0.0,0.0,0.0,0.0,0.0,0.0,0.0,0.0,0.0],\"yaxis\":\"y\",\"type\":\"bar\"},{\"alignmentgroup\":\"True\",\"hovertemplate\":\"Category=Music & Dance\\u003cbr\\u003eAudience Country=%{x}\\u003cbr\\u003evalue=%{y}\\u003cextra\\u003e\\u003c\\u002fextra\\u003e\",\"legendgroup\":\"Music & Dance\",\"marker\":{\"color\":\"#ab63fa\",\"pattern\":{\"shape\":\"\"}},\"name\":\"Music & Dance\",\"offsetgroup\":\"Music & Dance\",\"orientation\":\"v\",\"showlegend\":true,\"textposition\":\"auto\",\"x\":[\"Argentina\",\"Bangladesh\",\"Brazil\",\"Colombia\",\"Cyprus\",\"Egypt\",\"France\",\"India\",\"Indonesia\",\"Iraq\",\"Japan\",\"Mexico\",\"Philippines\",\"Russia\",\"Saudi Arabia\",\"Singapore\",\"Spain\",\"Thailand\",\"Turkey\",\"United Kingdom\",\"United States\"],\"xaxis\":\"x\",\"y\":[2.0,0.0,2.0,1.0,1.0,1.0,0.0,15.0,2.0,0.0,0.0,0.0,0.0,0.0,0.0,1.0,0.0,1.0,0.0,0.0,11.0],\"yaxis\":\"y\",\"type\":\"bar\"},{\"alignmentgroup\":\"True\",\"hovertemplate\":\"Category=Mystery\\u003cbr\\u003eAudience Country=%{x}\\u003cbr\\u003evalue=%{y}\\u003cextra\\u003e\\u003c\\u002fextra\\u003e\",\"legendgroup\":\"Mystery\",\"marker\":{\"color\":\"#FFA15A\",\"pattern\":{\"shape\":\"\"}},\"name\":\"Mystery\",\"offsetgroup\":\"Mystery\",\"orientation\":\"v\",\"showlegend\":true,\"textposition\":\"auto\",\"x\":[\"Argentina\",\"Bangladesh\",\"Brazil\",\"Colombia\",\"Cyprus\",\"Egypt\",\"France\",\"India\",\"Indonesia\",\"Iraq\",\"Japan\",\"Mexico\",\"Philippines\",\"Russia\",\"Saudi Arabia\",\"Singapore\",\"Spain\",\"Thailand\",\"Turkey\",\"United Kingdom\",\"United States\"],\"xaxis\":\"x\",\"y\":[0.0,0.0,0.0,0.0,0.0,0.0,0.0,0.0,0.0,0.0,0.0,0.0,0.0,0.0,0.0,0.0,0.0,0.0,0.0,0.0,1.0],\"yaxis\":\"y\",\"type\":\"bar\"},{\"alignmentgroup\":\"True\",\"hovertemplate\":\"Category=News & Politics\\u003cbr\\u003eAudience Country=%{x}\\u003cbr\\u003evalue=%{y}\\u003cextra\\u003e\\u003c\\u002fextra\\u003e\",\"legendgroup\":\"News & Politics\",\"marker\":{\"color\":\"#19d3f3\",\"pattern\":{\"shape\":\"\"}},\"name\":\"News & Politics\",\"offsetgroup\":\"News & Politics\",\"orientation\":\"v\",\"showlegend\":true,\"textposition\":\"auto\",\"x\":[\"Argentina\",\"Bangladesh\",\"Brazil\",\"Colombia\",\"Cyprus\",\"Egypt\",\"France\",\"India\",\"Indonesia\",\"Iraq\",\"Japan\",\"Mexico\",\"Philippines\",\"Russia\",\"Saudi Arabia\",\"Singapore\",\"Spain\",\"Thailand\",\"Turkey\",\"United Kingdom\",\"United States\"],\"xaxis\":\"x\",\"y\":[0.0,0.0,0.0,0.0,0.0,0.0,0.0,3.0,0.0,0.0,0.0,0.0,0.0,0.0,0.0,0.0,0.0,0.0,0.0,0.0,1.0],\"yaxis\":\"y\",\"type\":\"bar\"},{\"alignmentgroup\":\"True\",\"hovertemplate\":\"Category=Science & Technology\\u003cbr\\u003eAudience Country=%{x}\\u003cbr\\u003evalue=%{y}\\u003cextra\\u003e\\u003c\\u002fextra\\u003e\",\"legendgroup\":\"Science & Technology\",\"marker\":{\"color\":\"#FF6692\",\"pattern\":{\"shape\":\"\"}},\"name\":\"Science & Technology\",\"offsetgroup\":\"Science & Technology\",\"orientation\":\"v\",\"showlegend\":true,\"textposition\":\"auto\",\"x\":[\"Argentina\",\"Bangladesh\",\"Brazil\",\"Colombia\",\"Cyprus\",\"Egypt\",\"France\",\"India\",\"Indonesia\",\"Iraq\",\"Japan\",\"Mexico\",\"Philippines\",\"Russia\",\"Saudi Arabia\",\"Singapore\",\"Spain\",\"Thailand\",\"Turkey\",\"United Kingdom\",\"United States\"],\"xaxis\":\"x\",\"y\":[0.0,0.0,0.0,0.0,0.0,0.0,0.0,0.0,0.0,0.0,0.0,0.0,0.0,0.0,0.0,0.0,0.0,0.0,0.0,0.0,1.0],\"yaxis\":\"y\",\"type\":\"bar\"},{\"alignmentgroup\":\"True\",\"hovertemplate\":\"Category=Sports\\u003cbr\\u003eAudience Country=%{x}\\u003cbr\\u003evalue=%{y}\\u003cextra\\u003e\\u003c\\u002fextra\\u003e\",\"legendgroup\":\"Sports\",\"marker\":{\"color\":\"#B6E880\",\"pattern\":{\"shape\":\"\"}},\"name\":\"Sports\",\"offsetgroup\":\"Sports\",\"orientation\":\"v\",\"showlegend\":true,\"textposition\":\"auto\",\"x\":[\"Argentina\",\"Bangladesh\",\"Brazil\",\"Colombia\",\"Cyprus\",\"Egypt\",\"France\",\"India\",\"Indonesia\",\"Iraq\",\"Japan\",\"Mexico\",\"Philippines\",\"Russia\",\"Saudi Arabia\",\"Singapore\",\"Spain\",\"Thailand\",\"Turkey\",\"United Kingdom\",\"United States\"],\"xaxis\":\"x\",\"y\":[0.0,0.0,0.0,0.0,0.0,0.0,0.0,2.0,0.0,0.0,0.0,0.0,0.0,0.0,0.0,0.0,0.0,0.0,0.0,0.0,0.0],\"yaxis\":\"y\",\"type\":\"bar\"},{\"alignmentgroup\":\"True\",\"hovertemplate\":\"Category=Toys\\u003cbr\\u003eAudience Country=%{x}\\u003cbr\\u003evalue=%{y}\\u003cextra\\u003e\\u003c\\u002fextra\\u003e\",\"legendgroup\":\"Toys\",\"marker\":{\"color\":\"#FF97FF\",\"pattern\":{\"shape\":\"\"}},\"name\":\"Toys\",\"offsetgroup\":\"Toys\",\"orientation\":\"v\",\"showlegend\":true,\"textposition\":\"auto\",\"x\":[\"Argentina\",\"Bangladesh\",\"Brazil\",\"Colombia\",\"Cyprus\",\"Egypt\",\"France\",\"India\",\"Indonesia\",\"Iraq\",\"Japan\",\"Mexico\",\"Philippines\",\"Russia\",\"Saudi Arabia\",\"Singapore\",\"Spain\",\"Thailand\",\"Turkey\",\"United Kingdom\",\"United States\"],\"xaxis\":\"x\",\"y\":[0.0,0.0,0.0,0.0,0.0,0.0,0.0,1.0,0.0,0.0,0.0,0.0,0.0,0.0,1.0,0.0,0.0,0.0,1.0,0.0,0.0],\"yaxis\":\"y\",\"type\":\"bar\"},{\"alignmentgroup\":\"True\",\"hovertemplate\":\"Category=Travel\\u003cbr\\u003eAudience Country=%{x}\\u003cbr\\u003evalue=%{y}\\u003cextra\\u003e\\u003c\\u002fextra\\u003e\",\"legendgroup\":\"Travel\",\"marker\":{\"color\":\"#FECB52\",\"pattern\":{\"shape\":\"\"}},\"name\":\"Travel\",\"offsetgroup\":\"Travel\",\"orientation\":\"v\",\"showlegend\":true,\"textposition\":\"auto\",\"x\":[\"Argentina\",\"Bangladesh\",\"Brazil\",\"Colombia\",\"Cyprus\",\"Egypt\",\"France\",\"India\",\"Indonesia\",\"Iraq\",\"Japan\",\"Mexico\",\"Philippines\",\"Russia\",\"Saudi Arabia\",\"Singapore\",\"Spain\",\"Thailand\",\"Turkey\",\"United Kingdom\",\"United States\"],\"xaxis\":\"x\",\"y\":[0.0,0.0,1.0,0.0,0.0,0.0,0.0,1.0,0.0,0.0,0.0,0.0,0.0,0.0,0.0,0.0,0.0,1.0,0.0,0.0,0.0],\"yaxis\":\"y\",\"type\":\"bar\"},{\"alignmentgroup\":\"True\",\"hovertemplate\":\"Category=Video games\\u003cbr\\u003eAudience Country=%{x}\\u003cbr\\u003evalue=%{y}\\u003cextra\\u003e\\u003c\\u002fextra\\u003e\",\"legendgroup\":\"Video games\",\"marker\":{\"color\":\"#636efa\",\"pattern\":{\"shape\":\"\"}},\"name\":\"Video games\",\"offsetgroup\":\"Video games\",\"orientation\":\"v\",\"showlegend\":true,\"textposition\":\"auto\",\"x\":[\"Argentina\",\"Bangladesh\",\"Brazil\",\"Colombia\",\"Cyprus\",\"Egypt\",\"France\",\"India\",\"Indonesia\",\"Iraq\",\"Japan\",\"Mexico\",\"Philippines\",\"Russia\",\"Saudi Arabia\",\"Singapore\",\"Spain\",\"Thailand\",\"Turkey\",\"United Kingdom\",\"United States\"],\"xaxis\":\"x\",\"y\":[0.0,0.0,1.0,0.0,0.0,0.0,0.0,1.0,0.0,0.0,0.0,2.0,0.0,0.0,0.0,0.0,0.0,0.0,0.0,0.0,3.0],\"yaxis\":\"y\",\"type\":\"bar\"}],                        {\"template\":{\"data\":{\"histogram2dcontour\":[{\"type\":\"histogram2dcontour\",\"colorbar\":{\"outlinewidth\":0,\"ticks\":\"\"},\"colorscale\":[[0.0,\"#0d0887\"],[0.1111111111111111,\"#46039f\"],[0.2222222222222222,\"#7201a8\"],[0.3333333333333333,\"#9c179e\"],[0.4444444444444444,\"#bd3786\"],[0.5555555555555556,\"#d8576b\"],[0.6666666666666666,\"#ed7953\"],[0.7777777777777778,\"#fb9f3a\"],[0.8888888888888888,\"#fdca26\"],[1.0,\"#f0f921\"]]}],\"choropleth\":[{\"type\":\"choropleth\",\"colorbar\":{\"outlinewidth\":0,\"ticks\":\"\"}}],\"histogram2d\":[{\"type\":\"histogram2d\",\"colorbar\":{\"outlinewidth\":0,\"ticks\":\"\"},\"colorscale\":[[0.0,\"#0d0887\"],[0.1111111111111111,\"#46039f\"],[0.2222222222222222,\"#7201a8\"],[0.3333333333333333,\"#9c179e\"],[0.4444444444444444,\"#bd3786\"],[0.5555555555555556,\"#d8576b\"],[0.6666666666666666,\"#ed7953\"],[0.7777777777777778,\"#fb9f3a\"],[0.8888888888888888,\"#fdca26\"],[1.0,\"#f0f921\"]]}],\"heatmap\":[{\"type\":\"heatmap\",\"colorbar\":{\"outlinewidth\":0,\"ticks\":\"\"},\"colorscale\":[[0.0,\"#0d0887\"],[0.1111111111111111,\"#46039f\"],[0.2222222222222222,\"#7201a8\"],[0.3333333333333333,\"#9c179e\"],[0.4444444444444444,\"#bd3786\"],[0.5555555555555556,\"#d8576b\"],[0.6666666666666666,\"#ed7953\"],[0.7777777777777778,\"#fb9f3a\"],[0.8888888888888888,\"#fdca26\"],[1.0,\"#f0f921\"]]}],\"heatmapgl\":[{\"type\":\"heatmapgl\",\"colorbar\":{\"outlinewidth\":0,\"ticks\":\"\"},\"colorscale\":[[0.0,\"#0d0887\"],[0.1111111111111111,\"#46039f\"],[0.2222222222222222,\"#7201a8\"],[0.3333333333333333,\"#9c179e\"],[0.4444444444444444,\"#bd3786\"],[0.5555555555555556,\"#d8576b\"],[0.6666666666666666,\"#ed7953\"],[0.7777777777777778,\"#fb9f3a\"],[0.8888888888888888,\"#fdca26\"],[1.0,\"#f0f921\"]]}],\"contourcarpet\":[{\"type\":\"contourcarpet\",\"colorbar\":{\"outlinewidth\":0,\"ticks\":\"\"}}],\"contour\":[{\"type\":\"contour\",\"colorbar\":{\"outlinewidth\":0,\"ticks\":\"\"},\"colorscale\":[[0.0,\"#0d0887\"],[0.1111111111111111,\"#46039f\"],[0.2222222222222222,\"#7201a8\"],[0.3333333333333333,\"#9c179e\"],[0.4444444444444444,\"#bd3786\"],[0.5555555555555556,\"#d8576b\"],[0.6666666666666666,\"#ed7953\"],[0.7777777777777778,\"#fb9f3a\"],[0.8888888888888888,\"#fdca26\"],[1.0,\"#f0f921\"]]}],\"surface\":[{\"type\":\"surface\",\"colorbar\":{\"outlinewidth\":0,\"ticks\":\"\"},\"colorscale\":[[0.0,\"#0d0887\"],[0.1111111111111111,\"#46039f\"],[0.2222222222222222,\"#7201a8\"],[0.3333333333333333,\"#9c179e\"],[0.4444444444444444,\"#bd3786\"],[0.5555555555555556,\"#d8576b\"],[0.6666666666666666,\"#ed7953\"],[0.7777777777777778,\"#fb9f3a\"],[0.8888888888888888,\"#fdca26\"],[1.0,\"#f0f921\"]]}],\"mesh3d\":[{\"type\":\"mesh3d\",\"colorbar\":{\"outlinewidth\":0,\"ticks\":\"\"}}],\"scatter\":[{\"marker\":{\"line\":{\"color\":\"#283442\"}},\"type\":\"scatter\"}],\"parcoords\":[{\"type\":\"parcoords\",\"line\":{\"colorbar\":{\"outlinewidth\":0,\"ticks\":\"\"}}}],\"scatterpolargl\":[{\"type\":\"scatterpolargl\",\"marker\":{\"colorbar\":{\"outlinewidth\":0,\"ticks\":\"\"}}}],\"bar\":[{\"error_x\":{\"color\":\"#f2f5fa\"},\"error_y\":{\"color\":\"#f2f5fa\"},\"marker\":{\"line\":{\"color\":\"rgb(17,17,17)\",\"width\":0.5},\"pattern\":{\"fillmode\":\"overlay\",\"size\":10,\"solidity\":0.2}},\"type\":\"bar\"}],\"scattergeo\":[{\"type\":\"scattergeo\",\"marker\":{\"colorbar\":{\"outlinewidth\":0,\"ticks\":\"\"}}}],\"scatterpolar\":[{\"type\":\"scatterpolar\",\"marker\":{\"colorbar\":{\"outlinewidth\":0,\"ticks\":\"\"}}}],\"histogram\":[{\"marker\":{\"pattern\":{\"fillmode\":\"overlay\",\"size\":10,\"solidity\":0.2}},\"type\":\"histogram\"}],\"scattergl\":[{\"marker\":{\"line\":{\"color\":\"#283442\"}},\"type\":\"scattergl\"}],\"scatter3d\":[{\"type\":\"scatter3d\",\"line\":{\"colorbar\":{\"outlinewidth\":0,\"ticks\":\"\"}},\"marker\":{\"colorbar\":{\"outlinewidth\":0,\"ticks\":\"\"}}}],\"scattermapbox\":[{\"type\":\"scattermapbox\",\"marker\":{\"colorbar\":{\"outlinewidth\":0,\"ticks\":\"\"}}}],\"scatterternary\":[{\"type\":\"scatterternary\",\"marker\":{\"colorbar\":{\"outlinewidth\":0,\"ticks\":\"\"}}}],\"scattercarpet\":[{\"type\":\"scattercarpet\",\"marker\":{\"colorbar\":{\"outlinewidth\":0,\"ticks\":\"\"}}}],\"carpet\":[{\"aaxis\":{\"endlinecolor\":\"#A2B1C6\",\"gridcolor\":\"#506784\",\"linecolor\":\"#506784\",\"minorgridcolor\":\"#506784\",\"startlinecolor\":\"#A2B1C6\"},\"baxis\":{\"endlinecolor\":\"#A2B1C6\",\"gridcolor\":\"#506784\",\"linecolor\":\"#506784\",\"minorgridcolor\":\"#506784\",\"startlinecolor\":\"#A2B1C6\"},\"type\":\"carpet\"}],\"table\":[{\"cells\":{\"fill\":{\"color\":\"#506784\"},\"line\":{\"color\":\"rgb(17,17,17)\"}},\"header\":{\"fill\":{\"color\":\"#2a3f5f\"},\"line\":{\"color\":\"rgb(17,17,17)\"}},\"type\":\"table\"}],\"barpolar\":[{\"marker\":{\"line\":{\"color\":\"rgb(17,17,17)\",\"width\":0.5},\"pattern\":{\"fillmode\":\"overlay\",\"size\":10,\"solidity\":0.2}},\"type\":\"barpolar\"}],\"pie\":[{\"automargin\":true,\"type\":\"pie\"}]},\"layout\":{\"autotypenumbers\":\"strict\",\"colorway\":[\"#636efa\",\"#EF553B\",\"#00cc96\",\"#ab63fa\",\"#FFA15A\",\"#19d3f3\",\"#FF6692\",\"#B6E880\",\"#FF97FF\",\"#FECB52\"],\"font\":{\"color\":\"#f2f5fa\"},\"hovermode\":\"closest\",\"hoverlabel\":{\"align\":\"left\"},\"paper_bgcolor\":\"rgb(17,17,17)\",\"plot_bgcolor\":\"rgb(17,17,17)\",\"polar\":{\"bgcolor\":\"rgb(17,17,17)\",\"angularaxis\":{\"gridcolor\":\"#506784\",\"linecolor\":\"#506784\",\"ticks\":\"\"},\"radialaxis\":{\"gridcolor\":\"#506784\",\"linecolor\":\"#506784\",\"ticks\":\"\"}},\"ternary\":{\"bgcolor\":\"rgb(17,17,17)\",\"aaxis\":{\"gridcolor\":\"#506784\",\"linecolor\":\"#506784\",\"ticks\":\"\"},\"baxis\":{\"gridcolor\":\"#506784\",\"linecolor\":\"#506784\",\"ticks\":\"\"},\"caxis\":{\"gridcolor\":\"#506784\",\"linecolor\":\"#506784\",\"ticks\":\"\"}},\"coloraxis\":{\"colorbar\":{\"outlinewidth\":0,\"ticks\":\"\"}},\"colorscale\":{\"sequential\":[[0.0,\"#0d0887\"],[0.1111111111111111,\"#46039f\"],[0.2222222222222222,\"#7201a8\"],[0.3333333333333333,\"#9c179e\"],[0.4444444444444444,\"#bd3786\"],[0.5555555555555556,\"#d8576b\"],[0.6666666666666666,\"#ed7953\"],[0.7777777777777778,\"#fb9f3a\"],[0.8888888888888888,\"#fdca26\"],[1.0,\"#f0f921\"]],\"sequentialminus\":[[0.0,\"#0d0887\"],[0.1111111111111111,\"#46039f\"],[0.2222222222222222,\"#7201a8\"],[0.3333333333333333,\"#9c179e\"],[0.4444444444444444,\"#bd3786\"],[0.5555555555555556,\"#d8576b\"],[0.6666666666666666,\"#ed7953\"],[0.7777777777777778,\"#fb9f3a\"],[0.8888888888888888,\"#fdca26\"],[1.0,\"#f0f921\"]],\"diverging\":[[0,\"#8e0152\"],[0.1,\"#c51b7d\"],[0.2,\"#de77ae\"],[0.3,\"#f1b6da\"],[0.4,\"#fde0ef\"],[0.5,\"#f7f7f7\"],[0.6,\"#e6f5d0\"],[0.7,\"#b8e186\"],[0.8,\"#7fbc41\"],[0.9,\"#4d9221\"],[1,\"#276419\"]]},\"xaxis\":{\"gridcolor\":\"#283442\",\"linecolor\":\"#506784\",\"ticks\":\"\",\"title\":{\"standoff\":15},\"zerolinecolor\":\"#283442\",\"automargin\":true,\"zerolinewidth\":2},\"yaxis\":{\"gridcolor\":\"#283442\",\"linecolor\":\"#506784\",\"ticks\":\"\",\"title\":{\"standoff\":15},\"zerolinecolor\":\"#283442\",\"automargin\":true,\"zerolinewidth\":2},\"scene\":{\"xaxis\":{\"backgroundcolor\":\"rgb(17,17,17)\",\"gridcolor\":\"#506784\",\"linecolor\":\"#506784\",\"showbackground\":true,\"ticks\":\"\",\"zerolinecolor\":\"#C8D4E3\",\"gridwidth\":2},\"yaxis\":{\"backgroundcolor\":\"rgb(17,17,17)\",\"gridcolor\":\"#506784\",\"linecolor\":\"#506784\",\"showbackground\":true,\"ticks\":\"\",\"zerolinecolor\":\"#C8D4E3\",\"gridwidth\":2},\"zaxis\":{\"backgroundcolor\":\"rgb(17,17,17)\",\"gridcolor\":\"#506784\",\"linecolor\":\"#506784\",\"showbackground\":true,\"ticks\":\"\",\"zerolinecolor\":\"#C8D4E3\",\"gridwidth\":2}},\"shapedefaults\":{\"line\":{\"color\":\"#f2f5fa\"}},\"annotationdefaults\":{\"arrowcolor\":\"#f2f5fa\",\"arrowhead\":0,\"arrowwidth\":1},\"geo\":{\"bgcolor\":\"rgb(17,17,17)\",\"landcolor\":\"rgb(17,17,17)\",\"subunitcolor\":\"#506784\",\"showland\":true,\"showlakes\":true,\"lakecolor\":\"rgb(17,17,17)\"},\"title\":{\"x\":0.05},\"updatemenudefaults\":{\"bgcolor\":\"#506784\",\"borderwidth\":0},\"sliderdefaults\":{\"bgcolor\":\"#C8D4E3\",\"borderwidth\":1,\"bordercolor\":\"rgb(17,17,17)\",\"tickwidth\":0},\"mapbox\":{\"style\":\"dark\"}}},\"xaxis\":{\"anchor\":\"y\",\"domain\":[0.0,1.0],\"title\":{\"text\":\"Country\"},\"categoryorder\":\"total descending\"},\"yaxis\":{\"anchor\":\"x\",\"domain\":[0.0,1.0],\"title\":{\"text\":\"Number of Categories\"}},\"legend\":{\"title\":{\"text\":\"Category\"},\"tracegroupgap\":0},\"title\":{\"text\":\"Number of Categories in Every Country\"},\"barmode\":\"group\"},                        {\"responsive\": true}                    ).then(function(){\n",
       "                            \n",
       "var gd = document.getElementById('57419845-bb22-44c7-93e1-b534c83c0746');\n",
       "var x = new MutationObserver(function (mutations, observer) {{\n",
       "        var display = window.getComputedStyle(gd).display;\n",
       "        if (!display || display === 'none') {{\n",
       "            console.log([gd, 'removed!']);\n",
       "            Plotly.purge(gd);\n",
       "            observer.disconnect();\n",
       "        }}\n",
       "}});\n",
       "\n",
       "// Listen for the removal of the full notebook cells\n",
       "var notebookContainer = gd.closest('#notebook-container');\n",
       "if (notebookContainer) {{\n",
       "    x.observe(notebookContainer, {childList: true});\n",
       "}}\n",
       "\n",
       "// Listen for the clearing of the current output cell\n",
       "var outputEl = gd.closest('.output');\n",
       "if (outputEl) {{\n",
       "    x.observe(outputEl, {childList: true});\n",
       "}}\n",
       "\n",
       "                        })                };                });            </script>        </div>"
      ]
     },
     "metadata": {},
     "output_type": "display_data"
    }
   ],
   "execution_count": 79
  },
  {
   "metadata": {},
   "cell_type": "code",
   "outputs": [],
   "execution_count": null,
   "source": "",
   "id": "84b6c18d193ce199"
  }
 ],
 "metadata": {
  "kernelspec": {
   "display_name": "Python 3",
   "language": "python",
   "name": "python3"
  },
  "language_info": {
   "codemirror_mode": {
    "name": "ipython",
    "version": 2
   },
   "file_extension": ".py",
   "mimetype": "text/x-python",
   "name": "python",
   "nbconvert_exporter": "python",
   "pygments_lexer": "ipython2",
   "version": "2.7.6"
  }
 },
 "nbformat": 4,
 "nbformat_minor": 5
}
