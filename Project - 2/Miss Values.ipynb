{
 "cells": [
  {
   "cell_type": "code",
   "id": "initial_id",
   "metadata": {
    "collapsed": true,
    "ExecuteTime": {
     "end_time": "2024-07-09T18:11:43.927288Z",
     "start_time": "2024-07-09T18:11:43.925376Z"
    }
   },
   "source": [
    "import pandas as pd\n",
    "import numpy as np\n",
    "import matplotlib.pyplot as plt\n",
    "import seaborn as sns\n",
    "import plotly as py\n",
    "import plotly.graph_objs as go\n",
    "from plotly.offline import download_plotlyjs, init_notebook_mode, plot, iplot"
   ],
   "outputs": [],
   "execution_count": 46
  },
  {
   "metadata": {
    "ExecuteTime": {
     "end_time": "2024-07-09T18:11:43.945812Z",
     "start_time": "2024-07-09T18:11:43.932548Z"
    }
   },
   "cell_type": "code",
   "source": [
    "# Load the data\n",
    "df = pd.read_csv('social media influencers-youtube - --nov 2022.csv')\n",
    "df"
   ],
   "id": "19b8e0647f60443d",
   "outputs": [
    {
     "data": {
      "text/plain": [
       "     s.no    Youtube channel               youtuber name         Category  \\\n",
       "0       1            tseries                    T-Series    Music & Dance   \n",
       "1       2          checkgate  Cocomelon - Nursery Rhymes        Education   \n",
       "2       3          PewDiePie                   PewDiePie        Animation   \n",
       "3       4        MrBeast6000                     MrBeast      Video games   \n",
       "4       5  ✿ Kids Diana Show           ✿ Kids Diana Show        Animation   \n",
       "..    ...                ...                         ...              ...   \n",
       "995   996               RUOK                        RUOK              NaN   \n",
       "996   997     FoxNewsChannel                    Fox News  News & Politics   \n",
       "997   998   SULE PRODUCTIONS            SULE PRODUCTIONS              NaN   \n",
       "998   999            MBCkpop                     MBCkpop    Music & Dance   \n",
       "999  1000      Dynamo Gaming               Dynamo Gaming              NaN   \n",
       "\n",
       "    Followers        Country \\nViews (Avg.) Likes (Avg.) Comments (Avg.)  \\\n",
       "0      229.5M          India         103.8K         2.8K             158   \n",
       "1      146.6M            NaN           9.5M        48.3K               0   \n",
       "2      111.6M  United States           1.4M       110.7K            7.8K   \n",
       "3      109.1M  United States          38.4M         3.1M           56.7K   \n",
       "4      102.5M            NaN           2.4M        15.7K               0   \n",
       "..        ...            ...            ...          ...             ...   \n",
       "995     10.1M         Brazil         215.4K        25.2K            1.3K   \n",
       "996     10.1M  United States          98.4K           4K             884   \n",
       "997     10.1M      Indonesia         218.3K         4.5K             306   \n",
       "998     10.1M       Malaysia          19.7K         2.6K              92   \n",
       "999     10.1M          India         139.6K        15.4K             125   \n",
       "\n",
       "    Category-2  \n",
       "0          NaN  \n",
       "1          NaN  \n",
       "2          NaN  \n",
       "3        Humor  \n",
       "4         Toys  \n",
       "..         ...  \n",
       "995        NaN  \n",
       "996        NaN  \n",
       "997        NaN  \n",
       "998        NaN  \n",
       "999        NaN  \n",
       "\n",
       "[1000 rows x 10 columns]"
      ],
      "text/html": [
       "<div>\n",
       "<style scoped>\n",
       "    .dataframe tbody tr th:only-of-type {\n",
       "        vertical-align: middle;\n",
       "    }\n",
       "\n",
       "    .dataframe tbody tr th {\n",
       "        vertical-align: top;\n",
       "    }\n",
       "\n",
       "    .dataframe thead th {\n",
       "        text-align: right;\n",
       "    }\n",
       "</style>\n",
       "<table border=\"1\" class=\"dataframe\">\n",
       "  <thead>\n",
       "    <tr style=\"text-align: right;\">\n",
       "      <th></th>\n",
       "      <th>s.no</th>\n",
       "      <th>Youtube channel</th>\n",
       "      <th>youtuber name</th>\n",
       "      <th>Category</th>\n",
       "      <th>Followers</th>\n",
       "      <th>Country</th>\n",
       "      <th>\\nViews (Avg.)</th>\n",
       "      <th>Likes (Avg.)</th>\n",
       "      <th>Comments (Avg.)</th>\n",
       "      <th>Category-2</th>\n",
       "    </tr>\n",
       "  </thead>\n",
       "  <tbody>\n",
       "    <tr>\n",
       "      <th>0</th>\n",
       "      <td>1</td>\n",
       "      <td>tseries</td>\n",
       "      <td>T-Series</td>\n",
       "      <td>Music &amp; Dance</td>\n",
       "      <td>229.5M</td>\n",
       "      <td>India</td>\n",
       "      <td>103.8K</td>\n",
       "      <td>2.8K</td>\n",
       "      <td>158</td>\n",
       "      <td>NaN</td>\n",
       "    </tr>\n",
       "    <tr>\n",
       "      <th>1</th>\n",
       "      <td>2</td>\n",
       "      <td>checkgate</td>\n",
       "      <td>Cocomelon - Nursery Rhymes</td>\n",
       "      <td>Education</td>\n",
       "      <td>146.6M</td>\n",
       "      <td>NaN</td>\n",
       "      <td>9.5M</td>\n",
       "      <td>48.3K</td>\n",
       "      <td>0</td>\n",
       "      <td>NaN</td>\n",
       "    </tr>\n",
       "    <tr>\n",
       "      <th>2</th>\n",
       "      <td>3</td>\n",
       "      <td>PewDiePie</td>\n",
       "      <td>PewDiePie</td>\n",
       "      <td>Animation</td>\n",
       "      <td>111.6M</td>\n",
       "      <td>United States</td>\n",
       "      <td>1.4M</td>\n",
       "      <td>110.7K</td>\n",
       "      <td>7.8K</td>\n",
       "      <td>NaN</td>\n",
       "    </tr>\n",
       "    <tr>\n",
       "      <th>3</th>\n",
       "      <td>4</td>\n",
       "      <td>MrBeast6000</td>\n",
       "      <td>MrBeast</td>\n",
       "      <td>Video games</td>\n",
       "      <td>109.1M</td>\n",
       "      <td>United States</td>\n",
       "      <td>38.4M</td>\n",
       "      <td>3.1M</td>\n",
       "      <td>56.7K</td>\n",
       "      <td>Humor</td>\n",
       "    </tr>\n",
       "    <tr>\n",
       "      <th>4</th>\n",
       "      <td>5</td>\n",
       "      <td>✿ Kids Diana Show</td>\n",
       "      <td>✿ Kids Diana Show</td>\n",
       "      <td>Animation</td>\n",
       "      <td>102.5M</td>\n",
       "      <td>NaN</td>\n",
       "      <td>2.4M</td>\n",
       "      <td>15.7K</td>\n",
       "      <td>0</td>\n",
       "      <td>Toys</td>\n",
       "    </tr>\n",
       "    <tr>\n",
       "      <th>...</th>\n",
       "      <td>...</td>\n",
       "      <td>...</td>\n",
       "      <td>...</td>\n",
       "      <td>...</td>\n",
       "      <td>...</td>\n",
       "      <td>...</td>\n",
       "      <td>...</td>\n",
       "      <td>...</td>\n",
       "      <td>...</td>\n",
       "      <td>...</td>\n",
       "    </tr>\n",
       "    <tr>\n",
       "      <th>995</th>\n",
       "      <td>996</td>\n",
       "      <td>RUOK</td>\n",
       "      <td>RUOK</td>\n",
       "      <td>NaN</td>\n",
       "      <td>10.1M</td>\n",
       "      <td>Brazil</td>\n",
       "      <td>215.4K</td>\n",
       "      <td>25.2K</td>\n",
       "      <td>1.3K</td>\n",
       "      <td>NaN</td>\n",
       "    </tr>\n",
       "    <tr>\n",
       "      <th>996</th>\n",
       "      <td>997</td>\n",
       "      <td>FoxNewsChannel</td>\n",
       "      <td>Fox News</td>\n",
       "      <td>News &amp; Politics</td>\n",
       "      <td>10.1M</td>\n",
       "      <td>United States</td>\n",
       "      <td>98.4K</td>\n",
       "      <td>4K</td>\n",
       "      <td>884</td>\n",
       "      <td>NaN</td>\n",
       "    </tr>\n",
       "    <tr>\n",
       "      <th>997</th>\n",
       "      <td>998</td>\n",
       "      <td>SULE PRODUCTIONS</td>\n",
       "      <td>SULE PRODUCTIONS</td>\n",
       "      <td>NaN</td>\n",
       "      <td>10.1M</td>\n",
       "      <td>Indonesia</td>\n",
       "      <td>218.3K</td>\n",
       "      <td>4.5K</td>\n",
       "      <td>306</td>\n",
       "      <td>NaN</td>\n",
       "    </tr>\n",
       "    <tr>\n",
       "      <th>998</th>\n",
       "      <td>999</td>\n",
       "      <td>MBCkpop</td>\n",
       "      <td>MBCkpop</td>\n",
       "      <td>Music &amp; Dance</td>\n",
       "      <td>10.1M</td>\n",
       "      <td>Malaysia</td>\n",
       "      <td>19.7K</td>\n",
       "      <td>2.6K</td>\n",
       "      <td>92</td>\n",
       "      <td>NaN</td>\n",
       "    </tr>\n",
       "    <tr>\n",
       "      <th>999</th>\n",
       "      <td>1000</td>\n",
       "      <td>Dynamo Gaming</td>\n",
       "      <td>Dynamo Gaming</td>\n",
       "      <td>NaN</td>\n",
       "      <td>10.1M</td>\n",
       "      <td>India</td>\n",
       "      <td>139.6K</td>\n",
       "      <td>15.4K</td>\n",
       "      <td>125</td>\n",
       "      <td>NaN</td>\n",
       "    </tr>\n",
       "  </tbody>\n",
       "</table>\n",
       "<p>1000 rows × 10 columns</p>\n",
       "</div>"
      ]
     },
     "execution_count": 47,
     "metadata": {},
     "output_type": "execute_result"
    }
   ],
   "execution_count": 47
  },
  {
   "metadata": {
    "ExecuteTime": {
     "end_time": "2024-07-09T18:11:43.955954Z",
     "start_time": "2024-07-09T18:11:43.952063Z"
    }
   },
   "cell_type": "code",
   "source": "df.info()",
   "id": "df476b9986526088",
   "outputs": [
    {
     "name": "stdout",
     "output_type": "stream",
     "text": [
      "<class 'pandas.core.frame.DataFrame'>\n",
      "RangeIndex: 1000 entries, 0 to 999\n",
      "Data columns (total 10 columns):\n",
      " #   Column           Non-Null Count  Dtype \n",
      "---  ------           --------------  ----- \n",
      " 0   s.no             1000 non-null   int64 \n",
      " 1   Youtube channel  1000 non-null   object\n",
      " 2   youtuber name    1000 non-null   object\n",
      " 3   Category         707 non-null    object\n",
      " 4   Followers        1000 non-null   object\n",
      " 5   Country          829 non-null    object\n",
      " 6   \n",
      "Views (Avg.)    1000 non-null   object\n",
      " 7   Likes (Avg.)     1000 non-null   object\n",
      " 8   Comments (Avg.)  1000 non-null   object\n",
      " 9   Category-2       273 non-null    object\n",
      "dtypes: int64(1), object(9)\n",
      "memory usage: 78.3+ KB\n"
     ]
    }
   ],
   "execution_count": 48
  },
  {
   "metadata": {
    "ExecuteTime": {
     "end_time": "2024-07-09T18:11:43.960020Z",
     "start_time": "2024-07-09T18:11:43.956692Z"
    }
   },
   "cell_type": "code",
   "source": [
    "# Check for missing values\n",
    "df.isnull().sum()"
   ],
   "id": "5bc5625b7463fa8c",
   "outputs": [
    {
     "data": {
      "text/plain": [
       "s.no                 0\n",
       "Youtube channel      0\n",
       "youtuber name        0\n",
       "Category           293\n",
       "Followers            0\n",
       "Country            171\n",
       "\\nViews (Avg.)       0\n",
       "Likes (Avg.)         0\n",
       "Comments (Avg.)      0\n",
       "Category-2         727\n",
       "dtype: int64"
      ]
     },
     "execution_count": 49,
     "metadata": {},
     "output_type": "execute_result"
    }
   ],
   "execution_count": 49
  },
  {
   "metadata": {},
   "cell_type": "markdown",
   "source": "# Handling Missing Values",
   "id": "396986c9e141b926"
  },
  {
   "metadata": {
    "ExecuteTime": {
     "end_time": "2024-07-09T18:11:43.966052Z",
     "start_time": "2024-07-09T18:11:43.961153Z"
    }
   },
   "cell_type": "code",
   "source": [
    "# Using String Interpolation\n",
    "df = df.interpolate(method='linear')\n",
    "df"
   ],
   "id": "e9a0be4b3ca60f9a",
   "outputs": [
    {
     "name": "stderr",
     "output_type": "stream",
     "text": [
      "/var/folders/bd/tsbt311j74dd9vr3q6pjs6x80000gn/T/ipykernel_26613/1941659212.py:2: FutureWarning:\n",
      "\n",
      "DataFrame.interpolate with object dtype is deprecated and will raise in a future version. Call obj.infer_objects(copy=False) before interpolating instead.\n",
      "\n"
     ]
    },
    {
     "data": {
      "text/plain": [
       "     s.no    Youtube channel               youtuber name         Category  \\\n",
       "0       1            tseries                    T-Series    Music & Dance   \n",
       "1       2          checkgate  Cocomelon - Nursery Rhymes        Education   \n",
       "2       3          PewDiePie                   PewDiePie        Animation   \n",
       "3       4        MrBeast6000                     MrBeast      Video games   \n",
       "4       5  ✿ Kids Diana Show           ✿ Kids Diana Show        Animation   \n",
       "..    ...                ...                         ...              ...   \n",
       "995   996               RUOK                        RUOK              NaN   \n",
       "996   997     FoxNewsChannel                    Fox News  News & Politics   \n",
       "997   998   SULE PRODUCTIONS            SULE PRODUCTIONS              NaN   \n",
       "998   999            MBCkpop                     MBCkpop    Music & Dance   \n",
       "999  1000      Dynamo Gaming               Dynamo Gaming              NaN   \n",
       "\n",
       "    Followers        Country \\nViews (Avg.) Likes (Avg.) Comments (Avg.)  \\\n",
       "0      229.5M          India         103.8K         2.8K             158   \n",
       "1      146.6M            NaN           9.5M        48.3K               0   \n",
       "2      111.6M  United States           1.4M       110.7K            7.8K   \n",
       "3      109.1M  United States          38.4M         3.1M           56.7K   \n",
       "4      102.5M            NaN           2.4M        15.7K               0   \n",
       "..        ...            ...            ...          ...             ...   \n",
       "995     10.1M         Brazil         215.4K        25.2K            1.3K   \n",
       "996     10.1M  United States          98.4K           4K             884   \n",
       "997     10.1M      Indonesia         218.3K         4.5K             306   \n",
       "998     10.1M       Malaysia          19.7K         2.6K              92   \n",
       "999     10.1M          India         139.6K        15.4K             125   \n",
       "\n",
       "    Category-2  \n",
       "0          NaN  \n",
       "1          NaN  \n",
       "2          NaN  \n",
       "3        Humor  \n",
       "4         Toys  \n",
       "..         ...  \n",
       "995        NaN  \n",
       "996        NaN  \n",
       "997        NaN  \n",
       "998        NaN  \n",
       "999        NaN  \n",
       "\n",
       "[1000 rows x 10 columns]"
      ],
      "text/html": [
       "<div>\n",
       "<style scoped>\n",
       "    .dataframe tbody tr th:only-of-type {\n",
       "        vertical-align: middle;\n",
       "    }\n",
       "\n",
       "    .dataframe tbody tr th {\n",
       "        vertical-align: top;\n",
       "    }\n",
       "\n",
       "    .dataframe thead th {\n",
       "        text-align: right;\n",
       "    }\n",
       "</style>\n",
       "<table border=\"1\" class=\"dataframe\">\n",
       "  <thead>\n",
       "    <tr style=\"text-align: right;\">\n",
       "      <th></th>\n",
       "      <th>s.no</th>\n",
       "      <th>Youtube channel</th>\n",
       "      <th>youtuber name</th>\n",
       "      <th>Category</th>\n",
       "      <th>Followers</th>\n",
       "      <th>Country</th>\n",
       "      <th>\\nViews (Avg.)</th>\n",
       "      <th>Likes (Avg.)</th>\n",
       "      <th>Comments (Avg.)</th>\n",
       "      <th>Category-2</th>\n",
       "    </tr>\n",
       "  </thead>\n",
       "  <tbody>\n",
       "    <tr>\n",
       "      <th>0</th>\n",
       "      <td>1</td>\n",
       "      <td>tseries</td>\n",
       "      <td>T-Series</td>\n",
       "      <td>Music &amp; Dance</td>\n",
       "      <td>229.5M</td>\n",
       "      <td>India</td>\n",
       "      <td>103.8K</td>\n",
       "      <td>2.8K</td>\n",
       "      <td>158</td>\n",
       "      <td>NaN</td>\n",
       "    </tr>\n",
       "    <tr>\n",
       "      <th>1</th>\n",
       "      <td>2</td>\n",
       "      <td>checkgate</td>\n",
       "      <td>Cocomelon - Nursery Rhymes</td>\n",
       "      <td>Education</td>\n",
       "      <td>146.6M</td>\n",
       "      <td>NaN</td>\n",
       "      <td>9.5M</td>\n",
       "      <td>48.3K</td>\n",
       "      <td>0</td>\n",
       "      <td>NaN</td>\n",
       "    </tr>\n",
       "    <tr>\n",
       "      <th>2</th>\n",
       "      <td>3</td>\n",
       "      <td>PewDiePie</td>\n",
       "      <td>PewDiePie</td>\n",
       "      <td>Animation</td>\n",
       "      <td>111.6M</td>\n",
       "      <td>United States</td>\n",
       "      <td>1.4M</td>\n",
       "      <td>110.7K</td>\n",
       "      <td>7.8K</td>\n",
       "      <td>NaN</td>\n",
       "    </tr>\n",
       "    <tr>\n",
       "      <th>3</th>\n",
       "      <td>4</td>\n",
       "      <td>MrBeast6000</td>\n",
       "      <td>MrBeast</td>\n",
       "      <td>Video games</td>\n",
       "      <td>109.1M</td>\n",
       "      <td>United States</td>\n",
       "      <td>38.4M</td>\n",
       "      <td>3.1M</td>\n",
       "      <td>56.7K</td>\n",
       "      <td>Humor</td>\n",
       "    </tr>\n",
       "    <tr>\n",
       "      <th>4</th>\n",
       "      <td>5</td>\n",
       "      <td>✿ Kids Diana Show</td>\n",
       "      <td>✿ Kids Diana Show</td>\n",
       "      <td>Animation</td>\n",
       "      <td>102.5M</td>\n",
       "      <td>NaN</td>\n",
       "      <td>2.4M</td>\n",
       "      <td>15.7K</td>\n",
       "      <td>0</td>\n",
       "      <td>Toys</td>\n",
       "    </tr>\n",
       "    <tr>\n",
       "      <th>...</th>\n",
       "      <td>...</td>\n",
       "      <td>...</td>\n",
       "      <td>...</td>\n",
       "      <td>...</td>\n",
       "      <td>...</td>\n",
       "      <td>...</td>\n",
       "      <td>...</td>\n",
       "      <td>...</td>\n",
       "      <td>...</td>\n",
       "      <td>...</td>\n",
       "    </tr>\n",
       "    <tr>\n",
       "      <th>995</th>\n",
       "      <td>996</td>\n",
       "      <td>RUOK</td>\n",
       "      <td>RUOK</td>\n",
       "      <td>NaN</td>\n",
       "      <td>10.1M</td>\n",
       "      <td>Brazil</td>\n",
       "      <td>215.4K</td>\n",
       "      <td>25.2K</td>\n",
       "      <td>1.3K</td>\n",
       "      <td>NaN</td>\n",
       "    </tr>\n",
       "    <tr>\n",
       "      <th>996</th>\n",
       "      <td>997</td>\n",
       "      <td>FoxNewsChannel</td>\n",
       "      <td>Fox News</td>\n",
       "      <td>News &amp; Politics</td>\n",
       "      <td>10.1M</td>\n",
       "      <td>United States</td>\n",
       "      <td>98.4K</td>\n",
       "      <td>4K</td>\n",
       "      <td>884</td>\n",
       "      <td>NaN</td>\n",
       "    </tr>\n",
       "    <tr>\n",
       "      <th>997</th>\n",
       "      <td>998</td>\n",
       "      <td>SULE PRODUCTIONS</td>\n",
       "      <td>SULE PRODUCTIONS</td>\n",
       "      <td>NaN</td>\n",
       "      <td>10.1M</td>\n",
       "      <td>Indonesia</td>\n",
       "      <td>218.3K</td>\n",
       "      <td>4.5K</td>\n",
       "      <td>306</td>\n",
       "      <td>NaN</td>\n",
       "    </tr>\n",
       "    <tr>\n",
       "      <th>998</th>\n",
       "      <td>999</td>\n",
       "      <td>MBCkpop</td>\n",
       "      <td>MBCkpop</td>\n",
       "      <td>Music &amp; Dance</td>\n",
       "      <td>10.1M</td>\n",
       "      <td>Malaysia</td>\n",
       "      <td>19.7K</td>\n",
       "      <td>2.6K</td>\n",
       "      <td>92</td>\n",
       "      <td>NaN</td>\n",
       "    </tr>\n",
       "    <tr>\n",
       "      <th>999</th>\n",
       "      <td>1000</td>\n",
       "      <td>Dynamo Gaming</td>\n",
       "      <td>Dynamo Gaming</td>\n",
       "      <td>NaN</td>\n",
       "      <td>10.1M</td>\n",
       "      <td>India</td>\n",
       "      <td>139.6K</td>\n",
       "      <td>15.4K</td>\n",
       "      <td>125</td>\n",
       "      <td>NaN</td>\n",
       "    </tr>\n",
       "  </tbody>\n",
       "</table>\n",
       "<p>1000 rows × 10 columns</p>\n",
       "</div>"
      ]
     },
     "execution_count": 50,
     "metadata": {},
     "output_type": "execute_result"
    }
   ],
   "execution_count": 50
  },
  {
   "metadata": {
    "ExecuteTime": {
     "end_time": "2024-07-09T18:11:43.969590Z",
     "start_time": "2024-07-09T18:11:43.966638Z"
    }
   },
   "cell_type": "code",
   "source": [
    "# Check for missing values\n",
    "df.isnull().sum()"
   ],
   "id": "59c9905e3bc2fd44",
   "outputs": [
    {
     "data": {
      "text/plain": [
       "s.no                 0\n",
       "Youtube channel      0\n",
       "youtuber name        0\n",
       "Category           293\n",
       "Followers            0\n",
       "Country            171\n",
       "\\nViews (Avg.)       0\n",
       "Likes (Avg.)         0\n",
       "Comments (Avg.)      0\n",
       "Category-2         727\n",
       "dtype: int64"
      ]
     },
     "execution_count": 51,
     "metadata": {},
     "output_type": "execute_result"
    }
   ],
   "execution_count": 51
  },
  {
   "metadata": {
    "ExecuteTime": {
     "end_time": "2024-07-09T18:11:43.995705Z",
     "start_time": "2024-07-09T18:11:43.991038Z"
    }
   },
   "cell_type": "code",
   "source": [
    "df.drop(['Category-2','s.no'], axis=1, inplace=True)\n",
    "df"
   ],
   "id": "a7aa9dde0b9ce47a",
   "outputs": [
    {
     "data": {
      "text/plain": [
       "       Youtube channel               youtuber name         Category Followers  \\\n",
       "0              tseries                    T-Series    Music & Dance    229.5M   \n",
       "1            checkgate  Cocomelon - Nursery Rhymes        Education    146.6M   \n",
       "2            PewDiePie                   PewDiePie        Animation    111.6M   \n",
       "3          MrBeast6000                     MrBeast      Video games    109.1M   \n",
       "4    ✿ Kids Diana Show           ✿ Kids Diana Show        Animation    102.5M   \n",
       "..                 ...                         ...              ...       ...   \n",
       "995               RUOK                        RUOK              NaN     10.1M   \n",
       "996     FoxNewsChannel                    Fox News  News & Politics     10.1M   \n",
       "997   SULE PRODUCTIONS            SULE PRODUCTIONS              NaN     10.1M   \n",
       "998            MBCkpop                     MBCkpop    Music & Dance     10.1M   \n",
       "999      Dynamo Gaming               Dynamo Gaming              NaN     10.1M   \n",
       "\n",
       "           Country \\nViews (Avg.) Likes (Avg.) Comments (Avg.)  \n",
       "0            India         103.8K         2.8K             158  \n",
       "1              NaN           9.5M        48.3K               0  \n",
       "2    United States           1.4M       110.7K            7.8K  \n",
       "3    United States          38.4M         3.1M           56.7K  \n",
       "4              NaN           2.4M        15.7K               0  \n",
       "..             ...            ...          ...             ...  \n",
       "995         Brazil         215.4K        25.2K            1.3K  \n",
       "996  United States          98.4K           4K             884  \n",
       "997      Indonesia         218.3K         4.5K             306  \n",
       "998       Malaysia          19.7K         2.6K              92  \n",
       "999          India         139.6K        15.4K             125  \n",
       "\n",
       "[1000 rows x 8 columns]"
      ],
      "text/html": [
       "<div>\n",
       "<style scoped>\n",
       "    .dataframe tbody tr th:only-of-type {\n",
       "        vertical-align: middle;\n",
       "    }\n",
       "\n",
       "    .dataframe tbody tr th {\n",
       "        vertical-align: top;\n",
       "    }\n",
       "\n",
       "    .dataframe thead th {\n",
       "        text-align: right;\n",
       "    }\n",
       "</style>\n",
       "<table border=\"1\" class=\"dataframe\">\n",
       "  <thead>\n",
       "    <tr style=\"text-align: right;\">\n",
       "      <th></th>\n",
       "      <th>Youtube channel</th>\n",
       "      <th>youtuber name</th>\n",
       "      <th>Category</th>\n",
       "      <th>Followers</th>\n",
       "      <th>Country</th>\n",
       "      <th>\\nViews (Avg.)</th>\n",
       "      <th>Likes (Avg.)</th>\n",
       "      <th>Comments (Avg.)</th>\n",
       "    </tr>\n",
       "  </thead>\n",
       "  <tbody>\n",
       "    <tr>\n",
       "      <th>0</th>\n",
       "      <td>tseries</td>\n",
       "      <td>T-Series</td>\n",
       "      <td>Music &amp; Dance</td>\n",
       "      <td>229.5M</td>\n",
       "      <td>India</td>\n",
       "      <td>103.8K</td>\n",
       "      <td>2.8K</td>\n",
       "      <td>158</td>\n",
       "    </tr>\n",
       "    <tr>\n",
       "      <th>1</th>\n",
       "      <td>checkgate</td>\n",
       "      <td>Cocomelon - Nursery Rhymes</td>\n",
       "      <td>Education</td>\n",
       "      <td>146.6M</td>\n",
       "      <td>NaN</td>\n",
       "      <td>9.5M</td>\n",
       "      <td>48.3K</td>\n",
       "      <td>0</td>\n",
       "    </tr>\n",
       "    <tr>\n",
       "      <th>2</th>\n",
       "      <td>PewDiePie</td>\n",
       "      <td>PewDiePie</td>\n",
       "      <td>Animation</td>\n",
       "      <td>111.6M</td>\n",
       "      <td>United States</td>\n",
       "      <td>1.4M</td>\n",
       "      <td>110.7K</td>\n",
       "      <td>7.8K</td>\n",
       "    </tr>\n",
       "    <tr>\n",
       "      <th>3</th>\n",
       "      <td>MrBeast6000</td>\n",
       "      <td>MrBeast</td>\n",
       "      <td>Video games</td>\n",
       "      <td>109.1M</td>\n",
       "      <td>United States</td>\n",
       "      <td>38.4M</td>\n",
       "      <td>3.1M</td>\n",
       "      <td>56.7K</td>\n",
       "    </tr>\n",
       "    <tr>\n",
       "      <th>4</th>\n",
       "      <td>✿ Kids Diana Show</td>\n",
       "      <td>✿ Kids Diana Show</td>\n",
       "      <td>Animation</td>\n",
       "      <td>102.5M</td>\n",
       "      <td>NaN</td>\n",
       "      <td>2.4M</td>\n",
       "      <td>15.7K</td>\n",
       "      <td>0</td>\n",
       "    </tr>\n",
       "    <tr>\n",
       "      <th>...</th>\n",
       "      <td>...</td>\n",
       "      <td>...</td>\n",
       "      <td>...</td>\n",
       "      <td>...</td>\n",
       "      <td>...</td>\n",
       "      <td>...</td>\n",
       "      <td>...</td>\n",
       "      <td>...</td>\n",
       "    </tr>\n",
       "    <tr>\n",
       "      <th>995</th>\n",
       "      <td>RUOK</td>\n",
       "      <td>RUOK</td>\n",
       "      <td>NaN</td>\n",
       "      <td>10.1M</td>\n",
       "      <td>Brazil</td>\n",
       "      <td>215.4K</td>\n",
       "      <td>25.2K</td>\n",
       "      <td>1.3K</td>\n",
       "    </tr>\n",
       "    <tr>\n",
       "      <th>996</th>\n",
       "      <td>FoxNewsChannel</td>\n",
       "      <td>Fox News</td>\n",
       "      <td>News &amp; Politics</td>\n",
       "      <td>10.1M</td>\n",
       "      <td>United States</td>\n",
       "      <td>98.4K</td>\n",
       "      <td>4K</td>\n",
       "      <td>884</td>\n",
       "    </tr>\n",
       "    <tr>\n",
       "      <th>997</th>\n",
       "      <td>SULE PRODUCTIONS</td>\n",
       "      <td>SULE PRODUCTIONS</td>\n",
       "      <td>NaN</td>\n",
       "      <td>10.1M</td>\n",
       "      <td>Indonesia</td>\n",
       "      <td>218.3K</td>\n",
       "      <td>4.5K</td>\n",
       "      <td>306</td>\n",
       "    </tr>\n",
       "    <tr>\n",
       "      <th>998</th>\n",
       "      <td>MBCkpop</td>\n",
       "      <td>MBCkpop</td>\n",
       "      <td>Music &amp; Dance</td>\n",
       "      <td>10.1M</td>\n",
       "      <td>Malaysia</td>\n",
       "      <td>19.7K</td>\n",
       "      <td>2.6K</td>\n",
       "      <td>92</td>\n",
       "    </tr>\n",
       "    <tr>\n",
       "      <th>999</th>\n",
       "      <td>Dynamo Gaming</td>\n",
       "      <td>Dynamo Gaming</td>\n",
       "      <td>NaN</td>\n",
       "      <td>10.1M</td>\n",
       "      <td>India</td>\n",
       "      <td>139.6K</td>\n",
       "      <td>15.4K</td>\n",
       "      <td>125</td>\n",
       "    </tr>\n",
       "  </tbody>\n",
       "</table>\n",
       "<p>1000 rows × 8 columns</p>\n",
       "</div>"
      ]
     },
     "execution_count": 52,
     "metadata": {},
     "output_type": "execute_result"
    }
   ],
   "execution_count": 52
  },
  {
   "metadata": {
    "ExecuteTime": {
     "end_time": "2024-07-10T02:23:08.448244Z",
     "start_time": "2024-07-10T02:23:08.443746Z"
    }
   },
   "cell_type": "code",
   "source": [
    "# Displaying the unique values of the 'Category' column\n",
    "category=df['Category'].dropna().unique().tolist()\n",
    "category"
   ],
   "id": "6385d7c71076c496",
   "outputs": [
    {
     "data": {
      "text/plain": [
       "['Music & Dance',\n",
       " 'Education',\n",
       " 'Animation',\n",
       " 'Video games',\n",
       " 'Toys',\n",
       " 'DIY & Life Hacks',\n",
       " 'Movies',\n",
       " 'Fitness',\n",
       " 'News & Politics',\n",
       " 'Food & Drinks',\n",
       " 'ASMR',\n",
       " 'Design/art',\n",
       " 'Health & Self Help',\n",
       " 'Fashion',\n",
       " 'Daily vlogs',\n",
       " 'Humor',\n",
       " 'Beauty',\n",
       " 'Animals & Pets',\n",
       " 'Sports',\n",
       " 'Science & Technology']"
      ]
     },
     "execution_count": 71,
     "metadata": {},
     "output_type": "execute_result"
    }
   ],
   "execution_count": 71
  },
  {
   "metadata": {
    "ExecuteTime": {
     "end_time": "2024-07-09T18:11:44.014670Z",
     "start_time": "2024-07-09T18:11:44.011563Z"
    }
   },
   "cell_type": "code",
   "source": [
    "# Count the number of unique values in the 'Category' column\n",
    "df['Category'].value_counts()"
   ],
   "id": "800e2167a93c1c1c",
   "outputs": [
    {
     "data": {
      "text/plain": [
       "Category\n",
       "Music & Dance           238\n",
       "Movies                  100\n",
       "Animation                98\n",
       "Video games              62\n",
       "News & Politics          44\n",
       "Daily vlogs              38\n",
       "Education                31\n",
       "Toys                     19\n",
       "Science & Technology     17\n",
       "Food & Drinks            14\n",
       "Humor                    12\n",
       "DIY & Life Hacks         10\n",
       "Sports                   10\n",
       "Fitness                   3\n",
       "Health & Self Help        3\n",
       "Animals & Pets            2\n",
       "ASMR                      2\n",
       "Fashion                   2\n",
       "Beauty                    1\n",
       "Design/art                1\n",
       "Name: count, dtype: int64"
      ]
     },
     "execution_count": 54,
     "metadata": {},
     "output_type": "execute_result"
    }
   ],
   "execution_count": 54
  },
  {
   "metadata": {
    "ExecuteTime": {
     "end_time": "2024-07-09T18:11:44.030393Z",
     "start_time": "2024-07-09T18:11:44.025644Z"
    }
   },
   "cell_type": "code",
   "source": "df",
   "id": "e3ab7d5b0366342",
   "outputs": [
    {
     "data": {
      "text/plain": [
       "       Youtube channel               youtuber name         Category Followers  \\\n",
       "0              tseries                    T-Series    Music & Dance    229.5M   \n",
       "1            checkgate  Cocomelon - Nursery Rhymes        Education    146.6M   \n",
       "2            PewDiePie                   PewDiePie        Animation    111.6M   \n",
       "3          MrBeast6000                     MrBeast      Video games    109.1M   \n",
       "4    ✿ Kids Diana Show           ✿ Kids Diana Show        Animation    102.5M   \n",
       "..                 ...                         ...              ...       ...   \n",
       "995               RUOK                        RUOK              NaN     10.1M   \n",
       "996     FoxNewsChannel                    Fox News  News & Politics     10.1M   \n",
       "997   SULE PRODUCTIONS            SULE PRODUCTIONS              NaN     10.1M   \n",
       "998            MBCkpop                     MBCkpop    Music & Dance     10.1M   \n",
       "999      Dynamo Gaming               Dynamo Gaming              NaN     10.1M   \n",
       "\n",
       "           Country \\nViews (Avg.) Likes (Avg.) Comments (Avg.)  \n",
       "0            India         103.8K         2.8K             158  \n",
       "1              NaN           9.5M        48.3K               0  \n",
       "2    United States           1.4M       110.7K            7.8K  \n",
       "3    United States          38.4M         3.1M           56.7K  \n",
       "4              NaN           2.4M        15.7K               0  \n",
       "..             ...            ...          ...             ...  \n",
       "995         Brazil         215.4K        25.2K            1.3K  \n",
       "996  United States          98.4K           4K             884  \n",
       "997      Indonesia         218.3K         4.5K             306  \n",
       "998       Malaysia          19.7K         2.6K              92  \n",
       "999          India         139.6K        15.4K             125  \n",
       "\n",
       "[1000 rows x 8 columns]"
      ],
      "text/html": [
       "<div>\n",
       "<style scoped>\n",
       "    .dataframe tbody tr th:only-of-type {\n",
       "        vertical-align: middle;\n",
       "    }\n",
       "\n",
       "    .dataframe tbody tr th {\n",
       "        vertical-align: top;\n",
       "    }\n",
       "\n",
       "    .dataframe thead th {\n",
       "        text-align: right;\n",
       "    }\n",
       "</style>\n",
       "<table border=\"1\" class=\"dataframe\">\n",
       "  <thead>\n",
       "    <tr style=\"text-align: right;\">\n",
       "      <th></th>\n",
       "      <th>Youtube channel</th>\n",
       "      <th>youtuber name</th>\n",
       "      <th>Category</th>\n",
       "      <th>Followers</th>\n",
       "      <th>Country</th>\n",
       "      <th>\\nViews (Avg.)</th>\n",
       "      <th>Likes (Avg.)</th>\n",
       "      <th>Comments (Avg.)</th>\n",
       "    </tr>\n",
       "  </thead>\n",
       "  <tbody>\n",
       "    <tr>\n",
       "      <th>0</th>\n",
       "      <td>tseries</td>\n",
       "      <td>T-Series</td>\n",
       "      <td>Music &amp; Dance</td>\n",
       "      <td>229.5M</td>\n",
       "      <td>India</td>\n",
       "      <td>103.8K</td>\n",
       "      <td>2.8K</td>\n",
       "      <td>158</td>\n",
       "    </tr>\n",
       "    <tr>\n",
       "      <th>1</th>\n",
       "      <td>checkgate</td>\n",
       "      <td>Cocomelon - Nursery Rhymes</td>\n",
       "      <td>Education</td>\n",
       "      <td>146.6M</td>\n",
       "      <td>NaN</td>\n",
       "      <td>9.5M</td>\n",
       "      <td>48.3K</td>\n",
       "      <td>0</td>\n",
       "    </tr>\n",
       "    <tr>\n",
       "      <th>2</th>\n",
       "      <td>PewDiePie</td>\n",
       "      <td>PewDiePie</td>\n",
       "      <td>Animation</td>\n",
       "      <td>111.6M</td>\n",
       "      <td>United States</td>\n",
       "      <td>1.4M</td>\n",
       "      <td>110.7K</td>\n",
       "      <td>7.8K</td>\n",
       "    </tr>\n",
       "    <tr>\n",
       "      <th>3</th>\n",
       "      <td>MrBeast6000</td>\n",
       "      <td>MrBeast</td>\n",
       "      <td>Video games</td>\n",
       "      <td>109.1M</td>\n",
       "      <td>United States</td>\n",
       "      <td>38.4M</td>\n",
       "      <td>3.1M</td>\n",
       "      <td>56.7K</td>\n",
       "    </tr>\n",
       "    <tr>\n",
       "      <th>4</th>\n",
       "      <td>✿ Kids Diana Show</td>\n",
       "      <td>✿ Kids Diana Show</td>\n",
       "      <td>Animation</td>\n",
       "      <td>102.5M</td>\n",
       "      <td>NaN</td>\n",
       "      <td>2.4M</td>\n",
       "      <td>15.7K</td>\n",
       "      <td>0</td>\n",
       "    </tr>\n",
       "    <tr>\n",
       "      <th>...</th>\n",
       "      <td>...</td>\n",
       "      <td>...</td>\n",
       "      <td>...</td>\n",
       "      <td>...</td>\n",
       "      <td>...</td>\n",
       "      <td>...</td>\n",
       "      <td>...</td>\n",
       "      <td>...</td>\n",
       "    </tr>\n",
       "    <tr>\n",
       "      <th>995</th>\n",
       "      <td>RUOK</td>\n",
       "      <td>RUOK</td>\n",
       "      <td>NaN</td>\n",
       "      <td>10.1M</td>\n",
       "      <td>Brazil</td>\n",
       "      <td>215.4K</td>\n",
       "      <td>25.2K</td>\n",
       "      <td>1.3K</td>\n",
       "    </tr>\n",
       "    <tr>\n",
       "      <th>996</th>\n",
       "      <td>FoxNewsChannel</td>\n",
       "      <td>Fox News</td>\n",
       "      <td>News &amp; Politics</td>\n",
       "      <td>10.1M</td>\n",
       "      <td>United States</td>\n",
       "      <td>98.4K</td>\n",
       "      <td>4K</td>\n",
       "      <td>884</td>\n",
       "    </tr>\n",
       "    <tr>\n",
       "      <th>997</th>\n",
       "      <td>SULE PRODUCTIONS</td>\n",
       "      <td>SULE PRODUCTIONS</td>\n",
       "      <td>NaN</td>\n",
       "      <td>10.1M</td>\n",
       "      <td>Indonesia</td>\n",
       "      <td>218.3K</td>\n",
       "      <td>4.5K</td>\n",
       "      <td>306</td>\n",
       "    </tr>\n",
       "    <tr>\n",
       "      <th>998</th>\n",
       "      <td>MBCkpop</td>\n",
       "      <td>MBCkpop</td>\n",
       "      <td>Music &amp; Dance</td>\n",
       "      <td>10.1M</td>\n",
       "      <td>Malaysia</td>\n",
       "      <td>19.7K</td>\n",
       "      <td>2.6K</td>\n",
       "      <td>92</td>\n",
       "    </tr>\n",
       "    <tr>\n",
       "      <th>999</th>\n",
       "      <td>Dynamo Gaming</td>\n",
       "      <td>Dynamo Gaming</td>\n",
       "      <td>NaN</td>\n",
       "      <td>10.1M</td>\n",
       "      <td>India</td>\n",
       "      <td>139.6K</td>\n",
       "      <td>15.4K</td>\n",
       "      <td>125</td>\n",
       "    </tr>\n",
       "  </tbody>\n",
       "</table>\n",
       "<p>1000 rows × 8 columns</p>\n",
       "</div>"
      ]
     },
     "execution_count": 55,
     "metadata": {},
     "output_type": "execute_result"
    }
   ],
   "execution_count": 55
  },
  {
   "metadata": {
    "ExecuteTime": {
     "end_time": "2024-07-10T06:06:07.532596Z",
     "start_time": "2024-07-10T06:06:07.524636Z"
    }
   },
   "cell_type": "code",
   "source": "df",
   "id": "efba6c8226554d42",
   "outputs": [
    {
     "data": {
      "text/plain": [
       "      Youtube channel               youtuber name          Category  \\\n",
       "0             tseries                    T-Series     Music & Dance   \n",
       "1           checkgate  Cocomelon - Nursery Rhymes         Education   \n",
       "2           PewDiePie                   PewDiePie         Animation   \n",
       "3         MrBeast6000                     MrBeast       Video games   \n",
       "4   ✿ Kids Diana Show           ✿ Kids Diana Show         Animation   \n",
       "..                ...                         ...               ...   \n",
       "95           SelGomez                Selena Gomez    Animals & Pets   \n",
       "96             GENIAL                      GENIAL         Animation   \n",
       "97            juptube          Galinha Pintadinha     Music & Dance   \n",
       "98             MrBean                     Mr Bean  DIY & Life Hacks   \n",
       "99         Luis Fonsi                  Luis Fonsi       Video games   \n",
       "\n",
       "      Followers         Country  \\nViews (Avg.)  Likes (Avg.)  Comments (Avg.)  \n",
       "0   229500000.0           India        103800.0        2800.0            158.0  \n",
       "1   146600000.0         Morocco       9500000.0       48300.0              0.0  \n",
       "2   111600000.0   United States       1400000.0      110700.0           7800.0  \n",
       "3   109100000.0   United States      38400000.0     3100000.0          56700.0  \n",
       "4   102500000.0       Indonesia       2400000.0       15700.0              0.0  \n",
       "..          ...             ...             ...           ...              ...  \n",
       "95   31600000.0   United States       1400000.0      162900.0           8100.0  \n",
       "96   31600000.0          Mexico         33000.0        1100.0             37.0  \n",
       "97   31600000.0  United Kingdom       7300000.0       30700.0              0.0  \n",
       "98   31200000.0           India        134800.0        2000.0             68.0  \n",
       "99   31200000.0   United States         38500.0        2100.0             78.0  \n",
       "\n",
       "[100 rows x 8 columns]"
      ],
      "text/html": [
       "<div>\n",
       "<style scoped>\n",
       "    .dataframe tbody tr th:only-of-type {\n",
       "        vertical-align: middle;\n",
       "    }\n",
       "\n",
       "    .dataframe tbody tr th {\n",
       "        vertical-align: top;\n",
       "    }\n",
       "\n",
       "    .dataframe thead th {\n",
       "        text-align: right;\n",
       "    }\n",
       "</style>\n",
       "<table border=\"1\" class=\"dataframe\">\n",
       "  <thead>\n",
       "    <tr style=\"text-align: right;\">\n",
       "      <th></th>\n",
       "      <th>Youtube channel</th>\n",
       "      <th>youtuber name</th>\n",
       "      <th>Category</th>\n",
       "      <th>Followers</th>\n",
       "      <th>Country</th>\n",
       "      <th>\\nViews (Avg.)</th>\n",
       "      <th>Likes (Avg.)</th>\n",
       "      <th>Comments (Avg.)</th>\n",
       "    </tr>\n",
       "  </thead>\n",
       "  <tbody>\n",
       "    <tr>\n",
       "      <th>0</th>\n",
       "      <td>tseries</td>\n",
       "      <td>T-Series</td>\n",
       "      <td>Music &amp; Dance</td>\n",
       "      <td>229500000.0</td>\n",
       "      <td>India</td>\n",
       "      <td>103800.0</td>\n",
       "      <td>2800.0</td>\n",
       "      <td>158.0</td>\n",
       "    </tr>\n",
       "    <tr>\n",
       "      <th>1</th>\n",
       "      <td>checkgate</td>\n",
       "      <td>Cocomelon - Nursery Rhymes</td>\n",
       "      <td>Education</td>\n",
       "      <td>146600000.0</td>\n",
       "      <td>Morocco</td>\n",
       "      <td>9500000.0</td>\n",
       "      <td>48300.0</td>\n",
       "      <td>0.0</td>\n",
       "    </tr>\n",
       "    <tr>\n",
       "      <th>2</th>\n",
       "      <td>PewDiePie</td>\n",
       "      <td>PewDiePie</td>\n",
       "      <td>Animation</td>\n",
       "      <td>111600000.0</td>\n",
       "      <td>United States</td>\n",
       "      <td>1400000.0</td>\n",
       "      <td>110700.0</td>\n",
       "      <td>7800.0</td>\n",
       "    </tr>\n",
       "    <tr>\n",
       "      <th>3</th>\n",
       "      <td>MrBeast6000</td>\n",
       "      <td>MrBeast</td>\n",
       "      <td>Video games</td>\n",
       "      <td>109100000.0</td>\n",
       "      <td>United States</td>\n",
       "      <td>38400000.0</td>\n",
       "      <td>3100000.0</td>\n",
       "      <td>56700.0</td>\n",
       "    </tr>\n",
       "    <tr>\n",
       "      <th>4</th>\n",
       "      <td>✿ Kids Diana Show</td>\n",
       "      <td>✿ Kids Diana Show</td>\n",
       "      <td>Animation</td>\n",
       "      <td>102500000.0</td>\n",
       "      <td>Indonesia</td>\n",
       "      <td>2400000.0</td>\n",
       "      <td>15700.0</td>\n",
       "      <td>0.0</td>\n",
       "    </tr>\n",
       "    <tr>\n",
       "      <th>...</th>\n",
       "      <td>...</td>\n",
       "      <td>...</td>\n",
       "      <td>...</td>\n",
       "      <td>...</td>\n",
       "      <td>...</td>\n",
       "      <td>...</td>\n",
       "      <td>...</td>\n",
       "      <td>...</td>\n",
       "    </tr>\n",
       "    <tr>\n",
       "      <th>95</th>\n",
       "      <td>SelGomez</td>\n",
       "      <td>Selena Gomez</td>\n",
       "      <td>Animals &amp; Pets</td>\n",
       "      <td>31600000.0</td>\n",
       "      <td>United States</td>\n",
       "      <td>1400000.0</td>\n",
       "      <td>162900.0</td>\n",
       "      <td>8100.0</td>\n",
       "    </tr>\n",
       "    <tr>\n",
       "      <th>96</th>\n",
       "      <td>GENIAL</td>\n",
       "      <td>GENIAL</td>\n",
       "      <td>Animation</td>\n",
       "      <td>31600000.0</td>\n",
       "      <td>Mexico</td>\n",
       "      <td>33000.0</td>\n",
       "      <td>1100.0</td>\n",
       "      <td>37.0</td>\n",
       "    </tr>\n",
       "    <tr>\n",
       "      <th>97</th>\n",
       "      <td>juptube</td>\n",
       "      <td>Galinha Pintadinha</td>\n",
       "      <td>Music &amp; Dance</td>\n",
       "      <td>31600000.0</td>\n",
       "      <td>United Kingdom</td>\n",
       "      <td>7300000.0</td>\n",
       "      <td>30700.0</td>\n",
       "      <td>0.0</td>\n",
       "    </tr>\n",
       "    <tr>\n",
       "      <th>98</th>\n",
       "      <td>MrBean</td>\n",
       "      <td>Mr Bean</td>\n",
       "      <td>DIY &amp; Life Hacks</td>\n",
       "      <td>31200000.0</td>\n",
       "      <td>India</td>\n",
       "      <td>134800.0</td>\n",
       "      <td>2000.0</td>\n",
       "      <td>68.0</td>\n",
       "    </tr>\n",
       "    <tr>\n",
       "      <th>99</th>\n",
       "      <td>Luis Fonsi</td>\n",
       "      <td>Luis Fonsi</td>\n",
       "      <td>Video games</td>\n",
       "      <td>31200000.0</td>\n",
       "      <td>United States</td>\n",
       "      <td>38500.0</td>\n",
       "      <td>2100.0</td>\n",
       "      <td>78.0</td>\n",
       "    </tr>\n",
       "  </tbody>\n",
       "</table>\n",
       "<p>100 rows × 8 columns</p>\n",
       "</div>"
      ]
     },
     "execution_count": 100,
     "metadata": {},
     "output_type": "execute_result"
    }
   ],
   "execution_count": 100
  },
  {
   "metadata": {
    "ExecuteTime": {
     "end_time": "2024-07-10T06:05:58.607758Z",
     "start_time": "2024-07-10T06:05:58.604684Z"
    }
   },
   "cell_type": "code",
   "source": [
    "# Function to convert values\n",
    "def convert_to_number(x):\n",
    "    if x is not np.NaN:\n",
    "        if x.endswith('M'):\n",
    "            return float(x[:-1]) * 1_000_000\n",
    "        elif x.endswith('K'):\n",
    "            return float(x[:-1]) * 1_000\n",
    "        else:\n",
    "            return float(x)\n",
    "    else:\n",
    "        return x"
   ],
   "id": "d35be07f312a63f9",
   "outputs": [],
   "execution_count": 98
  },
  {
   "metadata": {
    "ExecuteTime": {
     "end_time": "2024-07-10T06:05:59.461946Z",
     "start_time": "2024-07-10T06:05:59.421345Z"
    }
   },
   "cell_type": "code",
   "source": [
    "# Apply the function to the 'Followers' column\n",
    "df['Followers'] = df['Followers'].apply(convert_to_number)\n",
    "df"
   ],
   "id": "1d42c1908e4b9796",
   "outputs": [
    {
     "ename": "AttributeError",
     "evalue": "`np.NaN` was removed in the NumPy 2.0 release. Use `np.nan` instead.",
     "output_type": "error",
     "traceback": [
      "\u001B[0;31m---------------------------------------------------------------------------\u001B[0m",
      "\u001B[0;31mAttributeError\u001B[0m                            Traceback (most recent call last)",
      "Cell \u001B[0;32mIn[99], line 2\u001B[0m\n\u001B[1;32m      1\u001B[0m \u001B[38;5;66;03m# Apply the function to the 'Followers' column\u001B[39;00m\n\u001B[0;32m----> 2\u001B[0m df[\u001B[38;5;124m'\u001B[39m\u001B[38;5;124mFollowers\u001B[39m\u001B[38;5;124m'\u001B[39m] \u001B[38;5;241m=\u001B[39m \u001B[43mdf\u001B[49m\u001B[43m[\u001B[49m\u001B[38;5;124;43m'\u001B[39;49m\u001B[38;5;124;43mFollowers\u001B[39;49m\u001B[38;5;124;43m'\u001B[39;49m\u001B[43m]\u001B[49m\u001B[38;5;241;43m.\u001B[39;49m\u001B[43mapply\u001B[49m\u001B[43m(\u001B[49m\u001B[43mconvert_to_number\u001B[49m\u001B[43m)\u001B[49m\n\u001B[1;32m      3\u001B[0m df\n",
      "File \u001B[0;32m/Library/Frameworks/Python.framework/Versions/3.12/lib/python3.12/site-packages/pandas/core/series.py:4924\u001B[0m, in \u001B[0;36mSeries.apply\u001B[0;34m(self, func, convert_dtype, args, by_row, **kwargs)\u001B[0m\n\u001B[1;32m   4789\u001B[0m \u001B[38;5;28;01mdef\u001B[39;00m \u001B[38;5;21mapply\u001B[39m(\n\u001B[1;32m   4790\u001B[0m     \u001B[38;5;28mself\u001B[39m,\n\u001B[1;32m   4791\u001B[0m     func: AggFuncType,\n\u001B[0;32m   (...)\u001B[0m\n\u001B[1;32m   4796\u001B[0m     \u001B[38;5;241m*\u001B[39m\u001B[38;5;241m*\u001B[39mkwargs,\n\u001B[1;32m   4797\u001B[0m ) \u001B[38;5;241m-\u001B[39m\u001B[38;5;241m>\u001B[39m DataFrame \u001B[38;5;241m|\u001B[39m Series:\n\u001B[1;32m   4798\u001B[0m \u001B[38;5;250m    \u001B[39m\u001B[38;5;124;03m\"\"\"\u001B[39;00m\n\u001B[1;32m   4799\u001B[0m \u001B[38;5;124;03m    Invoke function on values of Series.\u001B[39;00m\n\u001B[1;32m   4800\u001B[0m \n\u001B[0;32m   (...)\u001B[0m\n\u001B[1;32m   4915\u001B[0m \u001B[38;5;124;03m    dtype: float64\u001B[39;00m\n\u001B[1;32m   4916\u001B[0m \u001B[38;5;124;03m    \"\"\"\u001B[39;00m\n\u001B[1;32m   4917\u001B[0m     \u001B[38;5;28;01mreturn\u001B[39;00m \u001B[43mSeriesApply\u001B[49m\u001B[43m(\u001B[49m\n\u001B[1;32m   4918\u001B[0m \u001B[43m        \u001B[49m\u001B[38;5;28;43mself\u001B[39;49m\u001B[43m,\u001B[49m\n\u001B[1;32m   4919\u001B[0m \u001B[43m        \u001B[49m\u001B[43mfunc\u001B[49m\u001B[43m,\u001B[49m\n\u001B[1;32m   4920\u001B[0m \u001B[43m        \u001B[49m\u001B[43mconvert_dtype\u001B[49m\u001B[38;5;241;43m=\u001B[39;49m\u001B[43mconvert_dtype\u001B[49m\u001B[43m,\u001B[49m\n\u001B[1;32m   4921\u001B[0m \u001B[43m        \u001B[49m\u001B[43mby_row\u001B[49m\u001B[38;5;241;43m=\u001B[39;49m\u001B[43mby_row\u001B[49m\u001B[43m,\u001B[49m\n\u001B[1;32m   4922\u001B[0m \u001B[43m        \u001B[49m\u001B[43margs\u001B[49m\u001B[38;5;241;43m=\u001B[39;49m\u001B[43margs\u001B[49m\u001B[43m,\u001B[49m\n\u001B[1;32m   4923\u001B[0m \u001B[43m        \u001B[49m\u001B[43mkwargs\u001B[49m\u001B[38;5;241;43m=\u001B[39;49m\u001B[43mkwargs\u001B[49m\u001B[43m,\u001B[49m\n\u001B[0;32m-> 4924\u001B[0m \u001B[43m    \u001B[49m\u001B[43m)\u001B[49m\u001B[38;5;241;43m.\u001B[39;49m\u001B[43mapply\u001B[49m\u001B[43m(\u001B[49m\u001B[43m)\u001B[49m\n",
      "File \u001B[0;32m/Library/Frameworks/Python.framework/Versions/3.12/lib/python3.12/site-packages/pandas/core/apply.py:1427\u001B[0m, in \u001B[0;36mSeriesApply.apply\u001B[0;34m(self)\u001B[0m\n\u001B[1;32m   1424\u001B[0m     \u001B[38;5;28;01mreturn\u001B[39;00m \u001B[38;5;28mself\u001B[39m\u001B[38;5;241m.\u001B[39mapply_compat()\n\u001B[1;32m   1426\u001B[0m \u001B[38;5;66;03m# self.func is Callable\u001B[39;00m\n\u001B[0;32m-> 1427\u001B[0m \u001B[38;5;28;01mreturn\u001B[39;00m \u001B[38;5;28;43mself\u001B[39;49m\u001B[38;5;241;43m.\u001B[39;49m\u001B[43mapply_standard\u001B[49m\u001B[43m(\u001B[49m\u001B[43m)\u001B[49m\n",
      "File \u001B[0;32m/Library/Frameworks/Python.framework/Versions/3.12/lib/python3.12/site-packages/pandas/core/apply.py:1507\u001B[0m, in \u001B[0;36mSeriesApply.apply_standard\u001B[0;34m(self)\u001B[0m\n\u001B[1;32m   1501\u001B[0m \u001B[38;5;66;03m# row-wise access\u001B[39;00m\n\u001B[1;32m   1502\u001B[0m \u001B[38;5;66;03m# apply doesn't have a `na_action` keyword and for backward compat reasons\u001B[39;00m\n\u001B[1;32m   1503\u001B[0m \u001B[38;5;66;03m# we need to give `na_action=\"ignore\"` for categorical data.\u001B[39;00m\n\u001B[1;32m   1504\u001B[0m \u001B[38;5;66;03m# TODO: remove the `na_action=\"ignore\"` when that default has been changed in\u001B[39;00m\n\u001B[1;32m   1505\u001B[0m \u001B[38;5;66;03m#  Categorical (GH51645).\u001B[39;00m\n\u001B[1;32m   1506\u001B[0m action \u001B[38;5;241m=\u001B[39m \u001B[38;5;124m\"\u001B[39m\u001B[38;5;124mignore\u001B[39m\u001B[38;5;124m\"\u001B[39m \u001B[38;5;28;01mif\u001B[39;00m \u001B[38;5;28misinstance\u001B[39m(obj\u001B[38;5;241m.\u001B[39mdtype, CategoricalDtype) \u001B[38;5;28;01melse\u001B[39;00m \u001B[38;5;28;01mNone\u001B[39;00m\n\u001B[0;32m-> 1507\u001B[0m mapped \u001B[38;5;241m=\u001B[39m \u001B[43mobj\u001B[49m\u001B[38;5;241;43m.\u001B[39;49m\u001B[43m_map_values\u001B[49m\u001B[43m(\u001B[49m\n\u001B[1;32m   1508\u001B[0m \u001B[43m    \u001B[49m\u001B[43mmapper\u001B[49m\u001B[38;5;241;43m=\u001B[39;49m\u001B[43mcurried\u001B[49m\u001B[43m,\u001B[49m\u001B[43m \u001B[49m\u001B[43mna_action\u001B[49m\u001B[38;5;241;43m=\u001B[39;49m\u001B[43maction\u001B[49m\u001B[43m,\u001B[49m\u001B[43m \u001B[49m\u001B[43mconvert\u001B[49m\u001B[38;5;241;43m=\u001B[39;49m\u001B[38;5;28;43mself\u001B[39;49m\u001B[38;5;241;43m.\u001B[39;49m\u001B[43mconvert_dtype\u001B[49m\n\u001B[1;32m   1509\u001B[0m \u001B[43m\u001B[49m\u001B[43m)\u001B[49m\n\u001B[1;32m   1511\u001B[0m \u001B[38;5;28;01mif\u001B[39;00m \u001B[38;5;28mlen\u001B[39m(mapped) \u001B[38;5;129;01mand\u001B[39;00m \u001B[38;5;28misinstance\u001B[39m(mapped[\u001B[38;5;241m0\u001B[39m], ABCSeries):\n\u001B[1;32m   1512\u001B[0m     \u001B[38;5;66;03m# GH#43986 Need to do list(mapped) in order to get treated as nested\u001B[39;00m\n\u001B[1;32m   1513\u001B[0m     \u001B[38;5;66;03m#  See also GH#25959 regarding EA support\u001B[39;00m\n\u001B[1;32m   1514\u001B[0m     \u001B[38;5;28;01mreturn\u001B[39;00m obj\u001B[38;5;241m.\u001B[39m_constructor_expanddim(\u001B[38;5;28mlist\u001B[39m(mapped), index\u001B[38;5;241m=\u001B[39mobj\u001B[38;5;241m.\u001B[39mindex)\n",
      "File \u001B[0;32m/Library/Frameworks/Python.framework/Versions/3.12/lib/python3.12/site-packages/pandas/core/base.py:921\u001B[0m, in \u001B[0;36mIndexOpsMixin._map_values\u001B[0;34m(self, mapper, na_action, convert)\u001B[0m\n\u001B[1;32m    918\u001B[0m \u001B[38;5;28;01mif\u001B[39;00m \u001B[38;5;28misinstance\u001B[39m(arr, ExtensionArray):\n\u001B[1;32m    919\u001B[0m     \u001B[38;5;28;01mreturn\u001B[39;00m arr\u001B[38;5;241m.\u001B[39mmap(mapper, na_action\u001B[38;5;241m=\u001B[39mna_action)\n\u001B[0;32m--> 921\u001B[0m \u001B[38;5;28;01mreturn\u001B[39;00m \u001B[43malgorithms\u001B[49m\u001B[38;5;241;43m.\u001B[39;49m\u001B[43mmap_array\u001B[49m\u001B[43m(\u001B[49m\u001B[43marr\u001B[49m\u001B[43m,\u001B[49m\u001B[43m \u001B[49m\u001B[43mmapper\u001B[49m\u001B[43m,\u001B[49m\u001B[43m \u001B[49m\u001B[43mna_action\u001B[49m\u001B[38;5;241;43m=\u001B[39;49m\u001B[43mna_action\u001B[49m\u001B[43m,\u001B[49m\u001B[43m \u001B[49m\u001B[43mconvert\u001B[49m\u001B[38;5;241;43m=\u001B[39;49m\u001B[43mconvert\u001B[49m\u001B[43m)\u001B[49m\n",
      "File \u001B[0;32m/Library/Frameworks/Python.framework/Versions/3.12/lib/python3.12/site-packages/pandas/core/algorithms.py:1743\u001B[0m, in \u001B[0;36mmap_array\u001B[0;34m(arr, mapper, na_action, convert)\u001B[0m\n\u001B[1;32m   1741\u001B[0m values \u001B[38;5;241m=\u001B[39m arr\u001B[38;5;241m.\u001B[39mastype(\u001B[38;5;28mobject\u001B[39m, copy\u001B[38;5;241m=\u001B[39m\u001B[38;5;28;01mFalse\u001B[39;00m)\n\u001B[1;32m   1742\u001B[0m \u001B[38;5;28;01mif\u001B[39;00m na_action \u001B[38;5;129;01mis\u001B[39;00m \u001B[38;5;28;01mNone\u001B[39;00m:\n\u001B[0;32m-> 1743\u001B[0m     \u001B[38;5;28;01mreturn\u001B[39;00m \u001B[43mlib\u001B[49m\u001B[38;5;241;43m.\u001B[39;49m\u001B[43mmap_infer\u001B[49m\u001B[43m(\u001B[49m\u001B[43mvalues\u001B[49m\u001B[43m,\u001B[49m\u001B[43m \u001B[49m\u001B[43mmapper\u001B[49m\u001B[43m,\u001B[49m\u001B[43m \u001B[49m\u001B[43mconvert\u001B[49m\u001B[38;5;241;43m=\u001B[39;49m\u001B[43mconvert\u001B[49m\u001B[43m)\u001B[49m\n\u001B[1;32m   1744\u001B[0m \u001B[38;5;28;01melse\u001B[39;00m:\n\u001B[1;32m   1745\u001B[0m     \u001B[38;5;28;01mreturn\u001B[39;00m lib\u001B[38;5;241m.\u001B[39mmap_infer_mask(\n\u001B[1;32m   1746\u001B[0m         values, mapper, mask\u001B[38;5;241m=\u001B[39misna(values)\u001B[38;5;241m.\u001B[39mview(np\u001B[38;5;241m.\u001B[39muint8), convert\u001B[38;5;241m=\u001B[39mconvert\n\u001B[1;32m   1747\u001B[0m     )\n",
      "File \u001B[0;32mlib.pyx:2972\u001B[0m, in \u001B[0;36mpandas._libs.lib.map_infer\u001B[0;34m()\u001B[0m\n",
      "Cell \u001B[0;32mIn[98], line 3\u001B[0m, in \u001B[0;36mconvert_to_number\u001B[0;34m(x)\u001B[0m\n\u001B[1;32m      2\u001B[0m \u001B[38;5;28;01mdef\u001B[39;00m \u001B[38;5;21mconvert_to_number\u001B[39m(x):\n\u001B[0;32m----> 3\u001B[0m     \u001B[38;5;28;01mif\u001B[39;00m x \u001B[38;5;129;01mis\u001B[39;00m \u001B[38;5;129;01mnot\u001B[39;00m \u001B[43mnp\u001B[49m\u001B[38;5;241;43m.\u001B[39;49m\u001B[43mNaN\u001B[49m:\n\u001B[1;32m      4\u001B[0m         \u001B[38;5;28;01mif\u001B[39;00m x\u001B[38;5;241m.\u001B[39mendswith(\u001B[38;5;124m'\u001B[39m\u001B[38;5;124mM\u001B[39m\u001B[38;5;124m'\u001B[39m):\n\u001B[1;32m      5\u001B[0m             \u001B[38;5;28;01mreturn\u001B[39;00m \u001B[38;5;28mfloat\u001B[39m(x[:\u001B[38;5;241m-\u001B[39m\u001B[38;5;241m1\u001B[39m]) \u001B[38;5;241m*\u001B[39m \u001B[38;5;241m1_000_000\u001B[39m\n",
      "File \u001B[0;32m/Library/Frameworks/Python.framework/Versions/3.12/lib/python3.12/site-packages/numpy/__init__.py:397\u001B[0m, in \u001B[0;36m__getattr__\u001B[0;34m(attr)\u001B[0m\n\u001B[1;32m    394\u001B[0m     \u001B[38;5;28;01mraise\u001B[39;00m \u001B[38;5;167;01mAttributeError\u001B[39;00m(__former_attrs__[attr])\n\u001B[1;32m    396\u001B[0m \u001B[38;5;28;01mif\u001B[39;00m attr \u001B[38;5;129;01min\u001B[39;00m __expired_attributes__:\n\u001B[0;32m--> 397\u001B[0m     \u001B[38;5;28;01mraise\u001B[39;00m \u001B[38;5;167;01mAttributeError\u001B[39;00m(\n\u001B[1;32m    398\u001B[0m         \u001B[38;5;124mf\u001B[39m\u001B[38;5;124m\"\u001B[39m\u001B[38;5;124m`np.\u001B[39m\u001B[38;5;132;01m{\u001B[39;00mattr\u001B[38;5;132;01m}\u001B[39;00m\u001B[38;5;124m` was removed in the NumPy 2.0 release. \u001B[39m\u001B[38;5;124m\"\u001B[39m\n\u001B[1;32m    399\u001B[0m         \u001B[38;5;124mf\u001B[39m\u001B[38;5;124m\"\u001B[39m\u001B[38;5;132;01m{\u001B[39;00m__expired_attributes__[attr]\u001B[38;5;132;01m}\u001B[39;00m\u001B[38;5;124m\"\u001B[39m\n\u001B[1;32m    400\u001B[0m     )\n\u001B[1;32m    402\u001B[0m \u001B[38;5;28;01mif\u001B[39;00m attr \u001B[38;5;241m==\u001B[39m \u001B[38;5;124m\"\u001B[39m\u001B[38;5;124mchararray\u001B[39m\u001B[38;5;124m\"\u001B[39m:\n\u001B[1;32m    403\u001B[0m     warnings\u001B[38;5;241m.\u001B[39mwarn(\n\u001B[1;32m    404\u001B[0m         \u001B[38;5;124m\"\u001B[39m\u001B[38;5;124m`np.chararray` is deprecated and will be removed from \u001B[39m\u001B[38;5;124m\"\u001B[39m\n\u001B[1;32m    405\u001B[0m         \u001B[38;5;124m\"\u001B[39m\u001B[38;5;124mthe main namespace in the future. Use an array with a string \u001B[39m\u001B[38;5;124m\"\u001B[39m\n\u001B[1;32m    406\u001B[0m         \u001B[38;5;124m\"\u001B[39m\u001B[38;5;124mor bytes dtype instead.\u001B[39m\u001B[38;5;124m\"\u001B[39m, \u001B[38;5;167;01mDeprecationWarning\u001B[39;00m, stacklevel\u001B[38;5;241m=\u001B[39m\u001B[38;5;241m2\u001B[39m)\n",
      "\u001B[0;31mAttributeError\u001B[0m: `np.NaN` was removed in the NumPy 2.0 release. Use `np.nan` instead."
     ]
    }
   ],
   "execution_count": 99
  },
  {
   "metadata": {
    "ExecuteTime": {
     "end_time": "2024-07-09T18:11:44.193754Z",
     "start_time": "2024-07-09T18:11:44.188419Z"
    }
   },
   "cell_type": "code",
   "source": [
    "# Apply the function to the 'Views' column\n",
    "df['\\nViews (Avg.)'] = df['\\nViews (Avg.)'].apply(convert_to_number)\n",
    "df"
   ],
   "id": "2fd8a041ffa787c0",
   "outputs": [
    {
     "data": {
      "text/plain": [
       "       Youtube channel               youtuber name         Category  \\\n",
       "0              tseries                    T-Series    Music & Dance   \n",
       "1            checkgate  Cocomelon - Nursery Rhymes        Education   \n",
       "2            PewDiePie                   PewDiePie        Animation   \n",
       "3          MrBeast6000                     MrBeast      Video games   \n",
       "4    ✿ Kids Diana Show           ✿ Kids Diana Show        Animation   \n",
       "..                 ...                         ...              ...   \n",
       "995               RUOK                        RUOK              NaN   \n",
       "996     FoxNewsChannel                    Fox News  News & Politics   \n",
       "997   SULE PRODUCTIONS            SULE PRODUCTIONS              NaN   \n",
       "998            MBCkpop                     MBCkpop    Music & Dance   \n",
       "999      Dynamo Gaming               Dynamo Gaming              NaN   \n",
       "\n",
       "       Followers        Country  \\nViews (Avg.) Likes (Avg.) Comments (Avg.)  \n",
       "0    229500000.0          India        103800.0         2.8K             158  \n",
       "1    146600000.0            NaN       9500000.0        48.3K               0  \n",
       "2    111600000.0  United States       1400000.0       110.7K            7.8K  \n",
       "3    109100000.0  United States      38400000.0         3.1M           56.7K  \n",
       "4    102500000.0            NaN       2400000.0        15.7K               0  \n",
       "..           ...            ...             ...          ...             ...  \n",
       "995   10100000.0         Brazil        215400.0        25.2K            1.3K  \n",
       "996   10100000.0  United States         98400.0           4K             884  \n",
       "997   10100000.0      Indonesia        218300.0         4.5K             306  \n",
       "998   10100000.0       Malaysia         19700.0         2.6K              92  \n",
       "999   10100000.0          India        139600.0        15.4K             125  \n",
       "\n",
       "[1000 rows x 8 columns]"
      ],
      "text/html": [
       "<div>\n",
       "<style scoped>\n",
       "    .dataframe tbody tr th:only-of-type {\n",
       "        vertical-align: middle;\n",
       "    }\n",
       "\n",
       "    .dataframe tbody tr th {\n",
       "        vertical-align: top;\n",
       "    }\n",
       "\n",
       "    .dataframe thead th {\n",
       "        text-align: right;\n",
       "    }\n",
       "</style>\n",
       "<table border=\"1\" class=\"dataframe\">\n",
       "  <thead>\n",
       "    <tr style=\"text-align: right;\">\n",
       "      <th></th>\n",
       "      <th>Youtube channel</th>\n",
       "      <th>youtuber name</th>\n",
       "      <th>Category</th>\n",
       "      <th>Followers</th>\n",
       "      <th>Country</th>\n",
       "      <th>\\nViews (Avg.)</th>\n",
       "      <th>Likes (Avg.)</th>\n",
       "      <th>Comments (Avg.)</th>\n",
       "    </tr>\n",
       "  </thead>\n",
       "  <tbody>\n",
       "    <tr>\n",
       "      <th>0</th>\n",
       "      <td>tseries</td>\n",
       "      <td>T-Series</td>\n",
       "      <td>Music &amp; Dance</td>\n",
       "      <td>229500000.0</td>\n",
       "      <td>India</td>\n",
       "      <td>103800.0</td>\n",
       "      <td>2.8K</td>\n",
       "      <td>158</td>\n",
       "    </tr>\n",
       "    <tr>\n",
       "      <th>1</th>\n",
       "      <td>checkgate</td>\n",
       "      <td>Cocomelon - Nursery Rhymes</td>\n",
       "      <td>Education</td>\n",
       "      <td>146600000.0</td>\n",
       "      <td>NaN</td>\n",
       "      <td>9500000.0</td>\n",
       "      <td>48.3K</td>\n",
       "      <td>0</td>\n",
       "    </tr>\n",
       "    <tr>\n",
       "      <th>2</th>\n",
       "      <td>PewDiePie</td>\n",
       "      <td>PewDiePie</td>\n",
       "      <td>Animation</td>\n",
       "      <td>111600000.0</td>\n",
       "      <td>United States</td>\n",
       "      <td>1400000.0</td>\n",
       "      <td>110.7K</td>\n",
       "      <td>7.8K</td>\n",
       "    </tr>\n",
       "    <tr>\n",
       "      <th>3</th>\n",
       "      <td>MrBeast6000</td>\n",
       "      <td>MrBeast</td>\n",
       "      <td>Video games</td>\n",
       "      <td>109100000.0</td>\n",
       "      <td>United States</td>\n",
       "      <td>38400000.0</td>\n",
       "      <td>3.1M</td>\n",
       "      <td>56.7K</td>\n",
       "    </tr>\n",
       "    <tr>\n",
       "      <th>4</th>\n",
       "      <td>✿ Kids Diana Show</td>\n",
       "      <td>✿ Kids Diana Show</td>\n",
       "      <td>Animation</td>\n",
       "      <td>102500000.0</td>\n",
       "      <td>NaN</td>\n",
       "      <td>2400000.0</td>\n",
       "      <td>15.7K</td>\n",
       "      <td>0</td>\n",
       "    </tr>\n",
       "    <tr>\n",
       "      <th>...</th>\n",
       "      <td>...</td>\n",
       "      <td>...</td>\n",
       "      <td>...</td>\n",
       "      <td>...</td>\n",
       "      <td>...</td>\n",
       "      <td>...</td>\n",
       "      <td>...</td>\n",
       "      <td>...</td>\n",
       "    </tr>\n",
       "    <tr>\n",
       "      <th>995</th>\n",
       "      <td>RUOK</td>\n",
       "      <td>RUOK</td>\n",
       "      <td>NaN</td>\n",
       "      <td>10100000.0</td>\n",
       "      <td>Brazil</td>\n",
       "      <td>215400.0</td>\n",
       "      <td>25.2K</td>\n",
       "      <td>1.3K</td>\n",
       "    </tr>\n",
       "    <tr>\n",
       "      <th>996</th>\n",
       "      <td>FoxNewsChannel</td>\n",
       "      <td>Fox News</td>\n",
       "      <td>News &amp; Politics</td>\n",
       "      <td>10100000.0</td>\n",
       "      <td>United States</td>\n",
       "      <td>98400.0</td>\n",
       "      <td>4K</td>\n",
       "      <td>884</td>\n",
       "    </tr>\n",
       "    <tr>\n",
       "      <th>997</th>\n",
       "      <td>SULE PRODUCTIONS</td>\n",
       "      <td>SULE PRODUCTIONS</td>\n",
       "      <td>NaN</td>\n",
       "      <td>10100000.0</td>\n",
       "      <td>Indonesia</td>\n",
       "      <td>218300.0</td>\n",
       "      <td>4.5K</td>\n",
       "      <td>306</td>\n",
       "    </tr>\n",
       "    <tr>\n",
       "      <th>998</th>\n",
       "      <td>MBCkpop</td>\n",
       "      <td>MBCkpop</td>\n",
       "      <td>Music &amp; Dance</td>\n",
       "      <td>10100000.0</td>\n",
       "      <td>Malaysia</td>\n",
       "      <td>19700.0</td>\n",
       "      <td>2.6K</td>\n",
       "      <td>92</td>\n",
       "    </tr>\n",
       "    <tr>\n",
       "      <th>999</th>\n",
       "      <td>Dynamo Gaming</td>\n",
       "      <td>Dynamo Gaming</td>\n",
       "      <td>NaN</td>\n",
       "      <td>10100000.0</td>\n",
       "      <td>India</td>\n",
       "      <td>139600.0</td>\n",
       "      <td>15.4K</td>\n",
       "      <td>125</td>\n",
       "    </tr>\n",
       "  </tbody>\n",
       "</table>\n",
       "<p>1000 rows × 8 columns</p>\n",
       "</div>"
      ]
     },
     "execution_count": 58,
     "metadata": {},
     "output_type": "execute_result"
    }
   ],
   "execution_count": 58
  },
  {
   "metadata": {
    "ExecuteTime": {
     "end_time": "2024-07-09T18:11:44.224901Z",
     "start_time": "2024-07-09T18:11:44.219043Z"
    }
   },
   "cell_type": "code",
   "source": [
    "# Apply the function to the 'Likes and Comments' column\n",
    "df['Likes (Avg.)'] = df['Likes (Avg.)'].apply(convert_to_number)\n",
    "df['Comments (Avg.)']=df['Comments (Avg.)'].apply(convert_to_number)\n",
    "df"
   ],
   "id": "724d0a687fc55bb0",
   "outputs": [
    {
     "data": {
      "text/plain": [
       "       Youtube channel               youtuber name         Category  \\\n",
       "0              tseries                    T-Series    Music & Dance   \n",
       "1            checkgate  Cocomelon - Nursery Rhymes        Education   \n",
       "2            PewDiePie                   PewDiePie        Animation   \n",
       "3          MrBeast6000                     MrBeast      Video games   \n",
       "4    ✿ Kids Diana Show           ✿ Kids Diana Show        Animation   \n",
       "..                 ...                         ...              ...   \n",
       "995               RUOK                        RUOK              NaN   \n",
       "996     FoxNewsChannel                    Fox News  News & Politics   \n",
       "997   SULE PRODUCTIONS            SULE PRODUCTIONS              NaN   \n",
       "998            MBCkpop                     MBCkpop    Music & Dance   \n",
       "999      Dynamo Gaming               Dynamo Gaming              NaN   \n",
       "\n",
       "       Followers        Country  \\nViews (Avg.)  Likes (Avg.)  Comments (Avg.)  \n",
       "0    229500000.0          India        103800.0        2800.0            158.0  \n",
       "1    146600000.0            NaN       9500000.0       48300.0              0.0  \n",
       "2    111600000.0  United States       1400000.0      110700.0           7800.0  \n",
       "3    109100000.0  United States      38400000.0     3100000.0          56700.0  \n",
       "4    102500000.0            NaN       2400000.0       15700.0              0.0  \n",
       "..           ...            ...             ...           ...              ...  \n",
       "995   10100000.0         Brazil        215400.0       25200.0           1300.0  \n",
       "996   10100000.0  United States         98400.0        4000.0            884.0  \n",
       "997   10100000.0      Indonesia        218300.0        4500.0            306.0  \n",
       "998   10100000.0       Malaysia         19700.0        2600.0             92.0  \n",
       "999   10100000.0          India        139600.0       15400.0            125.0  \n",
       "\n",
       "[1000 rows x 8 columns]"
      ],
      "text/html": [
       "<div>\n",
       "<style scoped>\n",
       "    .dataframe tbody tr th:only-of-type {\n",
       "        vertical-align: middle;\n",
       "    }\n",
       "\n",
       "    .dataframe tbody tr th {\n",
       "        vertical-align: top;\n",
       "    }\n",
       "\n",
       "    .dataframe thead th {\n",
       "        text-align: right;\n",
       "    }\n",
       "</style>\n",
       "<table border=\"1\" class=\"dataframe\">\n",
       "  <thead>\n",
       "    <tr style=\"text-align: right;\">\n",
       "      <th></th>\n",
       "      <th>Youtube channel</th>\n",
       "      <th>youtuber name</th>\n",
       "      <th>Category</th>\n",
       "      <th>Followers</th>\n",
       "      <th>Country</th>\n",
       "      <th>\\nViews (Avg.)</th>\n",
       "      <th>Likes (Avg.)</th>\n",
       "      <th>Comments (Avg.)</th>\n",
       "    </tr>\n",
       "  </thead>\n",
       "  <tbody>\n",
       "    <tr>\n",
       "      <th>0</th>\n",
       "      <td>tseries</td>\n",
       "      <td>T-Series</td>\n",
       "      <td>Music &amp; Dance</td>\n",
       "      <td>229500000.0</td>\n",
       "      <td>India</td>\n",
       "      <td>103800.0</td>\n",
       "      <td>2800.0</td>\n",
       "      <td>158.0</td>\n",
       "    </tr>\n",
       "    <tr>\n",
       "      <th>1</th>\n",
       "      <td>checkgate</td>\n",
       "      <td>Cocomelon - Nursery Rhymes</td>\n",
       "      <td>Education</td>\n",
       "      <td>146600000.0</td>\n",
       "      <td>NaN</td>\n",
       "      <td>9500000.0</td>\n",
       "      <td>48300.0</td>\n",
       "      <td>0.0</td>\n",
       "    </tr>\n",
       "    <tr>\n",
       "      <th>2</th>\n",
       "      <td>PewDiePie</td>\n",
       "      <td>PewDiePie</td>\n",
       "      <td>Animation</td>\n",
       "      <td>111600000.0</td>\n",
       "      <td>United States</td>\n",
       "      <td>1400000.0</td>\n",
       "      <td>110700.0</td>\n",
       "      <td>7800.0</td>\n",
       "    </tr>\n",
       "    <tr>\n",
       "      <th>3</th>\n",
       "      <td>MrBeast6000</td>\n",
       "      <td>MrBeast</td>\n",
       "      <td>Video games</td>\n",
       "      <td>109100000.0</td>\n",
       "      <td>United States</td>\n",
       "      <td>38400000.0</td>\n",
       "      <td>3100000.0</td>\n",
       "      <td>56700.0</td>\n",
       "    </tr>\n",
       "    <tr>\n",
       "      <th>4</th>\n",
       "      <td>✿ Kids Diana Show</td>\n",
       "      <td>✿ Kids Diana Show</td>\n",
       "      <td>Animation</td>\n",
       "      <td>102500000.0</td>\n",
       "      <td>NaN</td>\n",
       "      <td>2400000.0</td>\n",
       "      <td>15700.0</td>\n",
       "      <td>0.0</td>\n",
       "    </tr>\n",
       "    <tr>\n",
       "      <th>...</th>\n",
       "      <td>...</td>\n",
       "      <td>...</td>\n",
       "      <td>...</td>\n",
       "      <td>...</td>\n",
       "      <td>...</td>\n",
       "      <td>...</td>\n",
       "      <td>...</td>\n",
       "      <td>...</td>\n",
       "    </tr>\n",
       "    <tr>\n",
       "      <th>995</th>\n",
       "      <td>RUOK</td>\n",
       "      <td>RUOK</td>\n",
       "      <td>NaN</td>\n",
       "      <td>10100000.0</td>\n",
       "      <td>Brazil</td>\n",
       "      <td>215400.0</td>\n",
       "      <td>25200.0</td>\n",
       "      <td>1300.0</td>\n",
       "    </tr>\n",
       "    <tr>\n",
       "      <th>996</th>\n",
       "      <td>FoxNewsChannel</td>\n",
       "      <td>Fox News</td>\n",
       "      <td>News &amp; Politics</td>\n",
       "      <td>10100000.0</td>\n",
       "      <td>United States</td>\n",
       "      <td>98400.0</td>\n",
       "      <td>4000.0</td>\n",
       "      <td>884.0</td>\n",
       "    </tr>\n",
       "    <tr>\n",
       "      <th>997</th>\n",
       "      <td>SULE PRODUCTIONS</td>\n",
       "      <td>SULE PRODUCTIONS</td>\n",
       "      <td>NaN</td>\n",
       "      <td>10100000.0</td>\n",
       "      <td>Indonesia</td>\n",
       "      <td>218300.0</td>\n",
       "      <td>4500.0</td>\n",
       "      <td>306.0</td>\n",
       "    </tr>\n",
       "    <tr>\n",
       "      <th>998</th>\n",
       "      <td>MBCkpop</td>\n",
       "      <td>MBCkpop</td>\n",
       "      <td>Music &amp; Dance</td>\n",
       "      <td>10100000.0</td>\n",
       "      <td>Malaysia</td>\n",
       "      <td>19700.0</td>\n",
       "      <td>2600.0</td>\n",
       "      <td>92.0</td>\n",
       "    </tr>\n",
       "    <tr>\n",
       "      <th>999</th>\n",
       "      <td>Dynamo Gaming</td>\n",
       "      <td>Dynamo Gaming</td>\n",
       "      <td>NaN</td>\n",
       "      <td>10100000.0</td>\n",
       "      <td>India</td>\n",
       "      <td>139600.0</td>\n",
       "      <td>15400.0</td>\n",
       "      <td>125.0</td>\n",
       "    </tr>\n",
       "  </tbody>\n",
       "</table>\n",
       "<p>1000 rows × 8 columns</p>\n",
       "</div>"
      ]
     },
     "execution_count": 59,
     "metadata": {},
     "output_type": "execute_result"
    }
   ],
   "execution_count": 59
  },
  {
   "metadata": {
    "ExecuteTime": {
     "end_time": "2024-07-09T18:12:32.027808Z",
     "start_time": "2024-07-09T18:12:32.021662Z"
    }
   },
   "cell_type": "code",
   "source": [
    "from sklearn.impute import SimpleImputer\n",
    "\n",
    "# Instantiate the imputer with your chosen strategy, e.g., 'mean'\n",
    "imputer = SimpleImputer(strategy='mean')\n",
    "\n",
    "# Assuming you want to impute missing values for numerical columns, select them\n",
    "numerical_cols = df.select_dtypes(include=['int64', 'float64']).columns\n",
    "\n",
    "# Fit the imputer and transform the selected columns\n",
    "df[numerical_cols] = imputer.fit_transform(df[numerical_cols])\n",
    "\n",
    "# Check if there are any missing values left\n",
    "print(df.isnull().sum())"
   ],
   "id": "9f494d95a8eee96f",
   "outputs": [
    {
     "name": "stdout",
     "output_type": "stream",
     "text": [
      "Youtube channel      0\n",
      "youtuber name        0\n",
      "Category           293\n",
      "Followers            0\n",
      "Country            171\n",
      "\\nViews (Avg.)       0\n",
      "Likes (Avg.)         0\n",
      "Comments (Avg.)      0\n",
      "dtype: int64\n"
     ]
    }
   ],
   "execution_count": 63
  },
  {
   "metadata": {
    "ExecuteTime": {
     "end_time": "2024-07-10T02:23:18.791389Z",
     "start_time": "2024-07-10T02:23:18.787091Z"
    }
   },
   "cell_type": "code",
   "source": [
    "import random\n",
    "\n",
    "# Function to fill empty values with a random category\n",
    "def fill_with_random_category(value):\n",
    "    if pd.isnull(value):\n",
    "        return random.choice(category)\n",
    "    else:\n",
    "        return value\n",
    "df['Category'] = df['Category'].apply(fill_with_random_category)"
   ],
   "id": "b7a500785a41e108",
   "outputs": [],
   "execution_count": 72
  },
  {
   "metadata": {
    "ExecuteTime": {
     "end_time": "2024-07-10T02:23:19.848521Z",
     "start_time": "2024-07-10T02:23:19.844157Z"
    }
   },
   "cell_type": "code",
   "source": "df.isnull().sum()",
   "id": "53cfc368254ec19d",
   "outputs": [
    {
     "data": {
      "text/plain": [
       "Youtube channel      0\n",
       "youtuber name        0\n",
       "Category             0\n",
       "Followers            0\n",
       "Country            171\n",
       "\\nViews (Avg.)       0\n",
       "Likes (Avg.)         0\n",
       "Comments (Avg.)      0\n",
       "dtype: int64"
      ]
     },
     "execution_count": 73,
     "metadata": {},
     "output_type": "execute_result"
    }
   ],
   "execution_count": 73
  },
  {
   "metadata": {
    "ExecuteTime": {
     "end_time": "2024-07-10T02:24:13.392578Z",
     "start_time": "2024-07-10T02:24:13.389132Z"
    }
   },
   "cell_type": "code",
   "source": [
    "country=df['Country'].dropna().unique().tolist()\n",
    "country"
   ],
   "id": "156dbdbecc7bc2f1",
   "outputs": [
    {
     "data": {
      "text/plain": [
       "['India',\n",
       " 'United States',\n",
       " 'Brazil',\n",
       " 'Mexico',\n",
       " 'Russia',\n",
       " 'Philippines',\n",
       " 'Thailand',\n",
       " 'Colombia',\n",
       " 'France',\n",
       " 'Pakistan',\n",
       " 'Indonesia',\n",
       " 'Iraq',\n",
       " 'Ecuador',\n",
       " 'Turkey',\n",
       " 'Saudi Arabia',\n",
       " 'Argentina',\n",
       " 'United Kingdom',\n",
       " 'Spain',\n",
       " 'Japan',\n",
       " 'Bangladesh',\n",
       " 'Algeria',\n",
       " 'Egypt',\n",
       " 'Jordan',\n",
       " 'Peru',\n",
       " 'Morocco',\n",
       " 'Somalia',\n",
       " 'Malaysia']"
      ]
     },
     "execution_count": 75,
     "metadata": {},
     "output_type": "execute_result"
    }
   ],
   "execution_count": 75
  },
  {
   "metadata": {
    "ExecuteTime": {
     "end_time": "2024-07-10T02:24:22.878452Z",
     "start_time": "2024-07-10T02:24:22.875319Z"
    }
   },
   "cell_type": "code",
   "source": "df['Country'].value_counts()",
   "id": "6a101fec7e736717",
   "outputs": [
    {
     "data": {
      "text/plain": [
       "Country\n",
       "United States     297\n",
       "India             212\n",
       "Brazil             77\n",
       "Mexico             67\n",
       "Indonesia          37\n",
       "Russia             28\n",
       "Thailand           17\n",
       "Philippines        13\n",
       "Colombia           10\n",
       "Pakistan            9\n",
       "Iraq                8\n",
       "Turkey              6\n",
       "France              5\n",
       "Argentina           5\n",
       "United Kingdom      5\n",
       "Algeria             5\n",
       "Egypt               5\n",
       "Saudi Arabia        4\n",
       "Spain               4\n",
       "Japan               4\n",
       "Peru                3\n",
       "Bangladesh          2\n",
       "Morocco             2\n",
       "Ecuador             1\n",
       "Jordan              1\n",
       "Somalia             1\n",
       "Malaysia            1\n",
       "Name: count, dtype: int64"
      ]
     },
     "execution_count": 76,
     "metadata": {},
     "output_type": "execute_result"
    }
   ],
   "execution_count": 76
  },
  {
   "metadata": {
    "ExecuteTime": {
     "end_time": "2024-07-10T02:25:00.105190Z",
     "start_time": "2024-07-10T02:25:00.102071Z"
    }
   },
   "cell_type": "code",
   "source": [
    "import random\n",
    "\n",
    "# Function to fill empty values with a random category\n",
    "def fill_with_random_category(value):\n",
    "    if pd.isnull(value):\n",
    "        return random.choice(country)\n",
    "    else:\n",
    "        return value\n",
    "df['Country'] = df['Country'].apply(fill_with_random_category)"
   ],
   "id": "ceaeb7444aa8dd69",
   "outputs": [],
   "execution_count": 77
  },
  {
   "metadata": {
    "ExecuteTime": {
     "end_time": "2024-07-10T02:25:02.186329Z",
     "start_time": "2024-07-10T02:25:02.182777Z"
    }
   },
   "cell_type": "code",
   "source": "df.isnull().sum()",
   "id": "a678493059eb5b4a",
   "outputs": [
    {
     "data": {
      "text/plain": [
       "Youtube channel    0\n",
       "youtuber name      0\n",
       "Category           0\n",
       "Followers          0\n",
       "Country            0\n",
       "\\nViews (Avg.)     0\n",
       "Likes (Avg.)       0\n",
       "Comments (Avg.)    0\n",
       "dtype: int64"
      ]
     },
     "execution_count": 78,
     "metadata": {},
     "output_type": "execute_result"
    }
   ],
   "execution_count": 78
  },
  {
   "metadata": {
    "ExecuteTime": {
     "end_time": "2024-07-10T02:25:06.221716Z",
     "start_time": "2024-07-10T02:25:06.214150Z"
    }
   },
   "cell_type": "code",
   "source": "df",
   "id": "7882c4727abef0d",
   "outputs": [
    {
     "data": {
      "text/plain": [
       "       Youtube channel               youtuber name         Category  \\\n",
       "0              tseries                    T-Series    Music & Dance   \n",
       "1            checkgate  Cocomelon - Nursery Rhymes        Education   \n",
       "2            PewDiePie                   PewDiePie        Animation   \n",
       "3          MrBeast6000                     MrBeast      Video games   \n",
       "4    ✿ Kids Diana Show           ✿ Kids Diana Show        Animation   \n",
       "..                 ...                         ...              ...   \n",
       "995               RUOK                        RUOK      Daily vlogs   \n",
       "996     FoxNewsChannel                    Fox News  News & Politics   \n",
       "997   SULE PRODUCTIONS            SULE PRODUCTIONS    Food & Drinks   \n",
       "998            MBCkpop                     MBCkpop    Music & Dance   \n",
       "999      Dynamo Gaming               Dynamo Gaming          Fashion   \n",
       "\n",
       "       Followers        Country  \\nViews (Avg.)  Likes (Avg.)  Comments (Avg.)  \n",
       "0    229500000.0          India        103800.0        2800.0            158.0  \n",
       "1    146600000.0        Morocco       9500000.0       48300.0              0.0  \n",
       "2    111600000.0  United States       1400000.0      110700.0           7800.0  \n",
       "3    109100000.0  United States      38400000.0     3100000.0          56700.0  \n",
       "4    102500000.0      Indonesia       2400000.0       15700.0              0.0  \n",
       "..           ...            ...             ...           ...              ...  \n",
       "995   10100000.0         Brazil        215400.0       25200.0           1300.0  \n",
       "996   10100000.0  United States         98400.0        4000.0            884.0  \n",
       "997   10100000.0      Indonesia        218300.0        4500.0            306.0  \n",
       "998   10100000.0       Malaysia         19700.0        2600.0             92.0  \n",
       "999   10100000.0          India        139600.0       15400.0            125.0  \n",
       "\n",
       "[1000 rows x 8 columns]"
      ],
      "text/html": [
       "<div>\n",
       "<style scoped>\n",
       "    .dataframe tbody tr th:only-of-type {\n",
       "        vertical-align: middle;\n",
       "    }\n",
       "\n",
       "    .dataframe tbody tr th {\n",
       "        vertical-align: top;\n",
       "    }\n",
       "\n",
       "    .dataframe thead th {\n",
       "        text-align: right;\n",
       "    }\n",
       "</style>\n",
       "<table border=\"1\" class=\"dataframe\">\n",
       "  <thead>\n",
       "    <tr style=\"text-align: right;\">\n",
       "      <th></th>\n",
       "      <th>Youtube channel</th>\n",
       "      <th>youtuber name</th>\n",
       "      <th>Category</th>\n",
       "      <th>Followers</th>\n",
       "      <th>Country</th>\n",
       "      <th>\\nViews (Avg.)</th>\n",
       "      <th>Likes (Avg.)</th>\n",
       "      <th>Comments (Avg.)</th>\n",
       "    </tr>\n",
       "  </thead>\n",
       "  <tbody>\n",
       "    <tr>\n",
       "      <th>0</th>\n",
       "      <td>tseries</td>\n",
       "      <td>T-Series</td>\n",
       "      <td>Music &amp; Dance</td>\n",
       "      <td>229500000.0</td>\n",
       "      <td>India</td>\n",
       "      <td>103800.0</td>\n",
       "      <td>2800.0</td>\n",
       "      <td>158.0</td>\n",
       "    </tr>\n",
       "    <tr>\n",
       "      <th>1</th>\n",
       "      <td>checkgate</td>\n",
       "      <td>Cocomelon - Nursery Rhymes</td>\n",
       "      <td>Education</td>\n",
       "      <td>146600000.0</td>\n",
       "      <td>Morocco</td>\n",
       "      <td>9500000.0</td>\n",
       "      <td>48300.0</td>\n",
       "      <td>0.0</td>\n",
       "    </tr>\n",
       "    <tr>\n",
       "      <th>2</th>\n",
       "      <td>PewDiePie</td>\n",
       "      <td>PewDiePie</td>\n",
       "      <td>Animation</td>\n",
       "      <td>111600000.0</td>\n",
       "      <td>United States</td>\n",
       "      <td>1400000.0</td>\n",
       "      <td>110700.0</td>\n",
       "      <td>7800.0</td>\n",
       "    </tr>\n",
       "    <tr>\n",
       "      <th>3</th>\n",
       "      <td>MrBeast6000</td>\n",
       "      <td>MrBeast</td>\n",
       "      <td>Video games</td>\n",
       "      <td>109100000.0</td>\n",
       "      <td>United States</td>\n",
       "      <td>38400000.0</td>\n",
       "      <td>3100000.0</td>\n",
       "      <td>56700.0</td>\n",
       "    </tr>\n",
       "    <tr>\n",
       "      <th>4</th>\n",
       "      <td>✿ Kids Diana Show</td>\n",
       "      <td>✿ Kids Diana Show</td>\n",
       "      <td>Animation</td>\n",
       "      <td>102500000.0</td>\n",
       "      <td>Indonesia</td>\n",
       "      <td>2400000.0</td>\n",
       "      <td>15700.0</td>\n",
       "      <td>0.0</td>\n",
       "    </tr>\n",
       "    <tr>\n",
       "      <th>...</th>\n",
       "      <td>...</td>\n",
       "      <td>...</td>\n",
       "      <td>...</td>\n",
       "      <td>...</td>\n",
       "      <td>...</td>\n",
       "      <td>...</td>\n",
       "      <td>...</td>\n",
       "      <td>...</td>\n",
       "    </tr>\n",
       "    <tr>\n",
       "      <th>995</th>\n",
       "      <td>RUOK</td>\n",
       "      <td>RUOK</td>\n",
       "      <td>Daily vlogs</td>\n",
       "      <td>10100000.0</td>\n",
       "      <td>Brazil</td>\n",
       "      <td>215400.0</td>\n",
       "      <td>25200.0</td>\n",
       "      <td>1300.0</td>\n",
       "    </tr>\n",
       "    <tr>\n",
       "      <th>996</th>\n",
       "      <td>FoxNewsChannel</td>\n",
       "      <td>Fox News</td>\n",
       "      <td>News &amp; Politics</td>\n",
       "      <td>10100000.0</td>\n",
       "      <td>United States</td>\n",
       "      <td>98400.0</td>\n",
       "      <td>4000.0</td>\n",
       "      <td>884.0</td>\n",
       "    </tr>\n",
       "    <tr>\n",
       "      <th>997</th>\n",
       "      <td>SULE PRODUCTIONS</td>\n",
       "      <td>SULE PRODUCTIONS</td>\n",
       "      <td>Food &amp; Drinks</td>\n",
       "      <td>10100000.0</td>\n",
       "      <td>Indonesia</td>\n",
       "      <td>218300.0</td>\n",
       "      <td>4500.0</td>\n",
       "      <td>306.0</td>\n",
       "    </tr>\n",
       "    <tr>\n",
       "      <th>998</th>\n",
       "      <td>MBCkpop</td>\n",
       "      <td>MBCkpop</td>\n",
       "      <td>Music &amp; Dance</td>\n",
       "      <td>10100000.0</td>\n",
       "      <td>Malaysia</td>\n",
       "      <td>19700.0</td>\n",
       "      <td>2600.0</td>\n",
       "      <td>92.0</td>\n",
       "    </tr>\n",
       "    <tr>\n",
       "      <th>999</th>\n",
       "      <td>Dynamo Gaming</td>\n",
       "      <td>Dynamo Gaming</td>\n",
       "      <td>Fashion</td>\n",
       "      <td>10100000.0</td>\n",
       "      <td>India</td>\n",
       "      <td>139600.0</td>\n",
       "      <td>15400.0</td>\n",
       "      <td>125.0</td>\n",
       "    </tr>\n",
       "  </tbody>\n",
       "</table>\n",
       "<p>1000 rows × 8 columns</p>\n",
       "</div>"
      ]
     },
     "execution_count": 79,
     "metadata": {},
     "output_type": "execute_result"
    }
   ],
   "execution_count": 79
  },
  {
   "metadata": {},
   "cell_type": "markdown",
   "source": "# Exploratory Data Analysis",
   "id": "99a3bf1f85068c05"
  },
  {
   "metadata": {
    "ExecuteTime": {
     "end_time": "2024-07-10T02:25:46.678377Z",
     "start_time": "2024-07-10T02:25:46.672099Z"
    }
   },
   "cell_type": "code",
   "source": [
    "# Display the first five rows of the dataset\n",
    "df.head()"
   ],
   "id": "3a3263cff27532f2",
   "outputs": [
    {
     "data": {
      "text/plain": [
       "     Youtube channel               youtuber name       Category    Followers  \\\n",
       "0            tseries                    T-Series  Music & Dance  229500000.0   \n",
       "1          checkgate  Cocomelon - Nursery Rhymes      Education  146600000.0   \n",
       "2          PewDiePie                   PewDiePie      Animation  111600000.0   \n",
       "3        MrBeast6000                     MrBeast    Video games  109100000.0   \n",
       "4  ✿ Kids Diana Show           ✿ Kids Diana Show      Animation  102500000.0   \n",
       "\n",
       "         Country  \\nViews (Avg.)  Likes (Avg.)  Comments (Avg.)  \n",
       "0          India        103800.0        2800.0            158.0  \n",
       "1        Morocco       9500000.0       48300.0              0.0  \n",
       "2  United States       1400000.0      110700.0           7800.0  \n",
       "3  United States      38400000.0     3100000.0          56700.0  \n",
       "4      Indonesia       2400000.0       15700.0              0.0  "
      ],
      "text/html": [
       "<div>\n",
       "<style scoped>\n",
       "    .dataframe tbody tr th:only-of-type {\n",
       "        vertical-align: middle;\n",
       "    }\n",
       "\n",
       "    .dataframe tbody tr th {\n",
       "        vertical-align: top;\n",
       "    }\n",
       "\n",
       "    .dataframe thead th {\n",
       "        text-align: right;\n",
       "    }\n",
       "</style>\n",
       "<table border=\"1\" class=\"dataframe\">\n",
       "  <thead>\n",
       "    <tr style=\"text-align: right;\">\n",
       "      <th></th>\n",
       "      <th>Youtube channel</th>\n",
       "      <th>youtuber name</th>\n",
       "      <th>Category</th>\n",
       "      <th>Followers</th>\n",
       "      <th>Country</th>\n",
       "      <th>\\nViews (Avg.)</th>\n",
       "      <th>Likes (Avg.)</th>\n",
       "      <th>Comments (Avg.)</th>\n",
       "    </tr>\n",
       "  </thead>\n",
       "  <tbody>\n",
       "    <tr>\n",
       "      <th>0</th>\n",
       "      <td>tseries</td>\n",
       "      <td>T-Series</td>\n",
       "      <td>Music &amp; Dance</td>\n",
       "      <td>229500000.0</td>\n",
       "      <td>India</td>\n",
       "      <td>103800.0</td>\n",
       "      <td>2800.0</td>\n",
       "      <td>158.0</td>\n",
       "    </tr>\n",
       "    <tr>\n",
       "      <th>1</th>\n",
       "      <td>checkgate</td>\n",
       "      <td>Cocomelon - Nursery Rhymes</td>\n",
       "      <td>Education</td>\n",
       "      <td>146600000.0</td>\n",
       "      <td>Morocco</td>\n",
       "      <td>9500000.0</td>\n",
       "      <td>48300.0</td>\n",
       "      <td>0.0</td>\n",
       "    </tr>\n",
       "    <tr>\n",
       "      <th>2</th>\n",
       "      <td>PewDiePie</td>\n",
       "      <td>PewDiePie</td>\n",
       "      <td>Animation</td>\n",
       "      <td>111600000.0</td>\n",
       "      <td>United States</td>\n",
       "      <td>1400000.0</td>\n",
       "      <td>110700.0</td>\n",
       "      <td>7800.0</td>\n",
       "    </tr>\n",
       "    <tr>\n",
       "      <th>3</th>\n",
       "      <td>MrBeast6000</td>\n",
       "      <td>MrBeast</td>\n",
       "      <td>Video games</td>\n",
       "      <td>109100000.0</td>\n",
       "      <td>United States</td>\n",
       "      <td>38400000.0</td>\n",
       "      <td>3100000.0</td>\n",
       "      <td>56700.0</td>\n",
       "    </tr>\n",
       "    <tr>\n",
       "      <th>4</th>\n",
       "      <td>✿ Kids Diana Show</td>\n",
       "      <td>✿ Kids Diana Show</td>\n",
       "      <td>Animation</td>\n",
       "      <td>102500000.0</td>\n",
       "      <td>Indonesia</td>\n",
       "      <td>2400000.0</td>\n",
       "      <td>15700.0</td>\n",
       "      <td>0.0</td>\n",
       "    </tr>\n",
       "  </tbody>\n",
       "</table>\n",
       "</div>"
      ]
     },
     "execution_count": 80,
     "metadata": {},
     "output_type": "execute_result"
    }
   ],
   "execution_count": 80
  },
  {
   "metadata": {
    "ExecuteTime": {
     "end_time": "2024-07-10T02:25:51.899276Z",
     "start_time": "2024-07-10T02:25:51.894031Z"
    }
   },
   "cell_type": "code",
   "source": [
    "# Display the last five rows of the dataset\n",
    "df.tail()"
   ],
   "id": "d57312d85ec0261e",
   "outputs": [
    {
     "data": {
      "text/plain": [
       "      Youtube channel     youtuber name         Category   Followers  \\\n",
       "995              RUOK              RUOK      Daily vlogs  10100000.0   \n",
       "996    FoxNewsChannel          Fox News  News & Politics  10100000.0   \n",
       "997  SULE PRODUCTIONS  SULE PRODUCTIONS    Food & Drinks  10100000.0   \n",
       "998           MBCkpop           MBCkpop    Music & Dance  10100000.0   \n",
       "999     Dynamo Gaming     Dynamo Gaming          Fashion  10100000.0   \n",
       "\n",
       "           Country  \\nViews (Avg.)  Likes (Avg.)  Comments (Avg.)  \n",
       "995         Brazil        215400.0       25200.0           1300.0  \n",
       "996  United States         98400.0        4000.0            884.0  \n",
       "997      Indonesia        218300.0        4500.0            306.0  \n",
       "998       Malaysia         19700.0        2600.0             92.0  \n",
       "999          India        139600.0       15400.0            125.0  "
      ],
      "text/html": [
       "<div>\n",
       "<style scoped>\n",
       "    .dataframe tbody tr th:only-of-type {\n",
       "        vertical-align: middle;\n",
       "    }\n",
       "\n",
       "    .dataframe tbody tr th {\n",
       "        vertical-align: top;\n",
       "    }\n",
       "\n",
       "    .dataframe thead th {\n",
       "        text-align: right;\n",
       "    }\n",
       "</style>\n",
       "<table border=\"1\" class=\"dataframe\">\n",
       "  <thead>\n",
       "    <tr style=\"text-align: right;\">\n",
       "      <th></th>\n",
       "      <th>Youtube channel</th>\n",
       "      <th>youtuber name</th>\n",
       "      <th>Category</th>\n",
       "      <th>Followers</th>\n",
       "      <th>Country</th>\n",
       "      <th>\\nViews (Avg.)</th>\n",
       "      <th>Likes (Avg.)</th>\n",
       "      <th>Comments (Avg.)</th>\n",
       "    </tr>\n",
       "  </thead>\n",
       "  <tbody>\n",
       "    <tr>\n",
       "      <th>995</th>\n",
       "      <td>RUOK</td>\n",
       "      <td>RUOK</td>\n",
       "      <td>Daily vlogs</td>\n",
       "      <td>10100000.0</td>\n",
       "      <td>Brazil</td>\n",
       "      <td>215400.0</td>\n",
       "      <td>25200.0</td>\n",
       "      <td>1300.0</td>\n",
       "    </tr>\n",
       "    <tr>\n",
       "      <th>996</th>\n",
       "      <td>FoxNewsChannel</td>\n",
       "      <td>Fox News</td>\n",
       "      <td>News &amp; Politics</td>\n",
       "      <td>10100000.0</td>\n",
       "      <td>United States</td>\n",
       "      <td>98400.0</td>\n",
       "      <td>4000.0</td>\n",
       "      <td>884.0</td>\n",
       "    </tr>\n",
       "    <tr>\n",
       "      <th>997</th>\n",
       "      <td>SULE PRODUCTIONS</td>\n",
       "      <td>SULE PRODUCTIONS</td>\n",
       "      <td>Food &amp; Drinks</td>\n",
       "      <td>10100000.0</td>\n",
       "      <td>Indonesia</td>\n",
       "      <td>218300.0</td>\n",
       "      <td>4500.0</td>\n",
       "      <td>306.0</td>\n",
       "    </tr>\n",
       "    <tr>\n",
       "      <th>998</th>\n",
       "      <td>MBCkpop</td>\n",
       "      <td>MBCkpop</td>\n",
       "      <td>Music &amp; Dance</td>\n",
       "      <td>10100000.0</td>\n",
       "      <td>Malaysia</td>\n",
       "      <td>19700.0</td>\n",
       "      <td>2600.0</td>\n",
       "      <td>92.0</td>\n",
       "    </tr>\n",
       "    <tr>\n",
       "      <th>999</th>\n",
       "      <td>Dynamo Gaming</td>\n",
       "      <td>Dynamo Gaming</td>\n",
       "      <td>Fashion</td>\n",
       "      <td>10100000.0</td>\n",
       "      <td>India</td>\n",
       "      <td>139600.0</td>\n",
       "      <td>15400.0</td>\n",
       "      <td>125.0</td>\n",
       "    </tr>\n",
       "  </tbody>\n",
       "</table>\n",
       "</div>"
      ]
     },
     "execution_count": 81,
     "metadata": {},
     "output_type": "execute_result"
    }
   ],
   "execution_count": 81
  },
  {
   "metadata": {
    "ExecuteTime": {
     "end_time": "2024-07-10T02:25:56.389915Z",
     "start_time": "2024-07-10T02:25:56.381049Z"
    }
   },
   "cell_type": "code",
   "source": [
    "# Display the summary statistics of the dataset\n",
    "df.describe()"
   ],
   "id": "2735069d294761ee",
   "outputs": [
    {
     "data": {
      "text/plain": [
       "          Followers  \\nViews (Avg.)  Likes (Avg.)  Comments (Avg.)\n",
       "count  1.000000e+03    1.000000e+03  1.000000e+03      1000.000000\n",
       "mean   1.902470e+07    9.580841e+05  4.640513e+04      2074.210000\n",
       "std    1.446608e+07    3.821697e+06  1.866770e+05     12824.564941\n",
       "min    1.010000e+07    0.000000e+00  0.000000e+00         0.000000\n",
       "25%    1.180000e+07    3.975000e+04  7.320000e+02         6.000000\n",
       "50%    1.460000e+07    1.801500e+05  4.200000e+03       104.000000\n",
       "75%    2.030000e+07    7.338000e+05  2.800000e+04       837.500000\n",
       "max    2.295000e+08    9.600000e+07  3.100000e+06    322400.000000"
      ],
      "text/html": [
       "<div>\n",
       "<style scoped>\n",
       "    .dataframe tbody tr th:only-of-type {\n",
       "        vertical-align: middle;\n",
       "    }\n",
       "\n",
       "    .dataframe tbody tr th {\n",
       "        vertical-align: top;\n",
       "    }\n",
       "\n",
       "    .dataframe thead th {\n",
       "        text-align: right;\n",
       "    }\n",
       "</style>\n",
       "<table border=\"1\" class=\"dataframe\">\n",
       "  <thead>\n",
       "    <tr style=\"text-align: right;\">\n",
       "      <th></th>\n",
       "      <th>Followers</th>\n",
       "      <th>\\nViews (Avg.)</th>\n",
       "      <th>Likes (Avg.)</th>\n",
       "      <th>Comments (Avg.)</th>\n",
       "    </tr>\n",
       "  </thead>\n",
       "  <tbody>\n",
       "    <tr>\n",
       "      <th>count</th>\n",
       "      <td>1.000000e+03</td>\n",
       "      <td>1.000000e+03</td>\n",
       "      <td>1.000000e+03</td>\n",
       "      <td>1000.000000</td>\n",
       "    </tr>\n",
       "    <tr>\n",
       "      <th>mean</th>\n",
       "      <td>1.902470e+07</td>\n",
       "      <td>9.580841e+05</td>\n",
       "      <td>4.640513e+04</td>\n",
       "      <td>2074.210000</td>\n",
       "    </tr>\n",
       "    <tr>\n",
       "      <th>std</th>\n",
       "      <td>1.446608e+07</td>\n",
       "      <td>3.821697e+06</td>\n",
       "      <td>1.866770e+05</td>\n",
       "      <td>12824.564941</td>\n",
       "    </tr>\n",
       "    <tr>\n",
       "      <th>min</th>\n",
       "      <td>1.010000e+07</td>\n",
       "      <td>0.000000e+00</td>\n",
       "      <td>0.000000e+00</td>\n",
       "      <td>0.000000</td>\n",
       "    </tr>\n",
       "    <tr>\n",
       "      <th>25%</th>\n",
       "      <td>1.180000e+07</td>\n",
       "      <td>3.975000e+04</td>\n",
       "      <td>7.320000e+02</td>\n",
       "      <td>6.000000</td>\n",
       "    </tr>\n",
       "    <tr>\n",
       "      <th>50%</th>\n",
       "      <td>1.460000e+07</td>\n",
       "      <td>1.801500e+05</td>\n",
       "      <td>4.200000e+03</td>\n",
       "      <td>104.000000</td>\n",
       "    </tr>\n",
       "    <tr>\n",
       "      <th>75%</th>\n",
       "      <td>2.030000e+07</td>\n",
       "      <td>7.338000e+05</td>\n",
       "      <td>2.800000e+04</td>\n",
       "      <td>837.500000</td>\n",
       "    </tr>\n",
       "    <tr>\n",
       "      <th>max</th>\n",
       "      <td>2.295000e+08</td>\n",
       "      <td>9.600000e+07</td>\n",
       "      <td>3.100000e+06</td>\n",
       "      <td>322400.000000</td>\n",
       "    </tr>\n",
       "  </tbody>\n",
       "</table>\n",
       "</div>"
      ]
     },
     "execution_count": 82,
     "metadata": {},
     "output_type": "execute_result"
    }
   ],
   "execution_count": 82
  },
  {
   "metadata": {
    "ExecuteTime": {
     "end_time": "2024-07-10T02:26:01.628991Z",
     "start_time": "2024-07-10T02:26:01.626267Z"
    }
   },
   "cell_type": "code",
   "source": [
    "# Display the data types of the columns\n",
    "df.dtypes"
   ],
   "id": "ca544e837b9afcb1",
   "outputs": [
    {
     "data": {
      "text/plain": [
       "Youtube channel     object\n",
       "youtuber name       object\n",
       "Category            object\n",
       "Followers          float64\n",
       "Country             object\n",
       "\\nViews (Avg.)     float64\n",
       "Likes (Avg.)       float64\n",
       "Comments (Avg.)    float64\n",
       "dtype: object"
      ]
     },
     "execution_count": 83,
     "metadata": {},
     "output_type": "execute_result"
    }
   ],
   "execution_count": 83
  },
  {
   "metadata": {
    "ExecuteTime": {
     "end_time": "2024-07-10T02:26:07.356322Z",
     "start_time": "2024-07-10T02:26:07.351811Z"
    }
   },
   "cell_type": "code",
   "source": [
    "# Display the number of unique values in each column\n",
    "df.nunique()"
   ],
   "id": "2bb8f54b2a4e32b0",
   "outputs": [
    {
     "data": {
      "text/plain": [
       "Youtube channel    998\n",
       "youtuber name      998\n",
       "Category            20\n",
       "Followers          254\n",
       "Country             27\n",
       "\\nViews (Avg.)     757\n",
       "Likes (Avg.)       631\n",
       "Comments (Avg.)    419\n",
       "dtype: int64"
      ]
     },
     "execution_count": 84,
     "metadata": {},
     "output_type": "execute_result"
    }
   ],
   "execution_count": 84
  },
  {
   "metadata": {
    "ExecuteTime": {
     "end_time": "2024-07-10T02:26:18.676492Z",
     "start_time": "2024-07-10T02:26:18.672340Z"
    }
   },
   "cell_type": "code",
   "source": [
    "# Display the number of unique values in the 'Category' column\n",
    "df['Category'].value_counts()"
   ],
   "id": "ec0658af98b02919",
   "outputs": [
    {
     "data": {
      "text/plain": [
       "Category\n",
       "Music & Dance           244\n",
       "Movies                  119\n",
       "Animation               109\n",
       "Video games              79\n",
       "News & Politics          55\n",
       "Daily vlogs              49\n",
       "Education                49\n",
       "Toys                     36\n",
       "Food & Drinks            32\n",
       "Science & Technology     31\n",
       "Sports                   28\n",
       "DIY & Life Hacks         24\n",
       "Humor                    24\n",
       "Fashion                  23\n",
       "ASMR                     21\n",
       "Fitness                  19\n",
       "Animals & Pets           18\n",
       "Health & Self Help       14\n",
       "Design/art               13\n",
       "Beauty                   13\n",
       "Name: count, dtype: int64"
      ]
     },
     "execution_count": 85,
     "metadata": {},
     "output_type": "execute_result"
    }
   ],
   "execution_count": 85
  },
  {
   "metadata": {
    "ExecuteTime": {
     "end_time": "2024-07-10T02:26:24.916591Z",
     "start_time": "2024-07-10T02:26:24.913505Z"
    }
   },
   "cell_type": "code",
   "source": [
    "# Display the number of unique values in the 'Country' column\n",
    "df['Country'].value_counts()"
   ],
   "id": "7be7e5dfce20285b",
   "outputs": [
    {
     "data": {
      "text/plain": [
       "Country\n",
       "United States     303\n",
       "India             215\n",
       "Brazil             84\n",
       "Mexico             75\n",
       "Indonesia          41\n",
       "Russia             33\n",
       "Philippines        20\n",
       "Colombia           19\n",
       "Thailand           19\n",
       "Pakistan           16\n",
       "United Kingdom     15\n",
       "Spain              15\n",
       "Peru               14\n",
       "Japan              13\n",
       "Turkey             13\n",
       "Morocco            12\n",
       "France             12\n",
       "Iraq               12\n",
       "Argentina          11\n",
       "Saudi Arabia        9\n",
       "Algeria             9\n",
       "Bangladesh          9\n",
       "Malaysia            8\n",
       "Egypt               8\n",
       "Somalia             6\n",
       "Ecuador             5\n",
       "Jordan              4\n",
       "Name: count, dtype: int64"
      ]
     },
     "execution_count": 86,
     "metadata": {},
     "output_type": "execute_result"
    }
   ],
   "execution_count": 86
  },
  {
   "metadata": {
    "ExecuteTime": {
     "end_time": "2024-07-10T02:30:12.186492Z",
     "start_time": "2024-07-10T02:30:12.146994Z"
    }
   },
   "cell_type": "code",
   "source": [
    "import plotly.express as px\n",
    "# Taking first 100 rows for better visualization\n",
    "df_100 = df.head(50)\n",
    "# Group by 'Country' and 'Category', then count the occurrences\n",
    "grouped_df = df_100.groupby(['Country', 'Category']).size().reset_index(name='counts')\n",
    "\n",
    "# Pivot the DataFrame to have countries as rows and categories as columns\n",
    "pivot_df = grouped_df.pivot(index='Country', columns='Category', values='counts').fillna(0)\n",
    "\n",
    "# Plot using Plotly Express\n",
    "fig = px.bar(pivot_df, barmode='group', title=\"Number of Categories in Every Country\")\n",
    "\n",
    "# Update layout for better readability\n",
    "fig.update_layout(xaxis_title=\"Country\", yaxis_title=\"Number of Categories\", xaxis={'categoryorder':'total descending'})\n",
    "\n",
    "fig.show()"
   ],
   "id": "43b746b80a8157d6",
   "outputs": [
    {
     "data": {
      "application/vnd.plotly.v1+json": {
       "data": [
        {
         "alignmentgroup": "True",
         "hovertemplate": "Category=ASMR<br>Country=%{x}<br>value=%{y}<extra></extra>",
         "legendgroup": "ASMR",
         "marker": {
          "color": "#636efa",
          "pattern": {
           "shape": ""
          }
         },
         "name": "ASMR",
         "offsetgroup": "ASMR",
         "orientation": "v",
         "showlegend": true,
         "textposition": "auto",
         "x": [
          "Brazil",
          "Colombia",
          "India",
          "Indonesia",
          "Jordan",
          "Mexico",
          "Morocco",
          "Peru",
          "Philippines",
          "Russia",
          "Spain",
          "United Kingdom",
          "United States"
         ],
         "xaxis": "x",
         "y": [
          1.0,
          0.0,
          0.0,
          0.0,
          0.0,
          0.0,
          0.0,
          0.0,
          0.0,
          0.0,
          0.0,
          0.0,
          0.0
         ],
         "yaxis": "y",
         "type": "bar"
        },
        {
         "alignmentgroup": "True",
         "hovertemplate": "Category=Animation<br>Country=%{x}<br>value=%{y}<extra></extra>",
         "legendgroup": "Animation",
         "marker": {
          "color": "#EF553B",
          "pattern": {
           "shape": ""
          }
         },
         "name": "Animation",
         "offsetgroup": "Animation",
         "orientation": "v",
         "showlegend": true,
         "textposition": "auto",
         "x": [
          "Brazil",
          "Colombia",
          "India",
          "Indonesia",
          "Jordan",
          "Mexico",
          "Morocco",
          "Peru",
          "Philippines",
          "Russia",
          "Spain",
          "United Kingdom",
          "United States"
         ],
         "xaxis": "x",
         "y": [
          0.0,
          0.0,
          0.0,
          1.0,
          1.0,
          0.0,
          1.0,
          1.0,
          0.0,
          1.0,
          0.0,
          0.0,
          2.0
         ],
         "yaxis": "y",
         "type": "bar"
        },
        {
         "alignmentgroup": "True",
         "hovertemplate": "Category=DIY & Life Hacks<br>Country=%{x}<br>value=%{y}<extra></extra>",
         "legendgroup": "DIY & Life Hacks",
         "marker": {
          "color": "#00cc96",
          "pattern": {
           "shape": ""
          }
         },
         "name": "DIY & Life Hacks",
         "offsetgroup": "DIY & Life Hacks",
         "orientation": "v",
         "showlegend": true,
         "textposition": "auto",
         "x": [
          "Brazil",
          "Colombia",
          "India",
          "Indonesia",
          "Jordan",
          "Mexico",
          "Morocco",
          "Peru",
          "Philippines",
          "Russia",
          "Spain",
          "United Kingdom",
          "United States"
         ],
         "xaxis": "x",
         "y": [
          0.0,
          0.0,
          1.0,
          0.0,
          0.0,
          0.0,
          0.0,
          0.0,
          0.0,
          0.0,
          0.0,
          0.0,
          0.0
         ],
         "yaxis": "y",
         "type": "bar"
        },
        {
         "alignmentgroup": "True",
         "hovertemplate": "Category=Design/art<br>Country=%{x}<br>value=%{y}<extra></extra>",
         "legendgroup": "Design/art",
         "marker": {
          "color": "#ab63fa",
          "pattern": {
           "shape": ""
          }
         },
         "name": "Design/art",
         "offsetgroup": "Design/art",
         "orientation": "v",
         "showlegend": true,
         "textposition": "auto",
         "x": [
          "Brazil",
          "Colombia",
          "India",
          "Indonesia",
          "Jordan",
          "Mexico",
          "Morocco",
          "Peru",
          "Philippines",
          "Russia",
          "Spain",
          "United Kingdom",
          "United States"
         ],
         "xaxis": "x",
         "y": [
          0.0,
          0.0,
          0.0,
          0.0,
          0.0,
          1.0,
          0.0,
          0.0,
          0.0,
          0.0,
          0.0,
          0.0,
          0.0
         ],
         "yaxis": "y",
         "type": "bar"
        },
        {
         "alignmentgroup": "True",
         "hovertemplate": "Category=Education<br>Country=%{x}<br>value=%{y}<extra></extra>",
         "legendgroup": "Education",
         "marker": {
          "color": "#FFA15A",
          "pattern": {
           "shape": ""
          }
         },
         "name": "Education",
         "offsetgroup": "Education",
         "orientation": "v",
         "showlegend": true,
         "textposition": "auto",
         "x": [
          "Brazil",
          "Colombia",
          "India",
          "Indonesia",
          "Jordan",
          "Mexico",
          "Morocco",
          "Peru",
          "Philippines",
          "Russia",
          "Spain",
          "United Kingdom",
          "United States"
         ],
         "xaxis": "x",
         "y": [
          0.0,
          0.0,
          0.0,
          0.0,
          0.0,
          0.0,
          1.0,
          0.0,
          0.0,
          0.0,
          1.0,
          0.0,
          0.0
         ],
         "yaxis": "y",
         "type": "bar"
        },
        {
         "alignmentgroup": "True",
         "hovertemplate": "Category=Fashion<br>Country=%{x}<br>value=%{y}<extra></extra>",
         "legendgroup": "Fashion",
         "marker": {
          "color": "#19d3f3",
          "pattern": {
           "shape": ""
          }
         },
         "name": "Fashion",
         "offsetgroup": "Fashion",
         "orientation": "v",
         "showlegend": true,
         "textposition": "auto",
         "x": [
          "Brazil",
          "Colombia",
          "India",
          "Indonesia",
          "Jordan",
          "Mexico",
          "Morocco",
          "Peru",
          "Philippines",
          "Russia",
          "Spain",
          "United Kingdom",
          "United States"
         ],
         "xaxis": "x",
         "y": [
          0.0,
          0.0,
          0.0,
          0.0,
          0.0,
          0.0,
          0.0,
          0.0,
          1.0,
          0.0,
          0.0,
          0.0,
          0.0
         ],
         "yaxis": "y",
         "type": "bar"
        },
        {
         "alignmentgroup": "True",
         "hovertemplate": "Category=Fitness<br>Country=%{x}<br>value=%{y}<extra></extra>",
         "legendgroup": "Fitness",
         "marker": {
          "color": "#FF6692",
          "pattern": {
           "shape": ""
          }
         },
         "name": "Fitness",
         "offsetgroup": "Fitness",
         "orientation": "v",
         "showlegend": true,
         "textposition": "auto",
         "x": [
          "Brazil",
          "Colombia",
          "India",
          "Indonesia",
          "Jordan",
          "Mexico",
          "Morocco",
          "Peru",
          "Philippines",
          "Russia",
          "Spain",
          "United Kingdom",
          "United States"
         ],
         "xaxis": "x",
         "y": [
          0.0,
          0.0,
          2.0,
          0.0,
          0.0,
          0.0,
          0.0,
          0.0,
          0.0,
          0.0,
          0.0,
          0.0,
          0.0
         ],
         "yaxis": "y",
         "type": "bar"
        },
        {
         "alignmentgroup": "True",
         "hovertemplate": "Category=Food & Drinks<br>Country=%{x}<br>value=%{y}<extra></extra>",
         "legendgroup": "Food & Drinks",
         "marker": {
          "color": "#B6E880",
          "pattern": {
           "shape": ""
          }
         },
         "name": "Food & Drinks",
         "offsetgroup": "Food & Drinks",
         "orientation": "v",
         "showlegend": true,
         "textposition": "auto",
         "x": [
          "Brazil",
          "Colombia",
          "India",
          "Indonesia",
          "Jordan",
          "Mexico",
          "Morocco",
          "Peru",
          "Philippines",
          "Russia",
          "Spain",
          "United Kingdom",
          "United States"
         ],
         "xaxis": "x",
         "y": [
          0.0,
          0.0,
          0.0,
          0.0,
          0.0,
          1.0,
          0.0,
          0.0,
          0.0,
          0.0,
          0.0,
          0.0,
          0.0
         ],
         "yaxis": "y",
         "type": "bar"
        },
        {
         "alignmentgroup": "True",
         "hovertemplate": "Category=Health & Self Help<br>Country=%{x}<br>value=%{y}<extra></extra>",
         "legendgroup": "Health & Self Help",
         "marker": {
          "color": "#FF97FF",
          "pattern": {
           "shape": ""
          }
         },
         "name": "Health & Self Help",
         "offsetgroup": "Health & Self Help",
         "orientation": "v",
         "showlegend": true,
         "textposition": "auto",
         "x": [
          "Brazil",
          "Colombia",
          "India",
          "Indonesia",
          "Jordan",
          "Mexico",
          "Morocco",
          "Peru",
          "Philippines",
          "Russia",
          "Spain",
          "United Kingdom",
          "United States"
         ],
         "xaxis": "x",
         "y": [
          0.0,
          0.0,
          1.0,
          0.0,
          0.0,
          0.0,
          0.0,
          0.0,
          0.0,
          0.0,
          0.0,
          0.0,
          0.0
         ],
         "yaxis": "y",
         "type": "bar"
        },
        {
         "alignmentgroup": "True",
         "hovertemplate": "Category=Movies<br>Country=%{x}<br>value=%{y}<extra></extra>",
         "legendgroup": "Movies",
         "marker": {
          "color": "#FECB52",
          "pattern": {
           "shape": ""
          }
         },
         "name": "Movies",
         "offsetgroup": "Movies",
         "orientation": "v",
         "showlegend": true,
         "textposition": "auto",
         "x": [
          "Brazil",
          "Colombia",
          "India",
          "Indonesia",
          "Jordan",
          "Mexico",
          "Morocco",
          "Peru",
          "Philippines",
          "Russia",
          "Spain",
          "United Kingdom",
          "United States"
         ],
         "xaxis": "x",
         "y": [
          1.0,
          0.0,
          1.0,
          0.0,
          1.0,
          1.0,
          0.0,
          0.0,
          0.0,
          0.0,
          0.0,
          0.0,
          1.0
         ],
         "yaxis": "y",
         "type": "bar"
        },
        {
         "alignmentgroup": "True",
         "hovertemplate": "Category=Music & Dance<br>Country=%{x}<br>value=%{y}<extra></extra>",
         "legendgroup": "Music & Dance",
         "marker": {
          "color": "#636efa",
          "pattern": {
           "shape": ""
          }
         },
         "name": "Music & Dance",
         "offsetgroup": "Music & Dance",
         "orientation": "v",
         "showlegend": true,
         "textposition": "auto",
         "x": [
          "Brazil",
          "Colombia",
          "India",
          "Indonesia",
          "Jordan",
          "Mexico",
          "Morocco",
          "Peru",
          "Philippines",
          "Russia",
          "Spain",
          "United Kingdom",
          "United States"
         ],
         "xaxis": "x",
         "y": [
          1.0,
          0.0,
          9.0,
          0.0,
          0.0,
          0.0,
          0.0,
          1.0,
          0.0,
          0.0,
          0.0,
          2.0,
          7.0
         ],
         "yaxis": "y",
         "type": "bar"
        },
        {
         "alignmentgroup": "True",
         "hovertemplate": "Category=News & Politics<br>Country=%{x}<br>value=%{y}<extra></extra>",
         "legendgroup": "News & Politics",
         "marker": {
          "color": "#EF553B",
          "pattern": {
           "shape": ""
          }
         },
         "name": "News & Politics",
         "offsetgroup": "News & Politics",
         "orientation": "v",
         "showlegend": true,
         "textposition": "auto",
         "x": [
          "Brazil",
          "Colombia",
          "India",
          "Indonesia",
          "Jordan",
          "Mexico",
          "Morocco",
          "Peru",
          "Philippines",
          "Russia",
          "Spain",
          "United Kingdom",
          "United States"
         ],
         "xaxis": "x",
         "y": [
          0.0,
          0.0,
          1.0,
          0.0,
          0.0,
          0.0,
          0.0,
          0.0,
          0.0,
          0.0,
          0.0,
          0.0,
          0.0
         ],
         "yaxis": "y",
         "type": "bar"
        },
        {
         "alignmentgroup": "True",
         "hovertemplate": "Category=Toys<br>Country=%{x}<br>value=%{y}<extra></extra>",
         "legendgroup": "Toys",
         "marker": {
          "color": "#00cc96",
          "pattern": {
           "shape": ""
          }
         },
         "name": "Toys",
         "offsetgroup": "Toys",
         "orientation": "v",
         "showlegend": true,
         "textposition": "auto",
         "x": [
          "Brazil",
          "Colombia",
          "India",
          "Indonesia",
          "Jordan",
          "Mexico",
          "Morocco",
          "Peru",
          "Philippines",
          "Russia",
          "Spain",
          "United Kingdom",
          "United States"
         ],
         "xaxis": "x",
         "y": [
          0.0,
          1.0,
          1.0,
          0.0,
          0.0,
          1.0,
          0.0,
          1.0,
          0.0,
          0.0,
          0.0,
          0.0,
          0.0
         ],
         "yaxis": "y",
         "type": "bar"
        },
        {
         "alignmentgroup": "True",
         "hovertemplate": "Category=Video games<br>Country=%{x}<br>value=%{y}<extra></extra>",
         "legendgroup": "Video games",
         "marker": {
          "color": "#ab63fa",
          "pattern": {
           "shape": ""
          }
         },
         "name": "Video games",
         "offsetgroup": "Video games",
         "orientation": "v",
         "showlegend": true,
         "textposition": "auto",
         "x": [
          "Brazil",
          "Colombia",
          "India",
          "Indonesia",
          "Jordan",
          "Mexico",
          "Morocco",
          "Peru",
          "Philippines",
          "Russia",
          "Spain",
          "United Kingdom",
          "United States"
         ],
         "xaxis": "x",
         "y": [
          0.0,
          0.0,
          0.0,
          0.0,
          0.0,
          0.0,
          0.0,
          0.0,
          0.0,
          0.0,
          0.0,
          0.0,
          3.0
         ],
         "yaxis": "y",
         "type": "bar"
        }
       ],
       "layout": {
        "template": {
         "data": {
          "histogram2dcontour": [
           {
            "type": "histogram2dcontour",
            "colorbar": {
             "outlinewidth": 0,
             "ticks": ""
            },
            "colorscale": [
             [
              0.0,
              "#0d0887"
             ],
             [
              0.1111111111111111,
              "#46039f"
             ],
             [
              0.2222222222222222,
              "#7201a8"
             ],
             [
              0.3333333333333333,
              "#9c179e"
             ],
             [
              0.4444444444444444,
              "#bd3786"
             ],
             [
              0.5555555555555556,
              "#d8576b"
             ],
             [
              0.6666666666666666,
              "#ed7953"
             ],
             [
              0.7777777777777778,
              "#fb9f3a"
             ],
             [
              0.8888888888888888,
              "#fdca26"
             ],
             [
              1.0,
              "#f0f921"
             ]
            ]
           }
          ],
          "choropleth": [
           {
            "type": "choropleth",
            "colorbar": {
             "outlinewidth": 0,
             "ticks": ""
            }
           }
          ],
          "histogram2d": [
           {
            "type": "histogram2d",
            "colorbar": {
             "outlinewidth": 0,
             "ticks": ""
            },
            "colorscale": [
             [
              0.0,
              "#0d0887"
             ],
             [
              0.1111111111111111,
              "#46039f"
             ],
             [
              0.2222222222222222,
              "#7201a8"
             ],
             [
              0.3333333333333333,
              "#9c179e"
             ],
             [
              0.4444444444444444,
              "#bd3786"
             ],
             [
              0.5555555555555556,
              "#d8576b"
             ],
             [
              0.6666666666666666,
              "#ed7953"
             ],
             [
              0.7777777777777778,
              "#fb9f3a"
             ],
             [
              0.8888888888888888,
              "#fdca26"
             ],
             [
              1.0,
              "#f0f921"
             ]
            ]
           }
          ],
          "heatmap": [
           {
            "type": "heatmap",
            "colorbar": {
             "outlinewidth": 0,
             "ticks": ""
            },
            "colorscale": [
             [
              0.0,
              "#0d0887"
             ],
             [
              0.1111111111111111,
              "#46039f"
             ],
             [
              0.2222222222222222,
              "#7201a8"
             ],
             [
              0.3333333333333333,
              "#9c179e"
             ],
             [
              0.4444444444444444,
              "#bd3786"
             ],
             [
              0.5555555555555556,
              "#d8576b"
             ],
             [
              0.6666666666666666,
              "#ed7953"
             ],
             [
              0.7777777777777778,
              "#fb9f3a"
             ],
             [
              0.8888888888888888,
              "#fdca26"
             ],
             [
              1.0,
              "#f0f921"
             ]
            ]
           }
          ],
          "heatmapgl": [
           {
            "type": "heatmapgl",
            "colorbar": {
             "outlinewidth": 0,
             "ticks": ""
            },
            "colorscale": [
             [
              0.0,
              "#0d0887"
             ],
             [
              0.1111111111111111,
              "#46039f"
             ],
             [
              0.2222222222222222,
              "#7201a8"
             ],
             [
              0.3333333333333333,
              "#9c179e"
             ],
             [
              0.4444444444444444,
              "#bd3786"
             ],
             [
              0.5555555555555556,
              "#d8576b"
             ],
             [
              0.6666666666666666,
              "#ed7953"
             ],
             [
              0.7777777777777778,
              "#fb9f3a"
             ],
             [
              0.8888888888888888,
              "#fdca26"
             ],
             [
              1.0,
              "#f0f921"
             ]
            ]
           }
          ],
          "contourcarpet": [
           {
            "type": "contourcarpet",
            "colorbar": {
             "outlinewidth": 0,
             "ticks": ""
            }
           }
          ],
          "contour": [
           {
            "type": "contour",
            "colorbar": {
             "outlinewidth": 0,
             "ticks": ""
            },
            "colorscale": [
             [
              0.0,
              "#0d0887"
             ],
             [
              0.1111111111111111,
              "#46039f"
             ],
             [
              0.2222222222222222,
              "#7201a8"
             ],
             [
              0.3333333333333333,
              "#9c179e"
             ],
             [
              0.4444444444444444,
              "#bd3786"
             ],
             [
              0.5555555555555556,
              "#d8576b"
             ],
             [
              0.6666666666666666,
              "#ed7953"
             ],
             [
              0.7777777777777778,
              "#fb9f3a"
             ],
             [
              0.8888888888888888,
              "#fdca26"
             ],
             [
              1.0,
              "#f0f921"
             ]
            ]
           }
          ],
          "surface": [
           {
            "type": "surface",
            "colorbar": {
             "outlinewidth": 0,
             "ticks": ""
            },
            "colorscale": [
             [
              0.0,
              "#0d0887"
             ],
             [
              0.1111111111111111,
              "#46039f"
             ],
             [
              0.2222222222222222,
              "#7201a8"
             ],
             [
              0.3333333333333333,
              "#9c179e"
             ],
             [
              0.4444444444444444,
              "#bd3786"
             ],
             [
              0.5555555555555556,
              "#d8576b"
             ],
             [
              0.6666666666666666,
              "#ed7953"
             ],
             [
              0.7777777777777778,
              "#fb9f3a"
             ],
             [
              0.8888888888888888,
              "#fdca26"
             ],
             [
              1.0,
              "#f0f921"
             ]
            ]
           }
          ],
          "mesh3d": [
           {
            "type": "mesh3d",
            "colorbar": {
             "outlinewidth": 0,
             "ticks": ""
            }
           }
          ],
          "scatter": [
           {
            "marker": {
             "line": {
              "color": "#283442"
             }
            },
            "type": "scatter"
           }
          ],
          "parcoords": [
           {
            "type": "parcoords",
            "line": {
             "colorbar": {
              "outlinewidth": 0,
              "ticks": ""
             }
            }
           }
          ],
          "scatterpolargl": [
           {
            "type": "scatterpolargl",
            "marker": {
             "colorbar": {
              "outlinewidth": 0,
              "ticks": ""
             }
            }
           }
          ],
          "bar": [
           {
            "error_x": {
             "color": "#f2f5fa"
            },
            "error_y": {
             "color": "#f2f5fa"
            },
            "marker": {
             "line": {
              "color": "rgb(17,17,17)",
              "width": 0.5
             },
             "pattern": {
              "fillmode": "overlay",
              "size": 10,
              "solidity": 0.2
             }
            },
            "type": "bar"
           }
          ],
          "scattergeo": [
           {
            "type": "scattergeo",
            "marker": {
             "colorbar": {
              "outlinewidth": 0,
              "ticks": ""
             }
            }
           }
          ],
          "scatterpolar": [
           {
            "type": "scatterpolar",
            "marker": {
             "colorbar": {
              "outlinewidth": 0,
              "ticks": ""
             }
            }
           }
          ],
          "histogram": [
           {
            "marker": {
             "pattern": {
              "fillmode": "overlay",
              "size": 10,
              "solidity": 0.2
             }
            },
            "type": "histogram"
           }
          ],
          "scattergl": [
           {
            "marker": {
             "line": {
              "color": "#283442"
             }
            },
            "type": "scattergl"
           }
          ],
          "scatter3d": [
           {
            "type": "scatter3d",
            "line": {
             "colorbar": {
              "outlinewidth": 0,
              "ticks": ""
             }
            },
            "marker": {
             "colorbar": {
              "outlinewidth": 0,
              "ticks": ""
             }
            }
           }
          ],
          "scattermapbox": [
           {
            "type": "scattermapbox",
            "marker": {
             "colorbar": {
              "outlinewidth": 0,
              "ticks": ""
             }
            }
           }
          ],
          "scatterternary": [
           {
            "type": "scatterternary",
            "marker": {
             "colorbar": {
              "outlinewidth": 0,
              "ticks": ""
             }
            }
           }
          ],
          "scattercarpet": [
           {
            "type": "scattercarpet",
            "marker": {
             "colorbar": {
              "outlinewidth": 0,
              "ticks": ""
             }
            }
           }
          ],
          "carpet": [
           {
            "aaxis": {
             "endlinecolor": "#A2B1C6",
             "gridcolor": "#506784",
             "linecolor": "#506784",
             "minorgridcolor": "#506784",
             "startlinecolor": "#A2B1C6"
            },
            "baxis": {
             "endlinecolor": "#A2B1C6",
             "gridcolor": "#506784",
             "linecolor": "#506784",
             "minorgridcolor": "#506784",
             "startlinecolor": "#A2B1C6"
            },
            "type": "carpet"
           }
          ],
          "table": [
           {
            "cells": {
             "fill": {
              "color": "#506784"
             },
             "line": {
              "color": "rgb(17,17,17)"
             }
            },
            "header": {
             "fill": {
              "color": "#2a3f5f"
             },
             "line": {
              "color": "rgb(17,17,17)"
             }
            },
            "type": "table"
           }
          ],
          "barpolar": [
           {
            "marker": {
             "line": {
              "color": "rgb(17,17,17)",
              "width": 0.5
             },
             "pattern": {
              "fillmode": "overlay",
              "size": 10,
              "solidity": 0.2
             }
            },
            "type": "barpolar"
           }
          ],
          "pie": [
           {
            "automargin": true,
            "type": "pie"
           }
          ]
         },
         "layout": {
          "autotypenumbers": "strict",
          "colorway": [
           "#636efa",
           "#EF553B",
           "#00cc96",
           "#ab63fa",
           "#FFA15A",
           "#19d3f3",
           "#FF6692",
           "#B6E880",
           "#FF97FF",
           "#FECB52"
          ],
          "font": {
           "color": "#f2f5fa"
          },
          "hovermode": "closest",
          "hoverlabel": {
           "align": "left"
          },
          "paper_bgcolor": "rgb(17,17,17)",
          "plot_bgcolor": "rgb(17,17,17)",
          "polar": {
           "bgcolor": "rgb(17,17,17)",
           "angularaxis": {
            "gridcolor": "#506784",
            "linecolor": "#506784",
            "ticks": ""
           },
           "radialaxis": {
            "gridcolor": "#506784",
            "linecolor": "#506784",
            "ticks": ""
           }
          },
          "ternary": {
           "bgcolor": "rgb(17,17,17)",
           "aaxis": {
            "gridcolor": "#506784",
            "linecolor": "#506784",
            "ticks": ""
           },
           "baxis": {
            "gridcolor": "#506784",
            "linecolor": "#506784",
            "ticks": ""
           },
           "caxis": {
            "gridcolor": "#506784",
            "linecolor": "#506784",
            "ticks": ""
           }
          },
          "coloraxis": {
           "colorbar": {
            "outlinewidth": 0,
            "ticks": ""
           }
          },
          "colorscale": {
           "sequential": [
            [
             0.0,
             "#0d0887"
            ],
            [
             0.1111111111111111,
             "#46039f"
            ],
            [
             0.2222222222222222,
             "#7201a8"
            ],
            [
             0.3333333333333333,
             "#9c179e"
            ],
            [
             0.4444444444444444,
             "#bd3786"
            ],
            [
             0.5555555555555556,
             "#d8576b"
            ],
            [
             0.6666666666666666,
             "#ed7953"
            ],
            [
             0.7777777777777778,
             "#fb9f3a"
            ],
            [
             0.8888888888888888,
             "#fdca26"
            ],
            [
             1.0,
             "#f0f921"
            ]
           ],
           "sequentialminus": [
            [
             0.0,
             "#0d0887"
            ],
            [
             0.1111111111111111,
             "#46039f"
            ],
            [
             0.2222222222222222,
             "#7201a8"
            ],
            [
             0.3333333333333333,
             "#9c179e"
            ],
            [
             0.4444444444444444,
             "#bd3786"
            ],
            [
             0.5555555555555556,
             "#d8576b"
            ],
            [
             0.6666666666666666,
             "#ed7953"
            ],
            [
             0.7777777777777778,
             "#fb9f3a"
            ],
            [
             0.8888888888888888,
             "#fdca26"
            ],
            [
             1.0,
             "#f0f921"
            ]
           ],
           "diverging": [
            [
             0,
             "#8e0152"
            ],
            [
             0.1,
             "#c51b7d"
            ],
            [
             0.2,
             "#de77ae"
            ],
            [
             0.3,
             "#f1b6da"
            ],
            [
             0.4,
             "#fde0ef"
            ],
            [
             0.5,
             "#f7f7f7"
            ],
            [
             0.6,
             "#e6f5d0"
            ],
            [
             0.7,
             "#b8e186"
            ],
            [
             0.8,
             "#7fbc41"
            ],
            [
             0.9,
             "#4d9221"
            ],
            [
             1,
             "#276419"
            ]
           ]
          },
          "xaxis": {
           "gridcolor": "#283442",
           "linecolor": "#506784",
           "ticks": "",
           "title": {
            "standoff": 15
           },
           "zerolinecolor": "#283442",
           "automargin": true,
           "zerolinewidth": 2
          },
          "yaxis": {
           "gridcolor": "#283442",
           "linecolor": "#506784",
           "ticks": "",
           "title": {
            "standoff": 15
           },
           "zerolinecolor": "#283442",
           "automargin": true,
           "zerolinewidth": 2
          },
          "scene": {
           "xaxis": {
            "backgroundcolor": "rgb(17,17,17)",
            "gridcolor": "#506784",
            "linecolor": "#506784",
            "showbackground": true,
            "ticks": "",
            "zerolinecolor": "#C8D4E3",
            "gridwidth": 2
           },
           "yaxis": {
            "backgroundcolor": "rgb(17,17,17)",
            "gridcolor": "#506784",
            "linecolor": "#506784",
            "showbackground": true,
            "ticks": "",
            "zerolinecolor": "#C8D4E3",
            "gridwidth": 2
           },
           "zaxis": {
            "backgroundcolor": "rgb(17,17,17)",
            "gridcolor": "#506784",
            "linecolor": "#506784",
            "showbackground": true,
            "ticks": "",
            "zerolinecolor": "#C8D4E3",
            "gridwidth": 2
           }
          },
          "shapedefaults": {
           "line": {
            "color": "#f2f5fa"
           }
          },
          "annotationdefaults": {
           "arrowcolor": "#f2f5fa",
           "arrowhead": 0,
           "arrowwidth": 1
          },
          "geo": {
           "bgcolor": "rgb(17,17,17)",
           "landcolor": "rgb(17,17,17)",
           "subunitcolor": "#506784",
           "showland": true,
           "showlakes": true,
           "lakecolor": "rgb(17,17,17)"
          },
          "title": {
           "x": 0.05
          },
          "updatemenudefaults": {
           "bgcolor": "#506784",
           "borderwidth": 0
          },
          "sliderdefaults": {
           "bgcolor": "#C8D4E3",
           "borderwidth": 1,
           "bordercolor": "rgb(17,17,17)",
           "tickwidth": 0
          },
          "mapbox": {
           "style": "dark"
          }
         }
        },
        "xaxis": {
         "anchor": "y",
         "domain": [
          0.0,
          1.0
         ],
         "title": {
          "text": "Country"
         },
         "categoryorder": "total descending"
        },
        "yaxis": {
         "anchor": "x",
         "domain": [
          0.0,
          1.0
         ],
         "title": {
          "text": "Number of Categories"
         }
        },
        "legend": {
         "title": {
          "text": "Category"
         },
         "tracegroupgap": 0
        },
        "title": {
         "text": "Number of Categories in Every Country"
        },
        "barmode": "group"
       },
       "config": {
        "plotlyServerURL": "https://plot.ly"
       }
      },
      "text/html": [
       "<div>                            <div id=\"27009294-fe27-4ec8-ad11-eb7daabdfc2e\" class=\"plotly-graph-div\" style=\"height:525px; width:100%;\"></div>            <script type=\"text/javascript\">                require([\"plotly\"], function(Plotly) {                    window.PLOTLYENV=window.PLOTLYENV || {};                                    if (document.getElementById(\"27009294-fe27-4ec8-ad11-eb7daabdfc2e\")) {                    Plotly.newPlot(                        \"27009294-fe27-4ec8-ad11-eb7daabdfc2e\",                        [{\"alignmentgroup\":\"True\",\"hovertemplate\":\"Category=ASMR\\u003cbr\\u003eCountry=%{x}\\u003cbr\\u003evalue=%{y}\\u003cextra\\u003e\\u003c\\u002fextra\\u003e\",\"legendgroup\":\"ASMR\",\"marker\":{\"color\":\"#636efa\",\"pattern\":{\"shape\":\"\"}},\"name\":\"ASMR\",\"offsetgroup\":\"ASMR\",\"orientation\":\"v\",\"showlegend\":true,\"textposition\":\"auto\",\"x\":[\"Brazil\",\"Colombia\",\"India\",\"Indonesia\",\"Jordan\",\"Mexico\",\"Morocco\",\"Peru\",\"Philippines\",\"Russia\",\"Spain\",\"United Kingdom\",\"United States\"],\"xaxis\":\"x\",\"y\":[1.0,0.0,0.0,0.0,0.0,0.0,0.0,0.0,0.0,0.0,0.0,0.0,0.0],\"yaxis\":\"y\",\"type\":\"bar\"},{\"alignmentgroup\":\"True\",\"hovertemplate\":\"Category=Animation\\u003cbr\\u003eCountry=%{x}\\u003cbr\\u003evalue=%{y}\\u003cextra\\u003e\\u003c\\u002fextra\\u003e\",\"legendgroup\":\"Animation\",\"marker\":{\"color\":\"#EF553B\",\"pattern\":{\"shape\":\"\"}},\"name\":\"Animation\",\"offsetgroup\":\"Animation\",\"orientation\":\"v\",\"showlegend\":true,\"textposition\":\"auto\",\"x\":[\"Brazil\",\"Colombia\",\"India\",\"Indonesia\",\"Jordan\",\"Mexico\",\"Morocco\",\"Peru\",\"Philippines\",\"Russia\",\"Spain\",\"United Kingdom\",\"United States\"],\"xaxis\":\"x\",\"y\":[0.0,0.0,0.0,1.0,1.0,0.0,1.0,1.0,0.0,1.0,0.0,0.0,2.0],\"yaxis\":\"y\",\"type\":\"bar\"},{\"alignmentgroup\":\"True\",\"hovertemplate\":\"Category=DIY & Life Hacks\\u003cbr\\u003eCountry=%{x}\\u003cbr\\u003evalue=%{y}\\u003cextra\\u003e\\u003c\\u002fextra\\u003e\",\"legendgroup\":\"DIY & Life Hacks\",\"marker\":{\"color\":\"#00cc96\",\"pattern\":{\"shape\":\"\"}},\"name\":\"DIY & Life Hacks\",\"offsetgroup\":\"DIY & Life Hacks\",\"orientation\":\"v\",\"showlegend\":true,\"textposition\":\"auto\",\"x\":[\"Brazil\",\"Colombia\",\"India\",\"Indonesia\",\"Jordan\",\"Mexico\",\"Morocco\",\"Peru\",\"Philippines\",\"Russia\",\"Spain\",\"United Kingdom\",\"United States\"],\"xaxis\":\"x\",\"y\":[0.0,0.0,1.0,0.0,0.0,0.0,0.0,0.0,0.0,0.0,0.0,0.0,0.0],\"yaxis\":\"y\",\"type\":\"bar\"},{\"alignmentgroup\":\"True\",\"hovertemplate\":\"Category=Design\\u002fart\\u003cbr\\u003eCountry=%{x}\\u003cbr\\u003evalue=%{y}\\u003cextra\\u003e\\u003c\\u002fextra\\u003e\",\"legendgroup\":\"Design\\u002fart\",\"marker\":{\"color\":\"#ab63fa\",\"pattern\":{\"shape\":\"\"}},\"name\":\"Design\\u002fart\",\"offsetgroup\":\"Design\\u002fart\",\"orientation\":\"v\",\"showlegend\":true,\"textposition\":\"auto\",\"x\":[\"Brazil\",\"Colombia\",\"India\",\"Indonesia\",\"Jordan\",\"Mexico\",\"Morocco\",\"Peru\",\"Philippines\",\"Russia\",\"Spain\",\"United Kingdom\",\"United States\"],\"xaxis\":\"x\",\"y\":[0.0,0.0,0.0,0.0,0.0,1.0,0.0,0.0,0.0,0.0,0.0,0.0,0.0],\"yaxis\":\"y\",\"type\":\"bar\"},{\"alignmentgroup\":\"True\",\"hovertemplate\":\"Category=Education\\u003cbr\\u003eCountry=%{x}\\u003cbr\\u003evalue=%{y}\\u003cextra\\u003e\\u003c\\u002fextra\\u003e\",\"legendgroup\":\"Education\",\"marker\":{\"color\":\"#FFA15A\",\"pattern\":{\"shape\":\"\"}},\"name\":\"Education\",\"offsetgroup\":\"Education\",\"orientation\":\"v\",\"showlegend\":true,\"textposition\":\"auto\",\"x\":[\"Brazil\",\"Colombia\",\"India\",\"Indonesia\",\"Jordan\",\"Mexico\",\"Morocco\",\"Peru\",\"Philippines\",\"Russia\",\"Spain\",\"United Kingdom\",\"United States\"],\"xaxis\":\"x\",\"y\":[0.0,0.0,0.0,0.0,0.0,0.0,1.0,0.0,0.0,0.0,1.0,0.0,0.0],\"yaxis\":\"y\",\"type\":\"bar\"},{\"alignmentgroup\":\"True\",\"hovertemplate\":\"Category=Fashion\\u003cbr\\u003eCountry=%{x}\\u003cbr\\u003evalue=%{y}\\u003cextra\\u003e\\u003c\\u002fextra\\u003e\",\"legendgroup\":\"Fashion\",\"marker\":{\"color\":\"#19d3f3\",\"pattern\":{\"shape\":\"\"}},\"name\":\"Fashion\",\"offsetgroup\":\"Fashion\",\"orientation\":\"v\",\"showlegend\":true,\"textposition\":\"auto\",\"x\":[\"Brazil\",\"Colombia\",\"India\",\"Indonesia\",\"Jordan\",\"Mexico\",\"Morocco\",\"Peru\",\"Philippines\",\"Russia\",\"Spain\",\"United Kingdom\",\"United States\"],\"xaxis\":\"x\",\"y\":[0.0,0.0,0.0,0.0,0.0,0.0,0.0,0.0,1.0,0.0,0.0,0.0,0.0],\"yaxis\":\"y\",\"type\":\"bar\"},{\"alignmentgroup\":\"True\",\"hovertemplate\":\"Category=Fitness\\u003cbr\\u003eCountry=%{x}\\u003cbr\\u003evalue=%{y}\\u003cextra\\u003e\\u003c\\u002fextra\\u003e\",\"legendgroup\":\"Fitness\",\"marker\":{\"color\":\"#FF6692\",\"pattern\":{\"shape\":\"\"}},\"name\":\"Fitness\",\"offsetgroup\":\"Fitness\",\"orientation\":\"v\",\"showlegend\":true,\"textposition\":\"auto\",\"x\":[\"Brazil\",\"Colombia\",\"India\",\"Indonesia\",\"Jordan\",\"Mexico\",\"Morocco\",\"Peru\",\"Philippines\",\"Russia\",\"Spain\",\"United Kingdom\",\"United States\"],\"xaxis\":\"x\",\"y\":[0.0,0.0,2.0,0.0,0.0,0.0,0.0,0.0,0.0,0.0,0.0,0.0,0.0],\"yaxis\":\"y\",\"type\":\"bar\"},{\"alignmentgroup\":\"True\",\"hovertemplate\":\"Category=Food & Drinks\\u003cbr\\u003eCountry=%{x}\\u003cbr\\u003evalue=%{y}\\u003cextra\\u003e\\u003c\\u002fextra\\u003e\",\"legendgroup\":\"Food & Drinks\",\"marker\":{\"color\":\"#B6E880\",\"pattern\":{\"shape\":\"\"}},\"name\":\"Food & Drinks\",\"offsetgroup\":\"Food & Drinks\",\"orientation\":\"v\",\"showlegend\":true,\"textposition\":\"auto\",\"x\":[\"Brazil\",\"Colombia\",\"India\",\"Indonesia\",\"Jordan\",\"Mexico\",\"Morocco\",\"Peru\",\"Philippines\",\"Russia\",\"Spain\",\"United Kingdom\",\"United States\"],\"xaxis\":\"x\",\"y\":[0.0,0.0,0.0,0.0,0.0,1.0,0.0,0.0,0.0,0.0,0.0,0.0,0.0],\"yaxis\":\"y\",\"type\":\"bar\"},{\"alignmentgroup\":\"True\",\"hovertemplate\":\"Category=Health & Self Help\\u003cbr\\u003eCountry=%{x}\\u003cbr\\u003evalue=%{y}\\u003cextra\\u003e\\u003c\\u002fextra\\u003e\",\"legendgroup\":\"Health & Self Help\",\"marker\":{\"color\":\"#FF97FF\",\"pattern\":{\"shape\":\"\"}},\"name\":\"Health & Self Help\",\"offsetgroup\":\"Health & Self Help\",\"orientation\":\"v\",\"showlegend\":true,\"textposition\":\"auto\",\"x\":[\"Brazil\",\"Colombia\",\"India\",\"Indonesia\",\"Jordan\",\"Mexico\",\"Morocco\",\"Peru\",\"Philippines\",\"Russia\",\"Spain\",\"United Kingdom\",\"United States\"],\"xaxis\":\"x\",\"y\":[0.0,0.0,1.0,0.0,0.0,0.0,0.0,0.0,0.0,0.0,0.0,0.0,0.0],\"yaxis\":\"y\",\"type\":\"bar\"},{\"alignmentgroup\":\"True\",\"hovertemplate\":\"Category=Movies\\u003cbr\\u003eCountry=%{x}\\u003cbr\\u003evalue=%{y}\\u003cextra\\u003e\\u003c\\u002fextra\\u003e\",\"legendgroup\":\"Movies\",\"marker\":{\"color\":\"#FECB52\",\"pattern\":{\"shape\":\"\"}},\"name\":\"Movies\",\"offsetgroup\":\"Movies\",\"orientation\":\"v\",\"showlegend\":true,\"textposition\":\"auto\",\"x\":[\"Brazil\",\"Colombia\",\"India\",\"Indonesia\",\"Jordan\",\"Mexico\",\"Morocco\",\"Peru\",\"Philippines\",\"Russia\",\"Spain\",\"United Kingdom\",\"United States\"],\"xaxis\":\"x\",\"y\":[1.0,0.0,1.0,0.0,1.0,1.0,0.0,0.0,0.0,0.0,0.0,0.0,1.0],\"yaxis\":\"y\",\"type\":\"bar\"},{\"alignmentgroup\":\"True\",\"hovertemplate\":\"Category=Music & Dance\\u003cbr\\u003eCountry=%{x}\\u003cbr\\u003evalue=%{y}\\u003cextra\\u003e\\u003c\\u002fextra\\u003e\",\"legendgroup\":\"Music & Dance\",\"marker\":{\"color\":\"#636efa\",\"pattern\":{\"shape\":\"\"}},\"name\":\"Music & Dance\",\"offsetgroup\":\"Music & Dance\",\"orientation\":\"v\",\"showlegend\":true,\"textposition\":\"auto\",\"x\":[\"Brazil\",\"Colombia\",\"India\",\"Indonesia\",\"Jordan\",\"Mexico\",\"Morocco\",\"Peru\",\"Philippines\",\"Russia\",\"Spain\",\"United Kingdom\",\"United States\"],\"xaxis\":\"x\",\"y\":[1.0,0.0,9.0,0.0,0.0,0.0,0.0,1.0,0.0,0.0,0.0,2.0,7.0],\"yaxis\":\"y\",\"type\":\"bar\"},{\"alignmentgroup\":\"True\",\"hovertemplate\":\"Category=News & Politics\\u003cbr\\u003eCountry=%{x}\\u003cbr\\u003evalue=%{y}\\u003cextra\\u003e\\u003c\\u002fextra\\u003e\",\"legendgroup\":\"News & Politics\",\"marker\":{\"color\":\"#EF553B\",\"pattern\":{\"shape\":\"\"}},\"name\":\"News & Politics\",\"offsetgroup\":\"News & Politics\",\"orientation\":\"v\",\"showlegend\":true,\"textposition\":\"auto\",\"x\":[\"Brazil\",\"Colombia\",\"India\",\"Indonesia\",\"Jordan\",\"Mexico\",\"Morocco\",\"Peru\",\"Philippines\",\"Russia\",\"Spain\",\"United Kingdom\",\"United States\"],\"xaxis\":\"x\",\"y\":[0.0,0.0,1.0,0.0,0.0,0.0,0.0,0.0,0.0,0.0,0.0,0.0,0.0],\"yaxis\":\"y\",\"type\":\"bar\"},{\"alignmentgroup\":\"True\",\"hovertemplate\":\"Category=Toys\\u003cbr\\u003eCountry=%{x}\\u003cbr\\u003evalue=%{y}\\u003cextra\\u003e\\u003c\\u002fextra\\u003e\",\"legendgroup\":\"Toys\",\"marker\":{\"color\":\"#00cc96\",\"pattern\":{\"shape\":\"\"}},\"name\":\"Toys\",\"offsetgroup\":\"Toys\",\"orientation\":\"v\",\"showlegend\":true,\"textposition\":\"auto\",\"x\":[\"Brazil\",\"Colombia\",\"India\",\"Indonesia\",\"Jordan\",\"Mexico\",\"Morocco\",\"Peru\",\"Philippines\",\"Russia\",\"Spain\",\"United Kingdom\",\"United States\"],\"xaxis\":\"x\",\"y\":[0.0,1.0,1.0,0.0,0.0,1.0,0.0,1.0,0.0,0.0,0.0,0.0,0.0],\"yaxis\":\"y\",\"type\":\"bar\"},{\"alignmentgroup\":\"True\",\"hovertemplate\":\"Category=Video games\\u003cbr\\u003eCountry=%{x}\\u003cbr\\u003evalue=%{y}\\u003cextra\\u003e\\u003c\\u002fextra\\u003e\",\"legendgroup\":\"Video games\",\"marker\":{\"color\":\"#ab63fa\",\"pattern\":{\"shape\":\"\"}},\"name\":\"Video games\",\"offsetgroup\":\"Video games\",\"orientation\":\"v\",\"showlegend\":true,\"textposition\":\"auto\",\"x\":[\"Brazil\",\"Colombia\",\"India\",\"Indonesia\",\"Jordan\",\"Mexico\",\"Morocco\",\"Peru\",\"Philippines\",\"Russia\",\"Spain\",\"United Kingdom\",\"United States\"],\"xaxis\":\"x\",\"y\":[0.0,0.0,0.0,0.0,0.0,0.0,0.0,0.0,0.0,0.0,0.0,0.0,3.0],\"yaxis\":\"y\",\"type\":\"bar\"}],                        {\"template\":{\"data\":{\"histogram2dcontour\":[{\"type\":\"histogram2dcontour\",\"colorbar\":{\"outlinewidth\":0,\"ticks\":\"\"},\"colorscale\":[[0.0,\"#0d0887\"],[0.1111111111111111,\"#46039f\"],[0.2222222222222222,\"#7201a8\"],[0.3333333333333333,\"#9c179e\"],[0.4444444444444444,\"#bd3786\"],[0.5555555555555556,\"#d8576b\"],[0.6666666666666666,\"#ed7953\"],[0.7777777777777778,\"#fb9f3a\"],[0.8888888888888888,\"#fdca26\"],[1.0,\"#f0f921\"]]}],\"choropleth\":[{\"type\":\"choropleth\",\"colorbar\":{\"outlinewidth\":0,\"ticks\":\"\"}}],\"histogram2d\":[{\"type\":\"histogram2d\",\"colorbar\":{\"outlinewidth\":0,\"ticks\":\"\"},\"colorscale\":[[0.0,\"#0d0887\"],[0.1111111111111111,\"#46039f\"],[0.2222222222222222,\"#7201a8\"],[0.3333333333333333,\"#9c179e\"],[0.4444444444444444,\"#bd3786\"],[0.5555555555555556,\"#d8576b\"],[0.6666666666666666,\"#ed7953\"],[0.7777777777777778,\"#fb9f3a\"],[0.8888888888888888,\"#fdca26\"],[1.0,\"#f0f921\"]]}],\"heatmap\":[{\"type\":\"heatmap\",\"colorbar\":{\"outlinewidth\":0,\"ticks\":\"\"},\"colorscale\":[[0.0,\"#0d0887\"],[0.1111111111111111,\"#46039f\"],[0.2222222222222222,\"#7201a8\"],[0.3333333333333333,\"#9c179e\"],[0.4444444444444444,\"#bd3786\"],[0.5555555555555556,\"#d8576b\"],[0.6666666666666666,\"#ed7953\"],[0.7777777777777778,\"#fb9f3a\"],[0.8888888888888888,\"#fdca26\"],[1.0,\"#f0f921\"]]}],\"heatmapgl\":[{\"type\":\"heatmapgl\",\"colorbar\":{\"outlinewidth\":0,\"ticks\":\"\"},\"colorscale\":[[0.0,\"#0d0887\"],[0.1111111111111111,\"#46039f\"],[0.2222222222222222,\"#7201a8\"],[0.3333333333333333,\"#9c179e\"],[0.4444444444444444,\"#bd3786\"],[0.5555555555555556,\"#d8576b\"],[0.6666666666666666,\"#ed7953\"],[0.7777777777777778,\"#fb9f3a\"],[0.8888888888888888,\"#fdca26\"],[1.0,\"#f0f921\"]]}],\"contourcarpet\":[{\"type\":\"contourcarpet\",\"colorbar\":{\"outlinewidth\":0,\"ticks\":\"\"}}],\"contour\":[{\"type\":\"contour\",\"colorbar\":{\"outlinewidth\":0,\"ticks\":\"\"},\"colorscale\":[[0.0,\"#0d0887\"],[0.1111111111111111,\"#46039f\"],[0.2222222222222222,\"#7201a8\"],[0.3333333333333333,\"#9c179e\"],[0.4444444444444444,\"#bd3786\"],[0.5555555555555556,\"#d8576b\"],[0.6666666666666666,\"#ed7953\"],[0.7777777777777778,\"#fb9f3a\"],[0.8888888888888888,\"#fdca26\"],[1.0,\"#f0f921\"]]}],\"surface\":[{\"type\":\"surface\",\"colorbar\":{\"outlinewidth\":0,\"ticks\":\"\"},\"colorscale\":[[0.0,\"#0d0887\"],[0.1111111111111111,\"#46039f\"],[0.2222222222222222,\"#7201a8\"],[0.3333333333333333,\"#9c179e\"],[0.4444444444444444,\"#bd3786\"],[0.5555555555555556,\"#d8576b\"],[0.6666666666666666,\"#ed7953\"],[0.7777777777777778,\"#fb9f3a\"],[0.8888888888888888,\"#fdca26\"],[1.0,\"#f0f921\"]]}],\"mesh3d\":[{\"type\":\"mesh3d\",\"colorbar\":{\"outlinewidth\":0,\"ticks\":\"\"}}],\"scatter\":[{\"marker\":{\"line\":{\"color\":\"#283442\"}},\"type\":\"scatter\"}],\"parcoords\":[{\"type\":\"parcoords\",\"line\":{\"colorbar\":{\"outlinewidth\":0,\"ticks\":\"\"}}}],\"scatterpolargl\":[{\"type\":\"scatterpolargl\",\"marker\":{\"colorbar\":{\"outlinewidth\":0,\"ticks\":\"\"}}}],\"bar\":[{\"error_x\":{\"color\":\"#f2f5fa\"},\"error_y\":{\"color\":\"#f2f5fa\"},\"marker\":{\"line\":{\"color\":\"rgb(17,17,17)\",\"width\":0.5},\"pattern\":{\"fillmode\":\"overlay\",\"size\":10,\"solidity\":0.2}},\"type\":\"bar\"}],\"scattergeo\":[{\"type\":\"scattergeo\",\"marker\":{\"colorbar\":{\"outlinewidth\":0,\"ticks\":\"\"}}}],\"scatterpolar\":[{\"type\":\"scatterpolar\",\"marker\":{\"colorbar\":{\"outlinewidth\":0,\"ticks\":\"\"}}}],\"histogram\":[{\"marker\":{\"pattern\":{\"fillmode\":\"overlay\",\"size\":10,\"solidity\":0.2}},\"type\":\"histogram\"}],\"scattergl\":[{\"marker\":{\"line\":{\"color\":\"#283442\"}},\"type\":\"scattergl\"}],\"scatter3d\":[{\"type\":\"scatter3d\",\"line\":{\"colorbar\":{\"outlinewidth\":0,\"ticks\":\"\"}},\"marker\":{\"colorbar\":{\"outlinewidth\":0,\"ticks\":\"\"}}}],\"scattermapbox\":[{\"type\":\"scattermapbox\",\"marker\":{\"colorbar\":{\"outlinewidth\":0,\"ticks\":\"\"}}}],\"scatterternary\":[{\"type\":\"scatterternary\",\"marker\":{\"colorbar\":{\"outlinewidth\":0,\"ticks\":\"\"}}}],\"scattercarpet\":[{\"type\":\"scattercarpet\",\"marker\":{\"colorbar\":{\"outlinewidth\":0,\"ticks\":\"\"}}}],\"carpet\":[{\"aaxis\":{\"endlinecolor\":\"#A2B1C6\",\"gridcolor\":\"#506784\",\"linecolor\":\"#506784\",\"minorgridcolor\":\"#506784\",\"startlinecolor\":\"#A2B1C6\"},\"baxis\":{\"endlinecolor\":\"#A2B1C6\",\"gridcolor\":\"#506784\",\"linecolor\":\"#506784\",\"minorgridcolor\":\"#506784\",\"startlinecolor\":\"#A2B1C6\"},\"type\":\"carpet\"}],\"table\":[{\"cells\":{\"fill\":{\"color\":\"#506784\"},\"line\":{\"color\":\"rgb(17,17,17)\"}},\"header\":{\"fill\":{\"color\":\"#2a3f5f\"},\"line\":{\"color\":\"rgb(17,17,17)\"}},\"type\":\"table\"}],\"barpolar\":[{\"marker\":{\"line\":{\"color\":\"rgb(17,17,17)\",\"width\":0.5},\"pattern\":{\"fillmode\":\"overlay\",\"size\":10,\"solidity\":0.2}},\"type\":\"barpolar\"}],\"pie\":[{\"automargin\":true,\"type\":\"pie\"}]},\"layout\":{\"autotypenumbers\":\"strict\",\"colorway\":[\"#636efa\",\"#EF553B\",\"#00cc96\",\"#ab63fa\",\"#FFA15A\",\"#19d3f3\",\"#FF6692\",\"#B6E880\",\"#FF97FF\",\"#FECB52\"],\"font\":{\"color\":\"#f2f5fa\"},\"hovermode\":\"closest\",\"hoverlabel\":{\"align\":\"left\"},\"paper_bgcolor\":\"rgb(17,17,17)\",\"plot_bgcolor\":\"rgb(17,17,17)\",\"polar\":{\"bgcolor\":\"rgb(17,17,17)\",\"angularaxis\":{\"gridcolor\":\"#506784\",\"linecolor\":\"#506784\",\"ticks\":\"\"},\"radialaxis\":{\"gridcolor\":\"#506784\",\"linecolor\":\"#506784\",\"ticks\":\"\"}},\"ternary\":{\"bgcolor\":\"rgb(17,17,17)\",\"aaxis\":{\"gridcolor\":\"#506784\",\"linecolor\":\"#506784\",\"ticks\":\"\"},\"baxis\":{\"gridcolor\":\"#506784\",\"linecolor\":\"#506784\",\"ticks\":\"\"},\"caxis\":{\"gridcolor\":\"#506784\",\"linecolor\":\"#506784\",\"ticks\":\"\"}},\"coloraxis\":{\"colorbar\":{\"outlinewidth\":0,\"ticks\":\"\"}},\"colorscale\":{\"sequential\":[[0.0,\"#0d0887\"],[0.1111111111111111,\"#46039f\"],[0.2222222222222222,\"#7201a8\"],[0.3333333333333333,\"#9c179e\"],[0.4444444444444444,\"#bd3786\"],[0.5555555555555556,\"#d8576b\"],[0.6666666666666666,\"#ed7953\"],[0.7777777777777778,\"#fb9f3a\"],[0.8888888888888888,\"#fdca26\"],[1.0,\"#f0f921\"]],\"sequentialminus\":[[0.0,\"#0d0887\"],[0.1111111111111111,\"#46039f\"],[0.2222222222222222,\"#7201a8\"],[0.3333333333333333,\"#9c179e\"],[0.4444444444444444,\"#bd3786\"],[0.5555555555555556,\"#d8576b\"],[0.6666666666666666,\"#ed7953\"],[0.7777777777777778,\"#fb9f3a\"],[0.8888888888888888,\"#fdca26\"],[1.0,\"#f0f921\"]],\"diverging\":[[0,\"#8e0152\"],[0.1,\"#c51b7d\"],[0.2,\"#de77ae\"],[0.3,\"#f1b6da\"],[0.4,\"#fde0ef\"],[0.5,\"#f7f7f7\"],[0.6,\"#e6f5d0\"],[0.7,\"#b8e186\"],[0.8,\"#7fbc41\"],[0.9,\"#4d9221\"],[1,\"#276419\"]]},\"xaxis\":{\"gridcolor\":\"#283442\",\"linecolor\":\"#506784\",\"ticks\":\"\",\"title\":{\"standoff\":15},\"zerolinecolor\":\"#283442\",\"automargin\":true,\"zerolinewidth\":2},\"yaxis\":{\"gridcolor\":\"#283442\",\"linecolor\":\"#506784\",\"ticks\":\"\",\"title\":{\"standoff\":15},\"zerolinecolor\":\"#283442\",\"automargin\":true,\"zerolinewidth\":2},\"scene\":{\"xaxis\":{\"backgroundcolor\":\"rgb(17,17,17)\",\"gridcolor\":\"#506784\",\"linecolor\":\"#506784\",\"showbackground\":true,\"ticks\":\"\",\"zerolinecolor\":\"#C8D4E3\",\"gridwidth\":2},\"yaxis\":{\"backgroundcolor\":\"rgb(17,17,17)\",\"gridcolor\":\"#506784\",\"linecolor\":\"#506784\",\"showbackground\":true,\"ticks\":\"\",\"zerolinecolor\":\"#C8D4E3\",\"gridwidth\":2},\"zaxis\":{\"backgroundcolor\":\"rgb(17,17,17)\",\"gridcolor\":\"#506784\",\"linecolor\":\"#506784\",\"showbackground\":true,\"ticks\":\"\",\"zerolinecolor\":\"#C8D4E3\",\"gridwidth\":2}},\"shapedefaults\":{\"line\":{\"color\":\"#f2f5fa\"}},\"annotationdefaults\":{\"arrowcolor\":\"#f2f5fa\",\"arrowhead\":0,\"arrowwidth\":1},\"geo\":{\"bgcolor\":\"rgb(17,17,17)\",\"landcolor\":\"rgb(17,17,17)\",\"subunitcolor\":\"#506784\",\"showland\":true,\"showlakes\":true,\"lakecolor\":\"rgb(17,17,17)\"},\"title\":{\"x\":0.05},\"updatemenudefaults\":{\"bgcolor\":\"#506784\",\"borderwidth\":0},\"sliderdefaults\":{\"bgcolor\":\"#C8D4E3\",\"borderwidth\":1,\"bordercolor\":\"rgb(17,17,17)\",\"tickwidth\":0},\"mapbox\":{\"style\":\"dark\"}}},\"xaxis\":{\"anchor\":\"y\",\"domain\":[0.0,1.0],\"title\":{\"text\":\"Country\"},\"categoryorder\":\"total descending\"},\"yaxis\":{\"anchor\":\"x\",\"domain\":[0.0,1.0],\"title\":{\"text\":\"Number of Categories\"}},\"legend\":{\"title\":{\"text\":\"Category\"},\"tracegroupgap\":0},\"title\":{\"text\":\"Number of Categories in Every Country\"},\"barmode\":\"group\"},                        {\"responsive\": true}                    ).then(function(){\n",
       "                            \n",
       "var gd = document.getElementById('27009294-fe27-4ec8-ad11-eb7daabdfc2e');\n",
       "var x = new MutationObserver(function (mutations, observer) {{\n",
       "        var display = window.getComputedStyle(gd).display;\n",
       "        if (!display || display === 'none') {{\n",
       "            console.log([gd, 'removed!']);\n",
       "            Plotly.purge(gd);\n",
       "            observer.disconnect();\n",
       "        }}\n",
       "}});\n",
       "\n",
       "// Listen for the removal of the full notebook cells\n",
       "var notebookContainer = gd.closest('#notebook-container');\n",
       "if (notebookContainer) {{\n",
       "    x.observe(notebookContainer, {childList: true});\n",
       "}}\n",
       "\n",
       "// Listen for the clearing of the current output cell\n",
       "var outputEl = gd.closest('.output');\n",
       "if (outputEl) {{\n",
       "    x.observe(outputEl, {childList: true});\n",
       "}}\n",
       "\n",
       "                        })                };                });            </script>        </div>"
      ]
     },
     "metadata": {},
     "output_type": "display_data"
    }
   ],
   "execution_count": 93
  }
 ],
 "metadata": {
  "kernelspec": {
   "display_name": "Python 3",
   "language": "python",
   "name": "python3"
  },
  "language_info": {
   "codemirror_mode": {
    "name": "ipython",
    "version": 2
   },
   "file_extension": ".py",
   "mimetype": "text/x-python",
   "name": "python",
   "nbconvert_exporter": "python",
   "pygments_lexer": "ipython2",
   "version": "2.7.6"
  }
 },
 "nbformat": 4,
 "nbformat_minor": 5
}
